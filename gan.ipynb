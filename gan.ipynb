{
  "cells": [
    {
      "cell_type": "markdown",
      "metadata": {
        "id": "view-in-github",
        "colab_type": "text"
      },
      "source": [
        "<a href=\"https://colab.research.google.com/github/mitkrieg/dl-assignment-3/blob/main/gan.ipynb\" target=\"_parent\"><img src=\"https://colab.research.google.com/assets/colab-badge.svg\" alt=\"Open In Colab\"/></a>"
      ]
    },
    {
      "cell_type": "markdown",
      "metadata": {
        "id": "INKgqRaUohpB"
      },
      "source": [
        "# Assignment 3, Problem 5: DCGAN, WGAN, WGAN-GP"
      ]
    },
    {
      "cell_type": "markdown",
      "metadata": {
        "id": "UjNTkHkCowXj"
      },
      "source": [
        "## Download Data"
      ]
    },
    {
      "cell_type": "code",
      "execution_count": 13,
      "metadata": {
        "colab": {
          "base_uri": "https://localhost:8080/"
        },
        "id": "PWaxpfsNnLcu",
        "outputId": "2e40b9ac-0a65-446d-e72c-3f03f36c4474"
      },
      "outputs": [
        {
          "output_type": "stream",
          "name": "stdout",
          "text": [
            "--2024-10-18 02:50:31--  http://fashion-mnist.s3-website.eu-central-1.amazonaws.com/train-images-idx3-ubyte.gz\n",
            "Resolving fashion-mnist.s3-website.eu-central-1.amazonaws.com (fashion-mnist.s3-website.eu-central-1.amazonaws.com)... 52.219.140.152, 52.219.171.196, 3.5.137.203, ...\n",
            "Connecting to fashion-mnist.s3-website.eu-central-1.amazonaws.com (fashion-mnist.s3-website.eu-central-1.amazonaws.com)|52.219.140.152|:80... connected.\n",
            "HTTP request sent, awaiting response... 200 OK\n",
            "Length: 26421880 (25M) [binary/octet-stream]\n",
            "Saving to: ‘/content/train-images-idx3-ubyte.gz’\n",
            "\n",
            "/content/train-imag 100%[===================>]  25.20M  19.2MB/s    in 1.3s    \n",
            "\n",
            "2024-10-18 02:50:33 (19.2 MB/s) - ‘/content/train-images-idx3-ubyte.gz’ saved [26421880/26421880]\n",
            "\n",
            "--2024-10-18 02:50:33--  http://fashion-mnist.s3-website.eu-central-1.amazonaws.com/train-labels-idx1-ubyte.gz\n",
            "Resolving fashion-mnist.s3-website.eu-central-1.amazonaws.com (fashion-mnist.s3-website.eu-central-1.amazonaws.com)... 52.219.140.152, 52.219.171.196, 3.5.137.203, ...\n",
            "Connecting to fashion-mnist.s3-website.eu-central-1.amazonaws.com (fashion-mnist.s3-website.eu-central-1.amazonaws.com)|52.219.140.152|:80... connected.\n",
            "HTTP request sent, awaiting response... 200 OK\n",
            "Length: 29515 (29K) [binary/octet-stream]\n",
            "Saving to: ‘/content/train-labels-idx1-ubyte.gz’\n",
            "\n",
            "/content/train-labe 100%[===================>]  28.82K  --.-KB/s    in 0.1s    \n",
            "\n",
            "2024-10-18 02:50:33 (289 KB/s) - ‘/content/train-labels-idx1-ubyte.gz’ saved [29515/29515]\n",
            "\n",
            "--2024-10-18 02:50:33--  http://fashion-mnist.s3-website.eu-central-1.amazonaws.com/t10k-images-idx3-ubyte.gz\n",
            "Resolving fashion-mnist.s3-website.eu-central-1.amazonaws.com (fashion-mnist.s3-website.eu-central-1.amazonaws.com)... 52.219.140.152, 52.219.171.196, 3.5.137.203, ...\n",
            "Connecting to fashion-mnist.s3-website.eu-central-1.amazonaws.com (fashion-mnist.s3-website.eu-central-1.amazonaws.com)|52.219.140.152|:80... connected.\n",
            "HTTP request sent, awaiting response... 200 OK\n",
            "Length: 4422102 (4.2M) [binary/octet-stream]\n",
            "Saving to: ‘/content/test-images-idx3-ubyte.gz’\n",
            "\n",
            "/content/test-image 100%[===================>]   4.22M  5.27MB/s    in 0.8s    \n",
            "\n",
            "2024-10-18 02:50:34 (5.27 MB/s) - ‘/content/test-images-idx3-ubyte.gz’ saved [4422102/4422102]\n",
            "\n",
            "--2024-10-18 02:50:34--  http://fashion-mnist.s3-website.eu-central-1.amazonaws.com/t10k-labels-idx1-ubyte.gz\n",
            "Resolving fashion-mnist.s3-website.eu-central-1.amazonaws.com (fashion-mnist.s3-website.eu-central-1.amazonaws.com)... 52.219.140.152, 52.219.171.196, 3.5.137.203, ...\n",
            "Connecting to fashion-mnist.s3-website.eu-central-1.amazonaws.com (fashion-mnist.s3-website.eu-central-1.amazonaws.com)|52.219.140.152|:80... connected.\n",
            "HTTP request sent, awaiting response... 200 OK\n",
            "Length: 5148 (5.0K) [binary/octet-stream]\n",
            "Saving to: ‘/content/test-labels-idx1-ubyte.gz’\n",
            "\n",
            "/content/test-label 100%[===================>]   5.03K  --.-KB/s    in 0s      \n",
            "\n",
            "2024-10-18 02:50:34 (834 MB/s) - ‘/content/test-labels-idx1-ubyte.gz’ saved [5148/5148]\n",
            "\n",
            "Collecting wandb\n",
            "  Downloading wandb-0.18.5-py3-none-manylinux_2_17_x86_64.manylinux2014_x86_64.whl.metadata (9.7 kB)\n",
            "Requirement already satisfied: click!=8.0.0,>=7.1 in /usr/local/lib/python3.10/dist-packages (from wandb) (8.1.7)\n",
            "Collecting docker-pycreds>=0.4.0 (from wandb)\n",
            "  Downloading docker_pycreds-0.4.0-py2.py3-none-any.whl.metadata (1.8 kB)\n",
            "Collecting gitpython!=3.1.29,>=1.0.0 (from wandb)\n",
            "  Downloading GitPython-3.1.43-py3-none-any.whl.metadata (13 kB)\n",
            "Requirement already satisfied: platformdirs in /usr/local/lib/python3.10/dist-packages (from wandb) (4.3.6)\n",
            "Requirement already satisfied: protobuf!=4.21.0,!=5.28.0,<6,>=3.19.0 in /usr/local/lib/python3.10/dist-packages (from wandb) (3.20.3)\n",
            "Requirement already satisfied: psutil>=5.0.0 in /usr/local/lib/python3.10/dist-packages (from wandb) (5.9.5)\n",
            "Requirement already satisfied: pyyaml in /usr/local/lib/python3.10/dist-packages (from wandb) (6.0.2)\n",
            "Requirement already satisfied: requests<3,>=2.0.0 in /usr/local/lib/python3.10/dist-packages (from wandb) (2.32.3)\n",
            "Collecting sentry-sdk>=2.0.0 (from wandb)\n",
            "  Downloading sentry_sdk-2.17.0-py2.py3-none-any.whl.metadata (9.8 kB)\n",
            "Collecting setproctitle (from wandb)\n",
            "  Downloading setproctitle-1.3.3-cp310-cp310-manylinux_2_5_x86_64.manylinux1_x86_64.manylinux_2_17_x86_64.manylinux2014_x86_64.whl.metadata (9.9 kB)\n",
            "Requirement already satisfied: setuptools in /usr/local/lib/python3.10/dist-packages (from wandb) (71.0.4)\n",
            "Requirement already satisfied: typing-extensions<5,>=4.4 in /usr/local/lib/python3.10/dist-packages (from wandb) (4.12.2)\n",
            "Requirement already satisfied: six>=1.4.0 in /usr/local/lib/python3.10/dist-packages (from docker-pycreds>=0.4.0->wandb) (1.16.0)\n",
            "Collecting gitdb<5,>=4.0.1 (from gitpython!=3.1.29,>=1.0.0->wandb)\n",
            "  Downloading gitdb-4.0.11-py3-none-any.whl.metadata (1.2 kB)\n",
            "Requirement already satisfied: charset-normalizer<4,>=2 in /usr/local/lib/python3.10/dist-packages (from requests<3,>=2.0.0->wandb) (3.4.0)\n",
            "Requirement already satisfied: idna<4,>=2.5 in /usr/local/lib/python3.10/dist-packages (from requests<3,>=2.0.0->wandb) (3.10)\n",
            "Requirement already satisfied: urllib3<3,>=1.21.1 in /usr/local/lib/python3.10/dist-packages (from requests<3,>=2.0.0->wandb) (2.2.3)\n",
            "Requirement already satisfied: certifi>=2017.4.17 in /usr/local/lib/python3.10/dist-packages (from requests<3,>=2.0.0->wandb) (2024.8.30)\n",
            "Collecting smmap<6,>=3.0.1 (from gitdb<5,>=4.0.1->gitpython!=3.1.29,>=1.0.0->wandb)\n",
            "  Downloading smmap-5.0.1-py3-none-any.whl.metadata (4.3 kB)\n",
            "Downloading wandb-0.18.5-py3-none-manylinux_2_17_x86_64.manylinux2014_x86_64.whl (16.0 MB)\n",
            "\u001b[2K   \u001b[90m━━━━━━━━━━━━━━━━━━━━━━━━━━━━━━━━━━━━━━━━\u001b[0m \u001b[32m16.0/16.0 MB\u001b[0m \u001b[31m102.9 MB/s\u001b[0m eta \u001b[36m0:00:00\u001b[0m\n",
            "\u001b[?25hDownloading docker_pycreds-0.4.0-py2.py3-none-any.whl (9.0 kB)\n",
            "Downloading GitPython-3.1.43-py3-none-any.whl (207 kB)\n",
            "\u001b[2K   \u001b[90m━━━━━━━━━━━━━━━━━━━━━━━━━━━━━━━━━━━━━━━━\u001b[0m \u001b[32m207.3/207.3 kB\u001b[0m \u001b[31m16.9 MB/s\u001b[0m eta \u001b[36m0:00:00\u001b[0m\n",
            "\u001b[?25hDownloading sentry_sdk-2.17.0-py2.py3-none-any.whl (314 kB)\n",
            "\u001b[2K   \u001b[90m━━━━━━━━━━━━━━━━━━━━━━━━━━━━━━━━━━━━━━━━\u001b[0m \u001b[32m314.5/314.5 kB\u001b[0m \u001b[31m25.7 MB/s\u001b[0m eta \u001b[36m0:00:00\u001b[0m\n",
            "\u001b[?25hDownloading setproctitle-1.3.3-cp310-cp310-manylinux_2_5_x86_64.manylinux1_x86_64.manylinux_2_17_x86_64.manylinux2014_x86_64.whl (30 kB)\n",
            "Downloading gitdb-4.0.11-py3-none-any.whl (62 kB)\n",
            "\u001b[2K   \u001b[90m━━━━━━━━━━━━━━━━━━━━━━━━━━━━━━━━━━━━━━━━\u001b[0m \u001b[32m62.7/62.7 kB\u001b[0m \u001b[31m5.4 MB/s\u001b[0m eta \u001b[36m0:00:00\u001b[0m\n",
            "\u001b[?25hDownloading smmap-5.0.1-py3-none-any.whl (24 kB)\n",
            "Installing collected packages: smmap, setproctitle, sentry-sdk, docker-pycreds, gitdb, gitpython, wandb\n",
            "Successfully installed docker-pycreds-0.4.0 gitdb-4.0.11 gitpython-3.1.43 sentry-sdk-2.17.0 setproctitle-1.3.3 smmap-5.0.1 wandb-0.18.5\n",
            "\u001b[34m\u001b[1mwandb\u001b[0m: Logging into wandb.ai. (Learn how to deploy a W&B server locally: https://wandb.me/wandb-server)\n",
            "\u001b[34m\u001b[1mwandb\u001b[0m: You can find your API key in your browser here: https://wandb.ai/authorize\n",
            "\u001b[34m\u001b[1mwandb\u001b[0m: Paste an API key from your profile and hit enter, or press ctrl+c to quit: \n",
            "\u001b[34m\u001b[1mwandb\u001b[0m: Appending key for api.wandb.ai to your netrc file: /root/.netrc\n"
          ]
        }
      ],
      "source": [
        "!wget http://fashion-mnist.s3-website.eu-central-1.amazonaws.com/train-images-idx3-ubyte.gz -O /content/train-images-idx3-ubyte.gz\n",
        "!wget http://fashion-mnist.s3-website.eu-central-1.amazonaws.com/train-labels-idx1-ubyte.gz -O /content/train-labels-idx1-ubyte.gz\n",
        "!wget http://fashion-mnist.s3-website.eu-central-1.amazonaws.com/t10k-images-idx3-ubyte.gz -O /content/test-images-idx3-ubyte.gz\n",
        "!wget http://fashion-mnist.s3-website.eu-central-1.amazonaws.com/t10k-labels-idx1-ubyte.gz -O /content/test-labels-idx1-ubyte.gz\n",
        "!pip install wandb\n",
        "!wandb login"
      ]
    },
    {
      "cell_type": "markdown",
      "metadata": {
        "id": "QvvimtrPoy2I"
      },
      "source": [
        "## Library Imports"
      ]
    },
    {
      "cell_type": "code",
      "execution_count": 14,
      "metadata": {
        "id": "QXapS2Q4oY_s"
      },
      "outputs": [],
      "source": [
        "import torch\n",
        "from torch import nn\n",
        "import torch.nn.functional as F\n",
        "import torch.optim as optim\n",
        "from torch.utils.data import Dataset, DataLoader\n",
        "import torchvision\n",
        "import numpy as np\n",
        "import matplotlib.pyplot as plt\n",
        "import itertools\n",
        "from time import time\n",
        "import gzip\n",
        "import typing as T\n",
        "import wandb\n",
        "\n",
        "torch.manual_seed(123)\n",
        "np.random.seed(123)\n",
        "\n",
        "# wandb.login()"
      ]
    },
    {
      "cell_type": "markdown",
      "metadata": {
        "id": "6Z8KLh6Ro0cM"
      },
      "source": [
        "## Check for GPU Access"
      ]
    },
    {
      "cell_type": "code",
      "execution_count": 15,
      "metadata": {
        "colab": {
          "base_uri": "https://localhost:8080/"
        },
        "id": "MTnZTov3oe6a",
        "outputId": "951c2b75-7544-42af-9523-28f9ced43e16"
      },
      "outputs": [
        {
          "output_type": "stream",
          "name": "stdout",
          "text": [
            "------ ACCELERATION INFO -----\n",
            "CUDA GPU Available: True\n",
            "MPS GPU Available: False\n",
            "GPU Name: NVIDIA A100-SXM4-40GB\n",
            "GPU Count: 1\n",
            "GPU Memory Allocated: 7589888\n",
            "GPU Memory Cached: 23068672\n"
          ]
        }
      ],
      "source": [
        "print(\"------ ACCELERATION INFO -----\")\n",
        "print('CUDA GPU Available:',torch.cuda.is_available())\n",
        "print('MPS GPU Available:', torch.backends.mps.is_available())\n",
        "if torch.cuda.is_available():\n",
        "  device = torch.device('cuda:0')\n",
        "  print('GPU Name:',torch.cuda.get_device_name(0))\n",
        "  print('GPU Count:',torch.cuda.device_count())\n",
        "  print('GPU Memory Allocated:',torch.cuda.memory_allocated(0))\n",
        "  print('GPU Memory Cached:',torch.cuda.memory_reserved(0))\n",
        "# elif torch.backends.mps.is_available() and torch.backends.mps.is_built():\n",
        "#   device = torch.device('mps')\n",
        "#   print('Pytorch GPU Build:',torch.backends.mps.is_built())\n",
        "else:\n",
        "  device = torch.device('cpu')\n",
        "  print('Using CPU')"
      ]
    },
    {
      "cell_type": "markdown",
      "metadata": {
        "id": "Ei5lpNbqo5wk"
      },
      "source": [
        "## Load Data"
      ]
    },
    {
      "cell_type": "markdown",
      "metadata": {
        "id": "h68nncHHo5kg"
      },
      "source": [
        "### Define FashionMNIST"
      ]
    },
    {
      "cell_type": "code",
      "execution_count": 16,
      "metadata": {
        "id": "-GVuAxV5o32R"
      },
      "outputs": [],
      "source": [
        "class FasionMNISTDataset(Dataset):\n",
        "    def __init__(self, path: str, kind: str, device=torch.device('cpu')) -> None:\n",
        "        super().__init__()\n",
        "        self.device = device\n",
        "        self.labels, self.images = self._load_data(path, kind)\n",
        "\n",
        "    def _load_data(self, path: str, kind: str) -> T.Tuple[np.ndarray, np.ndarray]:\n",
        "        with gzip.open(path + f'/{kind}-labels-idx1-ubyte.gz', 'rb') as lable_file:\n",
        "            lbls = np.frombuffer(lable_file.read(), dtype=np.int8, offset=8)\n",
        "            lbls = np.copy(lbls)\n",
        "        with gzip.open(path + f'/{kind}-images-idx3-ubyte.gz', 'rb') as lable_file:\n",
        "            imgs = np.frombuffer(lable_file.read(), dtype=np.uint8, offset=16).reshape(len(lbls), 1, 28, 28)\n",
        "            imgs = ((np.copy(imgs) / 255) * 2 - 1).astype(np.float32)\n",
        "        return lbls, imgs\n",
        "\n",
        "    def __len__(self) -> int:\n",
        "        return self.labels.size\n",
        "\n",
        "    def __getitem__(self, index: int) -> T.Tuple[torch.tensor, torch.tensor]:\n",
        "        img = torch.tensor(self.images[index])\n",
        "        img = img.to(self.device)\n",
        "        if self.labels is not None:\n",
        "            label = torch.tensor(self.labels[index], dtype=torch.long)\n",
        "            label = F.one_hot(label, num_classes=10).float().to(self.device)\n",
        "            return img, label\n",
        "        else:\n",
        "            return img\n",
        "\n",
        "def show_img(dataset: Dataset, index: int) -> None:\n",
        "    img, label = dataset[index]\n",
        "    labels_map = {\n",
        "            0: \"T-Shirt\",\n",
        "            1: \"Trouser\",\n",
        "            2: \"Pullover\",\n",
        "            3: \"Dress\",\n",
        "            4: \"Coat\",\n",
        "            5: \"Sandal\",\n",
        "            6: \"Shirt\",\n",
        "            7: \"Sneaker\",\n",
        "            8: \"Bag\",\n",
        "            9: \"Ankle Boot\",\n",
        "        }\n",
        "    label = torch.argmax(label)\n",
        "    plt.imshow(img.cpu().reshape(28,28), cmap='gray')\n",
        "    plt.title(labels_map[label.cpu().item()])\n",
        "    plt.show()\n",
        "\n",
        "gen = torch.Generator().manual_seed(123)\n",
        "\n",
        "train = FasionMNISTDataset('/content', 'train', device=device)\n",
        "test = FasionMNISTDataset('/content', 'test', device=device)\n",
        "\n",
        "traindataloader = DataLoader(torch.utils.data.ConcatDataset([train,test]), batch_size=64, shuffle=True, generator=gen)\n",
        "# testdataloader = DataLoader(test, batch_size=64, shuffle=True, generator=gen)"
      ]
    },
    {
      "cell_type": "code",
      "source": [
        "len(test)"
      ],
      "metadata": {
        "colab": {
          "base_uri": "https://localhost:8080/"
        },
        "id": "vlT-U4N284a4",
        "outputId": "0e0c1b79-d642-4dee-a457-0f8101244820"
      },
      "execution_count": 17,
      "outputs": [
        {
          "output_type": "execute_result",
          "data": {
            "text/plain": [
              "10000"
            ]
          },
          "metadata": {},
          "execution_count": 17
        }
      ]
    },
    {
      "cell_type": "code",
      "source": [
        "show_img(train, 1)\n",
        "show_img(train, 100)"
      ],
      "metadata": {
        "colab": {
          "base_uri": "https://localhost:8080/",
          "height": 887
        },
        "id": "iYena8khbXyY",
        "outputId": "e64bd338-e929-4fd2-929c-2eed364ef007"
      },
      "execution_count": 18,
      "outputs": [
        {
          "output_type": "display_data",
          "data": {
            "text/plain": [
              "<Figure size 640x480 with 1 Axes>"
            ],
            "image/png": "[encoded data removed]"
          },
          "metadata": {}
        },
        {
          "output_type": "display_data",
          "data": {
            "text/plain": [
              "<Figure size 640x480 with 1 Axes>"
            ],
            "image/png": "[encoded data removed]"
          },
          "metadata": {}
        }
      ]
    },
    {
      "cell_type": "markdown",
      "metadata": {
        "id": "1M7zZNH72c9_"
      },
      "source": [
        "## Model Building"
      ]
    },
    {
      "cell_type": "markdown",
      "metadata": {
        "id": "JpwRkPEC4BEh"
      },
      "source": [
        "### GAN Modules"
      ]
    },
    {
      "cell_type": "code",
      "execution_count": 19,
      "metadata": {
        "id": "dKCmNJA82e7M"
      },
      "outputs": [],
      "source": [
        "class SoftplusAdjusted(nn.Module):\n",
        "    def __init__(self, beta=1.0, threshold=20.0):\n",
        "        super().__init__()\n",
        "        self.beta = beta\n",
        "        self.threshold = threshold\n",
        "        self.softplus = nn.Softplus(beta=self.beta, threshold=self.threshold)\n",
        "\n",
        "    def forward(self, x):\n",
        "        return self.softplus(2 * x + 2) / 2\n",
        "\n",
        "class Norm(nn.Module):\n",
        "    def __init__(self, model_type, arch_type, features, dims):\n",
        "        super(Norm, self).__init__()\n",
        "        if arch_type == 'a':\n",
        "            if model_type != 'gp':\n",
        "                if dims == 2:\n",
        "                    self.norm = nn.BatchNorm2d(features)\n",
        "                else:\n",
        "                    self.norm = nn.BatchNorm1d(features)\n",
        "            else:\n",
        "                # For WGAN-GP, use LayerNorm over the channel dimension\n",
        "                self.norm = nn.LayerNorm(features)\n",
        "        else:\n",
        "            self.norm = nn.Identity()\n",
        "\n",
        "    def forward(self, x):\n",
        "        if isinstance(self.norm, nn.LayerNorm):\n",
        "            if x.dim() == 4:\n",
        "                # x is [N, C, H, W]; bring channels to last dimension\n",
        "                x = x.permute(0, 2, 3, 1)  # [N, H, W, C]\n",
        "                x = self.norm(x)\n",
        "                x = x.permute(0, 3, 1, 2)  # Back to [N, C, H, W]\n",
        "            elif x.dim() == 3:\n",
        "                # x is [N, C, L]; bring channels to last dimension\n",
        "                x = x.permute(0, 2, 1)  # [N, L, C]\n",
        "                x = self.norm(x)\n",
        "                x = x.permute(0, 2, 1)  # Back to [N, C, L]\n",
        "            else:\n",
        "                x = self.norm(x)\n",
        "            return x\n",
        "        else:\n",
        "            return self.norm(x)\n",
        "\n",
        "class Discriminator(nn.Module):\n",
        "    def __init__(self, model_type, arch_type, channels, num_classes, features):\n",
        "        super().__init__()\n",
        "        self.num_classes = num_classes\n",
        "        self.seq = nn.Sequential(\n",
        "            # Input: N x (channels + num_classes) x 28 x 28\n",
        "            nn.Conv2d(channels + num_classes, features, kernel_size=4, stride=2, padding=1, bias=False),\n",
        "            nn.LeakyReLU(0.2, inplace=True) if arch_type == 'a' else SoftplusAdjusted(),\n",
        "\n",
        "            nn.Conv2d(features, features * 2, kernel_size=4, stride=2, padding=1, bias=False),\n",
        "            Norm(model_type, arch_type, features * 2, 2),\n",
        "            nn.LeakyReLU(0.2, inplace=True) if arch_type == 'a' else SoftplusAdjusted(),\n",
        "\n",
        "            nn.Conv2d(features * 2, features * 4, kernel_size=4, stride=2, padding=1, bias=False),\n",
        "            Norm(model_type, arch_type, features * 4, 2),\n",
        "            nn.LeakyReLU(0.2, inplace=True) if arch_type == 'a' else SoftplusAdjusted(),\n",
        "\n",
        "            nn.Conv2d(features * 4, features * 8, kernel_size=3, stride=2, padding=0, bias=False),\n",
        "            Norm(model_type, arch_type, features * 8, 2),\n",
        "            nn.LeakyReLU(0.2, inplace=True) if arch_type == 'a' else SoftplusAdjusted(),\n",
        "\n",
        "            nn.Flatten(),\n",
        "            nn.Linear(features * 8, 1),\n",
        "            nn.Sigmoid() if model_type == 'dc' else nn.Identity()\n",
        "        )\n",
        "        self.apply(self.weights_init)\n",
        "\n",
        "    def forward(self, x, labels):\n",
        "        batch_size, _, height, width = x.shape\n",
        "        labels = labels.view(batch_size, self.num_classes, 1, 1)\n",
        "        labels = labels.repeat(1, 1, height, width)\n",
        "        x = torch.cat((x, labels), dim=1)\n",
        "        return self.seq(x).view(-1)\n",
        "\n",
        "    def weights_init(self, m):\n",
        "        classname = m.__class__.__name__\n",
        "        if classname.find('Conv') != -1:\n",
        "            nn.init.normal_(m.weight.data, 0.0, 0.02)\n",
        "        elif classname.find('BatchNorm') != -1:\n",
        "            nn.init.normal_(m.weight.data, 1.0, 0.02)\n",
        "            nn.init.constant_(m.bias.data, 0)\n",
        "\n",
        "class Generator(nn.Module):\n",
        "    def __init__(self, model_type, arch_type, z_dim, num_classes, channels, features):\n",
        "        super().__init__()\n",
        "        self.num_classes = num_classes\n",
        "        self.z_dim = z_dim\n",
        "        self.seq = nn.Sequential(\n",
        "            # Project and reshape\n",
        "            nn.Linear(z_dim + num_classes, features * 8),\n",
        "            Norm(model_type, arch_type, features * 8, 1),\n",
        "            nn.Unflatten(1, (features * 8, 1, 1)),\n",
        "\n",
        "            # First upsampling block\n",
        "            nn.ConvTranspose2d(features * 8, features * 4, kernel_size=3, stride=2, padding=0, bias=False),\n",
        "            Norm(model_type, arch_type, features * 4, 2),\n",
        "            nn.LeakyReLU(0.2, inplace=True) if arch_type == 'a' else SoftplusAdjusted(),\n",
        "\n",
        "            # Second upsampling block\n",
        "            nn.ConvTranspose2d(features * 4, features * 2, kernel_size=4, stride=2, padding=1, output_padding=1, bias=False),\n",
        "            Norm(model_type, arch_type, features * 2, 2),\n",
        "            nn.LeakyReLU(0.2, inplace=True) if arch_type == 'a' else SoftplusAdjusted(),\n",
        "\n",
        "            # Third upsampling block\n",
        "            nn.ConvTranspose2d(features * 2, features, kernel_size=4, stride=2, padding=1, bias=False),\n",
        "            Norm(model_type, arch_type, features, 2),\n",
        "            nn.LeakyReLU(0.2, inplace=True) if arch_type == 'a' else SoftplusAdjusted(),\n",
        "\n",
        "            # Output layer\n",
        "            nn.ConvTranspose2d(features, channels, kernel_size=4, stride=2, padding=1, bias=False),\n",
        "            nn.Tanh()\n",
        "        )\n",
        "        self.apply(self.weights_init)\n",
        "\n",
        "    def forward(self, noise, labels):\n",
        "        batch_size = noise.size(0)\n",
        "        # labels = labels.view(batch_size, self.num_classes, 1, 1)\n",
        "        x = torch.cat((noise.squeeze(), labels), dim=1)\n",
        "        return self.seq(x)\n",
        "\n",
        "    def weights_init(self, m):\n",
        "        classname = m.__class__.__name__\n",
        "        if classname.find('Conv') != -1:\n",
        "            nn.init.normal_(m.weight.data, 0.0, 0.02)\n",
        "        elif classname.find('BatchNorm') != -1:\n",
        "            nn.init.normal_(m.weight.data, 1.0, 0.02)\n",
        "            nn.init.constant_(m.bias.data, 0)"
      ]
    },
    {
      "cell_type": "markdown",
      "metadata": {
        "id": "jjrlwxlB2f0W"
      },
      "source": [
        "### DCGAN"
      ]
    },
    {
      "cell_type": "code",
      "source": [
        "class DCGAN:\n",
        "    def __init__(self, arch_type, z_dim, num_classes, channels, features, device):\n",
        "        self.z_dim = z_dim\n",
        "        self.channels = channels\n",
        "        self.features = features\n",
        "        self.model_type = 'dc'\n",
        "        self.arch_type = arch_type\n",
        "        self.discriminator = Discriminator(self.model_type, arch_type, channels, num_classes, features).to(device)\n",
        "        self.optim_discrim = optim.Adam(self.discriminator.parameters(), lr=2e-4, betas=(0.5, 0.999)) #, betas=(0.5, 0.999)\n",
        "        self.generator = Generator(self.model_type, arch_type, z_dim, num_classes, channels, features).to(device)\n",
        "        self.optim_gen = optim.Adam(self.generator.parameters(), lr=2e-4, betas=(0.5, 0.999))\n",
        "        self.loss = nn.BCELoss()\n",
        "        self.device = device\n",
        "\n",
        "    def train_discriminator(self, real_imgs, real_labels, fake_labels, batch_size):\n",
        "        self.optim_discrim.zero_grad()\n",
        "\n",
        "        real_imgs = real_imgs.to(self.device)\n",
        "        real_labels = real_labels.to(self.device)\n",
        "\n",
        "        # Train on real images\n",
        "        output_real = self.discriminator(real_imgs, real_labels).view(-1)\n",
        "        real_targets = torch.ones_like(output_real)\n",
        "        real_loss = self.loss(output_real, real_targets)\n",
        "        real_loss.backward()\n",
        "        avg_real = output_real.mean().item()\n",
        "\n",
        "        # Generate fake images\n",
        "        noise = torch.randn(batch_size, self.z_dim, 1, 1, device=self.device)\n",
        "        fake_imgs = self.generator(noise, fake_labels)\n",
        "        output_fake = self.discriminator(fake_imgs.detach(), fake_labels).view(-1)\n",
        "        fake_targets = torch.zeros_like(output_fake)\n",
        "        fake_loss = self.loss(output_fake, fake_targets)\n",
        "        fake_loss.backward()\n",
        "        avg_fake = output_fake.mean().item()\n",
        "\n",
        "        discrim_loss = real_loss + fake_loss\n",
        "        self.optim_discrim.step()\n",
        "\n",
        "        return fake_imgs, discrim_loss.item(), avg_real, avg_fake\n",
        "\n",
        "\n",
        "    def train_generator(self, fake_imgs, fake_labels):\n",
        "        self.optim_gen.zero_grad()\n",
        "        output = self.discriminator(fake_imgs, fake_labels).view(-1)\n",
        "        real_targets = torch.ones_like(output)\n",
        "        gen_loss = self.loss(output, real_targets)\n",
        "        gen_loss.backward()\n",
        "        self.optim_gen.step()\n",
        "        return gen_loss.item(), output.mean().item()\n",
        "\n",
        "    def train_one_epoch(self, train_loader, batch_size):\n",
        "        for i, (real_imgs, real_labels) in enumerate(train_loader):\n",
        "            current_batch_size = real_imgs.size(0)\n",
        "\n",
        "            fake_labels = F.one_hot(torch.randint(0, 10, (current_batch_size,), device=self.device), num_classes=10).float()\n",
        "\n",
        "            fake_imgs, discrim_loss, avg_real, avg_fake1 = self.train_discriminator(real_imgs, real_labels, fake_labels, current_batch_size)\n",
        "            gen_loss, avg_fake2 = self.train_generator(fake_imgs, fake_labels)\n",
        "\n",
        "            if i % 100 == 0 and i != 0:\n",
        "                print(f'[{i}/{len(train_loader)}] DLoss: {discrim_loss:.4f} GLoss: {gen_loss: .4f}, D(x): {avg_real:.4f} D(G(z)): {avg_fake1:.4f}/{avg_fake2:.4f}')\n",
        "\n",
        "            wandb.log({\n",
        "                \"Discriminator Loss\": discrim_loss,\n",
        "                \"Generator Loss\": gen_loss\n",
        "            })\n",
        "\n",
        "\n",
        "    def train(self, traindataloader, epochs, batch_size, noise):\n",
        "        wandb.init(project='dcgan', config ={\n",
        "            'epochs': epochs,\n",
        "            'batch_size': batch_size,\n",
        "            'noise': noise\n",
        "        })\n",
        "        print(f'----------- {self.__class__.__name__} Train Start! ------------')\n",
        "        for epoch in range(epochs):\n",
        "            print(f'----------- Epoch #{epoch + 1} ------------')\n",
        "            self.train_one_epoch(traindataloader, batch_size)\n",
        "\n",
        "        wandb.finish()\n",
        "\n",
        "    def generate_images(self, num_images, labels):\n",
        "        self.generator.eval()\n",
        "        with torch.no_grad():  # Disable gradient calculation\n",
        "            noise = torch.randn(num_images, self.z_dim, 1, 1, device=self.device)\n",
        "            generated_images = self.generator(noise, labels)\n",
        "            # generated_images = (generated_images + 1) / 2\n",
        "            grid = torchvision.utils.make_grid(generated_images.cpu(), nrow=4, padding=2, normalize=True)\n",
        "            np_grid = grid.permute(1, 2, 0).numpy()\n",
        "            plt.imshow(np_grid)\n",
        "            plt.axis('off')\n"
      ],
      "metadata": {
        "id": "mbiSVRZidl39"
      },
      "execution_count": 20,
      "outputs": []
    },
    {
      "cell_type": "code",
      "source": [
        "wandb.finish()"
      ],
      "metadata": {
        "id": "YcJhCsytqcvB"
      },
      "execution_count": 21,
      "outputs": []
    },
    {
      "cell_type": "code",
      "execution_count": 22,
      "metadata": {
        "colab": {
          "base_uri": "https://localhost:8080/",
          "height": 1000
        },
        "id": "PMUn4KVD94gk",
        "outputId": "d91c7721-6b2d-4035-e423-a39ce52f9023"
      },
      "outputs": [
        {
          "output_type": "stream",
          "name": "stderr",
          "text": [
            "\u001b[34m\u001b[1mwandb\u001b[0m: Using wandb-core as the SDK backend. Please refer to https://wandb.me/wandb-core for more information.\n",
            "\u001b[34m\u001b[1mwandb\u001b[0m: Currently logged in as: \u001b[33mmitkrieger\u001b[0m (\u001b[33mmitkrieger-cornell-university\u001b[0m). Use \u001b[1m`wandb login --relogin`\u001b[0m to force relogin\n"
          ]
        },
        {
          "output_type": "display_data",
          "data": {
            "text/plain": [
              "<IPython.core.display.HTML object>"
            ],
            "text/html": [
              "Tracking run with wandb version 0.18.5"
            ]
          },
          "metadata": {}
        },
        {
          "output_type": "display_data",
          "data": {
            "text/plain": [
              "<IPython.core.display.HTML object>"
            ],
            "text/html": [
              "Run data is saved locally in <code>/content/wandb/run-20241018_030038-3di4lqru</code>"
            ]
          },
          "metadata": {}
        },
        {
          "output_type": "display_data",
          "data": {
            "text/plain": [
              "<IPython.core.display.HTML object>"
            ],
            "text/html": [
              "Syncing run <strong><a href='https://wandb.ai/mitkrieger-cornell-university/dcgan/runs/3di4lqru' target=\"_blank\">sunny-sun-25</a></strong> to <a href='https://wandb.ai/mitkrieger-cornell-university/dcgan' target=\"_blank\">Weights & Biases</a> (<a href='https://wandb.me/run' target=\"_blank\">docs</a>)<br/>"
            ]
          },
          "metadata": {}
        },
        {
          "output_type": "display_data",
          "data": {
            "text/plain": [
              "<IPython.core.display.HTML object>"
            ],
            "text/html": [
              " View project at <a href='https://wandb.ai/mitkrieger-cornell-university/dcgan' target=\"_blank\">https://wandb.ai/mitkrieger-cornell-university/dcgan</a>"
            ]
          },
          "metadata": {}
        },
        {
          "output_type": "display_data",
          "data": {
            "text/plain": [
              "<IPython.core.display.HTML object>"
            ],
            "text/html": [
              " View run at <a href='https://wandb.ai/mitkrieger-cornell-university/dcgan/runs/3di4lqru' target=\"_blank\">https://wandb.ai/mitkrieger-cornell-university/dcgan/runs/3di4lqru</a>"
            ]
          },
          "metadata": {}
        },
        {
          "output_type": "stream",
          "name": "stdout",
          "text": [
            "----------- DCGAN Train Start! ------------\n",
            "----------- Epoch #1 ------------\n",
            "[100/1094] DLoss: 1.0285 GLoss:  0.9926, D(x): 0.6131 D(G(z)): 0.4066/0.3808\n",
            "[200/1094] DLoss: 1.2110 GLoss:  0.8429, D(x): 0.5274 D(G(z)): 0.4272/0.4341\n",
            "[300/1094] DLoss: 1.1776 GLoss:  0.9929, D(x): 0.6064 D(G(z)): 0.4811/0.3758\n",
            "[400/1094] DLoss: 1.3124 GLoss:  1.0661, D(x): 0.4362 D(G(z)): 0.3475/0.3654\n",
            "[500/1094] DLoss: 1.2072 GLoss:  1.0035, D(x): 0.5972 D(G(z)): 0.4794/0.3779\n",
            "[600/1094] DLoss: 1.0509 GLoss:  1.0906, D(x): 0.5946 D(G(z)): 0.3999/0.3415\n",
            "[700/1094] DLoss: 1.2072 GLoss:  1.0648, D(x): 0.5457 D(G(z)): 0.4336/0.3617\n",
            "[800/1094] DLoss: 1.1740 GLoss:  0.9465, D(x): 0.5806 D(G(z)): 0.4355/0.4033\n",
            "[900/1094] DLoss: 1.1768 GLoss:  1.0849, D(x): 0.5344 D(G(z)): 0.3982/0.3489\n",
            "[1000/1094] DLoss: 1.3636 GLoss:  0.9728, D(x): 0.5049 D(G(z)): 0.4622/0.3950\n",
            "----------- Epoch #2 ------------\n",
            "[100/1094] DLoss: 1.1523 GLoss:  1.0805, D(x): 0.5706 D(G(z)): 0.4038/0.3573\n",
            "[200/1094] DLoss: 1.0260 GLoss:  1.0035, D(x): 0.5510 D(G(z)): 0.3291/0.3823\n",
            "[300/1094] DLoss: 1.0940 GLoss:  1.1724, D(x): 0.5357 D(G(z)): 0.3526/0.3197\n",
            "[400/1094] DLoss: 1.0468 GLoss:  1.2918, D(x): 0.6886 D(G(z)): 0.4674/0.2873\n",
            "[500/1094] DLoss: 0.9415 GLoss:  1.2922, D(x): 0.6723 D(G(z)): 0.3927/0.2859\n",
            "[600/1094] DLoss: 1.2410 GLoss:  1.0409, D(x): 0.5677 D(G(z)): 0.4475/0.3729\n",
            "[700/1094] DLoss: 1.1525 GLoss:  1.1801, D(x): 0.6161 D(G(z)): 0.4503/0.3265\n",
            "[800/1094] DLoss: 1.0410 GLoss:  1.2897, D(x): 0.5662 D(G(z)): 0.3363/0.2956\n",
            "[900/1094] DLoss: 1.0836 GLoss:  0.8298, D(x): 0.5056 D(G(z)): 0.2866/0.4561\n",
            "[1000/1094] DLoss: 1.0708 GLoss:  1.3403, D(x): 0.5033 D(G(z)): 0.2920/0.2727\n",
            "----------- Epoch #3 ------------\n",
            "[100/1094] DLoss: 1.0298 GLoss:  1.5633, D(x): 0.6141 D(G(z)): 0.3724/0.2248\n",
            "[200/1094] DLoss: 0.9619 GLoss:  1.2184, D(x): 0.5486 D(G(z)): 0.2713/0.3142\n",
            "[300/1094] DLoss: 0.8460 GLoss:  1.4090, D(x): 0.6971 D(G(z)): 0.3501/0.2621\n",
            "[400/1094] DLoss: 0.8841 GLoss:  1.3800, D(x): 0.7052 D(G(z)): 0.3825/0.2684\n",
            "[500/1094] DLoss: 0.9824 GLoss:  1.2046, D(x): 0.5740 D(G(z)): 0.3153/0.3202\n",
            "[600/1094] DLoss: 1.0020 GLoss:  1.4072, D(x): 0.6278 D(G(z)): 0.3559/0.2728\n",
            "[700/1094] DLoss: 1.0353 GLoss:  1.0508, D(x): 0.5207 D(G(z)): 0.2848/0.3732\n",
            "[800/1094] DLoss: 1.1861 GLoss:  1.7897, D(x): 0.7143 D(G(z)): 0.5381/0.1895\n",
            "[900/1094] DLoss: 0.9154 GLoss:  1.5892, D(x): 0.6771 D(G(z)): 0.3713/0.2394\n",
            "[1000/1094] DLoss: 0.8385 GLoss:  1.4362, D(x): 0.6155 D(G(z)): 0.2690/0.2632\n",
            "----------- Epoch #4 ------------\n",
            "[100/1094] DLoss: 0.9640 GLoss:  1.3096, D(x): 0.5698 D(G(z)): 0.2774/0.2875\n",
            "[200/1094] DLoss: 1.0368 GLoss:  1.4869, D(x): 0.6072 D(G(z)): 0.3753/0.2618\n",
            "[300/1094] DLoss: 1.0544 GLoss:  1.1589, D(x): 0.5601 D(G(z)): 0.3221/0.3365\n",
            "[400/1094] DLoss: 0.8007 GLoss:  1.3098, D(x): 0.6039 D(G(z)): 0.2335/0.2848\n",
            "[500/1094] DLoss: 1.0970 GLoss:  1.4499, D(x): 0.6942 D(G(z)): 0.4916/0.2480\n",
            "[600/1094] DLoss: 0.7218 GLoss:  1.4462, D(x): 0.6778 D(G(z)): 0.2540/0.2480\n",
            "[700/1094] DLoss: 0.9330 GLoss:  1.5289, D(x): 0.5715 D(G(z)): 0.2563/0.2427\n",
            "[800/1094] DLoss: 1.1777 GLoss:  1.3011, D(x): 0.4308 D(G(z)): 0.1707/0.2946\n",
            "[900/1094] DLoss: 1.1276 GLoss:  1.2572, D(x): 0.5195 D(G(z)): 0.3141/0.3226\n",
            "[1000/1094] DLoss: 0.8067 GLoss:  1.6437, D(x): 0.5772 D(G(z)): 0.1881/0.2115\n",
            "----------- Epoch #5 ------------\n",
            "[100/1094] DLoss: 0.5345 GLoss:  1.9629, D(x): 0.7691 D(G(z)): 0.2135/0.1544\n",
            "[200/1094] DLoss: 0.6242 GLoss:  1.7360, D(x): 0.7600 D(G(z)): 0.2680/0.1973\n",
            "[300/1094] DLoss: 0.8748 GLoss:  1.5067, D(x): 0.7187 D(G(z)): 0.3867/0.2353\n",
            "[400/1094] DLoss: 0.8544 GLoss:  1.9266, D(x): 0.7210 D(G(z)): 0.3740/0.1626\n",
            "[500/1094] DLoss: 0.7676 GLoss:  1.9203, D(x): 0.6988 D(G(z)): 0.2990/0.1623\n",
            "[600/1094] DLoss: 1.1257 GLoss:  2.2916, D(x): 0.8704 D(G(z)): 0.5693/0.1289\n",
            "[700/1094] DLoss: 0.6157 GLoss:  2.0176, D(x): 0.7335 D(G(z)): 0.2375/0.1486\n",
            "[800/1094] DLoss: 1.0214 GLoss:  1.6576, D(x): 0.4620 D(G(z)): 0.1480/0.2175\n",
            "[900/1094] DLoss: 0.8778 GLoss:  1.9330, D(x): 0.5793 D(G(z)): 0.2018/0.1774\n",
            "[1000/1094] DLoss: 0.8885 GLoss:  2.4716, D(x): 0.8497 D(G(z)): 0.4696/0.1012\n",
            "----------- Epoch #6 ------------\n",
            "[100/1094] DLoss: 0.7238 GLoss:  1.9793, D(x): 0.6576 D(G(z)): 0.2184/0.1631\n",
            "[200/1094] DLoss: 0.6859 GLoss:  1.7464, D(x): 0.7063 D(G(z)): 0.2261/0.2070\n",
            "[300/1094] DLoss: 0.7611 GLoss:  1.9080, D(x): 0.6150 D(G(z)): 0.1972/0.1644\n",
            "[400/1094] DLoss: 0.7351 GLoss:  2.0502, D(x): 0.7753 D(G(z)): 0.3301/0.1722\n",
            "[500/1094] DLoss: 0.6301 GLoss:  1.8264, D(x): 0.6538 D(G(z)): 0.1481/0.1855\n",
            "[600/1094] DLoss: 0.6177 GLoss:  2.4043, D(x): 0.7501 D(G(z)): 0.2541/0.1027\n",
            "[700/1094] DLoss: 0.6987 GLoss:  1.9780, D(x): 0.7695 D(G(z)): 0.3036/0.1538\n",
            "[800/1094] DLoss: 0.5841 GLoss:  1.8510, D(x): 0.6934 D(G(z)): 0.1464/0.1769\n",
            "[900/1094] DLoss: 1.0448 GLoss:  2.1336, D(x): 0.7094 D(G(z)): 0.4414/0.1830\n",
            "[1000/1094] DLoss: 0.5265 GLoss:  2.7037, D(x): 0.7936 D(G(z)): 0.2287/0.0762\n",
            "----------- Epoch #7 ------------\n",
            "[100/1094] DLoss: 0.5923 GLoss:  1.7793, D(x): 0.7882 D(G(z)): 0.2631/0.1996\n",
            "[200/1094] DLoss: 0.9547 GLoss:  2.3802, D(x): 0.7466 D(G(z)): 0.3996/0.1648\n",
            "[300/1094] DLoss: 0.4610 GLoss:  2.4294, D(x): 0.7978 D(G(z)): 0.1785/0.1012\n",
            "[400/1094] DLoss: 1.0555 GLoss:  1.3476, D(x): 0.4602 D(G(z)): 0.1557/0.3132\n",
            "[500/1094] DLoss: 0.6533 GLoss:  1.5351, D(x): 0.7130 D(G(z)): 0.2362/0.2341\n",
            "[600/1094] DLoss: 0.4844 GLoss:  2.6183, D(x): 0.8608 D(G(z)): 0.2593/0.0809\n",
            "[700/1094] DLoss: 0.6859 GLoss:  2.5529, D(x): 0.6093 D(G(z)): 0.0805/0.0983\n",
            "[800/1094] DLoss: 0.4995 GLoss:  2.7078, D(x): 0.8053 D(G(z)): 0.2214/0.0751\n",
            "[900/1094] DLoss: 0.6261 GLoss:  2.2670, D(x): 0.7310 D(G(z)): 0.2341/0.1427\n",
            "[1000/1094] DLoss: 0.6485 GLoss:  2.8460, D(x): 0.8882 D(G(z)): 0.3847/0.0659\n",
            "----------- Epoch #8 ------------\n",
            "[100/1094] DLoss: 0.4052 GLoss:  2.5424, D(x): 0.7981 D(G(z)): 0.1501/0.0939\n",
            "[200/1094] DLoss: 0.5412 GLoss:  2.5447, D(x): 0.7835 D(G(z)): 0.2307/0.0891\n",
            "[300/1094] DLoss: 0.6332 GLoss:  2.1510, D(x): 0.8316 D(G(z)): 0.3292/0.1336\n",
            "[400/1094] DLoss: 0.8513 GLoss:  2.5984, D(x): 0.8799 D(G(z)): 0.4732/0.0910\n",
            "[500/1094] DLoss: 0.6308 GLoss:  2.0304, D(x): 0.6939 D(G(z)): 0.1924/0.1558\n",
            "[600/1094] DLoss: 0.6262 GLoss:  2.4038, D(x): 0.7645 D(G(z)): 0.2668/0.1031\n",
            "[700/1094] DLoss: 0.9306 GLoss:  1.8763, D(x): 0.4830 D(G(z)): 0.1115/0.1910\n",
            "[800/1094] DLoss: 0.4533 GLoss:  2.5224, D(x): 0.8098 D(G(z)): 0.1886/0.1059\n",
            "[900/1094] DLoss: 0.5167 GLoss:  2.9765, D(x): 0.9075 D(G(z)): 0.3185/0.0630\n",
            "[1000/1094] DLoss: 0.4962 GLoss:  1.6242, D(x): 0.7466 D(G(z)): 0.1544/0.2174\n",
            "----------- Epoch #9 ------------\n",
            "[100/1094] DLoss: 0.4756 GLoss:  3.0849, D(x): 0.8776 D(G(z)): 0.2591/0.0551\n",
            "[200/1094] DLoss: 0.6158 GLoss:  2.8337, D(x): 0.8025 D(G(z)): 0.2874/0.0736\n",
            "[300/1094] DLoss: 0.7500 GLoss:  1.7023, D(x): 0.5858 D(G(z)): 0.1006/0.2193\n",
            "[400/1094] DLoss: 0.3403 GLoss:  3.1072, D(x): 0.8700 D(G(z)): 0.1626/0.0556\n",
            "[500/1094] DLoss: 0.3208 GLoss:  2.0923, D(x): 0.8473 D(G(z)): 0.1260/0.1408\n",
            "[600/1094] DLoss: 0.5324 GLoss:  2.4591, D(x): 0.7011 D(G(z)): 0.1188/0.1224\n",
            "[700/1094] DLoss: 0.2832 GLoss:  2.6780, D(x): 0.9555 D(G(z)): 0.1994/0.0781\n",
            "[800/1094] DLoss: 0.3415 GLoss:  2.8535, D(x): 0.8799 D(G(z)): 0.1687/0.0696\n",
            "[900/1094] DLoss: 0.4753 GLoss:  1.9350, D(x): 0.7133 D(G(z)): 0.0883/0.1802\n",
            "[1000/1094] DLoss: 0.2783 GLoss:  2.8780, D(x): 0.8896 D(G(z)): 0.1306/0.0677\n",
            "----------- Epoch #10 ------------\n",
            "[100/1094] DLoss: 0.5782 GLoss:  2.4610, D(x): 0.6800 D(G(z)): 0.1077/0.1175\n",
            "[200/1094] DLoss: 0.1840 GLoss:  3.3930, D(x): 0.9158 D(G(z)): 0.0837/0.0462\n",
            "[300/1094] DLoss: 0.9562 GLoss:  3.3806, D(x): 0.9162 D(G(z)): 0.5385/0.0457\n",
            "[400/1094] DLoss: 0.4871 GLoss:  2.9451, D(x): 0.9293 D(G(z)): 0.2983/0.0640\n",
            "[500/1094] DLoss: 0.3211 GLoss:  3.0110, D(x): 0.8245 D(G(z)): 0.0974/0.0677\n",
            "[600/1094] DLoss: 0.4598 GLoss:  2.4171, D(x): 0.8250 D(G(z)): 0.2087/0.1050\n",
            "[700/1094] DLoss: 0.4324 GLoss:  2.2597, D(x): 0.7574 D(G(z)): 0.1149/0.1344\n",
            "[800/1094] DLoss: 0.5345 GLoss:  2.9285, D(x): 0.9089 D(G(z)): 0.3113/0.0674\n",
            "[900/1094] DLoss: 0.6380 GLoss:  1.7319, D(x): 0.7215 D(G(z)): 0.2208/0.2229\n",
            "[1000/1094] DLoss: 0.5283 GLoss:  1.9567, D(x): 0.6905 D(G(z)): 0.1022/0.1621\n"
          ]
        },
        {
          "output_type": "display_data",
          "data": {
            "text/plain": [
              "<IPython.core.display.HTML object>"
            ],
            "text/html": [
              "<style>\n",
              "    table.wandb td:nth-child(1) { padding: 0 10px; text-align: left ; width: auto;} td:nth-child(2) {text-align: left ; width: 100%}\n",
              "    .wandb-row { display: flex; flex-direction: row; flex-wrap: wrap; justify-content: flex-start; width: 100% }\n",
              "    .wandb-col { display: flex; flex-direction: column; flex-basis: 100%; flex: 1; padding: 10px; }\n",
              "    </style>\n",
              "<div class=\"wandb-row\"><div class=\"wandb-col\"><h3>Run history:</h3><br/><table class=\"wandb\"><tr><td>Discriminator Loss</td><td>▆██▆█▆▇█▅▆▅▇▇▅▄▆▅▃▅▅▄▇▆▄▃▃▅▄▃▅▂▂▄▅▆▄▂▃▁▅</td></tr><tr><td>Generator Loss</td><td>▁▁▁▂▁▃▃▂▁▃▄▃▃▄▃▁▂▄▅▄▅▅▄▃▄▆▄▆█▆▅▇▃▆▄▅▄▆▆▆</td></tr></table><br/></div><div class=\"wandb-col\"><h3>Run summary:</h3><br/><table class=\"wandb\"><tr><td>Discriminator Loss</td><td>0.48598</td></tr><tr><td>Generator Loss</td><td>3.04344</td></tr></table><br/></div></div>"
            ]
          },
          "metadata": {}
        },
        {
          "output_type": "display_data",
          "data": {
            "text/plain": [
              "<IPython.core.display.HTML object>"
            ],
            "text/html": [
              " View run <strong style=\"color:#cdcd00\">sunny-sun-25</strong> at: <a href='https://wandb.ai/mitkrieger-cornell-university/dcgan/runs/3di4lqru' target=\"_blank\">https://wandb.ai/mitkrieger-cornell-university/dcgan/runs/3di4lqru</a><br/> View project at: <a href='https://wandb.ai/mitkrieger-cornell-university/dcgan' target=\"_blank\">https://wandb.ai/mitkrieger-cornell-university/dcgan</a><br/>Synced 5 W&B file(s), 0 media file(s), 0 artifact file(s) and 0 other file(s)"
            ]
          },
          "metadata": {}
        },
        {
          "output_type": "display_data",
          "data": {
            "text/plain": [
              "<IPython.core.display.HTML object>"
            ],
            "text/html": [
              "Find logs at: <code>./wandb/run-20241018_030038-3di4lqru/logs</code>"
            ]
          },
          "metadata": {}
        }
      ],
      "source": [
        "dc = DCGAN('a', 100, 10, 1, 64, device)\n",
        "dc.train(traindataloader, 10, 64, 100)"
      ]
    },
    {
      "cell_type": "code",
      "execution_count": 31,
      "metadata": {
        "colab": {
          "base_uri": "https://localhost:8080/",
          "height": 167
        },
        "id": "XmgaCROs_9Eq",
        "outputId": "45b57980-332d-431a-995e-466b0a9537e4"
      },
      "outputs": [
        {
          "output_type": "display_data",
          "data": {
            "text/plain": [
              "<Figure size 640x480 with 1 Axes>"
            ],
            "image/png": "[encoded data removed]"
          },
          "metadata": {}
        }
      ],
      "source": [
        "dc.generate_images(4, F.one_hot(torch.tensor([2]*4, device=dc.device), num_classes=10).float())"
      ]
    },
    {
      "cell_type": "code",
      "source": [
        "dc.generate_images(4, F.one_hot(torch.tensor([9]*4, device=dc.device), num_classes=10).float())"
      ],
      "metadata": {
        "colab": {
          "base_uri": "https://localhost:8080/",
          "height": 167
        },
        "id": "vfn_rYpOmzZi",
        "outputId": "528d2879-dad9-4fec-f62e-ad60fc5c362f"
      },
      "execution_count": 32,
      "outputs": [
        {
          "output_type": "display_data",
          "data": {
            "text/plain": [
              "<Figure size 640x480 with 1 Axes>"
            ],
            "image/png": "[encoded data removed]"
          },
          "metadata": {}
        }
      ]
    },
    {
      "cell_type": "markdown",
      "source": [
        "#### Save and Load Example"
      ],
      "metadata": {
        "id": "q2XeJH4TlwdB"
      }
    },
    {
      "cell_type": "code",
      "source": [
        "torch.save(dc.generator.state_dict(), '/content/drive/MyDrive/DL3/dc_generator_arch_a.pth')\n",
        "torch.save(dc.discriminator.state_dict(), '/content/drive/MyDrive/DL3/dc_discriminator_arch_a.pth')"
      ],
      "metadata": {
        "id": "YRwx2xnFDp0o"
      },
      "execution_count": 36,
      "outputs": []
    },
    {
      "cell_type": "code",
      "source": [
        "tmp = Generator('dc', 'a', 100, 10, 1, 64)\n",
        "tmp.load_state_dict(torch.load('/content/drive/MyDrive/DL3/dc_generator_arch_a.pth'))\n",
        "\n",
        "def generate_images(model, num_images, labels):\n",
        "    model.generator.eval()\n",
        "    with torch.no_grad():  # Disable gradient calculation\n",
        "        noise = torch.randn(num_images, model.z_dim, 1, 1, device=model.device)\n",
        "        generated_images = model.generator(noise, labels)\n",
        "        # generated_images = (generated_images + 1) / 2\n",
        "        grid = torchvision.utils.make_grid(generated_images.cpu(), nrow=4, padding=2, normalize=True)\n",
        "        np_grid = grid.permute(1, 2, 0).numpy()\n",
        "        plt.imshow(np_grid)\n",
        "        plt.axis('off')\n",
        "\n",
        "generate_images(dc, 4, F.one_hot(torch.tensor([3]*4, device=device), num_classes=10).float())\n"
      ],
      "metadata": {
        "colab": {
          "base_uri": "https://localhost:8080/",
          "height": 223
        },
        "id": "OTpqdVtzlOIZ",
        "outputId": "21500f9b-5848-4b84-c809-07309baef3cb"
      },
      "execution_count": 26,
      "outputs": [
        {
          "output_type": "stream",
          "name": "stderr",
          "text": [
            "<ipython-input-26-8032c5cba0db>:2: FutureWarning: You are using `torch.load` with `weights_only=False` (the current default value), which uses the default pickle module implicitly. It is possible to construct malicious pickle data which will execute arbitrary code during unpickling (See https://github.com/pytorch/pytorch/blob/main/SECURITY.md#untrusted-models for more details). In a future release, the default value for `weights_only` will be flipped to `True`. This limits the functions that could be executed during unpickling. Arbitrary objects will no longer be allowed to be loaded via this mode unless they are explicitly allowlisted by the user via `torch.serialization.add_safe_globals`. We recommend you start setting `weights_only=True` for any use case where you don't have full control of the loaded file. Please open an issue on GitHub for any issues related to this experimental feature.\n",
            "  tmp.load_state_dict(torch.load('/content/drive/MyDrive/DL3/dc_generator_arch_a.pth'))\n"
          ]
        },
        {
          "output_type": "display_data",
          "data": {
            "text/plain": [
              "<Figure size 640x480 with 1 Axes>"
            ],
            "image/png": "[encoded data removed]"
          },
          "metadata": {}
        }
      ]
    },
    {
      "cell_type": "code",
      "source": [
        "dc2 = DCGAN('b', 100, 10, 1, 64, device)\n",
        "dc2.train(traindataloader, 10, 64, 100)"
      ],
      "metadata": {
        "colab": {
          "base_uri": "https://localhost:8080/",
          "height": 1000
        },
        "id": "w4hwqq9KrnM_",
        "outputId": "b1d957b1-1679-4547-9ce6-e169de3aa564"
      },
      "execution_count": 27,
      "outputs": [
        {
          "output_type": "display_data",
          "data": {
            "text/plain": [
              "<IPython.core.display.HTML object>"
            ],
            "text/html": [
              "Tracking run with wandb version 0.18.5"
            ]
          },
          "metadata": {}
        },
        {
          "output_type": "display_data",
          "data": {
            "text/plain": [
              "<IPython.core.display.HTML object>"
            ],
            "text/html": [
              "Run data is saved locally in <code>/content/wandb/run-20241018_030701-j8t65f17</code>"
            ]
          },
          "metadata": {}
        },
        {
          "output_type": "display_data",
          "data": {
            "text/plain": [
              "<IPython.core.display.HTML object>"
            ],
            "text/html": [
              "Syncing run <strong><a href='https://wandb.ai/mitkrieger-cornell-university/dcgan/runs/j8t65f17' target=\"_blank\">smooth-bee-26</a></strong> to <a href='https://wandb.ai/mitkrieger-cornell-university/dcgan' target=\"_blank\">Weights & Biases</a> (<a href='https://wandb.me/run' target=\"_blank\">docs</a>)<br/>"
            ]
          },
          "metadata": {}
        },
        {
          "output_type": "display_data",
          "data": {
            "text/plain": [
              "<IPython.core.display.HTML object>"
            ],
            "text/html": [
              " View project at <a href='https://wandb.ai/mitkrieger-cornell-university/dcgan' target=\"_blank\">https://wandb.ai/mitkrieger-cornell-university/dcgan</a>"
            ]
          },
          "metadata": {}
        },
        {
          "output_type": "display_data",
          "data": {
            "text/plain": [
              "<IPython.core.display.HTML object>"
            ],
            "text/html": [
              " View run at <a href='https://wandb.ai/mitkrieger-cornell-university/dcgan/runs/j8t65f17' target=\"_blank\">https://wandb.ai/mitkrieger-cornell-university/dcgan/runs/j8t65f17</a>"
            ]
          },
          "metadata": {}
        },
        {
          "output_type": "stream",
          "name": "stdout",
          "text": [
            "----------- DCGAN Train Start! ------------\n",
            "----------- Epoch #1 ------------\n",
            "[100/1094] DLoss: 1.3662 GLoss:  0.6852, D(x): 0.4995 D(G(z)): 0.4893/0.5040\n",
            "[200/1094] DLoss: 1.5971 GLoss:  0.2306, D(x): 0.3183 D(G(z)): 0.3620/0.7941\n",
            "[300/1094] DLoss: 1.2428 GLoss:  0.7420, D(x): 0.5637 D(G(z)): 0.4874/0.4764\n",
            "[400/1094] DLoss: 0.2894 GLoss:  2.3582, D(x): 0.8399 D(G(z)): 0.0439/0.0996\n",
            "[500/1094] DLoss: 0.8363 GLoss:  1.7014, D(x): 0.8454 D(G(z)): 0.4544/0.2002\n",
            "[600/1094] DLoss: 0.5509 GLoss:  1.3970, D(x): 0.7514 D(G(z)): 0.1638/0.2538\n",
            "[700/1094] DLoss: 0.6966 GLoss:  1.4910, D(x): 0.6963 D(G(z)): 0.2254/0.2496\n",
            "[800/1094] DLoss: 0.6218 GLoss:  2.1285, D(x): 0.7979 D(G(z)): 0.2553/0.1430\n",
            "[900/1094] DLoss: 0.6706 GLoss:  2.2714, D(x): 0.7550 D(G(z)): 0.2325/0.2167\n",
            "[1000/1094] DLoss: 0.6220 GLoss:  2.8089, D(x): 0.8238 D(G(z)): 0.2448/0.1479\n",
            "----------- Epoch #2 ------------\n",
            "[100/1094] DLoss: 1.0965 GLoss:  1.3414, D(x): 0.5949 D(G(z)): 0.3196/0.3172\n",
            "[200/1094] DLoss: 1.0107 GLoss:  1.2630, D(x): 0.6529 D(G(z)): 0.3606/0.3295\n",
            "[300/1094] DLoss: 0.9949 GLoss:  1.2457, D(x): 0.6989 D(G(z)): 0.3941/0.3355\n",
            "[400/1094] DLoss: 1.0410 GLoss:  2.3798, D(x): 0.7867 D(G(z)): 0.4932/0.1255\n",
            "[500/1094] DLoss: 1.4010 GLoss:  0.6073, D(x): 0.3792 D(G(z)): 0.1335/0.5685\n",
            "[600/1094] DLoss: 1.0022 GLoss:  1.9717, D(x): 0.7210 D(G(z)): 0.4250/0.1887\n",
            "[700/1094] DLoss: 1.0756 GLoss:  2.7488, D(x): 0.8956 D(G(z)): 0.5590/0.0971\n",
            "[800/1094] DLoss: 1.2107 GLoss:  1.2247, D(x): 0.6719 D(G(z)): 0.4854/0.3171\n",
            "[900/1094] DLoss: 1.2491 GLoss:  1.1047, D(x): 0.5844 D(G(z)): 0.4273/0.3761\n",
            "[1000/1094] DLoss: 1.3783 GLoss:  1.0091, D(x): 0.5045 D(G(z)): 0.4119/0.3938\n",
            "----------- Epoch #3 ------------\n",
            "[100/1094] DLoss: 1.1737 GLoss:  1.0557, D(x): 0.5795 D(G(z)): 0.3904/0.3703\n",
            "[200/1094] DLoss: 1.0297 GLoss:  1.1986, D(x): 0.6888 D(G(z)): 0.4122/0.3422\n",
            "[300/1094] DLoss: 1.1667 GLoss:  1.1801, D(x): 0.5204 D(G(z)): 0.3462/0.3307\n",
            "[400/1094] DLoss: 1.1193 GLoss:  1.2274, D(x): 0.6038 D(G(z)): 0.4024/0.3419\n",
            "[500/1094] DLoss: 1.2011 GLoss:  1.0637, D(x): 0.5764 D(G(z)): 0.4278/0.3815\n",
            "[600/1094] DLoss: 1.1495 GLoss:  1.5134, D(x): 0.6203 D(G(z)): 0.4117/0.2556\n",
            "[700/1094] DLoss: 1.2257 GLoss:  1.3360, D(x): 0.5462 D(G(z)): 0.3388/0.3006\n",
            "[800/1094] DLoss: 1.1350 GLoss:  1.3291, D(x): 0.6244 D(G(z)): 0.4264/0.2978\n",
            "[900/1094] DLoss: 1.1465 GLoss:  1.3041, D(x): 0.5787 D(G(z)): 0.3815/0.3270\n",
            "[1000/1094] DLoss: 1.3032 GLoss:  1.2275, D(x): 0.5404 D(G(z)): 0.4258/0.3210\n",
            "----------- Epoch #4 ------------\n",
            "[100/1094] DLoss: 1.1802 GLoss:  0.9866, D(x): 0.6463 D(G(z)): 0.4721/0.4048\n",
            "[200/1094] DLoss: 1.2179 GLoss:  1.0327, D(x): 0.6157 D(G(z)): 0.4571/0.3885\n",
            "[300/1094] DLoss: 1.0926 GLoss:  1.2461, D(x): 0.6005 D(G(z)): 0.3836/0.3313\n",
            "[400/1094] DLoss: 1.2207 GLoss:  1.0804, D(x): 0.5671 D(G(z)): 0.4146/0.3732\n",
            "[500/1094] DLoss: 1.1409 GLoss:  0.9853, D(x): 0.5972 D(G(z)): 0.4134/0.3890\n",
            "[600/1094] DLoss: 1.1638 GLoss:  1.1399, D(x): 0.6363 D(G(z)): 0.4624/0.3508\n",
            "[700/1094] DLoss: 1.1912 GLoss:  1.0402, D(x): 0.5513 D(G(z)): 0.3919/0.3714\n",
            "[800/1094] DLoss: 1.1821 GLoss:  1.2101, D(x): 0.5763 D(G(z)): 0.3771/0.3222\n",
            "[900/1094] DLoss: 1.2095 GLoss:  1.1174, D(x): 0.5506 D(G(z)): 0.3880/0.3626\n",
            "[1000/1094] DLoss: 1.4051 GLoss:  1.1319, D(x): 0.4933 D(G(z)): 0.4163/0.3607\n",
            "----------- Epoch #5 ------------\n",
            "[100/1094] DLoss: 1.3433 GLoss:  0.9451, D(x): 0.5278 D(G(z)): 0.4557/0.4035\n",
            "[200/1094] DLoss: 1.2280 GLoss:  1.0354, D(x): 0.5688 D(G(z)): 0.4326/0.3773\n",
            "[300/1094] DLoss: 1.2484 GLoss:  1.0807, D(x): 0.5317 D(G(z)): 0.4078/0.3644\n",
            "[400/1094] DLoss: 1.1656 GLoss:  1.0139, D(x): 0.5703 D(G(z)): 0.4134/0.3845\n",
            "[500/1094] DLoss: 1.2881 GLoss:  0.9697, D(x): 0.6220 D(G(z)): 0.4929/0.4096\n",
            "[600/1094] DLoss: 1.1576 GLoss:  1.1386, D(x): 0.5981 D(G(z)): 0.3984/0.3493\n",
            "[700/1094] DLoss: 1.2623 GLoss:  1.1008, D(x): 0.6003 D(G(z)): 0.4479/0.3620\n",
            "[800/1094] DLoss: 1.1779 GLoss:  1.1261, D(x): 0.6226 D(G(z)): 0.4467/0.3578\n",
            "[900/1094] DLoss: 1.1999 GLoss:  1.0763, D(x): 0.5731 D(G(z)): 0.4277/0.3657\n",
            "[1000/1094] DLoss: 1.1983 GLoss:  1.0899, D(x): 0.6297 D(G(z)): 0.4558/0.3625\n",
            "----------- Epoch #6 ------------\n",
            "[100/1094] DLoss: 1.0914 GLoss:  1.1270, D(x): 0.6008 D(G(z)): 0.3913/0.3532\n",
            "[200/1094] DLoss: 1.2757 GLoss:  1.0591, D(x): 0.5526 D(G(z)): 0.4420/0.3712\n",
            "[300/1094] DLoss: 1.1403 GLoss:  1.0913, D(x): 0.6475 D(G(z)): 0.4697/0.3529\n",
            "[400/1094] DLoss: 1.1239 GLoss:  1.0562, D(x): 0.5799 D(G(z)): 0.3951/0.3649\n",
            "[500/1094] DLoss: 1.1197 GLoss:  1.0096, D(x): 0.6229 D(G(z)): 0.4314/0.3857\n",
            "[600/1094] DLoss: 1.2036 GLoss:  1.2199, D(x): 0.5581 D(G(z)): 0.3900/0.3321\n",
            "[700/1094] DLoss: 1.2630 GLoss:  1.1044, D(x): 0.5894 D(G(z)): 0.4690/0.3525\n",
            "[800/1094] DLoss: 1.1033 GLoss:  1.1102, D(x): 0.5821 D(G(z)): 0.3909/0.3578\n",
            "[900/1094] DLoss: 1.0598 GLoss:  1.1636, D(x): 0.6249 D(G(z)): 0.3919/0.3397\n",
            "[1000/1094] DLoss: 1.2597 GLoss:  0.9278, D(x): 0.5774 D(G(z)): 0.4634/0.4127\n",
            "----------- Epoch #7 ------------\n",
            "[100/1094] DLoss: 1.2239 GLoss:  1.1029, D(x): 0.5414 D(G(z)): 0.3756/0.3618\n",
            "[200/1094] DLoss: 1.1782 GLoss:  1.0382, D(x): 0.5440 D(G(z)): 0.3837/0.3691\n",
            "[300/1094] DLoss: 1.2708 GLoss:  1.0262, D(x): 0.5764 D(G(z)): 0.4454/0.3847\n",
            "[400/1094] DLoss: 1.2694 GLoss:  0.9502, D(x): 0.5464 D(G(z)): 0.4319/0.4058\n",
            "[500/1094] DLoss: 1.1851 GLoss:  1.0362, D(x): 0.5545 D(G(z)): 0.3974/0.3783\n",
            "[600/1094] DLoss: 1.2238 GLoss:  1.0274, D(x): 0.5730 D(G(z)): 0.4263/0.3796\n",
            "[700/1094] DLoss: 1.2401 GLoss:  1.0027, D(x): 0.5769 D(G(z)): 0.4325/0.3911\n",
            "[800/1094] DLoss: 1.3252 GLoss:  1.1065, D(x): 0.5670 D(G(z)): 0.4633/0.3647\n",
            "[900/1094] DLoss: 1.3264 GLoss:  0.8878, D(x): 0.5065 D(G(z)): 0.4224/0.4257\n",
            "[1000/1094] DLoss: 1.3483 GLoss:  0.9438, D(x): 0.5358 D(G(z)): 0.4622/0.4089\n",
            "----------- Epoch #8 ------------\n",
            "[100/1094] DLoss: 1.2066 GLoss:  1.0506, D(x): 0.5903 D(G(z)): 0.4384/0.3709\n",
            "[200/1094] DLoss: 1.2743 GLoss:  1.0206, D(x): 0.5615 D(G(z)): 0.4352/0.3878\n",
            "[300/1094] DLoss: 1.1440 GLoss:  1.0919, D(x): 0.5872 D(G(z)): 0.4039/0.3640\n",
            "[400/1094] DLoss: 1.3052 GLoss:  1.0661, D(x): 0.5685 D(G(z)): 0.4559/0.3765\n",
            "[500/1094] DLoss: 1.2642 GLoss:  1.0973, D(x): 0.5264 D(G(z)): 0.4136/0.3496\n",
            "[600/1094] DLoss: 1.3579 GLoss:  0.8911, D(x): 0.5476 D(G(z)): 0.4952/0.4263\n",
            "[700/1094] DLoss: 1.2170 GLoss:  1.0724, D(x): 0.5645 D(G(z)): 0.4210/0.3639\n",
            "[800/1094] DLoss: 1.2410 GLoss:  1.0696, D(x): 0.5193 D(G(z)): 0.3897/0.3683\n",
            "[900/1094] DLoss: 1.3016 GLoss:  1.1449, D(x): 0.5805 D(G(z)): 0.4518/0.3483\n",
            "[1000/1094] DLoss: 1.1905 GLoss:  1.0543, D(x): 0.6372 D(G(z)): 0.4603/0.3750\n",
            "----------- Epoch #9 ------------\n",
            "[100/1094] DLoss: 1.1722 GLoss:  1.0383, D(x): 0.5625 D(G(z)): 0.3863/0.3701\n",
            "[200/1094] DLoss: 1.2514 GLoss:  1.0062, D(x): 0.5527 D(G(z)): 0.4273/0.3899\n",
            "[300/1094] DLoss: 1.2959 GLoss:  1.0918, D(x): 0.5673 D(G(z)): 0.4271/0.3627\n",
            "[400/1094] DLoss: 1.1595 GLoss:  1.1091, D(x): 0.6102 D(G(z)): 0.4194/0.3587\n",
            "[500/1094] DLoss: 1.3603 GLoss:  0.9857, D(x): 0.5130 D(G(z)): 0.4311/0.3986\n",
            "[600/1094] DLoss: 1.0754 GLoss:  1.0927, D(x): 0.6402 D(G(z)): 0.4148/0.3530\n",
            "[700/1094] DLoss: 1.0952 GLoss:  1.2012, D(x): 0.6421 D(G(z)): 0.4172/0.3272\n",
            "[800/1094] DLoss: 1.0858 GLoss:  1.2137, D(x): 0.6303 D(G(z)): 0.4148/0.3147\n",
            "[900/1094] DLoss: 1.1478 GLoss:  1.1829, D(x): 0.6010 D(G(z)): 0.4026/0.3311\n",
            "[1000/1094] DLoss: 1.1400 GLoss:  1.1495, D(x): 0.5752 D(G(z)): 0.3731/0.3485\n",
            "----------- Epoch #10 ------------\n",
            "[100/1094] DLoss: 1.2470 GLoss:  1.1036, D(x): 0.5330 D(G(z)): 0.3667/0.3568\n",
            "[200/1094] DLoss: 1.1874 GLoss:  1.1272, D(x): 0.5537 D(G(z)): 0.3883/0.3438\n",
            "[300/1094] DLoss: 1.1550 GLoss:  1.1734, D(x): 0.6004 D(G(z)): 0.4210/0.3322\n",
            "[400/1094] DLoss: 1.2509 GLoss:  1.1058, D(x): 0.5707 D(G(z)): 0.3948/0.3585\n",
            "[500/1094] DLoss: 1.2376 GLoss:  1.2717, D(x): 0.5708 D(G(z)): 0.3887/0.3090\n",
            "[600/1094] DLoss: 1.1440 GLoss:  1.1867, D(x): 0.5633 D(G(z)): 0.3631/0.3313\n",
            "[700/1094] DLoss: 1.1229 GLoss:  1.1747, D(x): 0.5500 D(G(z)): 0.3312/0.3363\n",
            "[800/1094] DLoss: 1.1975 GLoss:  1.0880, D(x): 0.5548 D(G(z)): 0.3781/0.3676\n",
            "[900/1094] DLoss: 1.2569 GLoss:  1.2258, D(x): 0.5132 D(G(z)): 0.3736/0.3184\n",
            "[1000/1094] DLoss: 1.2151 GLoss:  1.1426, D(x): 0.5744 D(G(z)): 0.3843/0.3473\n"
          ]
        },
        {
          "output_type": "display_data",
          "data": {
            "text/plain": [
              "<IPython.core.display.HTML object>"
            ],
            "text/html": [
              "<style>\n",
              "    table.wandb td:nth-child(1) { padding: 0 10px; text-align: left ; width: auto;} td:nth-child(2) {text-align: left ; width: 100%}\n",
              "    .wandb-row { display: flex; flex-direction: row; flex-wrap: wrap; justify-content: flex-start; width: 100% }\n",
              "    .wandb-col { display: flex; flex-direction: column; flex-basis: 100%; flex: 1; padding: 10px; }\n",
              "    </style>\n",
              "<div class=\"wandb-row\"><div class=\"wandb-col\"><h3>Run history:</h3><br/><table class=\"wandb\"><tr><td>Discriminator Loss</td><td>█▂▂▂▂▁▅▂▅▆▆▅▅▆▅▆▅▅▅▆▆▆▅▆▅▆▅▆▅▇▅▆▆▆▆▅▅▅▅▆</td></tr><tr><td>Generator Loss</td><td>▁▁▁▁▁█▇▄▄▃▅▂▂▃▂▃▃▃▂▂▃▂▂▃▂▂▂▂▂▃▂▂▂▂▃▃▂▂▂▂</td></tr></table><br/></div><div class=\"wandb-col\"><h3>Run summary:</h3><br/><table class=\"wandb\"><tr><td>Discriminator Loss</td><td>1.18476</td></tr><tr><td>Generator Loss</td><td>1.14127</td></tr></table><br/></div></div>"
            ]
          },
          "metadata": {}
        },
        {
          "output_type": "display_data",
          "data": {
            "text/plain": [
              "<IPython.core.display.HTML object>"
            ],
            "text/html": [
              " View run <strong style=\"color:#cdcd00\">smooth-bee-26</strong> at: <a href='https://wandb.ai/mitkrieger-cornell-university/dcgan/runs/j8t65f17' target=\"_blank\">https://wandb.ai/mitkrieger-cornell-university/dcgan/runs/j8t65f17</a><br/> View project at: <a href='https://wandb.ai/mitkrieger-cornell-university/dcgan' target=\"_blank\">https://wandb.ai/mitkrieger-cornell-university/dcgan</a><br/>Synced 5 W&B file(s), 0 media file(s), 0 artifact file(s) and 0 other file(s)"
            ]
          },
          "metadata": {}
        },
        {
          "output_type": "display_data",
          "data": {
            "text/plain": [
              "<IPython.core.display.HTML object>"
            ],
            "text/html": [
              "Find logs at: <code>./wandb/run-20241018_030701-j8t65f17/logs</code>"
            ]
          },
          "metadata": {}
        }
      ]
    },
    {
      "cell_type": "code",
      "source": [
        "dc2.generate_images(4, F.one_hot(torch.tensor([2]*4, device=device), num_classes=10).float())"
      ],
      "metadata": {
        "colab": {
          "base_uri": "https://localhost:8080/",
          "height": 167
        },
        "id": "218R_sY9t1vM",
        "outputId": "12acb377-bae4-40a7-f52e-0c7ca9630dec"
      },
      "execution_count": 30,
      "outputs": [
        {
          "output_type": "display_data",
          "data": {
            "text/plain": [
              "<Figure size 640x480 with 1 Axes>"
            ],
            "image/png": "[encoded data removed]"
          },
          "metadata": {}
        }
      ]
    },
    {
      "cell_type": "code",
      "source": [
        "dc2.generate_images(4, F.one_hot(torch.tensor([9]*4, device=device), num_classes=10).float())"
      ],
      "metadata": {
        "colab": {
          "base_uri": "https://localhost:8080/",
          "height": 167
        },
        "id": "3h_1CUm2m3RA",
        "outputId": "dc57c8f5-ca7a-49e8-fd78-9b1abf26c7f2"
      },
      "execution_count": 33,
      "outputs": [
        {
          "output_type": "display_data",
          "data": {
            "text/plain": [
              "<Figure size 640x480 with 1 Axes>"
            ],
            "image/png": "[encoded data removed]"
          },
          "metadata": {}
        }
      ]
    },
    {
      "cell_type": "code",
      "source": [
        "torch.save(dc2.generator.state_dict(), '/content/drive/MyDrive/DL3/dc_generator_arch_b.pth')\n",
        "torch.save(dc2.discriminator.state_dict(), '/content/drive/MyDrive/DL3/dc_discriminator_arch_b.pth')"
      ],
      "metadata": {
        "id": "aEwFD5hYtfqd"
      },
      "execution_count": 35,
      "outputs": []
    },
    {
      "cell_type": "markdown",
      "source": [
        "### WGAN with Clipping\n"
      ],
      "metadata": {
        "id": "MU0k9mJBjGb7"
      }
    },
    {
      "cell_type": "code",
      "execution_count": 37,
      "metadata": {
        "id": "-a06N3AKvcr_"
      },
      "outputs": [],
      "source": [
        "def wasserstein_loss(real_preds, fake_preds):\n",
        "    return torch.mean(fake_preds) - torch.mean(real_preds)\n",
        "\n",
        "class WGAN:\n",
        "    def __init__(self, arch_type, z_dim, channels, num_classes, features, device, clip_value=0.01, lr=0.00005):\n",
        "        self.z_dim = z_dim\n",
        "        self.clip_value = clip_value\n",
        "        self.lr = lr\n",
        "        self.device = device\n",
        "        self.arch_type = arch_type\n",
        "        self.model_type = 'clip'\n",
        "\n",
        "        self.generator = Generator(self.model_type, self.arch_type, z_dim, num_classes, channels, features).to(device)\n",
        "        self.critic = Discriminator(self.model_type, self.arch_type, channels, num_classes, features).to(device)\n",
        "        self.loss = wasserstein_loss\n",
        "\n",
        "        self.optim_critic = optim.RMSprop(self.critic.parameters(), lr=lr)\n",
        "        self.optim_gen = optim.RMSprop(self.generator.parameters(), lr=lr)\n",
        "\n",
        "    def train_critic(self, real_images, real_labels, fake_labels, batch_size):\n",
        "        self.optim_critic.zero_grad()\n",
        "\n",
        "        real_preds = self.critic(real_images, real_labels)\n",
        "\n",
        "        noise = torch.randn(batch_size, self.z_dim, 1, 1, device=self.device)\n",
        "        fake_images = self.generator(noise, fake_labels)\n",
        "        fake_preds = self.critic(fake_images.detach(), fake_labels.detach())\n",
        "\n",
        "        loss = self.loss(real_preds, fake_preds)\n",
        "        loss.backward()\n",
        "        self.optim_critic.step()\n",
        "\n",
        "        for p in self.critic.parameters():\n",
        "            p.data.clamp_(-self.clip_value, self.clip_value)\n",
        "\n",
        "        return loss.item(), real_preds.mean().item(), fake_preds.mean().item()\n",
        "\n",
        "    def train_generator(self, fake_labels, batch_size):\n",
        "        self.optim_gen.zero_grad()\n",
        "\n",
        "        noise = torch.randn(batch_size, self.z_dim, 1, 1, device=self.device)\n",
        "        fake_images = self.generator(noise, fake_labels)\n",
        "        fake_preds = self.critic(fake_images, fake_labels)\n",
        "\n",
        "        loss = -torch.mean(fake_preds)\n",
        "        loss.backward()\n",
        "        self.optim_gen.step()\n",
        "\n",
        "        return loss.item(), fake_images.mean().item()\n",
        "\n",
        "    def train_one_epoch(self, dataloader, n_critic=5):\n",
        "        for i, (real_images, real_labels) in enumerate(dataloader):\n",
        "            batch_size = real_images.size(0)\n",
        "            real_images = real_images.to(self.device)\n",
        "\n",
        "            fake_labels = F.one_hot(torch.randint(0, 10, (batch_size,), device=self.device), num_classes=10).float()\n",
        "\n",
        "            d_loss, avg_real, avg_fake1 = self.train_critic(real_images, real_labels, fake_labels, batch_size)\n",
        "\n",
        "            if i % n_critic == 0:\n",
        "                g_loss, avg_fake2 = self.train_generator(fake_labels, batch_size)\n",
        "            else:\n",
        "                g_loss, avg_fake2 = float('nan'), float('nan')\n",
        "\n",
        "            if i % 100 == 0 and i != 0:\n",
        "                print(f\"Batch {i}/{len(dataloader)} \"\n",
        "                      f\"Closs: {d_loss:.4f}, Gloss: {g_loss:.4f}, C(x): {avg_real:.4f} C(G(z)): {avg_fake1:.4f}/{avg_fake2:.4f}\")\n",
        "\n",
        "            wandb.log({\n",
        "                \"Discriminator Loss\": d_loss,\n",
        "                \"Generator Loss\": g_loss\n",
        "            })\n",
        "\n",
        "    def train(self, dataloader, num_epochs, n_critic=5):\n",
        "        wandb.init(project='wgan', config ={\n",
        "            'epochs': num_epochs,\n",
        "            'lr':self.lr,\n",
        "            'n_critic': n_critic,\n",
        "            'clip_value': self.clip_value\n",
        "        })\n",
        "        print(f'----------- {self.__class__.__name__} Train Start! ------------')\n",
        "        for epoch in range(num_epochs):\n",
        "            print(f'----------- Epoch #{epoch + 1} ------------')\n",
        "            self.train_one_epoch(dataloader, n_critic)\n",
        "            print(f'--------------------------------------')\n",
        "        print(f'----------- {self.__class__.__name__} Train End! ------------')\n",
        "        wandb.finish()\n",
        "\n",
        "    def generate_images(self, num_images, labels):\n",
        "        self.generator.eval()\n",
        "        with torch.no_grad():  # Disable gradient calculation\n",
        "            noise = torch.randn(num_images, self.z_dim, 1, 1, device=self.device)\n",
        "            generated_images = self.generator(noise, labels)\n",
        "            # generated_images = (generated_images + 1) / 2\n",
        "            grid = torchvision.utils.make_grid(generated_images.cpu(), nrow=4, padding=2, normalize=True)\n",
        "            np_grid = grid.permute(1, 2, 0).numpy()\n",
        "            plt.imshow(np_grid)\n",
        "            plt.axis('off')"
      ]
    },
    {
      "cell_type": "code",
      "execution_count": 38,
      "metadata": {
        "colab": {
          "base_uri": "https://localhost:8080/",
          "height": 1000
        },
        "id": "fqVy9y2wB_nP",
        "outputId": "88ecd306-4e7f-4fe3-920a-846f8d6ca12e"
      },
      "outputs": [
        {
          "output_type": "display_data",
          "data": {
            "text/plain": [
              "<IPython.core.display.HTML object>"
            ],
            "text/html": [
              "Tracking run with wandb version 0.18.5"
            ]
          },
          "metadata": {}
        },
        {
          "output_type": "display_data",
          "data": {
            "text/plain": [
              "<IPython.core.display.HTML object>"
            ],
            "text/html": [
              "Run data is saved locally in <code>/content/wandb/run-20241018_031152-c6cf9kno</code>"
            ]
          },
          "metadata": {}
        },
        {
          "output_type": "display_data",
          "data": {
            "text/plain": [
              "<IPython.core.display.HTML object>"
            ],
            "text/html": [
              "Syncing run <strong><a href='https://wandb.ai/mitkrieger-cornell-university/wgan/runs/c6cf9kno' target=\"_blank\">floral-fire-12</a></strong> to <a href='https://wandb.ai/mitkrieger-cornell-university/wgan' target=\"_blank\">Weights & Biases</a> (<a href='https://wandb.me/run' target=\"_blank\">docs</a>)<br/>"
            ]
          },
          "metadata": {}
        },
        {
          "output_type": "display_data",
          "data": {
            "text/plain": [
              "<IPython.core.display.HTML object>"
            ],
            "text/html": [
              " View project at <a href='https://wandb.ai/mitkrieger-cornell-university/wgan' target=\"_blank\">https://wandb.ai/mitkrieger-cornell-university/wgan</a>"
            ]
          },
          "metadata": {}
        },
        {
          "output_type": "display_data",
          "data": {
            "text/plain": [
              "<IPython.core.display.HTML object>"
            ],
            "text/html": [
              " View run at <a href='https://wandb.ai/mitkrieger-cornell-university/wgan/runs/c6cf9kno' target=\"_blank\">https://wandb.ai/mitkrieger-cornell-university/wgan/runs/c6cf9kno</a>"
            ]
          },
          "metadata": {}
        },
        {
          "output_type": "stream",
          "name": "stdout",
          "text": [
            "----------- WGAN Train Start! ------------\n",
            "----------- Epoch #1 ------------\n",
            "Batch 100/1094 Closs: -0.0048, Gloss: 0.0116, C(x): -0.0055 C(G(z)): -0.0103/-0.2126\n",
            "Batch 200/1094 Closs: -0.0052, Gloss: 0.0113, C(x): -0.0071 C(G(z)): -0.0123/-0.3613\n",
            "Batch 300/1094 Closs: -0.0059, Gloss: 0.0117, C(x): -0.0068 C(G(z)): -0.0127/-0.3919\n",
            "Batch 400/1094 Closs: -0.0048, Gloss: 0.0120, C(x): -0.0055 C(G(z)): -0.0103/-0.3854\n",
            "Batch 500/1094 Closs: -0.0063, Gloss: 0.0142, C(x): -0.0041 C(G(z)): -0.0104/-0.3965\n",
            "Batch 600/1094 Closs: -0.0074, Gloss: 0.0124, C(x): -0.0053 C(G(z)): -0.0127/-0.4055\n",
            "Batch 700/1094 Closs: -0.0080, Gloss: 0.0141, C(x): -0.0039 C(G(z)): -0.0119/-0.4123\n",
            "Batch 800/1094 Closs: -0.0096, Gloss: 0.0150, C(x): -0.0037 C(G(z)): -0.0133/-0.4123\n",
            "Batch 900/1094 Closs: -0.0088, Gloss: 0.0155, C(x): -0.0042 C(G(z)): -0.0130/-0.3989\n",
            "Batch 1000/1094 Closs: -0.0100, Gloss: 0.0136, C(x): -0.0051 C(G(z)): -0.0151/-0.4029\n",
            "--------------------------------------\n",
            "----------- Epoch #2 ------------\n",
            "Batch 100/1094 Closs: -0.0115, Gloss: 0.0147, C(x): -0.0039 C(G(z)): -0.0154/-0.4129\n",
            "Batch 200/1094 Closs: -0.0111, Gloss: 0.0155, C(x): -0.0041 C(G(z)): -0.0153/-0.4314\n",
            "Batch 300/1094 Closs: -0.0116, Gloss: 0.0159, C(x): -0.0034 C(G(z)): -0.0150/-0.4134\n",
            "Batch 400/1094 Closs: -0.0098, Gloss: 0.0130, C(x): -0.0062 C(G(z)): -0.0159/-0.4258\n",
            "Batch 500/1094 Closs: -0.0107, Gloss: 0.0158, C(x): -0.0039 C(G(z)): -0.0146/-0.4236\n",
            "Batch 600/1094 Closs: -0.0124, Gloss: 0.0149, C(x): -0.0036 C(G(z)): -0.0160/-0.4277\n",
            "Batch 700/1094 Closs: -0.0124, Gloss: 0.0147, C(x): -0.0040 C(G(z)): -0.0163/-0.4281\n",
            "Batch 800/1094 Closs: -0.0122, Gloss: 0.0157, C(x): -0.0034 C(G(z)): -0.0155/-0.4175\n",
            "Batch 900/1094 Closs: -0.0126, Gloss: 0.0151, C(x): -0.0035 C(G(z)): -0.0161/-0.4175\n",
            "Batch 1000/1094 Closs: -0.0096, Gloss: 0.0148, C(x): -0.0069 C(G(z)): -0.0165/-0.4211\n",
            "--------------------------------------\n",
            "----------- Epoch #3 ------------\n",
            "Batch 100/1094 Closs: -0.0125, Gloss: 0.0159, C(x): -0.0038 C(G(z)): -0.0163/-0.4040\n",
            "Batch 200/1094 Closs: -0.0117, Gloss: 0.0157, C(x): -0.0031 C(G(z)): -0.0147/-0.4263\n",
            "Batch 300/1094 Closs: -0.0125, Gloss: 0.0163, C(x): -0.0024 C(G(z)): -0.0149/-0.4221\n",
            "Batch 400/1094 Closs: -0.0125, Gloss: 0.0159, C(x): -0.0037 C(G(z)): -0.0162/-0.4148\n",
            "Batch 500/1094 Closs: -0.0121, Gloss: 0.0153, C(x): -0.0040 C(G(z)): -0.0161/-0.4153\n",
            "Batch 600/1094 Closs: -0.0125, Gloss: 0.0165, C(x): -0.0026 C(G(z)): -0.0151/-0.4011\n",
            "Batch 700/1094 Closs: -0.0125, Gloss: 0.0163, C(x): -0.0026 C(G(z)): -0.0151/-0.4179\n",
            "Batch 800/1094 Closs: -0.0126, Gloss: 0.0157, C(x): -0.0040 C(G(z)): -0.0166/-0.4175\n",
            "Batch 900/1094 Closs: -0.0128, Gloss: 0.0164, C(x): -0.0024 C(G(z)): -0.0151/-0.4166\n",
            "Batch 1000/1094 Closs: -0.0116, Gloss: 0.0164, C(x): -0.0025 C(G(z)): -0.0141/-0.4335\n",
            "--------------------------------------\n",
            "----------- Epoch #4 ------------\n",
            "Batch 100/1094 Closs: -0.0123, Gloss: 0.0156, C(x): -0.0036 C(G(z)): -0.0159/-0.4389\n",
            "Batch 200/1094 Closs: -0.0124, Gloss: 0.0151, C(x): -0.0033 C(G(z)): -0.0157/-0.4205\n",
            "Batch 300/1094 Closs: -0.0120, Gloss: 0.0164, C(x): -0.0025 C(G(z)): -0.0145/-0.4221\n",
            "Batch 400/1094 Closs: -0.0104, Gloss: 0.0163, C(x): -0.0022 C(G(z)): -0.0127/-0.4329\n",
            "Batch 500/1094 Closs: -0.0119, Gloss: 0.0166, C(x): -0.0029 C(G(z)): -0.0148/-0.4242\n",
            "Batch 600/1094 Closs: -0.0117, Gloss: 0.0140, C(x): -0.0044 C(G(z)): -0.0160/-0.4274\n",
            "Batch 700/1094 Closs: -0.0116, Gloss: 0.0159, C(x): -0.0026 C(G(z)): -0.0142/-0.4294\n",
            "Batch 800/1094 Closs: -0.0112, Gloss: 0.0144, C(x): -0.0048 C(G(z)): -0.0160/-0.4218\n",
            "Batch 900/1094 Closs: -0.0106, Gloss: 0.0162, C(x): -0.0024 C(G(z)): -0.0131/-0.4190\n",
            "Batch 1000/1094 Closs: -0.0116, Gloss: 0.0158, C(x): -0.0029 C(G(z)): -0.0145/-0.4183\n",
            "--------------------------------------\n",
            "----------- Epoch #5 ------------\n",
            "Batch 100/1094 Closs: -0.0117, Gloss: 0.0158, C(x): -0.0039 C(G(z)): -0.0156/-0.4029\n",
            "Batch 200/1094 Closs: -0.0118, Gloss: 0.0159, C(x): -0.0029 C(G(z)): -0.0147/-0.4341\n",
            "Batch 300/1094 Closs: -0.0104, Gloss: 0.0146, C(x): -0.0052 C(G(z)): -0.0157/-0.4425\n",
            "Batch 400/1094 Closs: -0.0112, Gloss: 0.0158, C(x): -0.0031 C(G(z)): -0.0144/-0.4318\n",
            "Batch 500/1094 Closs: -0.0110, Gloss: 0.0165, C(x): -0.0039 C(G(z)): -0.0150/-0.4093\n",
            "Batch 600/1094 Closs: -0.0123, Gloss: 0.0145, C(x): -0.0038 C(G(z)): -0.0161/-0.4346\n",
            "Batch 700/1094 Closs: -0.0114, Gloss: 0.0159, C(x): -0.0027 C(G(z)): -0.0142/-0.4138\n",
            "Batch 800/1094 Closs: -0.0100, Gloss: 0.0139, C(x): -0.0059 C(G(z)): -0.0159/-0.4234\n",
            "Batch 900/1094 Closs: -0.0122, Gloss: 0.0158, C(x): -0.0029 C(G(z)): -0.0150/-0.4404\n",
            "Batch 1000/1094 Closs: -0.0123, Gloss: 0.0142, C(x): -0.0038 C(G(z)): -0.0160/-0.4333\n",
            "--------------------------------------\n",
            "----------- Epoch #6 ------------\n",
            "Batch 100/1094 Closs: -0.0093, Gloss: 0.0118, C(x): -0.0068 C(G(z)): -0.0161/-0.4341\n",
            "Batch 200/1094 Closs: -0.0118, Gloss: 0.0152, C(x): -0.0033 C(G(z)): -0.0151/-0.4312\n",
            "Batch 300/1094 Closs: -0.0116, Gloss: 0.0131, C(x): -0.0043 C(G(z)): -0.0159/-0.4231\n",
            "Batch 400/1094 Closs: -0.0114, Gloss: 0.0155, C(x): -0.0039 C(G(z)): -0.0153/-0.4157\n",
            "Batch 500/1094 Closs: -0.0118, Gloss: 0.0162, C(x): -0.0032 C(G(z)): -0.0149/-0.4121\n",
            "Batch 600/1094 Closs: -0.0112, Gloss: 0.0149, C(x): -0.0036 C(G(z)): -0.0148/-0.4132\n",
            "Batch 700/1094 Closs: -0.0105, Gloss: 0.0137, C(x): -0.0049 C(G(z)): -0.0154/-0.4265\n",
            "Batch 800/1094 Closs: -0.0112, Gloss: 0.0151, C(x): -0.0035 C(G(z)): -0.0147/-0.4263\n",
            "Batch 900/1094 Closs: -0.0104, Gloss: 0.0155, C(x): -0.0041 C(G(z)): -0.0144/-0.4102\n",
            "Batch 1000/1094 Closs: -0.0106, Gloss: 0.0132, C(x): -0.0058 C(G(z)): -0.0163/-0.4049\n",
            "--------------------------------------\n",
            "----------- Epoch #7 ------------\n",
            "Batch 100/1094 Closs: -0.0111, Gloss: 0.0145, C(x): -0.0049 C(G(z)): -0.0160/-0.4243\n",
            "Batch 200/1094 Closs: -0.0114, Gloss: 0.0158, C(x): -0.0043 C(G(z)): -0.0157/-0.4178\n",
            "Batch 300/1094 Closs: -0.0114, Gloss: 0.0148, C(x): -0.0042 C(G(z)): -0.0156/-0.4387\n",
            "Batch 400/1094 Closs: -0.0108, Gloss: 0.0160, C(x): -0.0035 C(G(z)): -0.0143/-0.4199\n",
            "Batch 500/1094 Closs: -0.0106, Gloss: 0.0147, C(x): -0.0050 C(G(z)): -0.0156/-0.4187\n",
            "Batch 600/1094 Closs: -0.0111, Gloss: 0.0160, C(x): -0.0037 C(G(z)): -0.0149/-0.4447\n",
            "Batch 700/1094 Closs: -0.0103, Gloss: 0.0160, C(x): -0.0029 C(G(z)): -0.0133/-0.4274\n",
            "Batch 800/1094 Closs: -0.0088, Gloss: 0.0120, C(x): -0.0069 C(G(z)): -0.0157/-0.4243\n",
            "Batch 900/1094 Closs: -0.0104, Gloss: 0.0152, C(x): -0.0042 C(G(z)): -0.0147/-0.4194\n",
            "Batch 1000/1094 Closs: -0.0113, Gloss: 0.0152, C(x): -0.0046 C(G(z)): -0.0159/-0.4117\n",
            "--------------------------------------\n",
            "----------- Epoch #8 ------------\n",
            "Batch 100/1094 Closs: -0.0099, Gloss: 0.0132, C(x): -0.0063 C(G(z)): -0.0162/-0.4188\n",
            "Batch 200/1094 Closs: -0.0108, Gloss: 0.0131, C(x): -0.0051 C(G(z)): -0.0159/-0.4251\n",
            "Batch 300/1094 Closs: -0.0109, Gloss: 0.0144, C(x): -0.0046 C(G(z)): -0.0155/-0.4214\n",
            "Batch 400/1094 Closs: -0.0112, Gloss: 0.0131, C(x): -0.0046 C(G(z)): -0.0158/-0.4239\n",
            "Batch 500/1094 Closs: -0.0093, Gloss: 0.0159, C(x): -0.0035 C(G(z)): -0.0128/-0.4258\n",
            "Batch 600/1094 Closs: -0.0080, Gloss: 0.0158, C(x): -0.0032 C(G(z)): -0.0112/-0.4155\n",
            "Batch 700/1094 Closs: -0.0105, Gloss: 0.0145, C(x): -0.0040 C(G(z)): -0.0145/-0.4100\n",
            "Batch 800/1094 Closs: -0.0099, Gloss: 0.0133, C(x): -0.0060 C(G(z)): -0.0159/-0.4229\n",
            "Batch 900/1094 Closs: -0.0105, Gloss: 0.0137, C(x): -0.0048 C(G(z)): -0.0152/-0.4269\n",
            "Batch 1000/1094 Closs: -0.0085, Gloss: 0.0159, C(x): -0.0031 C(G(z)): -0.0117/-0.4340\n",
            "--------------------------------------\n",
            "----------- Epoch #9 ------------\n",
            "Batch 100/1094 Closs: -0.0103, Gloss: 0.0158, C(x): -0.0031 C(G(z)): -0.0133/-0.4370\n",
            "Batch 200/1094 Closs: -0.0109, Gloss: 0.0133, C(x): -0.0049 C(G(z)): -0.0157/-0.4185\n",
            "Batch 300/1094 Closs: -0.0115, Gloss: 0.0149, C(x): -0.0035 C(G(z)): -0.0150/-0.4312\n",
            "Batch 400/1094 Closs: -0.0115, Gloss: 0.0151, C(x): -0.0038 C(G(z)): -0.0153/-0.4292\n",
            "Batch 500/1094 Closs: -0.0097, Gloss: 0.0136, C(x): -0.0052 C(G(z)): -0.0149/-0.4209\n",
            "Batch 600/1094 Closs: -0.0111, Gloss: 0.0146, C(x): -0.0039 C(G(z)): -0.0150/-0.4060\n",
            "Batch 700/1094 Closs: -0.0095, Gloss: 0.0133, C(x): -0.0053 C(G(z)): -0.0149/-0.4064\n",
            "Batch 800/1094 Closs: -0.0096, Gloss: 0.0144, C(x): -0.0057 C(G(z)): -0.0153/-0.4032\n",
            "Batch 900/1094 Closs: -0.0110, Gloss: 0.0146, C(x): -0.0036 C(G(z)): -0.0146/-0.4278\n",
            "Batch 1000/1094 Closs: -0.0096, Gloss: 0.0158, C(x): -0.0034 C(G(z)): -0.0129/-0.4247\n",
            "--------------------------------------\n",
            "----------- Epoch #10 ------------\n",
            "Batch 100/1094 Closs: -0.0114, Gloss: 0.0142, C(x): -0.0043 C(G(z)): -0.0157/-0.4065\n",
            "Batch 200/1094 Closs: -0.0102, Gloss: 0.0150, C(x): -0.0037 C(G(z)): -0.0139/-0.4280\n",
            "Batch 300/1094 Closs: -0.0114, Gloss: 0.0148, C(x): -0.0032 C(G(z)): -0.0146/-0.4203\n",
            "Batch 400/1094 Closs: -0.0108, Gloss: 0.0150, C(x): -0.0039 C(G(z)): -0.0147/-0.4196\n",
            "Batch 500/1094 Closs: -0.0105, Gloss: 0.0147, C(x): -0.0039 C(G(z)): -0.0144/-0.4335\n",
            "Batch 600/1094 Closs: -0.0101, Gloss: 0.0150, C(x): -0.0037 C(G(z)): -0.0138/-0.4387\n",
            "Batch 700/1094 Closs: -0.0099, Gloss: 0.0135, C(x): -0.0045 C(G(z)): -0.0144/-0.4316\n",
            "Batch 800/1094 Closs: -0.0102, Gloss: 0.0156, C(x): -0.0035 C(G(z)): -0.0137/-0.4148\n",
            "Batch 900/1094 Closs: -0.0105, Gloss: 0.0130, C(x): -0.0051 C(G(z)): -0.0156/-0.4163\n",
            "Batch 1000/1094 Closs: -0.0091, Gloss: 0.0127, C(x): -0.0061 C(G(z)): -0.0152/-0.4326\n",
            "--------------------------------------\n",
            "----------- WGAN Train End! ------------\n"
          ]
        },
        {
          "output_type": "display_data",
          "data": {
            "text/plain": [
              "<IPython.core.display.HTML object>"
            ],
            "text/html": [
              "<style>\n",
              "    table.wandb td:nth-child(1) { padding: 0 10px; text-align: left ; width: auto;} td:nth-child(2) {text-align: left ; width: 100%}\n",
              "    .wandb-row { display: flex; flex-direction: row; flex-wrap: wrap; justify-content: flex-start; width: 100% }\n",
              "    .wandb-col { display: flex; flex-direction: column; flex-basis: 100%; flex: 1; padding: 10px; }\n",
              "    </style>\n",
              "<div class=\"wandb-row\"><div class=\"wandb-col\"><h3>Run history:</h3><br/><table class=\"wandb\"><tr><td>Discriminator Loss</td><td>█▇▇▆▅▄▂▃▂▂▁▂▃▁▁▂▂▂▄▃▃▃▂▂▅▃▃▄▄▄▄▃▄▄▄▄▃▃▅▅</td></tr><tr><td>Generator Loss</td><td> ▁       █    ▆   ▆▂           ▃    ▄   </td></tr></table><br/></div><div class=\"wandb-col\"><h3>Run summary:</h3><br/><table class=\"wandb\"><tr><td>Discriminator Loss</td><td>-0.01014</td></tr><tr><td>Generator Loss</td><td>nan</td></tr></table><br/></div></div>"
            ]
          },
          "metadata": {}
        },
        {
          "output_type": "display_data",
          "data": {
            "text/plain": [
              "<IPython.core.display.HTML object>"
            ],
            "text/html": [
              " View run <strong style=\"color:#cdcd00\">floral-fire-12</strong> at: <a href='https://wandb.ai/mitkrieger-cornell-university/wgan/runs/c6cf9kno' target=\"_blank\">https://wandb.ai/mitkrieger-cornell-university/wgan/runs/c6cf9kno</a><br/> View project at: <a href='https://wandb.ai/mitkrieger-cornell-university/wgan' target=\"_blank\">https://wandb.ai/mitkrieger-cornell-university/wgan</a><br/>Synced 5 W&B file(s), 0 media file(s), 0 artifact file(s) and 0 other file(s)"
            ]
          },
          "metadata": {}
        },
        {
          "output_type": "display_data",
          "data": {
            "text/plain": [
              "<IPython.core.display.HTML object>"
            ],
            "text/html": [
              "Find logs at: <code>./wandb/run-20241018_031152-c6cf9kno/logs</code>"
            ]
          },
          "metadata": {}
        }
      ],
      "source": [
        "wgan = WGAN('a', 100, 1, 10, 64, device, lr=0.0001)\n",
        "wgan.train(traindataloader, 10, 5)"
      ]
    },
    {
      "cell_type": "code",
      "source": [
        "wgan.generate_images(4, F.one_hot(torch.tensor([2]*4, device=wgan.device), num_classes=10).float())"
      ],
      "metadata": {
        "colab": {
          "base_uri": "https://localhost:8080/",
          "height": 167
        },
        "id": "2u0TRqsKyUuo",
        "outputId": "fa764e51-3831-4c28-96a7-97c5477706d2"
      },
      "execution_count": 63,
      "outputs": [
        {
          "output_type": "display_data",
          "data": {
            "text/plain": [
              "<Figure size 640x480 with 1 Axes>"
            ],
            "image/png": "[encoded data removed]"
          },
          "metadata": {}
        }
      ]
    },
    {
      "cell_type": "code",
      "source": [
        "wgan.generate_images(4, F.one_hot(torch.tensor([9]*4, device=wgan.device), num_classes=10).float())"
      ],
      "metadata": {
        "colab": {
          "base_uri": "https://localhost:8080/",
          "height": 167
        },
        "id": "tVBBi4rbnsco",
        "outputId": "09c5c190-6530-42fb-a568-437bebd985a2"
      },
      "execution_count": 43,
      "outputs": [
        {
          "output_type": "display_data",
          "data": {
            "text/plain": [
              "<Figure size 640x480 with 1 Axes>"
            ],
            "image/png": "[encoded data removed]"
          },
          "metadata": {}
        }
      ]
    },
    {
      "cell_type": "code",
      "source": [
        "torch.save(wgan.generator.cpu().state_dict(), '/content/drive/MyDrive/DL3/wgan_generator_arch_a.pth')\n",
        "torch.save(wgan.critic.cpu().state_dict(), '/content/drive/MyDrive/DL3/wgan_discriminator_arch_a.pth')"
      ],
      "metadata": {
        "id": "KtABkiISxn8I"
      },
      "execution_count": 40,
      "outputs": []
    },
    {
      "cell_type": "code",
      "source": [
        "wgan2 = WGAN('b', 100, 1, 10, 64, device, lr=0.0001)\n",
        "wgan2.train(traindataloader, 10, 5)"
      ],
      "metadata": {
        "colab": {
          "base_uri": "https://localhost:8080/",
          "height": 1000
        },
        "id": "oEYSpE6Qw4Qv",
        "outputId": "f6101949-ed61-4e4a-8336-dcfef03a4a51"
      },
      "execution_count": 44,
      "outputs": [
        {
          "output_type": "display_data",
          "data": {
            "text/plain": [
              "<IPython.core.display.HTML object>"
            ],
            "text/html": [
              "Tracking run with wandb version 0.18.5"
            ]
          },
          "metadata": {}
        },
        {
          "output_type": "display_data",
          "data": {
            "text/plain": [
              "<IPython.core.display.HTML object>"
            ],
            "text/html": [
              "Run data is saved locally in <code>/content/wandb/run-20241018_031540-qh1dqz5x</code>"
            ]
          },
          "metadata": {}
        },
        {
          "output_type": "display_data",
          "data": {
            "text/plain": [
              "<IPython.core.display.HTML object>"
            ],
            "text/html": [
              "Syncing run <strong><a href='https://wandb.ai/mitkrieger-cornell-university/wgan/runs/qh1dqz5x' target=\"_blank\">cerulean-sponge-13</a></strong> to <a href='https://wandb.ai/mitkrieger-cornell-university/wgan' target=\"_blank\">Weights & Biases</a> (<a href='https://wandb.me/run' target=\"_blank\">docs</a>)<br/>"
            ]
          },
          "metadata": {}
        },
        {
          "output_type": "display_data",
          "data": {
            "text/plain": [
              "<IPython.core.display.HTML object>"
            ],
            "text/html": [
              " View project at <a href='https://wandb.ai/mitkrieger-cornell-university/wgan' target=\"_blank\">https://wandb.ai/mitkrieger-cornell-university/wgan</a>"
            ]
          },
          "metadata": {}
        },
        {
          "output_type": "display_data",
          "data": {
            "text/plain": [
              "<IPython.core.display.HTML object>"
            ],
            "text/html": [
              " View run at <a href='https://wandb.ai/mitkrieger-cornell-university/wgan/runs/qh1dqz5x' target=\"_blank\">https://wandb.ai/mitkrieger-cornell-university/wgan/runs/qh1dqz5x</a>"
            ]
          },
          "metadata": {}
        },
        {
          "output_type": "stream",
          "name": "stdout",
          "text": [
            "----------- WGAN Train Start! ------------\n",
            "----------- Epoch #1 ------------\n",
            "Batch 100/1094 Closs: -4.7983, Gloss: 64.8431, C(x): -53.8202 C(G(z)): -58.6185/-0.3791\n",
            "Batch 200/1094 Closs: -49.3184, Gloss: 81.0215, C(x): -26.4000 C(G(z)): -75.7184/-0.3088\n",
            "Batch 300/1094 Closs: -53.5961, Gloss: 136.9292, C(x): -94.7947 C(G(z)): -148.3908/-0.4444\n",
            "Batch 400/1094 Closs: -82.8454, Gloss: 163.6208, C(x): -80.3765 C(G(z)): -163.2219/-0.3627\n",
            "Batch 500/1094 Closs: -70.4396, Gloss: 200.6652, C(x): -118.1775 C(G(z)): -188.6171/-0.2685\n",
            "Batch 600/1094 Closs: -65.3400, Gloss: 173.9105, C(x): -110.0514 C(G(z)): -175.3914/-0.3694\n",
            "Batch 700/1094 Closs: -38.5934, Gloss: 110.7974, C(x): -81.9180 C(G(z)): -120.5114/-0.3284\n",
            "Batch 800/1094 Closs: -86.6619, Gloss: 198.5407, C(x): -129.1476 C(G(z)): -215.8095/-0.2785\n",
            "Batch 900/1094 Closs: -36.8272, Gloss: 186.7685, C(x): -106.3171 C(G(z)): -143.1443/-0.2193\n",
            "Batch 1000/1094 Closs: -10.6993, Gloss: 118.2885, C(x): -102.2939 C(G(z)): -112.9932/-0.3260\n",
            "--------------------------------------\n",
            "----------- Epoch #2 ------------\n",
            "Batch 100/1094 Closs: 4.8567, Gloss: 166.5611, C(x): -130.5201 C(G(z)): -125.6634/-0.2421\n",
            "Batch 200/1094 Closs: -31.9658, Gloss: 125.5776, C(x): -82.2921 C(G(z)): -114.2579/-0.3628\n",
            "Batch 300/1094 Closs: -18.1787, Gloss: 109.9932, C(x): -81.0422 C(G(z)): -99.2209/-0.4306\n",
            "Batch 400/1094 Closs: -30.8492, Gloss: 165.8488, C(x): -141.2060 C(G(z)): -172.0553/-0.5178\n",
            "Batch 500/1094 Closs: -18.9476, Gloss: 76.2489, C(x): -38.3759 C(G(z)): -57.3236/-0.5017\n",
            "Batch 600/1094 Closs: -1.1519, Gloss: 127.9448, C(x): -124.5089 C(G(z)): -125.6608/-0.3964\n",
            "Batch 700/1094 Closs: 38.6272, Gloss: -192.1622, C(x): 208.4048 C(G(z)): 247.0320/-0.2519\n",
            "Batch 800/1094 Closs: 7.1869, Gloss: -102.8894, C(x): 83.6149 C(G(z)): 90.8017/-0.2768\n",
            "Batch 900/1094 Closs: -43.8940, Gloss: 13.9573, C(x): 69.8023 C(G(z)): 25.9084/-0.3726\n",
            "Batch 1000/1094 Closs: -40.7230, Gloss: -136.3260, C(x): 171.9427 C(G(z)): 131.2197/-0.4659\n",
            "--------------------------------------\n",
            "----------- Epoch #3 ------------\n",
            "Batch 100/1094 Closs: -16.6194, Gloss: -74.8557, C(x): 82.6626 C(G(z)): 66.0432/-0.4714\n",
            "Batch 200/1094 Closs: -28.2760, Gloss: -10.0232, C(x): 41.5443 C(G(z)): 13.2682/-0.2827\n",
            "Batch 300/1094 Closs: -2.1631, Gloss: -86.1091, C(x): 90.2233 C(G(z)): 88.0602/-0.5585\n",
            "Batch 400/1094 Closs: -36.1924, Gloss: -48.2872, C(x): 103.8005 C(G(z)): 67.6081/-0.2888\n",
            "Batch 500/1094 Closs: -35.6342, Gloss: -32.9022, C(x): 74.0861 C(G(z)): 38.4520/-0.1932\n",
            "Batch 600/1094 Closs: -53.7491, Gloss: -55.2682, C(x): 141.2633 C(G(z)): 87.5142/-0.4432\n",
            "Batch 700/1094 Closs: -38.7283, Gloss: -38.6104, C(x): 90.6574 C(G(z)): 51.9291/-0.2774\n",
            "Batch 800/1094 Closs: -21.1193, Gloss: -72.3706, C(x): 90.4555 C(G(z)): 69.3362/-0.3734\n",
            "Batch 900/1094 Closs: -12.6782, Gloss: -118.3712, C(x): 119.6894 C(G(z)): 107.0112/-0.3728\n",
            "Batch 1000/1094 Closs: -6.6349, Gloss: -118.0656, C(x): 107.6782 C(G(z)): 101.0434/-0.5368\n",
            "--------------------------------------\n",
            "----------- Epoch #4 ------------\n",
            "Batch 100/1094 Closs: -19.4155, Gloss: -129.7691, C(x): 148.5095 C(G(z)): 129.0941/-0.2827\n",
            "Batch 200/1094 Closs: -10.6465, Gloss: -112.2450, C(x): 121.1395 C(G(z)): 110.4930/-0.3188\n",
            "Batch 300/1094 Closs: -18.5839, Gloss: -123.6845, C(x): 137.2023 C(G(z)): 118.6184/-0.3713\n",
            "Batch 400/1094 Closs: -26.6561, Gloss: -106.6003, C(x): 130.5156 C(G(z)): 103.8596/-0.4857\n",
            "Batch 500/1094 Closs: -13.8610, Gloss: -123.1697, C(x): 147.1216 C(G(z)): 133.2606/-0.4025\n",
            "Batch 600/1094 Closs: -23.7480, Gloss: -65.3862, C(x): 94.4538 C(G(z)): 70.7058/-0.3174\n",
            "Batch 700/1094 Closs: -12.5774, Gloss: -100.9257, C(x): 109.5183 C(G(z)): 96.9409/-0.3661\n",
            "Batch 800/1094 Closs: -25.8151, Gloss: -87.1010, C(x): 109.2589 C(G(z)): 83.4438/-0.4359\n",
            "Batch 900/1094 Closs: -35.2927, Gloss: -85.2462, C(x): 122.1590 C(G(z)): 86.8663/-0.5049\n",
            "Batch 1000/1094 Closs: -2.8573, Gloss: -91.7534, C(x): 90.5798 C(G(z)): 87.7225/-0.2874\n",
            "--------------------------------------\n",
            "----------- Epoch #5 ------------\n",
            "Batch 100/1094 Closs: -16.1431, Gloss: -94.2763, C(x): 113.8010 C(G(z)): 97.6580/-0.3328\n",
            "Batch 200/1094 Closs: -23.3049, Gloss: -77.8107, C(x): 114.8342 C(G(z)): 91.5293/-0.3463\n",
            "Batch 300/1094 Closs: -6.6291, Gloss: -88.4658, C(x): 98.1000 C(G(z)): 91.4710/-0.4676\n",
            "Batch 400/1094 Closs: 4.7839, Gloss: -99.6115, C(x): 85.4051 C(G(z)): 90.1890/-0.4460\n",
            "Batch 500/1094 Closs: -9.1245, Gloss: -84.1941, C(x): 100.9086 C(G(z)): 91.7841/-0.2342\n",
            "Batch 600/1094 Closs: -2.0412, Gloss: -112.5051, C(x): 103.7604 C(G(z)): 101.7192/-0.5340\n",
            "Batch 700/1094 Closs: -16.9256, Gloss: -84.5640, C(x): 101.4434 C(G(z)): 84.5178/-0.5066\n",
            "Batch 800/1094 Closs: 6.7785, Gloss: -65.2211, C(x): 50.3395 C(G(z)): 57.1180/-0.4442\n",
            "Batch 900/1094 Closs: -6.4308, Gloss: -72.3470, C(x): 82.6894 C(G(z)): 76.2586/-0.2369\n",
            "Batch 1000/1094 Closs: -8.9695, Gloss: -56.2818, C(x): 69.5813 C(G(z)): 60.6118/-0.6151\n",
            "--------------------------------------\n",
            "----------- Epoch #6 ------------\n",
            "Batch 100/1094 Closs: -5.3583, Gloss: -46.9910, C(x): 61.8790 C(G(z)): 56.5208/-0.5553\n",
            "Batch 200/1094 Closs: -7.2337, Gloss: -36.5752, C(x): 41.9975 C(G(z)): 34.7638/-0.4552\n",
            "Batch 300/1094 Closs: -19.2459, Gloss: -17.9339, C(x): 36.3021 C(G(z)): 17.0562/-0.1125\n",
            "Batch 400/1094 Closs: -7.3895, Gloss: -20.6414, C(x): 27.8610 C(G(z)): 20.4716/-0.4281\n",
            "Batch 500/1094 Closs: -5.7951, Gloss: -33.8168, C(x): 22.8127 C(G(z)): 17.0176/-0.5590\n",
            "Batch 600/1094 Closs: -4.3961, Gloss: -45.6958, C(x): 52.0570 C(G(z)): 47.6608/-0.4351\n",
            "Batch 700/1094 Closs: -8.9553, Gloss: -37.2840, C(x): 49.1583 C(G(z)): 40.2030/-0.4196\n",
            "Batch 800/1094 Closs: -6.9272, Gloss: -29.4368, C(x): 31.1202 C(G(z)): 24.1931/-0.3228\n",
            "Batch 900/1094 Closs: -10.0987, Gloss: -42.1066, C(x): 48.9338 C(G(z)): 38.8351/-0.4712\n",
            "Batch 1000/1094 Closs: -2.9621, Gloss: -25.9940, C(x): 19.7747 C(G(z)): 16.8126/-0.4092\n",
            "--------------------------------------\n",
            "----------- Epoch #7 ------------\n",
            "Batch 100/1094 Closs: -0.5457, Gloss: -46.6669, C(x): 57.4735 C(G(z)): 56.9278/-0.4462\n",
            "Batch 200/1094 Closs: -8.5918, Gloss: -52.8415, C(x): 60.8963 C(G(z)): 52.3045/-0.5758\n",
            "Batch 300/1094 Closs: -8.7895, Gloss: -36.1406, C(x): 45.4056 C(G(z)): 36.6161/-0.3834\n",
            "Batch 400/1094 Closs: -4.5977, Gloss: -46.9131, C(x): 52.0148 C(G(z)): 47.4171/-0.3273\n",
            "Batch 500/1094 Closs: -1.1509, Gloss: -58.9706, C(x): 61.9795 C(G(z)): 60.8286/-0.4506\n",
            "Batch 600/1094 Closs: -5.4816, Gloss: -33.4950, C(x): 40.4590 C(G(z)): 34.9774/-0.4342\n",
            "Batch 700/1094 Closs: -10.5402, Gloss: -14.0324, C(x): 35.0946 C(G(z)): 24.5544/-0.2292\n",
            "Batch 800/1094 Closs: -1.2524, Gloss: -23.5028, C(x): 22.9745 C(G(z)): 21.7221/-0.4171\n",
            "Batch 900/1094 Closs: -0.4015, Gloss: -42.9832, C(x): 47.3772 C(G(z)): 46.9757/-0.4853\n",
            "Batch 1000/1094 Closs: -7.5042, Gloss: -11.7795, C(x): 37.2759 C(G(z)): 29.7717/-0.3351\n",
            "--------------------------------------\n",
            "----------- Epoch #8 ------------\n",
            "Batch 100/1094 Closs: -3.4660, Gloss: -30.2417, C(x): 34.1018 C(G(z)): 30.6358/-0.3061\n",
            "Batch 200/1094 Closs: -11.2574, Gloss: -34.8350, C(x): 46.6429 C(G(z)): 35.3855/-0.6279\n",
            "Batch 300/1094 Closs: -10.1743, Gloss: -34.5848, C(x): 38.5928 C(G(z)): 28.4184/-0.5838\n",
            "Batch 400/1094 Closs: -2.8136, Gloss: -44.2679, C(x): 48.6805 C(G(z)): 45.8668/-0.2423\n",
            "Batch 500/1094 Closs: -2.5388, Gloss: -42.8287, C(x): 46.9795 C(G(z)): 44.4407/-0.4745\n",
            "Batch 600/1094 Closs: -7.6909, Gloss: -8.5649, C(x): 15.7905 C(G(z)): 8.0996/-0.3447\n",
            "Batch 700/1094 Closs: -0.0956, Gloss: -14.8153, C(x): 16.5835 C(G(z)): 16.4879/-0.5801\n",
            "Batch 800/1094 Closs: -3.6676, Gloss: -19.2487, C(x): 28.9395 C(G(z)): 25.2719/-0.4464\n",
            "Batch 900/1094 Closs: -4.5155, Gloss: 47.3159, C(x): -35.7696 C(G(z)): -40.2851/-0.4163\n",
            "Batch 1000/1094 Closs: 4.7793, Gloss: 6.3157, C(x): -16.3963 C(G(z)): -11.6170/-0.4660\n",
            "--------------------------------------\n",
            "----------- Epoch #9 ------------\n",
            "Batch 100/1094 Closs: -12.8184, Gloss: 63.0808, C(x): -29.3023 C(G(z)): -42.1207/-0.2565\n",
            "Batch 200/1094 Closs: -1.8243, Gloss: -33.1324, C(x): 34.5279 C(G(z)): 32.7036/-0.4257\n",
            "Batch 300/1094 Closs: -1.8902, Gloss: 35.2031, C(x): -32.2174 C(G(z)): -34.1076/-0.3744\n",
            "Batch 400/1094 Closs: -3.5138, Gloss: 30.7904, C(x): -26.8157 C(G(z)): -30.3295/-0.3570\n",
            "Batch 500/1094 Closs: -12.6103, Gloss: 28.0787, C(x): -20.4511 C(G(z)): -33.0614/-0.5238\n",
            "Batch 600/1094 Closs: 0.0734, Gloss: 36.2445, C(x): -37.1006 C(G(z)): -37.0271/-0.3328\n",
            "Batch 700/1094 Closs: -4.3363, Gloss: 11.7112, C(x): 1.6857 C(G(z)): -2.6505/-0.5729\n",
            "Batch 800/1094 Closs: -5.6310, Gloss: 10.7972, C(x): -6.3202 C(G(z)): -11.9512/-0.4064\n",
            "Batch 900/1094 Closs: -6.8924, Gloss: 15.6397, C(x): -8.5262 C(G(z)): -15.4186/-0.4332\n",
            "Batch 1000/1094 Closs: -4.7535, Gloss: 31.0567, C(x): -23.4073 C(G(z)): -28.1608/-0.3394\n",
            "--------------------------------------\n",
            "----------- Epoch #10 ------------\n",
            "Batch 100/1094 Closs: -8.4384, Gloss: 37.9435, C(x): -21.3870 C(G(z)): -29.8254/-0.4904\n",
            "Batch 200/1094 Closs: -5.0977, Gloss: 49.1994, C(x): -44.0995 C(G(z)): -49.1972/-0.5037\n",
            "Batch 300/1094 Closs: -0.5265, Gloss: 22.8708, C(x): -17.3264 C(G(z)): -17.8529/-0.4684\n",
            "Batch 400/1094 Closs: -2.2576, Gloss: 53.1479, C(x): -48.5500 C(G(z)): -50.8076/-0.4313\n",
            "Batch 500/1094 Closs: -0.5576, Gloss: -0.2290, C(x): 2.9297 C(G(z)): 2.3721/-0.4195\n",
            "Batch 600/1094 Closs: -7.6985, Gloss: 0.4869, C(x): 11.2141 C(G(z)): 3.5155/-0.5034\n",
            "Batch 700/1094 Closs: -2.6662, Gloss: 28.3885, C(x): -24.0601 C(G(z)): -26.7263/-0.4925\n",
            "Batch 800/1094 Closs: 0.0222, Gloss: 31.2665, C(x): -35.5084 C(G(z)): -35.4862/-0.4639\n",
            "Batch 900/1094 Closs: -2.9988, Gloss: 33.4282, C(x): -31.2668 C(G(z)): -34.2655/-0.4006\n",
            "Batch 1000/1094 Closs: -1.0354, Gloss: 15.5371, C(x): -18.4411 C(G(z)): -19.4765/-0.4286\n",
            "--------------------------------------\n",
            "----------- WGAN Train End! ------------\n"
          ]
        },
        {
          "output_type": "display_data",
          "data": {
            "text/plain": [
              "<IPython.core.display.HTML object>"
            ],
            "text/html": [
              "<style>\n",
              "    table.wandb td:nth-child(1) { padding: 0 10px; text-align: left ; width: auto;} td:nth-child(2) {text-align: left ; width: 100%}\n",
              "    .wandb-row { display: flex; flex-direction: row; flex-wrap: wrap; justify-content: flex-start; width: 100% }\n",
              "    .wandb-col { display: flex; flex-direction: column; flex-basis: 100%; flex: 1; padding: 10px; }\n",
              "    </style>\n",
              "<div class=\"wandb-row\"><div class=\"wandb-col\"><h3>Run history:</h3><br/><table class=\"wandb\"><tr><td>Discriminator Loss</td><td>▃▃▃▁▃▇▅██▄▅▇▆▇▆▅▆▅▅▆▇▅▆▆▇▇▇▇▇▇▇▇▇▇▇▇▇▇▇▇</td></tr><tr><td>Generator Loss</td><td>        ▁     ▁         ▃    ▇     █    </td></tr></table><br/></div><div class=\"wandb-col\"><h3>Run summary:</h3><br/><table class=\"wandb\"><tr><td>Discriminator Loss</td><td>-0.73716</td></tr><tr><td>Generator Loss</td><td>nan</td></tr></table><br/></div></div>"
            ]
          },
          "metadata": {}
        },
        {
          "output_type": "display_data",
          "data": {
            "text/plain": [
              "<IPython.core.display.HTML object>"
            ],
            "text/html": [
              " View run <strong style=\"color:#cdcd00\">cerulean-sponge-13</strong> at: <a href='https://wandb.ai/mitkrieger-cornell-university/wgan/runs/qh1dqz5x' target=\"_blank\">https://wandb.ai/mitkrieger-cornell-university/wgan/runs/qh1dqz5x</a><br/> View project at: <a href='https://wandb.ai/mitkrieger-cornell-university/wgan' target=\"_blank\">https://wandb.ai/mitkrieger-cornell-university/wgan</a><br/>Synced 5 W&B file(s), 0 media file(s), 0 artifact file(s) and 0 other file(s)"
            ]
          },
          "metadata": {}
        },
        {
          "output_type": "display_data",
          "data": {
            "text/plain": [
              "<IPython.core.display.HTML object>"
            ],
            "text/html": [
              "Find logs at: <code>./wandb/run-20241018_031540-qh1dqz5x/logs</code>"
            ]
          },
          "metadata": {}
        }
      ]
    },
    {
      "cell_type": "code",
      "execution_count": 64,
      "metadata": {
        "colab": {
          "base_uri": "https://localhost:8080/",
          "height": 167
        },
        "id": "RExy5mEkCHBv",
        "outputId": "b12d49ca-8c0e-42d8-a1ef-b38da3848e05"
      },
      "outputs": [
        {
          "output_type": "display_data",
          "data": {
            "text/plain": [
              "<Figure size 640x480 with 1 Axes>"
            ],
            "image/png": "[encoded data removed]"
          },
          "metadata": {}
        }
      ],
      "source": [
        "wgan2.generate_images(4, F.one_hot(torch.tensor([3]*4, device=wgan.device), num_classes=10).float())"
      ]
    },
    {
      "cell_type": "code",
      "source": [
        "wgan2.generate_images(4, F.one_hot(torch.tensor([9]*4, device=wgan.device), num_classes=10).float())"
      ],
      "metadata": {
        "colab": {
          "base_uri": "https://localhost:8080/",
          "height": 167
        },
        "id": "9kqW98_jn8gk",
        "outputId": "6e774f24-2bb4-437b-b964-0fa5c50cf870"
      },
      "execution_count": 46,
      "outputs": [
        {
          "output_type": "display_data",
          "data": {
            "text/plain": [
              "<Figure size 640x480 with 1 Axes>"
            ],
            "image/png": "[encoded data removed]"
          },
          "metadata": {}
        }
      ]
    },
    {
      "cell_type": "code",
      "source": [
        "torch.save(wgan2.generator.cpu().state_dict(), '/content/drive/MyDrive/DL3/wgan_generator_arch_b.pth')\n",
        "torch.save(wgan2.critic.cpu().state_dict(), '/content/drive/MyDrive/DL3/wgan_discriminator_arch_b.pth')"
      ],
      "metadata": {
        "id": "XQkMDGqI1ROj"
      },
      "execution_count": 47,
      "outputs": []
    },
    {
      "cell_type": "markdown",
      "source": [
        "### WGAN-GP"
      ],
      "metadata": {
        "id": "DOamfP9OjCOw"
      }
    },
    {
      "cell_type": "code",
      "source": [
        "class WGAN_GP:\n",
        "    def __init__(self, arch_type, z_dim, num_classes, channels, features, device, lr=0.0001, lambda_gp=10):\n",
        "        self.z_dim = z_dim\n",
        "        self.device = device\n",
        "        self.lambda_gp = lambda_gp\n",
        "        self.num_classes = num_classes\n",
        "        self.lr = lr\n",
        "        self.arch_type = arch_type\n",
        "        self.model_type = 'gp'\n",
        "\n",
        "        self.generator = Generator(self.model_type, arch_type, z_dim, num_classes, channels, features).to(device)\n",
        "        self.critic = Discriminator(self.model_type, arch_type, channels, num_classes, features).to(device)\n",
        "\n",
        "        self.optim_critic = optim.Adam(self.critic.parameters(), lr=self.lr, betas=(0.0, 0.9))\n",
        "        self.optim_gen = optim.Adam(self.generator.parameters(), lr=self.lr, betas=(0.0, 0.9))\n",
        "\n",
        "    def compute_gradient_penalty(self, real_imgs, real_labels, fake_imgs):\n",
        "        alpha = torch.rand((real_imgs.size(0), 1, 1, 1), device=self.device)\n",
        "        interpolates = (alpha * real_imgs + (1 - alpha) * fake_imgs).requires_grad_(True)\n",
        "        d_interpolates = self.critic(interpolates, real_labels)\n",
        "        fake = torch.ones(d_interpolates.size(), device=self.device)\n",
        "        gradients = torch.autograd.grad(\n",
        "            outputs=d_interpolates,\n",
        "            inputs=interpolates,\n",
        "            grad_outputs=fake,\n",
        "            create_graph=True,\n",
        "            retain_graph=True,\n",
        "            only_inputs=True,\n",
        "        )[0]\n",
        "        gradients = gradients.view(gradients.size(0), -1)\n",
        "        gradient_penalty = ((gradients.norm(2, dim=1) - 1) ** 2).mean()\n",
        "        return gradient_penalty\n",
        "\n",
        "    def train_critic(self, fake_labels, real_imgs, real_labels, batch_size):\n",
        "        self.optim_critic.zero_grad()\n",
        "        noise = torch.randn(batch_size, self.z_dim, 1, 1, device=self.device)\n",
        "\n",
        "        fake_imgs = self.generator(noise, fake_labels)\n",
        "        real_preds = self.critic(real_imgs, real_labels)\n",
        "        fake_preds = self.critic(fake_imgs.detach(), fake_labels)\n",
        "        gradient_penalty = self.compute_gradient_penalty(real_imgs, real_labels, fake_imgs.detach())\n",
        "        critic_loss = -torch.mean(real_preds) + torch.mean(fake_preds) + self.lambda_gp * gradient_penalty\n",
        "        critic_loss.backward()\n",
        "        self.optim_critic.step()\n",
        "        return critic_loss\n",
        "\n",
        "    def train_generator(self, fake_labels):\n",
        "        self.optim_gen.zero_grad()\n",
        "        noise = torch.randn(fake_labels.size(0), self.z_dim, 1, 1, device=self.device)\n",
        "        fake_imgs = self.generator(noise, fake_labels)\n",
        "        fake_preds = self.critic(fake_imgs, fake_labels)\n",
        "        gen_loss = -torch.mean(fake_preds)\n",
        "        gen_loss.backward()\n",
        "        self.optim_gen.step()\n",
        "        return gen_loss\n",
        "\n",
        "    def train_one_epoch(self, dataloader, n_critic):\n",
        "        gen_loss = None  # Initialize gen_loss\n",
        "        for i, (real_imgs, real_labels) in enumerate(dataloader):\n",
        "            batch_size = real_imgs.size(0)\n",
        "            real_imgs = real_imgs.to(self.device)\n",
        "\n",
        "            fake_labels = F.one_hot(torch.randint(0, 10, (batch_size,), device=self.device), num_classes=10).float()\n",
        "\n",
        "            # Train Critic n_critic times\n",
        "            for _ in range(n_critic):\n",
        "                critic_loss = self.train_critic(fake_labels, real_imgs, real_labels, batch_size)\n",
        "            # Train Generator\n",
        "\n",
        "            gen_loss = self.train_generator(fake_labels)\n",
        "            if i % 100 == 0 and i != 0:\n",
        "                print(f\"Batch {i}/{len(dataloader)} \"\n",
        "                      f\"Closs: {critic_loss:.4f}, Gloss: {gen_loss:.4f}\")\n",
        "\n",
        "            wandb.log({\n",
        "                \"Critic Loss\": critic_loss,\n",
        "                \"Generator Loss\": gen_loss\n",
        "            })\n",
        "\n",
        "    def train(self, dataloader, num_epochs, n_critic=5):\n",
        "        wandb.init(project='wgan-GP', config ={\n",
        "            'epochs': num_epochs,\n",
        "            'lr':self.lr,\n",
        "            'n_critic': n_critic,\n",
        "            'lambda_gp': self.lambda_gp\n",
        "        })\n",
        "        print(f'----------- {self.__class__.__name__} Train Start! ------------')\n",
        "        for epoch in range(num_epochs):\n",
        "            print(f'----------- Epoch #{epoch + 1} ------------')\n",
        "            self.train_one_epoch(dataloader, n_critic)\n",
        "            print(f'--------------------------------------')\n",
        "        print(f'----------- {self.__class__.__name__} Train End! ------------')\n",
        "        wandb.finish()\n",
        "\n",
        "    def generate_images(self, num_images, labels):\n",
        "        self.generator.eval()\n",
        "        with torch.no_grad():  # Disable gradient calculation\n",
        "            noise = torch.randn(num_images, self.z_dim, 1, 1, device=self.device)\n",
        "            generated_images = self.generator(noise, labels)\n",
        "            # generated_images = (generated_images + 1) / 2\n",
        "            grid = torchvision.utils.make_grid(generated_images.cpu(), nrow=4, padding=2, normalize=True)\n",
        "            np_grid = grid.permute(1, 2, 0).numpy()\n",
        "            plt.imshow(np_grid)\n",
        "            plt.axis('off')"
      ],
      "metadata": {
        "id": "KJLdmR6-jrYw"
      },
      "execution_count": 48,
      "outputs": []
    },
    {
      "cell_type": "code",
      "source": [
        "wgangp = WGAN_GP('a', 100, 10, 1, 64, device)\n",
        "wgangp.train(traindataloader, 10, 5)"
      ],
      "metadata": {
        "colab": {
          "base_uri": "https://localhost:8080/",
          "height": 1000
        },
        "id": "gunqgYqboTc1",
        "outputId": "f5fd9427-40b5-487b-b39c-2b4fe6240966"
      },
      "execution_count": 49,
      "outputs": [
        {
          "output_type": "display_data",
          "data": {
            "text/plain": [
              "<IPython.core.display.HTML object>"
            ],
            "text/html": [
              "Tracking run with wandb version 0.18.5"
            ]
          },
          "metadata": {}
        },
        {
          "output_type": "display_data",
          "data": {
            "text/plain": [
              "<IPython.core.display.HTML object>"
            ],
            "text/html": [
              "Run data is saved locally in <code>/content/wandb/run-20241018_031827-k5yeygrp</code>"
            ]
          },
          "metadata": {}
        },
        {
          "output_type": "display_data",
          "data": {
            "text/plain": [
              "<IPython.core.display.HTML object>"
            ],
            "text/html": [
              "Syncing run <strong><a href='https://wandb.ai/mitkrieger-cornell-university/wgan-GP/runs/k5yeygrp' target=\"_blank\">feasible-field-16</a></strong> to <a href='https://wandb.ai/mitkrieger-cornell-university/wgan-GP' target=\"_blank\">Weights & Biases</a> (<a href='https://wandb.me/run' target=\"_blank\">docs</a>)<br/>"
            ]
          },
          "metadata": {}
        },
        {
          "output_type": "display_data",
          "data": {
            "text/plain": [
              "<IPython.core.display.HTML object>"
            ],
            "text/html": [
              " View project at <a href='https://wandb.ai/mitkrieger-cornell-university/wgan-GP' target=\"_blank\">https://wandb.ai/mitkrieger-cornell-university/wgan-GP</a>"
            ]
          },
          "metadata": {}
        },
        {
          "output_type": "display_data",
          "data": {
            "text/plain": [
              "<IPython.core.display.HTML object>"
            ],
            "text/html": [
              " View run at <a href='https://wandb.ai/mitkrieger-cornell-university/wgan-GP/runs/k5yeygrp' target=\"_blank\">https://wandb.ai/mitkrieger-cornell-university/wgan-GP/runs/k5yeygrp</a>"
            ]
          },
          "metadata": {}
        },
        {
          "output_type": "stream",
          "name": "stdout",
          "text": [
            "----------- WGAN_GP Train Start! ------------\n",
            "----------- Epoch #1 ------------\n",
            "Batch 100/1094 Closs: -11.1796, Gloss: 7.1779\n",
            "Batch 200/1094 Closs: -13.1055, Gloss: 3.8825\n",
            "Batch 300/1094 Closs: -12.2636, Gloss: 9.5409\n",
            "Batch 400/1094 Closs: -18.7572, Gloss: 26.4000\n",
            "Batch 500/1094 Closs: -11.0109, Gloss: 6.9092\n",
            "Batch 600/1094 Closs: -23.5072, Gloss: 27.0466\n",
            "Batch 700/1094 Closs: -13.2446, Gloss: -10.4294\n",
            "Batch 800/1094 Closs: -18.4976, Gloss: 49.0784\n",
            "Batch 900/1094 Closs: -22.2406, Gloss: 39.1475\n",
            "Batch 1000/1094 Closs: -31.2134, Gloss: 1.7787\n",
            "--------------------------------------\n",
            "----------- Epoch #2 ------------\n",
            "Batch 100/1094 Closs: -34.1616, Gloss: 5.9968\n",
            "Batch 200/1094 Closs: -46.4479, Gloss: 25.5716\n",
            "Batch 300/1094 Closs: -23.2516, Gloss: 42.6684\n",
            "Batch 400/1094 Closs: -8.5242, Gloss: -89.5452\n",
            "Batch 500/1094 Closs: -24.2726, Gloss: 99.5639\n",
            "Batch 600/1094 Closs: 5.0018, Gloss: 18.6400\n",
            "Batch 700/1094 Closs: -17.4742, Gloss: -15.3491\n",
            "Batch 800/1094 Closs: 2.2232, Gloss: 57.0430\n",
            "Batch 900/1094 Closs: -16.4874, Gloss: 30.2183\n",
            "Batch 1000/1094 Closs: 47.2701, Gloss: -66.5155\n",
            "--------------------------------------\n",
            "----------- Epoch #3 ------------\n",
            "Batch 100/1094 Closs: -4.8329, Gloss: 41.2990\n",
            "Batch 200/1094 Closs: -27.2049, Gloss: -24.2515\n",
            "Batch 300/1094 Closs: -17.2073, Gloss: -93.6166\n",
            "Batch 400/1094 Closs: -49.8673, Gloss: 38.4208\n",
            "Batch 500/1094 Closs: -46.0804, Gloss: -66.9340\n",
            "Batch 600/1094 Closs: 16.0908, Gloss: 144.5600\n",
            "Batch 700/1094 Closs: -19.5069, Gloss: -86.6728\n",
            "Batch 800/1094 Closs: -62.5326, Gloss: 73.8052\n",
            "Batch 900/1094 Closs: -32.9033, Gloss: 65.3362\n",
            "Batch 1000/1094 Closs: 9.2838, Gloss: -4.9929\n",
            "--------------------------------------\n",
            "----------- Epoch #4 ------------\n",
            "Batch 100/1094 Closs: -20.8097, Gloss: 30.0425\n",
            "Batch 200/1094 Closs: -21.2331, Gloss: -16.1441\n",
            "Batch 300/1094 Closs: -122.3695, Gloss: 50.3865\n",
            "Batch 400/1094 Closs: -21.0323, Gloss: 277.9919\n",
            "Batch 500/1094 Closs: -92.8377, Gloss: -10.5551\n",
            "Batch 600/1094 Closs: -95.5431, Gloss: -243.1032\n",
            "Batch 700/1094 Closs: -73.1162, Gloss: -42.1541\n",
            "Batch 800/1094 Closs: 28.4075, Gloss: -142.3772\n",
            "Batch 900/1094 Closs: -87.6411, Gloss: 130.1850\n",
            "Batch 1000/1094 Closs: 4.3167, Gloss: 108.6317\n",
            "--------------------------------------\n",
            "----------- Epoch #5 ------------\n",
            "Batch 100/1094 Closs: -21.9627, Gloss: 130.2625\n",
            "Batch 200/1094 Closs: -9.5791, Gloss: -62.1432\n",
            "Batch 300/1094 Closs: -193.0403, Gloss: 100.0226\n",
            "Batch 400/1094 Closs: -202.5733, Gloss: 235.7718\n",
            "Batch 500/1094 Closs: -129.2462, Gloss: 358.3140\n",
            "Batch 600/1094 Closs: -113.2831, Gloss: 255.5622\n",
            "Batch 700/1094 Closs: -120.6166, Gloss: -63.2907\n",
            "Batch 800/1094 Closs: -11.9129, Gloss: -98.8407\n",
            "Batch 900/1094 Closs: -41.2698, Gloss: -80.5269\n",
            "Batch 1000/1094 Closs: 47.1032, Gloss: -181.3657\n",
            "--------------------------------------\n",
            "----------- Epoch #6 ------------\n",
            "Batch 100/1094 Closs: 3.9410, Gloss: 70.0480\n",
            "Batch 200/1094 Closs: -28.4279, Gloss: 215.2239\n",
            "Batch 300/1094 Closs: -170.6242, Gloss: -57.9224\n",
            "Batch 400/1094 Closs: -103.3835, Gloss: 298.9400\n",
            "Batch 500/1094 Closs: -189.6154, Gloss: 72.5426\n",
            "Batch 600/1094 Closs: -204.7973, Gloss: 222.4358\n",
            "Batch 700/1094 Closs: -197.5899, Gloss: 358.1190\n",
            "Batch 800/1094 Closs: -142.0548, Gloss: 195.2820\n",
            "Batch 900/1094 Closs: 29.9223, Gloss: -267.8478\n",
            "Batch 1000/1094 Closs: -27.8416, Gloss: 313.4014\n",
            "--------------------------------------\n",
            "----------- Epoch #7 ------------\n",
            "Batch 100/1094 Closs: -106.8146, Gloss: -1.5595\n",
            "Batch 200/1094 Closs: 43.1404, Gloss: 105.6769\n",
            "Batch 300/1094 Closs: -96.1041, Gloss: 27.1740\n",
            "Batch 400/1094 Closs: -181.5131, Gloss: -198.3167\n",
            "Batch 500/1094 Closs: -97.4696, Gloss: -121.2604\n",
            "Batch 600/1094 Closs: -75.4561, Gloss: -148.4686\n",
            "Batch 700/1094 Closs: -151.1737, Gloss: 100.9878\n",
            "Batch 800/1094 Closs: -343.4630, Gloss: -237.5708\n",
            "Batch 900/1094 Closs: -99.6759, Gloss: 194.4998\n",
            "Batch 1000/1094 Closs: -122.9414, Gloss: 446.8492\n",
            "--------------------------------------\n",
            "----------- Epoch #8 ------------\n",
            "Batch 100/1094 Closs: -6.5725, Gloss: 99.5242\n",
            "Batch 200/1094 Closs: -2.9736, Gloss: -128.7773\n",
            "Batch 300/1094 Closs: -236.4555, Gloss: 313.2546\n",
            "Batch 400/1094 Closs: -18.6732, Gloss: 736.0928\n",
            "Batch 500/1094 Closs: 79.5338, Gloss: 12.5978\n",
            "Batch 600/1094 Closs: -35.7930, Gloss: 43.3611\n",
            "Batch 700/1094 Closs: -349.7479, Gloss: 83.5076\n",
            "Batch 800/1094 Closs: -14.7570, Gloss: 102.4237\n",
            "Batch 900/1094 Closs: 133.2917, Gloss: 385.0350\n",
            "Batch 1000/1094 Closs: 31.7123, Gloss: -22.9342\n",
            "--------------------------------------\n",
            "----------- Epoch #9 ------------\n",
            "Batch 100/1094 Closs: -329.8923, Gloss: 149.4575\n",
            "Batch 200/1094 Closs: -207.0815, Gloss: 206.2248\n",
            "Batch 300/1094 Closs: -148.5836, Gloss: -352.4943\n",
            "Batch 400/1094 Closs: -259.6718, Gloss: 603.2155\n",
            "Batch 500/1094 Closs: -87.1409, Gloss: -5.1161\n",
            "Batch 600/1094 Closs: -227.6927, Gloss: 719.9092\n",
            "Batch 700/1094 Closs: 80.0854, Gloss: -528.3247\n",
            "Batch 800/1094 Closs: -161.8027, Gloss: -312.4252\n",
            "Batch 900/1094 Closs: -288.6841, Gloss: 355.2878\n",
            "Batch 1000/1094 Closs: -76.7855, Gloss: 647.5431\n",
            "--------------------------------------\n",
            "----------- Epoch #10 ------------\n",
            "Batch 100/1094 Closs: -45.8463, Gloss: 762.8638\n",
            "Batch 200/1094 Closs: 55.6217, Gloss: -633.9696\n",
            "Batch 300/1094 Closs: -219.0408, Gloss: 856.5011\n",
            "Batch 400/1094 Closs: -245.4731, Gloss: -163.0300\n",
            "Batch 500/1094 Closs: -28.7583, Gloss: 807.2498\n",
            "Batch 600/1094 Closs: -50.5091, Gloss: 463.1276\n",
            "Batch 700/1094 Closs: 482.6720, Gloss: 120.5945\n",
            "Batch 800/1094 Closs: -308.0419, Gloss: 1198.4116\n",
            "Batch 900/1094 Closs: 44.0519, Gloss: 149.5151\n",
            "Batch 1000/1094 Closs: -112.2938, Gloss: 84.2883\n",
            "--------------------------------------\n",
            "----------- WGAN_GP Train End! ------------\n"
          ]
        },
        {
          "output_type": "display_data",
          "data": {
            "text/plain": [
              "<IPython.core.display.HTML object>"
            ],
            "text/html": [
              "<style>\n",
              "    table.wandb td:nth-child(1) { padding: 0 10px; text-align: left ; width: auto;} td:nth-child(2) {text-align: left ; width: 100%}\n",
              "    .wandb-row { display: flex; flex-direction: row; flex-wrap: wrap; justify-content: flex-start; width: 100% }\n",
              "    .wandb-col { display: flex; flex-direction: column; flex-basis: 100%; flex: 1; padding: 10px; }\n",
              "    </style>\n",
              "<div class=\"wandb-row\"><div class=\"wandb-col\"><h3>Run history:</h3><br/><table class=\"wandb\"><tr><td>Critic Loss</td><td>▅▅▅▅▅▅▅▅▆▅▅▅▅▅▅▅▅▆▆▄▅▅▅▆▄▅▅▆▆▄▄▄▃▃▄▆█▄▁▄</td></tr><tr><td>Generator Loss</td><td>▃▃▃▃▃▄▄▃▄▃▃▃▃▄▄▄▄▄▄▃▄▅▃▆▁▄▇▆▄▅▅▄█▄▁▃▅▄▇▂</td></tr></table><br/></div><div class=\"wandb-col\"><h3>Run summary:</h3><br/><table class=\"wandb\"><tr><td>Critic Loss</td><td>52.39618</td></tr><tr><td>Generator Loss</td><td>-106.81404</td></tr></table><br/></div></div>"
            ]
          },
          "metadata": {}
        },
        {
          "output_type": "display_data",
          "data": {
            "text/plain": [
              "<IPython.core.display.HTML object>"
            ],
            "text/html": [
              " View run <strong style=\"color:#cdcd00\">feasible-field-16</strong> at: <a href='https://wandb.ai/mitkrieger-cornell-university/wgan-GP/runs/k5yeygrp' target=\"_blank\">https://wandb.ai/mitkrieger-cornell-university/wgan-GP/runs/k5yeygrp</a><br/> View project at: <a href='https://wandb.ai/mitkrieger-cornell-university/wgan-GP' target=\"_blank\">https://wandb.ai/mitkrieger-cornell-university/wgan-GP</a><br/>Synced 5 W&B file(s), 0 media file(s), 0 artifact file(s) and 0 other file(s)"
            ]
          },
          "metadata": {}
        },
        {
          "output_type": "display_data",
          "data": {
            "text/plain": [
              "<IPython.core.display.HTML object>"
            ],
            "text/html": [
              "Find logs at: <code>./wandb/run-20241018_031827-k5yeygrp/logs</code>"
            ]
          },
          "metadata": {}
        }
      ]
    },
    {
      "cell_type": "code",
      "source": [
        "wgangp.generate_images(4, F.one_hot(torch.tensor([2]*4, device=wgangp.device), num_classes=10).float())"
      ],
      "metadata": {
        "colab": {
          "base_uri": "https://localhost:8080/",
          "height": 167
        },
        "id": "i-yL4fxHoXMe",
        "outputId": "6b1c3eb9-db63-475c-9d80-8ed284d8692c"
      },
      "execution_count": 68,
      "outputs": [
        {
          "output_type": "display_data",
          "data": {
            "text/plain": [
              "<Figure size 640x480 with 1 Axes>"
            ],
            "image/png": "[encoded data removed]"
          },
          "metadata": {}
        }
      ]
    },
    {
      "cell_type": "code",
      "source": [
        "wgangp.generate_images(4, F.one_hot(torch.tensor([9]*4, device=wgangp.device), num_classes=10).float())"
      ],
      "metadata": {
        "colab": {
          "base_uri": "https://localhost:8080/",
          "height": 167
        },
        "id": "bb-kAMk_tCsl",
        "outputId": "b91d5086-26a6-4749-c261-24398a953036"
      },
      "execution_count": 70,
      "outputs": [
        {
          "output_type": "display_data",
          "data": {
            "text/plain": [
              "<Figure size 640x480 with 1 Axes>"
            ],
            "image/png": "[encoded data removed]"
          },
          "metadata": {}
        }
      ]
    },
    {
      "cell_type": "code",
      "source": [
        "torch.save(wgan.generator.cpu().state_dict(), '/content/drive/MyDrive/DL3/gp_generator_arch_a.pth')\n",
        "torch.save(wgan.critic.cpu().state_dict(), '/content/drive/MyDrive/DL3/gp_discriminator_arch_a.pth')"
      ],
      "metadata": {
        "id": "Lpa9VDx7ckP2"
      },
      "execution_count": 52,
      "outputs": []
    },
    {
      "cell_type": "code",
      "source": [
        "wgangp2 = WGAN_GP('b', 100, 10, 1, 64, device, lr=0.00001)\n",
        "wgangp2.train(traindataloader, 10, 5)"
      ],
      "metadata": {
        "colab": {
          "base_uri": "https://localhost:8080/",
          "height": 1000
        },
        "id": "nkBfMz3WWvsl",
        "outputId": "e3d9daed-83a6-43d1-e485-5f65c3847da2"
      },
      "execution_count": 53,
      "outputs": [
        {
          "output_type": "display_data",
          "data": {
            "text/plain": [
              "<IPython.core.display.HTML object>"
            ],
            "text/html": [
              "Tracking run with wandb version 0.18.5"
            ]
          },
          "metadata": {}
        },
        {
          "output_type": "display_data",
          "data": {
            "text/plain": [
              "<IPython.core.display.HTML object>"
            ],
            "text/html": [
              "Run data is saved locally in <code>/content/wandb/run-20241018_033832-7yxkcaz4</code>"
            ]
          },
          "metadata": {}
        },
        {
          "output_type": "display_data",
          "data": {
            "text/plain": [
              "<IPython.core.display.HTML object>"
            ],
            "text/html": [
              "Syncing run <strong><a href='https://wandb.ai/mitkrieger-cornell-university/wgan-GP/runs/7yxkcaz4' target=\"_blank\">peachy-frog-17</a></strong> to <a href='https://wandb.ai/mitkrieger-cornell-university/wgan-GP' target=\"_blank\">Weights & Biases</a> (<a href='https://wandb.me/run' target=\"_blank\">docs</a>)<br/>"
            ]
          },
          "metadata": {}
        },
        {
          "output_type": "display_data",
          "data": {
            "text/plain": [
              "<IPython.core.display.HTML object>"
            ],
            "text/html": [
              " View project at <a href='https://wandb.ai/mitkrieger-cornell-university/wgan-GP' target=\"_blank\">https://wandb.ai/mitkrieger-cornell-university/wgan-GP</a>"
            ]
          },
          "metadata": {}
        },
        {
          "output_type": "display_data",
          "data": {
            "text/plain": [
              "<IPython.core.display.HTML object>"
            ],
            "text/html": [
              " View run at <a href='https://wandb.ai/mitkrieger-cornell-university/wgan-GP/runs/7yxkcaz4' target=\"_blank\">https://wandb.ai/mitkrieger-cornell-university/wgan-GP/runs/7yxkcaz4</a>"
            ]
          },
          "metadata": {}
        },
        {
          "output_type": "stream",
          "name": "stdout",
          "text": [
            "----------- WGAN_GP Train Start! ------------\n",
            "----------- Epoch #1 ------------\n",
            "Batch 100/1094 Closs: -10.7606, Gloss: 16.2792\n",
            "Batch 200/1094 Closs: -11.8205, Gloss: -7.8875\n",
            "Batch 300/1094 Closs: -11.6845, Gloss: -35.4240\n",
            "Batch 400/1094 Closs: -14.3845, Gloss: -44.7030\n",
            "Batch 500/1094 Closs: -15.1853, Gloss: -52.1203\n",
            "Batch 600/1094 Closs: -15.7603, Gloss: -65.7363\n",
            "Batch 700/1094 Closs: -17.1394, Gloss: -71.3657\n",
            "Batch 800/1094 Closs: -15.7753, Gloss: -73.6242\n",
            "Batch 900/1094 Closs: -16.9964, Gloss: -78.1227\n",
            "Batch 1000/1094 Closs: -16.0803, Gloss: -85.9299\n",
            "--------------------------------------\n",
            "----------- Epoch #2 ------------\n",
            "Batch 100/1094 Closs: -14.2826, Gloss: -98.8089\n",
            "Batch 200/1094 Closs: -12.9011, Gloss: -110.2277\n",
            "Batch 300/1094 Closs: -14.3865, Gloss: -119.1242\n",
            "Batch 400/1094 Closs: -13.1284, Gloss: -134.1105\n",
            "Batch 500/1094 Closs: -13.5449, Gloss: -141.4346\n",
            "Batch 600/1094 Closs: -12.8384, Gloss: -149.4075\n",
            "Batch 700/1094 Closs: -14.9063, Gloss: -158.2396\n",
            "Batch 800/1094 Closs: -13.5319, Gloss: -169.1726\n",
            "Batch 900/1094 Closs: -13.6805, Gloss: -170.6388\n",
            "Batch 1000/1094 Closs: -15.3073, Gloss: -191.9251\n",
            "--------------------------------------\n",
            "----------- Epoch #3 ------------\n",
            "Batch 100/1094 Closs: -23.3600, Gloss: -201.4076\n",
            "Batch 200/1094 Closs: -7.2594, Gloss: -233.0664\n",
            "Batch 300/1094 Closs: -9.6392, Gloss: -227.0751\n",
            "Batch 400/1094 Closs: -11.2945, Gloss: -241.8281\n",
            "Batch 500/1094 Closs: -3.2542, Gloss: -251.4911\n",
            "Batch 600/1094 Closs: -17.0617, Gloss: -270.4268\n",
            "Batch 700/1094 Closs: -12.6634, Gloss: -292.6726\n",
            "Batch 800/1094 Closs: -12.0839, Gloss: -272.4216\n",
            "Batch 900/1094 Closs: -1.1958, Gloss: -294.3174\n",
            "Batch 1000/1094 Closs: -9.1250, Gloss: -302.7920\n",
            "--------------------------------------\n",
            "----------- Epoch #4 ------------\n",
            "Batch 100/1094 Closs: -28.3517, Gloss: -343.3774\n",
            "Batch 200/1094 Closs: -22.8325, Gloss: -338.7325\n",
            "Batch 300/1094 Closs: -0.9635, Gloss: -361.2867\n",
            "Batch 400/1094 Closs: -14.3453, Gloss: -370.9093\n",
            "Batch 500/1094 Closs: -7.2152, Gloss: -432.7655\n",
            "Batch 600/1094 Closs: 13.2456, Gloss: -453.1411\n",
            "Batch 700/1094 Closs: -39.3162, Gloss: -426.8425\n",
            "Batch 800/1094 Closs: -19.2360, Gloss: -434.7603\n",
            "Batch 900/1094 Closs: 1.4923, Gloss: -476.8580\n",
            "Batch 1000/1094 Closs: -43.8696, Gloss: -431.6552\n",
            "--------------------------------------\n",
            "----------- Epoch #5 ------------\n",
            "Batch 100/1094 Closs: -11.9878, Gloss: -486.9062\n",
            "Batch 200/1094 Closs: -23.1378, Gloss: -522.2035\n",
            "Batch 300/1094 Closs: -19.0173, Gloss: -563.6392\n",
            "Batch 400/1094 Closs: -42.8754, Gloss: -477.7012\n",
            "Batch 500/1094 Closs: -18.1110, Gloss: -450.1339\n",
            "Batch 600/1094 Closs: -43.9856, Gloss: -479.5304\n",
            "Batch 700/1094 Closs: -6.3881, Gloss: -474.0928\n",
            "Batch 800/1094 Closs: -1.5039, Gloss: -528.5582\n",
            "Batch 900/1094 Closs: -95.9564, Gloss: -559.0426\n",
            "Batch 1000/1094 Closs: -3.0860, Gloss: -493.3680\n",
            "--------------------------------------\n",
            "----------- Epoch #6 ------------\n",
            "Batch 100/1094 Closs: -54.6941, Gloss: -590.3489\n",
            "Batch 200/1094 Closs: -8.9537, Gloss: -583.4143\n",
            "Batch 300/1094 Closs: 0.9451, Gloss: -577.1258\n",
            "Batch 400/1094 Closs: 4.5186, Gloss: -563.2615\n",
            "Batch 500/1094 Closs: -35.1558, Gloss: -563.2668\n",
            "Batch 600/1094 Closs: 19.6604, Gloss: -623.7286\n",
            "Batch 700/1094 Closs: -23.5585, Gloss: -594.9547\n",
            "Batch 800/1094 Closs: -1.3468, Gloss: -644.6439\n",
            "Batch 900/1094 Closs: -45.1657, Gloss: -674.6132\n",
            "Batch 1000/1094 Closs: -11.6577, Gloss: -686.7679\n",
            "--------------------------------------\n",
            "----------- Epoch #7 ------------\n",
            "Batch 100/1094 Closs: -17.8999, Gloss: -638.7244\n",
            "Batch 200/1094 Closs: 69.8794, Gloss: -780.1753\n",
            "Batch 300/1094 Closs: -23.5705, Gloss: -656.0603\n",
            "Batch 400/1094 Closs: -3.1572, Gloss: -679.2339\n",
            "Batch 500/1094 Closs: -22.7400, Gloss: -751.5238\n",
            "Batch 600/1094 Closs: -9.7066, Gloss: -768.0012\n",
            "Batch 700/1094 Closs: -6.0240, Gloss: -811.1388\n",
            "Batch 800/1094 Closs: -109.0368, Gloss: -857.1870\n",
            "Batch 900/1094 Closs: 15.9630, Gloss: -825.4720\n",
            "Batch 1000/1094 Closs: -35.3770, Gloss: -843.6992\n",
            "--------------------------------------\n",
            "----------- Epoch #8 ------------\n",
            "Batch 100/1094 Closs: 84.0863, Gloss: -880.4310\n",
            "Batch 200/1094 Closs: -57.8038, Gloss: -871.6425\n",
            "Batch 300/1094 Closs: -71.5931, Gloss: -864.1263\n",
            "Batch 400/1094 Closs: -25.5631, Gloss: -899.1023\n",
            "Batch 500/1094 Closs: 43.8520, Gloss: -947.5872\n",
            "Batch 600/1094 Closs: -70.5916, Gloss: -790.1382\n",
            "Batch 700/1094 Closs: -97.7480, Gloss: -1013.8365\n",
            "Batch 800/1094 Closs: -69.0022, Gloss: -890.3105\n",
            "Batch 900/1094 Closs: 34.3664, Gloss: -856.5705\n",
            "Batch 1000/1094 Closs: -76.8973, Gloss: -876.7275\n",
            "--------------------------------------\n",
            "----------- Epoch #9 ------------\n",
            "Batch 100/1094 Closs: -150.8570, Gloss: -966.5846\n",
            "Batch 200/1094 Closs: -182.7979, Gloss: -992.1021\n",
            "Batch 300/1094 Closs: -11.5706, Gloss: -1073.8286\n",
            "Batch 400/1094 Closs: -53.0137, Gloss: -985.5189\n",
            "Batch 500/1094 Closs: 60.6808, Gloss: -1011.3207\n",
            "Batch 600/1094 Closs: -39.1760, Gloss: -1017.6874\n",
            "Batch 700/1094 Closs: -6.3610, Gloss: -949.9460\n",
            "Batch 800/1094 Closs: -9.1774, Gloss: -964.6010\n",
            "Batch 900/1094 Closs: -14.5464, Gloss: -1102.8185\n",
            "Batch 1000/1094 Closs: -61.2995, Gloss: -999.8214\n",
            "--------------------------------------\n",
            "----------- Epoch #10 ------------\n",
            "Batch 100/1094 Closs: -287.3775, Gloss: -813.0535\n",
            "Batch 200/1094 Closs: 5.3046, Gloss: -866.9503\n",
            "Batch 300/1094 Closs: -3.5636, Gloss: -912.3182\n",
            "Batch 400/1094 Closs: 122.3864, Gloss: -986.3452\n",
            "Batch 500/1094 Closs: -53.6755, Gloss: -897.3885\n",
            "Batch 600/1094 Closs: -46.3666, Gloss: -1023.0610\n",
            "Batch 700/1094 Closs: -238.1798, Gloss: -1135.3462\n",
            "Batch 800/1094 Closs: 157.9727, Gloss: -1272.1019\n",
            "Batch 900/1094 Closs: 14.1598, Gloss: -1034.3022\n",
            "Batch 1000/1094 Closs: 16.5363, Gloss: -910.1224\n",
            "--------------------------------------\n",
            "----------- WGAN_GP Train End! ------------\n"
          ]
        },
        {
          "output_type": "display_data",
          "data": {
            "text/plain": [
              "<IPython.core.display.HTML object>"
            ],
            "text/html": [
              "<style>\n",
              "    table.wandb td:nth-child(1) { padding: 0 10px; text-align: left ; width: auto;} td:nth-child(2) {text-align: left ; width: 100%}\n",
              "    .wandb-row { display: flex; flex-direction: row; flex-wrap: wrap; justify-content: flex-start; width: 100% }\n",
              "    .wandb-col { display: flex; flex-direction: column; flex-basis: 100%; flex: 1; padding: 10px; }\n",
              "    </style>\n",
              "<div class=\"wandb-row\"><div class=\"wandb-col\"><h3>Run history:</h3><br/><table class=\"wandb\"><tr><td>Critic Loss</td><td>▆▆▆▆▆▆▆▆▆▆▆▆▆▅▆▆▇▆▆▆▆▇▅▆▅▇▇▇▅▆▇█▆▅▇▅▆▁▄▆</td></tr><tr><td>Generator Loss</td><td>███████▇▇▇▇▆▆▆▅▅▅▅▅▅▅▅▅▄▄▄▃▃▃▂▂▂▂▂▂▂▂▁▁▂</td></tr></table><br/></div><div class=\"wandb-col\"><h3>Run summary:</h3><br/><table class=\"wandb\"><tr><td>Critic Loss</td><td>-10.36827</td></tr><tr><td>Generator Loss</td><td>-1119.3103</td></tr></table><br/></div></div>"
            ]
          },
          "metadata": {}
        },
        {
          "output_type": "display_data",
          "data": {
            "text/plain": [
              "<IPython.core.display.HTML object>"
            ],
            "text/html": [
              " View run <strong style=\"color:#cdcd00\">peachy-frog-17</strong> at: <a href='https://wandb.ai/mitkrieger-cornell-university/wgan-GP/runs/7yxkcaz4' target=\"_blank\">https://wandb.ai/mitkrieger-cornell-university/wgan-GP/runs/7yxkcaz4</a><br/> View project at: <a href='https://wandb.ai/mitkrieger-cornell-university/wgan-GP' target=\"_blank\">https://wandb.ai/mitkrieger-cornell-university/wgan-GP</a><br/>Synced 5 W&B file(s), 0 media file(s), 0 artifact file(s) and 0 other file(s)"
            ]
          },
          "metadata": {}
        },
        {
          "output_type": "display_data",
          "data": {
            "text/plain": [
              "<IPython.core.display.HTML object>"
            ],
            "text/html": [
              "Find logs at: <code>./wandb/run-20241018_033832-7yxkcaz4/logs</code>"
            ]
          },
          "metadata": {}
        }
      ]
    },
    {
      "cell_type": "code",
      "source": [
        "wgangp2.generate_images(4, F.one_hot(torch.tensor([2]*4, device=wgangp.device), num_classes=10).float())"
      ],
      "metadata": {
        "colab": {
          "base_uri": "https://localhost:8080/",
          "height": 167
        },
        "id": "70UVctT-cjwO",
        "outputId": "4769f792-6e21-4c3a-f5ad-1ef3840b5e52"
      },
      "execution_count": 72,
      "outputs": [
        {
          "output_type": "display_data",
          "data": {
            "text/plain": [
              "<Figure size 640x480 with 1 Axes>"
            ],
            "image/png": "[encoded data removed]"
          },
          "metadata": {}
        }
      ]
    },
    {
      "cell_type": "code",
      "source": [
        "wgangp2.generate_images(4, F.one_hot(torch.tensor([9]*4, device=wgangp.device), num_classes=10).float())"
      ],
      "metadata": {
        "colab": {
          "base_uri": "https://localhost:8080/",
          "height": 167
        },
        "id": "m06v8BaJv_Wx",
        "outputId": "609d555a-60f5-4bf6-ab50-d3b895a521ae"
      },
      "execution_count": 74,
      "outputs": [
        {
          "output_type": "display_data",
          "data": {
            "text/plain": [
              "<Figure size 640x480 with 1 Axes>"
            ],
            "image/png": "[encoded data removed]"
          },
          "metadata": {}
        }
      ]
    },
    {
      "cell_type": "code",
      "source": [
        "torch.save(wgan.generator.cpu().state_dict(), '/content/drive/MyDrive/DL3/gp_generator_arch_b.pth')\n",
        "torch.save(wgan.critic.cpu().state_dict(), '/content/drive/MyDrive/DL3/gp_discriminator_arch_b.pth')"
      ],
      "metadata": {
        "id": "5Kp3B549_i0l"
      },
      "execution_count": 59,
      "outputs": []
    },
    {
      "cell_type": "code",
      "source": [],
      "metadata": {
        "id": "E-BEB3e9wEeP"
      },
      "execution_count": null,
      "outputs": []
    }
  ],
  "metadata": {
    "accelerator": "GPU",
    "colab": {
      "gpuType": "A100",
      "provenance": [],
      "toc_visible": true,
      "machine_shape": "hm",
      "mount_file_id": "1apBdp72eW_5P6cLQ_h74ldLz4WEWLezy",
      "authorship_tag": "ABX9TyPtxKAp0AT80DcA56Wn8/xB",
      "include_colab_link": true
    },
    "kernelspec": {
      "display_name": "Python 3",
      "name": "python3"
    },
    "language_info": {
      "name": "python"
    }
  },
  "nbformat": 4,
  "nbformat_minor": 0
}