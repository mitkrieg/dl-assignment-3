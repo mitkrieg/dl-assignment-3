{
  "cells": [
    {
      "cell_type": "markdown",
      "metadata": {
        "id": "view-in-github",
        "colab_type": "text"
      },
      "source": [
        "<a href=\"https://colab.research.google.com/github/mitkrieg/dl-assignment-3/blob/main/gan.ipynb\" target=\"_parent\"><img src=\"https://colab.research.google.com/assets/colab-badge.svg\" alt=\"Open In Colab\"/></a>"
      ]
    },
    {
      "cell_type": "markdown",
      "metadata": {
        "id": "INKgqRaUohpB"
      },
      "source": [
        "# Assignment 3, Problem 5: DCGAN, WGAN, WGAN-GP"
      ]
    },
    {
      "cell_type": "markdown",
      "metadata": {
        "id": "UjNTkHkCowXj"
      },
      "source": [
        "## Download Data"
      ]
    },
    {
      "cell_type": "code",
      "execution_count": 1,
      "metadata": {
        "colab": {
          "base_uri": "https://localhost:8080/"
        },
        "id": "PWaxpfsNnLcu",
        "outputId": "35103898-dc25-4e2d-8f98-84d2fb4f91d5"
      },
      "outputs": [
        {
          "output_type": "stream",
          "name": "stdout",
          "text": [
            "--2024-10-17 16:45:22--  http://fashion-mnist.s3-website.eu-central-1.amazonaws.com/train-images-idx3-ubyte.gz\n",
            "Resolving fashion-mnist.s3-website.eu-central-1.amazonaws.com (fashion-mnist.s3-website.eu-central-1.amazonaws.com)... 3.5.134.113, 52.219.170.52, 52.219.208.0, ...\n",
            "Connecting to fashion-mnist.s3-website.eu-central-1.amazonaws.com (fashion-mnist.s3-website.eu-central-1.amazonaws.com)|3.5.134.113|:80... connected.\n",
            "HTTP request sent, awaiting response... 200 OK\n",
            "Length: 26421880 (25M) [binary/octet-stream]\n",
            "Saving to: ‘/content/train-images-idx3-ubyte.gz’\n",
            "\n",
            "/content/train-imag 100%[===================>]  25.20M  6.44MB/s    in 5.3s    \n",
            "\n",
            "2024-10-17 16:45:27 (4.76 MB/s) - ‘/content/train-images-idx3-ubyte.gz’ saved [26421880/26421880]\n",
            "\n",
            "--2024-10-17 16:45:27--  http://fashion-mnist.s3-website.eu-central-1.amazonaws.com/train-labels-idx1-ubyte.gz\n",
            "Resolving fashion-mnist.s3-website.eu-central-1.amazonaws.com (fashion-mnist.s3-website.eu-central-1.amazonaws.com)... 3.5.136.48, 52.219.170.132, 52.219.210.4, ...\n",
            "Connecting to fashion-mnist.s3-website.eu-central-1.amazonaws.com (fashion-mnist.s3-website.eu-central-1.amazonaws.com)|3.5.136.48|:80... connected.\n",
            "HTTP request sent, awaiting response... 200 OK\n",
            "Length: 29515 (29K) [binary/octet-stream]\n",
            "Saving to: ‘/content/train-labels-idx1-ubyte.gz’\n",
            "\n",
            "/content/train-labe 100%[===================>]  28.82K   161KB/s    in 0.2s    \n",
            "\n",
            "2024-10-17 16:45:28 (161 KB/s) - ‘/content/train-labels-idx1-ubyte.gz’ saved [29515/29515]\n",
            "\n",
            "--2024-10-17 16:45:28--  http://fashion-mnist.s3-website.eu-central-1.amazonaws.com/t10k-images-idx3-ubyte.gz\n",
            "Resolving fashion-mnist.s3-website.eu-central-1.amazonaws.com (fashion-mnist.s3-website.eu-central-1.amazonaws.com)... 3.5.136.48, 52.219.170.132, 52.219.210.4, ...\n",
            "Connecting to fashion-mnist.s3-website.eu-central-1.amazonaws.com (fashion-mnist.s3-website.eu-central-1.amazonaws.com)|3.5.136.48|:80... connected.\n",
            "HTTP request sent, awaiting response... 200 OK\n",
            "Length: 4422102 (4.2M) [binary/octet-stream]\n",
            "Saving to: ‘/content/test-images-idx3-ubyte.gz’\n",
            "\n",
            "/content/test-image 100%[===================>]   4.22M   950KB/s    in 7.9s    \n",
            "\n",
            "2024-10-17 16:45:36 (548 KB/s) - ‘/content/test-images-idx3-ubyte.gz’ saved [4422102/4422102]\n",
            "\n",
            "--2024-10-17 16:45:36--  http://fashion-mnist.s3-website.eu-central-1.amazonaws.com/t10k-labels-idx1-ubyte.gz\n",
            "Resolving fashion-mnist.s3-website.eu-central-1.amazonaws.com (fashion-mnist.s3-website.eu-central-1.amazonaws.com)... 52.219.170.84, 52.219.171.60, 52.219.169.68, ...\n",
            "Connecting to fashion-mnist.s3-website.eu-central-1.amazonaws.com (fashion-mnist.s3-website.eu-central-1.amazonaws.com)|52.219.170.84|:80... connected.\n",
            "HTTP request sent, awaiting response... 200 OK\n",
            "Length: 5148 (5.0K) [binary/octet-stream]\n",
            "Saving to: ‘/content/test-labels-idx1-ubyte.gz’\n",
            "\n",
            "/content/test-label 100%[===================>]   5.03K  --.-KB/s    in 0s      \n",
            "\n",
            "2024-10-17 16:45:37 (708 MB/s) - ‘/content/test-labels-idx1-ubyte.gz’ saved [5148/5148]\n",
            "\n",
            "Collecting wandb\n",
            "  Downloading wandb-0.18.3-py3-none-manylinux_2_17_x86_64.manylinux2014_x86_64.whl.metadata (9.7 kB)\n",
            "Requirement already satisfied: click!=8.0.0,>=7.1 in /usr/local/lib/python3.10/dist-packages (from wandb) (8.1.7)\n",
            "Collecting docker-pycreds>=0.4.0 (from wandb)\n",
            "  Downloading docker_pycreds-0.4.0-py2.py3-none-any.whl.metadata (1.8 kB)\n",
            "Collecting gitpython!=3.1.29,>=1.0.0 (from wandb)\n",
            "  Downloading GitPython-3.1.43-py3-none-any.whl.metadata (13 kB)\n",
            "Requirement already satisfied: platformdirs in /usr/local/lib/python3.10/dist-packages (from wandb) (4.3.6)\n",
            "Requirement already satisfied: protobuf!=4.21.0,!=5.28.0,<6,>=3.19.0 in /usr/local/lib/python3.10/dist-packages (from wandb) (3.20.3)\n",
            "Requirement already satisfied: psutil>=5.0.0 in /usr/local/lib/python3.10/dist-packages (from wandb) (5.9.5)\n",
            "Requirement already satisfied: pyyaml in /usr/local/lib/python3.10/dist-packages (from wandb) (6.0.2)\n",
            "Requirement already satisfied: requests<3,>=2.0.0 in /usr/local/lib/python3.10/dist-packages (from wandb) (2.32.3)\n",
            "Collecting sentry-sdk>=1.0.0 (from wandb)\n",
            "  Downloading sentry_sdk-2.17.0-py2.py3-none-any.whl.metadata (9.8 kB)\n",
            "Collecting setproctitle (from wandb)\n",
            "  Downloading setproctitle-1.3.3-cp310-cp310-manylinux_2_5_x86_64.manylinux1_x86_64.manylinux_2_17_x86_64.manylinux2014_x86_64.whl.metadata (9.9 kB)\n",
            "Requirement already satisfied: setuptools in /usr/local/lib/python3.10/dist-packages (from wandb) (71.0.4)\n",
            "Requirement already satisfied: six>=1.4.0 in /usr/local/lib/python3.10/dist-packages (from docker-pycreds>=0.4.0->wandb) (1.16.0)\n",
            "Collecting gitdb<5,>=4.0.1 (from gitpython!=3.1.29,>=1.0.0->wandb)\n",
            "  Downloading gitdb-4.0.11-py3-none-any.whl.metadata (1.2 kB)\n",
            "Requirement already satisfied: charset-normalizer<4,>=2 in /usr/local/lib/python3.10/dist-packages (from requests<3,>=2.0.0->wandb) (3.4.0)\n",
            "Requirement already satisfied: idna<4,>=2.5 in /usr/local/lib/python3.10/dist-packages (from requests<3,>=2.0.0->wandb) (3.10)\n",
            "Requirement already satisfied: urllib3<3,>=1.21.1 in /usr/local/lib/python3.10/dist-packages (from requests<3,>=2.0.0->wandb) (2.2.3)\n",
            "Requirement already satisfied: certifi>=2017.4.17 in /usr/local/lib/python3.10/dist-packages (from requests<3,>=2.0.0->wandb) (2024.8.30)\n",
            "Collecting smmap<6,>=3.0.1 (from gitdb<5,>=4.0.1->gitpython!=3.1.29,>=1.0.0->wandb)\n",
            "  Downloading smmap-5.0.1-py3-none-any.whl.metadata (4.3 kB)\n",
            "Downloading wandb-0.18.3-py3-none-manylinux_2_17_x86_64.manylinux2014_x86_64.whl (13.0 MB)\n",
            "\u001b[2K   \u001b[90m━━━━━━━━━━━━━━━━━━━━━━━━━━━━━━━━━━━━━━━━\u001b[0m \u001b[32m13.0/13.0 MB\u001b[0m \u001b[31m98.6 MB/s\u001b[0m eta \u001b[36m0:00:00\u001b[0m\n",
            "\u001b[?25hDownloading docker_pycreds-0.4.0-py2.py3-none-any.whl (9.0 kB)\n",
            "Downloading GitPython-3.1.43-py3-none-any.whl (207 kB)\n",
            "\u001b[2K   \u001b[90m━━━━━━━━━━━━━━━━━━━━━━━━━━━━━━━━━━━━━━━━\u001b[0m \u001b[32m207.3/207.3 kB\u001b[0m \u001b[31m19.4 MB/s\u001b[0m eta \u001b[36m0:00:00\u001b[0m\n",
            "\u001b[?25hDownloading sentry_sdk-2.17.0-py2.py3-none-any.whl (314 kB)\n",
            "\u001b[2K   \u001b[90m━━━━━━━━━━━━━━━━━━━━━━━━━━━━━━━━━━━━━━━━\u001b[0m \u001b[32m314.5/314.5 kB\u001b[0m \u001b[31m28.6 MB/s\u001b[0m eta \u001b[36m0:00:00\u001b[0m\n",
            "\u001b[?25hDownloading setproctitle-1.3.3-cp310-cp310-manylinux_2_5_x86_64.manylinux1_x86_64.manylinux_2_17_x86_64.manylinux2014_x86_64.whl (30 kB)\n",
            "Downloading gitdb-4.0.11-py3-none-any.whl (62 kB)\n",
            "\u001b[2K   \u001b[90m━━━━━━━━━━━━━━━━━━━━━━━━━━━━━━━━━━━━━━━━\u001b[0m \u001b[32m62.7/62.7 kB\u001b[0m \u001b[31m6.6 MB/s\u001b[0m eta \u001b[36m0:00:00\u001b[0m\n",
            "\u001b[?25hDownloading smmap-5.0.1-py3-none-any.whl (24 kB)\n",
            "Installing collected packages: smmap, setproctitle, sentry-sdk, docker-pycreds, gitdb, gitpython, wandb\n",
            "Successfully installed docker-pycreds-0.4.0 gitdb-4.0.11 gitpython-3.1.43 sentry-sdk-2.17.0 setproctitle-1.3.3 smmap-5.0.1 wandb-0.18.3\n",
            "\u001b[34m\u001b[1mwandb\u001b[0m: Logging into wandb.ai. (Learn how to deploy a W&B server locally: https://wandb.me/wandb-server)\n",
            "\u001b[34m\u001b[1mwandb\u001b[0m: You can find your API key in your browser here: https://wandb.ai/authorize\n",
            "\u001b[34m\u001b[1mwandb\u001b[0m: Paste an API key from your profile and hit enter, or press ctrl+c to quit: \n",
            "\u001b[34m\u001b[1mwandb\u001b[0m: Appending key for api.wandb.ai to your netrc file: /root/.netrc\n"
          ]
        }
      ],
      "source": [
        "!wget http://fashion-mnist.s3-website.eu-central-1.amazonaws.com/train-images-idx3-ubyte.gz -O /content/train-images-idx3-ubyte.gz\n",
        "!wget http://fashion-mnist.s3-website.eu-central-1.amazonaws.com/train-labels-idx1-ubyte.gz -O /content/train-labels-idx1-ubyte.gz\n",
        "!wget http://fashion-mnist.s3-website.eu-central-1.amazonaws.com/t10k-images-idx3-ubyte.gz -O /content/test-images-idx3-ubyte.gz\n",
        "!wget http://fashion-mnist.s3-website.eu-central-1.amazonaws.com/t10k-labels-idx1-ubyte.gz -O /content/test-labels-idx1-ubyte.gz\n",
        "!pip install wandb\n",
        "!wandb login"
      ]
    },
    {
      "cell_type": "markdown",
      "metadata": {
        "id": "QvvimtrPoy2I"
      },
      "source": [
        "## Library Imports"
      ]
    },
    {
      "cell_type": "code",
      "execution_count": 1,
      "metadata": {
        "id": "QXapS2Q4oY_s"
      },
      "outputs": [],
      "source": [
        "import torch\n",
        "from torch import nn\n",
        "import torch.nn.functional as F\n",
        "import torch.optim as optim\n",
        "from torch.utils.data import Dataset, DataLoader\n",
        "import torchvision\n",
        "import numpy as np\n",
        "import matplotlib.pyplot as plt\n",
        "import itertools\n",
        "from time import time\n",
        "import gzip\n",
        "import typing as T\n",
        "import wandb\n",
        "\n",
        "torch.manual_seed(123)\n",
        "np.random.seed(123)\n",
        "\n",
        "# wandb.login()"
      ]
    },
    {
      "cell_type": "markdown",
      "metadata": {
        "id": "6Z8KLh6Ro0cM"
      },
      "source": [
        "## Check for GPU Access"
      ]
    },
    {
      "cell_type": "code",
      "execution_count": 2,
      "metadata": {
        "colab": {
          "base_uri": "https://localhost:8080/"
        },
        "id": "MTnZTov3oe6a",
        "outputId": "f6ff7347-fdec-4200-a805-30926a27b373"
      },
      "outputs": [
        {
          "output_type": "stream",
          "name": "stdout",
          "text": [
            "------ ACCELERATION INFO -----\n",
            "CUDA GPU Available: True\n",
            "MPS GPU Available: False\n",
            "GPU Name: NVIDIA A100-SXM4-40GB\n",
            "GPU Count: 1\n",
            "GPU Memory Allocated: 0\n",
            "GPU Memory Cached: 0\n"
          ]
        }
      ],
      "source": [
        "print(\"------ ACCELERATION INFO -----\")\n",
        "print('CUDA GPU Available:',torch.cuda.is_available())\n",
        "print('MPS GPU Available:', torch.backends.mps.is_available())\n",
        "if torch.cuda.is_available():\n",
        "  device = torch.device('cuda:0')\n",
        "  print('GPU Name:',torch.cuda.get_device_name(0))\n",
        "  print('GPU Count:',torch.cuda.device_count())\n",
        "  print('GPU Memory Allocated:',torch.cuda.memory_allocated(0))\n",
        "  print('GPU Memory Cached:',torch.cuda.memory_reserved(0))\n",
        "# elif torch.backends.mps.is_available() and torch.backends.mps.is_built():\n",
        "#   device = torch.device('mps')\n",
        "#   print('Pytorch GPU Build:',torch.backends.mps.is_built())\n",
        "else:\n",
        "  device = torch.device('cpu')\n",
        "  print('Using CPU')"
      ]
    },
    {
      "cell_type": "markdown",
      "metadata": {
        "id": "Ei5lpNbqo5wk"
      },
      "source": [
        "## Load Data"
      ]
    },
    {
      "cell_type": "markdown",
      "metadata": {
        "id": "h68nncHHo5kg"
      },
      "source": [
        "### Define FashionMNIST"
      ]
    },
    {
      "cell_type": "code",
      "execution_count": 3,
      "metadata": {
        "id": "-GVuAxV5o32R"
      },
      "outputs": [],
      "source": [
        "class FasionMNISTDataset(Dataset):\n",
        "    def __init__(self, path: str, kind: str, device=torch.device('cpu')) -> None:\n",
        "        super().__init__()\n",
        "        self.device = device\n",
        "        self.labels, self.images = self._load_data(path, kind)\n",
        "\n",
        "    def _load_data(self, path: str, kind: str) -> T.Tuple[np.ndarray, np.ndarray]:\n",
        "        with gzip.open(path + f'/{kind}-labels-idx1-ubyte.gz', 'rb') as lable_file:\n",
        "            lbls = np.frombuffer(lable_file.read(), dtype=np.int8, offset=8)\n",
        "            lbls = np.copy(lbls)\n",
        "        with gzip.open(path + f'/{kind}-images-idx3-ubyte.gz', 'rb') as lable_file:\n",
        "            imgs = np.frombuffer(lable_file.read(), dtype=np.uint8, offset=16).reshape(len(lbls), 1, 28, 28)\n",
        "            imgs = ((np.copy(imgs) / 255) * 2 - 1).astype(np.float32)\n",
        "        return lbls, imgs\n",
        "\n",
        "    def __len__(self) -> int:\n",
        "        return self.labels.size\n",
        "\n",
        "    def __getitem__(self, index: int) -> T.Tuple[torch.tensor, torch.tensor]:\n",
        "        img = torch.tensor(self.images[index])\n",
        "        img = img.to(self.device)\n",
        "        if self.labels is not None:\n",
        "            label = torch.tensor(self.labels[index], dtype=torch.long)\n",
        "            label = F.one_hot(label, num_classes=10).float().to(self.device)\n",
        "            return img, label\n",
        "        else:\n",
        "            return img\n",
        "\n",
        "def show_img(dataset: Dataset, index: int) -> None:\n",
        "    img, label = dataset[index]\n",
        "    labels_map = {\n",
        "            0: \"T-Shirt\",\n",
        "            1: \"Trouser\",\n",
        "            2: \"Pullover\",\n",
        "            3: \"Dress\",\n",
        "            4: \"Coat\",\n",
        "            5: \"Sandal\",\n",
        "            6: \"Shirt\",\n",
        "            7: \"Sneaker\",\n",
        "            8: \"Bag\",\n",
        "            9: \"Ankle Boot\",\n",
        "        }\n",
        "    label = torch.argmax(label)\n",
        "    plt.imshow(img.cpu().reshape(28,28), cmap='gray')\n",
        "    plt.title(labels_map[label.cpu().item()])\n",
        "    plt.show()\n",
        "\n",
        "gen = torch.Generator().manual_seed(123)\n",
        "\n",
        "train = FasionMNISTDataset('/content', 'train', device=device)\n",
        "test = FasionMNISTDataset('/content', 'test', device=device)\n",
        "\n",
        "traindataloader = DataLoader(torch.utils.data.ConcatDataset([train,test]), batch_size=64, shuffle=True, generator=gen)\n",
        "# testdataloader = DataLoader(test, batch_size=64, shuffle=True, generator=gen)"
      ]
    },
    {
      "cell_type": "code",
      "source": [
        "len(test)"
      ],
      "metadata": {
        "colab": {
          "base_uri": "https://localhost:8080/"
        },
        "id": "vlT-U4N284a4",
        "outputId": "126ed9ce-99b0-453c-abe5-c17b5f58205c"
      },
      "execution_count": 5,
      "outputs": [
        {
          "output_type": "execute_result",
          "data": {
            "text/plain": [
              "10000"
            ]
          },
          "metadata": {},
          "execution_count": 5
        }
      ]
    },
    {
      "cell_type": "code",
      "source": [
        "show_img(train, 1)\n",
        "show_img(train, 100)"
      ],
      "metadata": {
        "colab": {
          "base_uri": "https://localhost:8080/",
          "height": 887
        },
        "id": "iYena8khbXyY",
        "outputId": "0a138590-f56b-4bfb-91b2-301975279db9"
      },
      "execution_count": 6,
      "outputs": [
        {
          "output_type": "display_data",
          "data": {
            "text/plain": [
              "<Figure size 640x480 with 1 Axes>"
            ],
            "image/png": "[encoded data removed]"
          },
          "metadata": {}
        },
        {
          "output_type": "display_data",
          "data": {
            "text/plain": [
              "<Figure size 640x480 with 1 Axes>"
            ],
            "image/png": "[encoded data removed]"
          },
          "metadata": {}
        }
      ]
    },
    {
      "cell_type": "markdown",
      "metadata": {
        "id": "1M7zZNH72c9_"
      },
      "source": [
        "## Model Building"
      ]
    },
    {
      "cell_type": "markdown",
      "metadata": {
        "id": "JpwRkPEC4BEh"
      },
      "source": [
        "### GAN Modules"
      ]
    },
    {
      "cell_type": "code",
      "execution_count": 88,
      "metadata": {
        "id": "dKCmNJA82e7M"
      },
      "outputs": [],
      "source": [
        "class SoftplusAdjusted(nn.Module):\n",
        "    def __init__(self, beta=1.0, threshold=20.0):\n",
        "        super().__init__()\n",
        "        self.beta = beta\n",
        "        self.threshold = threshold\n",
        "        self.softplus = nn.Softplus(beta=self.beta, threshold=self.threshold)\n",
        "\n",
        "    def forward(self, x):\n",
        "        return self.softplus(2 * x + 2) / 2\n",
        "\n",
        "class Norm(nn.Module):\n",
        "    def __init__(self, model_type, arch_type, features, dims):\n",
        "        super(Norm, self).__init__()\n",
        "        if arch_type == 'a':\n",
        "            if model_type != 'gp':\n",
        "                if dims == 2:\n",
        "                    self.norm = nn.BatchNorm2d(features)\n",
        "                else:\n",
        "                    self.norm = nn.BatchNorm1d(features)\n",
        "            else:\n",
        "                # For WGAN-GP, use LayerNorm over the channel dimension\n",
        "                self.norm = nn.LayerNorm(features)\n",
        "        else:\n",
        "            self.norm = nn.Identity()\n",
        "\n",
        "    def forward(self, x):\n",
        "        if isinstance(self.norm, nn.LayerNorm):\n",
        "            if x.dim() == 4:\n",
        "                # x is [N, C, H, W]; bring channels to last dimension\n",
        "                x = x.permute(0, 2, 3, 1)  # [N, H, W, C]\n",
        "                x = self.norm(x)\n",
        "                x = x.permute(0, 3, 1, 2)  # Back to [N, C, H, W]\n",
        "            elif x.dim() == 3:\n",
        "                # x is [N, C, L]; bring channels to last dimension\n",
        "                x = x.permute(0, 2, 1)  # [N, L, C]\n",
        "                x = self.norm(x)\n",
        "                x = x.permute(0, 2, 1)  # Back to [N, C, L]\n",
        "            else:\n",
        "                x = self.norm(x)\n",
        "            return x\n",
        "        else:\n",
        "            return self.norm(x)\n",
        "\n",
        "class Discriminator(nn.Module):\n",
        "    def __init__(self, model_type, arch_type, channels, num_classes, features):\n",
        "        super().__init__()\n",
        "        self.num_classes = num_classes\n",
        "        self.seq = nn.Sequential(\n",
        "            # Input: N x (channels + num_classes) x 28 x 28\n",
        "            nn.Conv2d(channels + num_classes, features, kernel_size=4, stride=2, padding=1, bias=False),\n",
        "            nn.LeakyReLU(0.2, inplace=True) if arch_type == 'a' else SoftplusAdjusted(),\n",
        "\n",
        "            nn.Conv2d(features, features * 2, kernel_size=4, stride=2, padding=1, bias=False),\n",
        "            Norm(model_type, arch_type, features * 2, 2),\n",
        "            nn.LeakyReLU(0.2, inplace=True) if arch_type == 'a' else SoftplusAdjusted(),\n",
        "\n",
        "            nn.Conv2d(features * 2, features * 4, kernel_size=4, stride=2, padding=1, bias=False),\n",
        "            Norm(model_type, arch_type, features * 4, 2),\n",
        "            nn.LeakyReLU(0.2, inplace=True) if arch_type == 'a' else SoftplusAdjusted(),\n",
        "\n",
        "            nn.Conv2d(features * 4, features * 8, kernel_size=3, stride=2, padding=0, bias=False),\n",
        "            Norm(model_type, arch_type, features * 8, 2),\n",
        "            nn.LeakyReLU(0.2, inplace=True) if arch_type == 'a' else SoftplusAdjusted(),\n",
        "\n",
        "            nn.Flatten(),\n",
        "            nn.Linear(features * 8, 1),\n",
        "            nn.Sigmoid() if model_type == 'dc' else nn.Identity()\n",
        "        )\n",
        "        self.apply(self.weights_init)\n",
        "\n",
        "    def forward(self, x, labels):\n",
        "        batch_size, _, height, width = x.shape\n",
        "        labels = labels.view(batch_size, self.num_classes, 1, 1)\n",
        "        labels = labels.repeat(1, 1, height, width)\n",
        "        x = torch.cat((x, labels), dim=1)\n",
        "        return self.seq(x).view(-1)\n",
        "\n",
        "    def weights_init(self, m):\n",
        "        classname = m.__class__.__name__\n",
        "        if classname.find('Conv') != -1:\n",
        "            nn.init.normal_(m.weight.data, 0.0, 0.02)\n",
        "        elif classname.find('BatchNorm') != -1:\n",
        "            nn.init.normal_(m.weight.data, 1.0, 0.02)\n",
        "            nn.init.constant_(m.bias.data, 0)\n",
        "\n",
        "class Generator(nn.Module):\n",
        "    def __init__(self, model_type, arch_type, z_dim, num_classes, channels, features):\n",
        "        super().__init__()\n",
        "        self.num_classes = num_classes\n",
        "        self.z_dim = z_dim\n",
        "        self.seq = nn.Sequential(\n",
        "            # Project and reshape\n",
        "            nn.Linear(z_dim + num_classes, features * 8),\n",
        "            Norm(model_type, arch_type, features * 8, 1),\n",
        "            nn.Unflatten(1, (features * 8, 1, 1)),\n",
        "\n",
        "            # First upsampling block\n",
        "            nn.ConvTranspose2d(features * 8, features * 4, kernel_size=3, stride=2, padding=0, bias=False),\n",
        "            Norm(model_type, arch_type, features * 4, 2),\n",
        "            nn.LeakyReLU(0.2, inplace=True) if arch_type == 'a' else SoftplusAdjusted(),\n",
        "\n",
        "            # Second upsampling block\n",
        "            nn.ConvTranspose2d(features * 4, features * 2, kernel_size=4, stride=2, padding=1, output_padding=1, bias=False),\n",
        "            Norm(model_type, arch_type, features * 2, 2),\n",
        "            nn.LeakyReLU(0.2, inplace=True) if arch_type == 'a' else SoftplusAdjusted(),\n",
        "\n",
        "            # Third upsampling block\n",
        "            nn.ConvTranspose2d(features * 2, features, kernel_size=4, stride=2, padding=1, bias=False),\n",
        "            Norm(model_type, arch_type, features, 2),\n",
        "            nn.LeakyReLU(0.2, inplace=True) if arch_type == 'a' else SoftplusAdjusted(),\n",
        "\n",
        "            # Output layer\n",
        "            nn.ConvTranspose2d(features, channels, kernel_size=4, stride=2, padding=1, bias=False),\n",
        "            nn.Tanh()\n",
        "        )\n",
        "        self.apply(self.weights_init)\n",
        "\n",
        "    def forward(self, noise, labels):\n",
        "        batch_size = noise.size(0)\n",
        "        # labels = labels.view(batch_size, self.num_classes, 1, 1)\n",
        "        x = torch.cat((noise.squeeze(), labels), dim=1)\n",
        "        return self.seq(x)\n",
        "\n",
        "    def weights_init(self, m):\n",
        "        classname = m.__class__.__name__\n",
        "        if classname.find('Conv') != -1:\n",
        "            nn.init.normal_(m.weight.data, 0.0, 0.02)\n",
        "        elif classname.find('BatchNorm') != -1:\n",
        "            nn.init.normal_(m.weight.data, 1.0, 0.02)\n",
        "            nn.init.constant_(m.bias.data, 0)"
      ]
    },
    {
      "cell_type": "markdown",
      "metadata": {
        "id": "jjrlwxlB2f0W"
      },
      "source": [
        "### DCGAN"
      ]
    },
    {
      "cell_type": "code",
      "source": [
        "class DCGAN:\n",
        "    def __init__(self, arch_type, z_dim, num_classes, channels, features, device):\n",
        "        self.z_dim = z_dim\n",
        "        self.channels = channels\n",
        "        self.features = features\n",
        "        self.model_type = 'dc'\n",
        "        self.arch_type = arch_type\n",
        "        self.discriminator = Discriminator(self.model_type, arch_type, channels, num_classes, features).to(device)\n",
        "        self.optim_discrim = optim.Adam(self.discriminator.parameters(), lr=2e-4, betas=(0.5, 0.999)) #, betas=(0.5, 0.999)\n",
        "        self.generator = Generator(self.model_type, arch_type, z_dim, num_classes, channels, features).to(device)\n",
        "        self.optim_gen = optim.Adam(self.generator.parameters(), lr=2e-4, betas=(0.5, 0.999))\n",
        "        self.loss = nn.BCELoss()\n",
        "        self.device = device\n",
        "\n",
        "    def train_discriminator(self, real_imgs, real_labels, fake_labels, batch_size):\n",
        "        self.optim_discrim.zero_grad()\n",
        "\n",
        "        real_imgs = real_imgs.to(self.device)\n",
        "        real_labels = real_labels.to(self.device)\n",
        "\n",
        "        # Train on real images\n",
        "        output_real = self.discriminator(real_imgs, real_labels).view(-1)\n",
        "        real_targets = torch.ones_like(output_real)\n",
        "        real_loss = self.loss(output_real, real_targets)\n",
        "        real_loss.backward()\n",
        "        avg_real = output_real.mean().item()\n",
        "\n",
        "        # Generate fake images\n",
        "        noise = torch.randn(batch_size, self.z_dim, 1, 1, device=self.device)\n",
        "        fake_imgs = self.generator(noise, fake_labels)\n",
        "        output_fake = self.discriminator(fake_imgs.detach(), fake_labels).view(-1)\n",
        "        fake_targets = torch.zeros_like(output_fake)\n",
        "        fake_loss = self.loss(output_fake, fake_targets)\n",
        "        fake_loss.backward()\n",
        "        avg_fake = output_fake.mean().item()\n",
        "\n",
        "        discrim_loss = real_loss + fake_loss\n",
        "        self.optim_discrim.step()\n",
        "\n",
        "        return fake_imgs, discrim_loss.item(), avg_real, avg_fake\n",
        "\n",
        "\n",
        "    def train_generator(self, fake_imgs, fake_labels):\n",
        "        self.optim_gen.zero_grad()\n",
        "        output = self.discriminator(fake_imgs, fake_labels).view(-1)\n",
        "        real_targets = torch.ones_like(output)\n",
        "        gen_loss = self.loss(output, real_targets)\n",
        "        gen_loss.backward()\n",
        "        self.optim_gen.step()\n",
        "        return gen_loss.item(), output.mean().item()\n",
        "\n",
        "    def train_one_epoch(self, train_loader, batch_size):\n",
        "        for i, (real_imgs, real_labels) in enumerate(train_loader):\n",
        "            current_batch_size = real_imgs.size(0)\n",
        "\n",
        "            fake_labels = F.one_hot(torch.randint(0, 10, (current_batch_size,), device=self.device), num_classes=10).float()\n",
        "\n",
        "            fake_imgs, discrim_loss, avg_real, avg_fake1 = self.train_discriminator(real_imgs, real_labels, fake_labels, current_batch_size)\n",
        "            gen_loss, avg_fake2 = self.train_generator(fake_imgs, fake_labels)\n",
        "\n",
        "            if i % 100 == 0 and i != 0:\n",
        "                print(f'[{i}/{len(train_loader)}] DLoss: {discrim_loss:.4f} GLoss: {gen_loss: .4f}, D(x): {avg_real:.4f} D(G(z)): {avg_fake1:.4f}/{avg_fake2:.4f}')\n",
        "\n",
        "            wandb.log({\n",
        "                \"Discriminator Loss\": discrim_loss,\n",
        "                \"Generator Loss\": gen_loss\n",
        "            })\n",
        "\n",
        "\n",
        "    def train(self, traindataloader, epochs, batch_size, noise):\n",
        "        wandb.init(project='dcgan', config ={\n",
        "            'epochs': epochs,\n",
        "            'batch_size': batch_size,\n",
        "            'noise': noise\n",
        "        })\n",
        "        print(f'----------- {self.__class__.__name__} Train Start! ------------')\n",
        "        for epoch in range(epochs):\n",
        "            print(f'----------- Epoch #{epoch + 1} ------------')\n",
        "            self.train_one_epoch(traindataloader, batch_size)\n",
        "\n",
        "        wandb.finish()\n",
        "\n",
        "    def generate_images(self, num_images, labels):\n",
        "        self.generator.eval()\n",
        "        with torch.no_grad():  # Disable gradient calculation\n",
        "            noise = torch.randn(num_images, self.z_dim, 1, 1, device=self.device)\n",
        "            generated_images = self.generator(noise, labels)\n",
        "            # generated_images = (generated_images + 1) / 2\n",
        "            grid = torchvision.utils.make_grid(generated_images.cpu(), nrow=4, padding=2, normalize=True)\n",
        "            np_grid = grid.permute(1, 2, 0).numpy()\n",
        "            plt.imshow(np_grid)\n",
        "            plt.axis('off')\n"
      ],
      "metadata": {
        "id": "mbiSVRZidl39"
      },
      "execution_count": 49,
      "outputs": []
    },
    {
      "cell_type": "code",
      "source": [
        "wandb.finish()"
      ],
      "metadata": {
        "colab": {
          "base_uri": "https://localhost:8080/",
          "height": 87,
          "referenced_widgets": [
            "d8306d3c4c8d4da8a3305890f3641f7f",
            "3a8f8b2f831f4aeb9cff712d65db6ac9",
            "7a7540c22fb24d11aae421c5a62cd46f",
            "c82aadbeeddf471183680d62b62277b5",
            "559ea85f41ed4bc3ad047cbf97fc06f4",
            "a671e768471140528dc8ddf39f525fe4",
            "a8cbf343e4bb46a98d0db67e7a42d539",
            "74406b66f75c43148540e8cdcc2a235e"
          ]
        },
        "id": "YcJhCsytqcvB",
        "outputId": "a9d738f3-1f3a-4b3d-ec20-0878bfb98934"
      },
      "execution_count": 50,
      "outputs": [
        {
          "output_type": "display_data",
          "data": {
            "text/plain": [
              "VBox(children=(Label(value='0.011 MB of 0.011 MB uploaded\\r'), FloatProgress(value=1.0, max=1.0)))"
            ],
            "application/vnd.jupyter.widget-view+json": {
              "version_major": 2,
              "version_minor": 0,
              "model_id": "d8306d3c4c8d4da8a3305890f3641f7f"
            }
          },
          "metadata": {}
        },
        {
          "output_type": "display_data",
          "data": {
            "text/plain": [
              "<IPython.core.display.HTML object>"
            ],
            "text/html": [
              " View run <strong style=\"color:#cdcd00\">light-bush-23</strong> at: <a href='https://wandb.ai/mitkrieger-cornell-university/dcgan/runs/aj5gu3qf' target=\"_blank\">https://wandb.ai/mitkrieger-cornell-university/dcgan/runs/aj5gu3qf</a><br/> View project at: <a href='https://wandb.ai/mitkrieger-cornell-university/dcgan' target=\"_blank\">https://wandb.ai/mitkrieger-cornell-university/dcgan</a><br/>Synced 5 W&B file(s), 0 media file(s), 0 artifact file(s) and 0 other file(s)"
            ]
          },
          "metadata": {}
        },
        {
          "output_type": "display_data",
          "data": {
            "text/plain": [
              "<IPython.core.display.HTML object>"
            ],
            "text/html": [
              "Find logs at: <code>./wandb/run-20241017_181803-aj5gu3qf/logs</code>"
            ]
          },
          "metadata": {}
        }
      ]
    },
    {
      "cell_type": "code",
      "execution_count": 38,
      "metadata": {
        "colab": {
          "base_uri": "https://localhost:8080/",
          "height": 1000,
          "referenced_widgets": [
            "b50e4f4b7e984026ac39013f46026491",
            "a5fa5e8ecca546b19c152ebc7a646912",
            "a8b8a381be774eba949e74cb3a8725e8",
            "09fc24ac2f38458c852953fd83115883",
            "4ae911b007cc40aca10b493c9b701ade",
            "6a6d870c7bc649c1afe0a29770789d0e",
            "9e6e8eb4c9b0436589ab2bf57f4fc56a",
            "af0dbf01ec574013a760159f242c039a"
          ]
        },
        "id": "PMUn4KVD94gk",
        "outputId": "fdb78ab5-4cc4-4642-faf5-ac8f940486d7"
      },
      "outputs": [
        {
          "output_type": "display_data",
          "data": {
            "text/plain": [
              "<IPython.core.display.HTML object>"
            ],
            "text/html": [
              "Tracking run with wandb version 0.18.3"
            ]
          },
          "metadata": {}
        },
        {
          "output_type": "display_data",
          "data": {
            "text/plain": [
              "<IPython.core.display.HTML object>"
            ],
            "text/html": [
              "Run data is saved locally in <code>/content/wandb/run-20241017_180738-uvqh70kp</code>"
            ]
          },
          "metadata": {}
        },
        {
          "output_type": "display_data",
          "data": {
            "text/plain": [
              "<IPython.core.display.HTML object>"
            ],
            "text/html": [
              "Syncing run <strong><a href='https://wandb.ai/mitkrieger-cornell-university/dcgan/runs/uvqh70kp' target=\"_blank\">prime-cherry-22</a></strong> to <a href='https://wandb.ai/mitkrieger-cornell-university/dcgan' target=\"_blank\">Weights & Biases</a> (<a href='https://wandb.me/run' target=\"_blank\">docs</a>)<br/>"
            ]
          },
          "metadata": {}
        },
        {
          "output_type": "display_data",
          "data": {
            "text/plain": [
              "<IPython.core.display.HTML object>"
            ],
            "text/html": [
              " View project at <a href='https://wandb.ai/mitkrieger-cornell-university/dcgan' target=\"_blank\">https://wandb.ai/mitkrieger-cornell-university/dcgan</a>"
            ]
          },
          "metadata": {}
        },
        {
          "output_type": "display_data",
          "data": {
            "text/plain": [
              "<IPython.core.display.HTML object>"
            ],
            "text/html": [
              " View run at <a href='https://wandb.ai/mitkrieger-cornell-university/dcgan/runs/uvqh70kp' target=\"_blank\">https://wandb.ai/mitkrieger-cornell-university/dcgan/runs/uvqh70kp</a>"
            ]
          },
          "metadata": {}
        },
        {
          "output_type": "stream",
          "name": "stdout",
          "text": [
            "----------- DCGAN Train Start! ------------\n",
            "----------- Epoch #1 ------------\n",
            "[100/1094] DLoss: 1.2580 GLoss:  0.9193, D(x): 0.5134 D(G(z)): 0.4239/0.4173\n",
            "[200/1094] DLoss: 1.1447 GLoss:  0.8622, D(x): 0.5781 D(G(z)): 0.4395/0.4262\n",
            "[300/1094] DLoss: 1.2004 GLoss:  0.8548, D(x): 0.5194 D(G(z)): 0.4100/0.4334\n",
            "[400/1094] DLoss: 1.1299 GLoss:  1.0058, D(x): 0.5436 D(G(z)): 0.3883/0.3727\n",
            "[500/1094] DLoss: 1.1929 GLoss:  1.0086, D(x): 0.5501 D(G(z)): 0.4296/0.3786\n",
            "[600/1094] DLoss: 1.1566 GLoss:  1.0313, D(x): 0.4997 D(G(z)): 0.3521/0.3672\n",
            "[700/1094] DLoss: 1.1285 GLoss:  0.9708, D(x): 0.6168 D(G(z)): 0.4629/0.3854\n",
            "[800/1094] DLoss: 1.1348 GLoss:  1.0323, D(x): 0.5548 D(G(z)): 0.3913/0.3668\n",
            "[900/1094] DLoss: 1.1650 GLoss:  1.0201, D(x): 0.5699 D(G(z)): 0.4342/0.3715\n",
            "[1000/1094] DLoss: 1.1651 GLoss:  0.9891, D(x): 0.5379 D(G(z)): 0.4031/0.3806\n",
            "----------- Epoch #2 ------------\n",
            "[100/1094] DLoss: 0.9921 GLoss:  1.0755, D(x): 0.5874 D(G(z)): 0.3480/0.3525\n",
            "[200/1094] DLoss: 1.0805 GLoss:  1.1424, D(x): 0.6884 D(G(z)): 0.4893/0.3333\n",
            "[300/1094] DLoss: 1.0792 GLoss:  1.3719, D(x): 0.6341 D(G(z)): 0.4354/0.2660\n",
            "[400/1094] DLoss: 1.1612 GLoss:  1.2611, D(x): 0.6373 D(G(z)): 0.4821/0.2962\n",
            "[500/1094] DLoss: 1.0832 GLoss:  1.3505, D(x): 0.5477 D(G(z)): 0.3489/0.2880\n",
            "[600/1094] DLoss: 0.8428 GLoss:  1.3919, D(x): 0.6589 D(G(z)): 0.3302/0.2578\n",
            "[700/1094] DLoss: 1.0255 GLoss:  1.3829, D(x): 0.6305 D(G(z)): 0.4050/0.2668\n",
            "[800/1094] DLoss: 0.9514 GLoss:  1.1412, D(x): 0.6275 D(G(z)): 0.3573/0.3347\n",
            "[900/1094] DLoss: 0.9863 GLoss:  1.3212, D(x): 0.6095 D(G(z)): 0.3588/0.2931\n",
            "[1000/1094] DLoss: 1.0677 GLoss:  1.2033, D(x): 0.6127 D(G(z)): 0.4027/0.3274\n",
            "----------- Epoch #3 ------------\n",
            "[100/1094] DLoss: 1.1423 GLoss:  1.2567, D(x): 0.5843 D(G(z)): 0.4292/0.2996\n",
            "[200/1094] DLoss: 0.8140 GLoss:  1.5112, D(x): 0.6811 D(G(z)): 0.3275/0.2259\n",
            "[300/1094] DLoss: 0.9083 GLoss:  1.5120, D(x): 0.5781 D(G(z)): 0.2682/0.2326\n",
            "[400/1094] DLoss: 0.9414 GLoss:  1.3948, D(x): 0.6333 D(G(z)): 0.3577/0.2622\n",
            "[500/1094] DLoss: 1.0598 GLoss:  1.5749, D(x): 0.6544 D(G(z)): 0.4347/0.2409\n",
            "[600/1094] DLoss: 1.0856 GLoss:  1.5900, D(x): 0.6601 D(G(z)): 0.4585/0.2134\n",
            "[700/1094] DLoss: 0.9171 GLoss:  1.3293, D(x): 0.6824 D(G(z)): 0.3746/0.2897\n",
            "[800/1094] DLoss: 0.9063 GLoss:  1.3457, D(x): 0.6812 D(G(z)): 0.3812/0.2816\n",
            "[900/1094] DLoss: 0.9371 GLoss:  1.4021, D(x): 0.7077 D(G(z)): 0.4143/0.2602\n",
            "[1000/1094] DLoss: 0.8168 GLoss:  1.7719, D(x): 0.5794 D(G(z)): 0.1991/0.1834\n",
            "----------- Epoch #4 ------------\n",
            "[100/1094] DLoss: 0.7630 GLoss:  1.6340, D(x): 0.6882 D(G(z)): 0.3020/0.2059\n",
            "[200/1094] DLoss: 0.6845 GLoss:  1.6239, D(x): 0.7423 D(G(z)): 0.3012/0.2107\n",
            "[300/1094] DLoss: 0.9774 GLoss:  1.1895, D(x): 0.5291 D(G(z)): 0.2406/0.3259\n",
            "[400/1094] DLoss: 0.8967 GLoss:  1.7988, D(x): 0.6842 D(G(z)): 0.3618/0.1849\n",
            "[500/1094] DLoss: 0.9471 GLoss:  1.6278, D(x): 0.5795 D(G(z)): 0.2878/0.2139\n",
            "[600/1094] DLoss: 0.7768 GLoss:  1.4128, D(x): 0.6839 D(G(z)): 0.3049/0.2631\n",
            "[700/1094] DLoss: 0.7344 GLoss:  1.7704, D(x): 0.6598 D(G(z)): 0.2464/0.1841\n",
            "[800/1094] DLoss: 0.8024 GLoss:  1.4925, D(x): 0.6578 D(G(z)): 0.2788/0.2421\n",
            "[900/1094] DLoss: 0.7314 GLoss:  1.9509, D(x): 0.6945 D(G(z)): 0.2725/0.1604\n",
            "[1000/1094] DLoss: 0.9398 GLoss:  1.2652, D(x): 0.5470 D(G(z)): 0.2488/0.3191\n",
            "----------- Epoch #5 ------------\n",
            "[100/1094] DLoss: 0.8575 GLoss:  1.7206, D(x): 0.7022 D(G(z)): 0.3469/0.2049\n",
            "[200/1094] DLoss: 0.7093 GLoss:  2.2412, D(x): 0.7852 D(G(z)): 0.3401/0.1210\n",
            "[300/1094] DLoss: 0.7758 GLoss:  1.8680, D(x): 0.7624 D(G(z)): 0.3641/0.1723\n",
            "[400/1094] DLoss: 0.9165 GLoss:  2.4013, D(x): 0.8524 D(G(z)): 0.4979/0.1067\n",
            "[500/1094] DLoss: 0.7933 GLoss:  2.2673, D(x): 0.7730 D(G(z)): 0.3690/0.1209\n",
            "[600/1094] DLoss: 0.9522 GLoss:  1.1806, D(x): 0.5544 D(G(z)): 0.2461/0.3303\n",
            "[700/1094] DLoss: 0.4989 GLoss:  2.0643, D(x): 0.7759 D(G(z)): 0.2016/0.1370\n",
            "[800/1094] DLoss: 0.9663 GLoss:  1.9076, D(x): 0.7303 D(G(z)): 0.4352/0.1696\n",
            "[900/1094] DLoss: 0.8808 GLoss:  2.2508, D(x): 0.7371 D(G(z)): 0.3949/0.1319\n",
            "[1000/1094] DLoss: 0.6538 GLoss:  1.5716, D(x): 0.6611 D(G(z)): 0.1791/0.2323\n",
            "----------- Epoch #6 ------------\n",
            "[100/1094] DLoss: 0.7434 GLoss:  2.2084, D(x): 0.7321 D(G(z)): 0.3094/0.1267\n",
            "[200/1094] DLoss: 0.8309 GLoss:  1.8135, D(x): 0.7100 D(G(z)): 0.3453/0.1951\n",
            "[300/1094] DLoss: 0.6422 GLoss:  1.9732, D(x): 0.7495 D(G(z)): 0.2666/0.1488\n",
            "[400/1094] DLoss: 0.8205 GLoss:  1.6867, D(x): 0.5947 D(G(z)): 0.2127/0.2015\n",
            "[500/1094] DLoss: 0.5939 GLoss:  1.9458, D(x): 0.8093 D(G(z)): 0.2940/0.1552\n",
            "[600/1094] DLoss: 0.8345 GLoss:  2.1167, D(x): 0.7996 D(G(z)): 0.3926/0.1515\n",
            "[700/1094] DLoss: 0.7625 GLoss:  2.1819, D(x): 0.7517 D(G(z)): 0.3260/0.1317\n",
            "[800/1094] DLoss: 0.4949 GLoss:  2.3886, D(x): 0.7501 D(G(z)): 0.1584/0.1057\n",
            "[900/1094] DLoss: 0.8642 GLoss:  1.6753, D(x): 0.5392 D(G(z)): 0.1656/0.2066\n",
            "[1000/1094] DLoss: 0.7851 GLoss:  2.8371, D(x): 0.9105 D(G(z)): 0.4654/0.0696\n",
            "----------- Epoch #7 ------------\n",
            "[100/1094] DLoss: 0.8632 GLoss:  1.9741, D(x): 0.6828 D(G(z)): 0.2867/0.1651\n",
            "[200/1094] DLoss: 0.8184 GLoss:  2.8238, D(x): 0.8758 D(G(z)): 0.4540/0.0712\n",
            "[300/1094] DLoss: 0.7611 GLoss:  2.0018, D(x): 0.6902 D(G(z)): 0.2689/0.1590\n",
            "[400/1094] DLoss: 1.1265 GLoss:  3.0079, D(x): 0.8895 D(G(z)): 0.5767/0.0760\n",
            "[500/1094] DLoss: 0.4678 GLoss:  2.1208, D(x): 0.8818 D(G(z)): 0.2672/0.1362\n",
            "[600/1094] DLoss: 0.7456 GLoss:  1.8784, D(x): 0.6034 D(G(z)): 0.1589/0.1851\n",
            "[700/1094] DLoss: 0.6235 GLoss:  1.4729, D(x): 0.6248 D(G(z)): 0.1033/0.2661\n",
            "[800/1094] DLoss: 0.5348 GLoss:  1.3653, D(x): 0.7290 D(G(z)): 0.1590/0.2979\n",
            "[900/1094] DLoss: 0.5291 GLoss:  2.4157, D(x): 0.8682 D(G(z)): 0.2887/0.1003\n",
            "[1000/1094] DLoss: 0.4835 GLoss:  2.3106, D(x): 0.7949 D(G(z)): 0.1942/0.1095\n",
            "----------- Epoch #8 ------------\n",
            "[100/1094] DLoss: 0.6399 GLoss:  2.2755, D(x): 0.7423 D(G(z)): 0.2373/0.1203\n",
            "[200/1094] DLoss: 0.5354 GLoss:  2.4547, D(x): 0.6842 D(G(z)): 0.1037/0.1023\n",
            "[300/1094] DLoss: 0.3814 GLoss:  2.4083, D(x): 0.7824 D(G(z)): 0.1032/0.1138\n",
            "[400/1094] DLoss: 0.5265 GLoss:  2.5866, D(x): 0.8066 D(G(z)): 0.2405/0.0928\n",
            "[500/1094] DLoss: 0.8780 GLoss:  1.7042, D(x): 0.6145 D(G(z)): 0.2325/0.2585\n",
            "[600/1094] DLoss: 0.5139 GLoss:  2.6643, D(x): 0.7310 D(G(z)): 0.1342/0.0919\n",
            "[700/1094] DLoss: 0.4865 GLoss:  3.0898, D(x): 0.7281 D(G(z)): 0.1112/0.0538\n",
            "[800/1094] DLoss: 0.5806 GLoss:  1.6431, D(x): 0.6987 D(G(z)): 0.1647/0.2123\n",
            "[900/1094] DLoss: 0.4365 GLoss:  2.3194, D(x): 0.8167 D(G(z)): 0.1851/0.1095\n",
            "[1000/1094] DLoss: 0.5418 GLoss:  2.3696, D(x): 0.8506 D(G(z)): 0.2771/0.1064\n",
            "----------- Epoch #9 ------------\n",
            "[100/1094] DLoss: 0.5066 GLoss:  3.2818, D(x): 0.8449 D(G(z)): 0.2585/0.0505\n",
            "[200/1094] DLoss: 0.5787 GLoss:  1.6623, D(x): 0.7123 D(G(z)): 0.1818/0.2148\n",
            "[300/1094] DLoss: 0.4072 GLoss:  2.9311, D(x): 0.9065 D(G(z)): 0.2421/0.0661\n",
            "[400/1094] DLoss: 0.3632 GLoss:  2.3057, D(x): 0.8680 D(G(z)): 0.1766/0.1145\n",
            "[500/1094] DLoss: 0.4221 GLoss:  2.4489, D(x): 0.7508 D(G(z)): 0.1012/0.1085\n",
            "[600/1094] DLoss: 0.7015 GLoss:  1.7784, D(x): 0.6123 D(G(z)): 0.1276/0.2293\n",
            "[700/1094] DLoss: 0.7872 GLoss:  3.4317, D(x): 0.8468 D(G(z)): 0.4203/0.0455\n",
            "[800/1094] DLoss: 0.4068 GLoss:  2.8294, D(x): 0.8249 D(G(z)): 0.1694/0.0709\n",
            "[900/1094] DLoss: 0.5720 GLoss:  3.0691, D(x): 0.8029 D(G(z)): 0.2555/0.0551\n",
            "[1000/1094] DLoss: 0.6124 GLoss:  2.2490, D(x): 0.7754 D(G(z)): 0.2696/0.1194\n",
            "----------- Epoch #10 ------------\n",
            "[100/1094] DLoss: 0.5594 GLoss:  2.0749, D(x): 0.7179 D(G(z)): 0.1553/0.1518\n",
            "[200/1094] DLoss: 0.4421 GLoss:  2.9327, D(x): 0.8880 D(G(z)): 0.2499/0.0692\n",
            "[300/1094] DLoss: 0.5648 GLoss:  2.4041, D(x): 0.7261 D(G(z)): 0.1745/0.1233\n",
            "[400/1094] DLoss: 0.5916 GLoss:  2.3512, D(x): 0.6900 D(G(z)): 0.1444/0.1143\n",
            "[500/1094] DLoss: 0.7727 GLoss:  3.3854, D(x): 0.9322 D(G(z)): 0.4548/0.0726\n",
            "[600/1094] DLoss: 0.3077 GLoss:  3.0042, D(x): 0.8483 D(G(z)): 0.1115/0.0675\n",
            "[700/1094] DLoss: 0.4728 GLoss:  1.9730, D(x): 0.7219 D(G(z)): 0.1015/0.1697\n",
            "[800/1094] DLoss: 0.2940 GLoss:  3.4528, D(x): 0.8511 D(G(z)): 0.0962/0.0374\n",
            "[900/1094] DLoss: 0.6236 GLoss:  1.8775, D(x): 0.7008 D(G(z)): 0.1865/0.1892\n",
            "[1000/1094] DLoss: 0.5878 GLoss:  2.9309, D(x): 0.9080 D(G(z)): 0.3245/0.0772\n"
          ]
        },
        {
          "output_type": "display_data",
          "data": {
            "text/plain": [
              "VBox(children=(Label(value='0.019 MB of 0.019 MB uploaded\\r'), FloatProgress(value=1.0, max=1.0)))"
            ],
            "application/vnd.jupyter.widget-view+json": {
              "version_major": 2,
              "version_minor": 0,
              "model_id": "b50e4f4b7e984026ac39013f46026491"
            }
          },
          "metadata": {}
        },
        {
          "output_type": "display_data",
          "data": {
            "text/plain": [
              "<IPython.core.display.HTML object>"
            ],
            "text/html": [
              "<style>\n",
              "    table.wandb td:nth-child(1) { padding: 0 10px; text-align: left ; width: auto;} td:nth-child(2) {text-align: left ; width: 100%}\n",
              "    .wandb-row { display: flex; flex-direction: row; flex-wrap: wrap; justify-content: flex-start; width: 100% }\n",
              "    .wandb-col { display: flex; flex-direction: column; flex-basis: 100%; flex: 1; padding: 10px; }\n",
              "    </style>\n",
              "<div class=\"wandb-row\"><div class=\"wandb-col\"><h3>Run history:</h3><br/><table class=\"wandb\"><tr><td>Discriminator Loss</td><td>▆█▆▇▆▆▆▅▆▅▆▆▅█▄▅▄▅▅▅▆▅▄▅▄▄▃▃▃▃▁▄▃▃▃▅▁▁▁▂</td></tr><tr><td>Generator Loss</td><td>▁▁▁▁▂▁▂▄▃▃▂▃▄▃▃▃▂▄▅▄▂▅▄▅▃▄▅▅▄▅▇▅▅▄▆▅▅▅▃█</td></tr></table><br/></div><div class=\"wandb-col\"><h3>Run summary:</h3><br/><table class=\"wandb\"><tr><td>Discriminator Loss</td><td>0.49282</td></tr><tr><td>Generator Loss</td><td>2.76653</td></tr></table><br/></div></div>"
            ]
          },
          "metadata": {}
        },
        {
          "output_type": "display_data",
          "data": {
            "text/plain": [
              "<IPython.core.display.HTML object>"
            ],
            "text/html": [
              " View run <strong style=\"color:#cdcd00\">prime-cherry-22</strong> at: <a href='https://wandb.ai/mitkrieger-cornell-university/dcgan/runs/uvqh70kp' target=\"_blank\">https://wandb.ai/mitkrieger-cornell-university/dcgan/runs/uvqh70kp</a><br/> View project at: <a href='https://wandb.ai/mitkrieger-cornell-university/dcgan' target=\"_blank\">https://wandb.ai/mitkrieger-cornell-university/dcgan</a><br/>Synced 5 W&B file(s), 0 media file(s), 0 artifact file(s) and 0 other file(s)"
            ]
          },
          "metadata": {}
        },
        {
          "output_type": "display_data",
          "data": {
            "text/plain": [
              "<IPython.core.display.HTML object>"
            ],
            "text/html": [
              "Find logs at: <code>./wandb/run-20241017_180738-uvqh70kp/logs</code>"
            ]
          },
          "metadata": {}
        }
      ],
      "source": [
        "dc = DCGAN('a', 100, 10, 1, 64, device)\n",
        "dc.train(traindataloader, 10, 64, 100)"
      ]
    },
    {
      "cell_type": "code",
      "source": [
        "torch.save(dc.generator.state_dict(), '/content/drive/MyDrive/DL3/dc_generator_arch_a.pth')\n",
        "torch.save(dc.discriminator.state_dict(), '/content/drive/MyDrive/DL3/dc_discriminator_arch_a.pth')"
      ],
      "metadata": {
        "id": "YRwx2xnFDp0o"
      },
      "execution_count": 43,
      "outputs": []
    },
    {
      "cell_type": "code",
      "execution_count": 39,
      "metadata": {
        "colab": {
          "base_uri": "https://localhost:8080/",
          "height": 167
        },
        "id": "XmgaCROs_9Eq",
        "outputId": "88e610fc-89c9-43a7-bd58-07735c3d3e92"
      },
      "outputs": [
        {
          "output_type": "display_data",
          "data": {
            "text/plain": [
              "<Figure size 640x480 with 1 Axes>"
            ],
            "image/png": "[encoded data removed]"
          },
          "metadata": {}
        }
      ],
      "source": [
        "dc.generate_images(4, F.one_hot(torch.tensor([3]*4, device=device), num_classes=10).float())"
      ]
    },
    {
      "cell_type": "code",
      "source": [
        "dc2 = DCGAN('b', 100, 10, 1, 64, device)\n",
        "dc2.train(traindataloader, 10, 64, 100)"
      ],
      "metadata": {
        "colab": {
          "base_uri": "https://localhost:8080/",
          "height": 1000,
          "referenced_widgets": [
            "d31275c8d47b4b729a95c70ad717aaef",
            "5833320e20fa4c0aa5b2b8005c2798c8",
            "553fe444566d46839d82e5f283a6214c",
            "345e4af935b4412183c3878562c6cd15",
            "3e8bae2e83b44638acee2c988330cfcb",
            "1a3c15b461ae41a2b05dcc5ef1885dfa",
            "246b119061e147619d95cf175e504c85",
            "682eb8b5575b470db913d4cb267fc269"
          ]
        },
        "id": "w4hwqq9KrnM_",
        "outputId": "148e874c-c300-4f67-b33f-a47c9ae26974"
      },
      "execution_count": 51,
      "outputs": [
        {
          "output_type": "display_data",
          "data": {
            "text/plain": [
              "<IPython.core.display.HTML object>"
            ],
            "text/html": [
              "Tracking run with wandb version 0.18.3"
            ]
          },
          "metadata": {}
        },
        {
          "output_type": "display_data",
          "data": {
            "text/plain": [
              "<IPython.core.display.HTML object>"
            ],
            "text/html": [
              "Run data is saved locally in <code>/content/wandb/run-20241017_181915-klc8ccbb</code>"
            ]
          },
          "metadata": {}
        },
        {
          "output_type": "display_data",
          "data": {
            "text/plain": [
              "<IPython.core.display.HTML object>"
            ],
            "text/html": [
              "Syncing run <strong><a href='https://wandb.ai/mitkrieger-cornell-university/dcgan/runs/klc8ccbb' target=\"_blank\">warm-silence-24</a></strong> to <a href='https://wandb.ai/mitkrieger-cornell-university/dcgan' target=\"_blank\">Weights & Biases</a> (<a href='https://wandb.me/run' target=\"_blank\">docs</a>)<br/>"
            ]
          },
          "metadata": {}
        },
        {
          "output_type": "display_data",
          "data": {
            "text/plain": [
              "<IPython.core.display.HTML object>"
            ],
            "text/html": [
              " View project at <a href='https://wandb.ai/mitkrieger-cornell-university/dcgan' target=\"_blank\">https://wandb.ai/mitkrieger-cornell-university/dcgan</a>"
            ]
          },
          "metadata": {}
        },
        {
          "output_type": "display_data",
          "data": {
            "text/plain": [
              "<IPython.core.display.HTML object>"
            ],
            "text/html": [
              " View run at <a href='https://wandb.ai/mitkrieger-cornell-university/dcgan/runs/klc8ccbb' target=\"_blank\">https://wandb.ai/mitkrieger-cornell-university/dcgan/runs/klc8ccbb</a>"
            ]
          },
          "metadata": {}
        },
        {
          "output_type": "stream",
          "name": "stdout",
          "text": [
            "----------- DCGAN Train Start! ------------\n",
            "----------- Epoch #1 ------------\n",
            "[100/1094] DLoss: 1.8706 GLoss:  1.5128, D(x): 0.8174 D(G(z)): 0.8115/0.2203\n",
            "[200/1094] DLoss: 1.4065 GLoss:  0.7272, D(x): 0.5215 D(G(z)): 0.5301/0.4833\n",
            "[300/1094] DLoss: 1.2475 GLoss:  0.8062, D(x): 0.5419 D(G(z)): 0.4648/0.4469\n",
            "[400/1094] DLoss: 0.9271 GLoss:  1.5192, D(x): 0.6655 D(G(z)): 0.2161/0.2203\n",
            "[500/1094] DLoss: 0.4487 GLoss:  2.7371, D(x): 0.7945 D(G(z)): 0.0758/0.0934\n",
            "[600/1094] DLoss: 0.5881 GLoss:  1.8220, D(x): 0.7272 D(G(z)): 0.1602/0.1995\n",
            "[700/1094] DLoss: 0.3690 GLoss:  3.0885, D(x): 0.9053 D(G(z)): 0.1376/0.0736\n",
            "[800/1094] DLoss: 1.0654 GLoss:  1.5661, D(x): 0.8258 D(G(z)): 0.4986/0.2811\n",
            "[900/1094] DLoss: 1.0484 GLoss:  1.5518, D(x): 0.4822 D(G(z)): 0.1209/0.3716\n",
            "[1000/1094] DLoss: 0.6586 GLoss:  3.1775, D(x): 0.8591 D(G(z)): 0.2974/0.0769\n",
            "----------- Epoch #2 ------------\n",
            "[100/1094] DLoss: 1.0179 GLoss:  1.6473, D(x): 0.6507 D(G(z)): 0.3106/0.2627\n",
            "[200/1094] DLoss: 0.9156 GLoss:  1.3275, D(x): 0.6665 D(G(z)): 0.3337/0.3284\n",
            "[300/1094] DLoss: 1.0347 GLoss:  1.6151, D(x): 0.7384 D(G(z)): 0.4547/0.2377\n",
            "[400/1094] DLoss: 1.1424 GLoss:  1.5983, D(x): 0.6849 D(G(z)): 0.4672/0.2552\n",
            "[500/1094] DLoss: 1.0310 GLoss:  1.2767, D(x): 0.6248 D(G(z)): 0.3559/0.3115\n",
            "[600/1094] DLoss: 1.0008 GLoss:  1.3810, D(x): 0.6511 D(G(z)): 0.3829/0.2884\n",
            "[700/1094] DLoss: 1.0874 GLoss:  1.1971, D(x): 0.6189 D(G(z)): 0.3824/0.3409\n",
            "[800/1094] DLoss: 1.1774 GLoss:  0.9890, D(x): 0.5412 D(G(z)): 0.3693/0.3954\n",
            "[900/1094] DLoss: 0.9083 GLoss:  1.1992, D(x): 0.6222 D(G(z)): 0.2896/0.3433\n",
            "[1000/1094] DLoss: 1.2426 GLoss:  0.8283, D(x): 0.4456 D(G(z)): 0.2647/0.4770\n",
            "----------- Epoch #3 ------------\n",
            "[100/1094] DLoss: 1.1454 GLoss:  1.1054, D(x): 0.5343 D(G(z)): 0.3597/0.3556\n",
            "[200/1094] DLoss: 1.3357 GLoss:  1.0098, D(x): 0.5380 D(G(z)): 0.4652/0.3811\n",
            "[300/1094] DLoss: 1.1866 GLoss:  0.8576, D(x): 0.4934 D(G(z)): 0.3265/0.4635\n",
            "[400/1094] DLoss: 1.0856 GLoss:  1.2179, D(x): 0.6280 D(G(z)): 0.4183/0.3441\n",
            "[500/1094] DLoss: 1.2472 GLoss:  1.0838, D(x): 0.6168 D(G(z)): 0.4848/0.3803\n",
            "[600/1094] DLoss: 1.3964 GLoss:  1.0600, D(x): 0.5990 D(G(z)): 0.5398/0.3755\n",
            "[700/1094] DLoss: 1.1710 GLoss:  0.9992, D(x): 0.5589 D(G(z)): 0.4072/0.3951\n",
            "[800/1094] DLoss: 1.2138 GLoss:  1.0041, D(x): 0.6258 D(G(z)): 0.4918/0.3845\n",
            "[900/1094] DLoss: 1.1593 GLoss:  0.9189, D(x): 0.6055 D(G(z)): 0.4491/0.4111\n",
            "[1000/1094] DLoss: 1.3990 GLoss:  0.9830, D(x): 0.5423 D(G(z)): 0.4976/0.3918\n",
            "----------- Epoch #4 ------------\n",
            "[100/1094] DLoss: 1.2288 GLoss:  1.0117, D(x): 0.5470 D(G(z)): 0.4307/0.3774\n",
            "[200/1094] DLoss: 1.1100 GLoss:  1.1384, D(x): 0.5940 D(G(z)): 0.4070/0.3433\n",
            "[300/1094] DLoss: 1.3093 GLoss:  1.0428, D(x): 0.5916 D(G(z)): 0.4952/0.3731\n",
            "[400/1094] DLoss: 1.1300 GLoss:  1.0130, D(x): 0.5859 D(G(z)): 0.4085/0.3771\n",
            "[500/1094] DLoss: 1.1918 GLoss:  0.9973, D(x): 0.5571 D(G(z)): 0.4096/0.3923\n",
            "[600/1094] DLoss: 1.2533 GLoss:  1.0097, D(x): 0.5451 D(G(z)): 0.4175/0.3827\n",
            "[700/1094] DLoss: 1.2525 GLoss:  0.9997, D(x): 0.5434 D(G(z)): 0.4109/0.3935\n",
            "[800/1094] DLoss: 1.2807 GLoss:  1.0450, D(x): 0.5677 D(G(z)): 0.4430/0.3787\n",
            "[900/1094] DLoss: 1.2002 GLoss:  0.9000, D(x): 0.5875 D(G(z)): 0.4504/0.4191\n",
            "[1000/1094] DLoss: 1.1951 GLoss:  1.0227, D(x): 0.5876 D(G(z)): 0.4366/0.3792\n",
            "----------- Epoch #5 ------------\n",
            "[100/1094] DLoss: 1.2115 GLoss:  0.9910, D(x): 0.6075 D(G(z)): 0.4511/0.3892\n",
            "[200/1094] DLoss: 1.3046 GLoss:  1.0060, D(x): 0.5186 D(G(z)): 0.4210/0.3907\n",
            "[300/1094] DLoss: 1.3178 GLoss:  0.9651, D(x): 0.5700 D(G(z)): 0.4765/0.4014\n",
            "[400/1094] DLoss: 1.2635 GLoss:  1.1352, D(x): 0.6174 D(G(z)): 0.4883/0.3546\n",
            "[500/1094] DLoss: 1.2240 GLoss:  1.0347, D(x): 0.5516 D(G(z)): 0.4299/0.3802\n",
            "[600/1094] DLoss: 1.2801 GLoss:  1.0286, D(x): 0.5811 D(G(z)): 0.4507/0.3817\n",
            "[700/1094] DLoss: 1.2891 GLoss:  1.0648, D(x): 0.5270 D(G(z)): 0.4289/0.3722\n",
            "[800/1094] DLoss: 1.1955 GLoss:  1.2635, D(x): 0.5710 D(G(z)): 0.4020/0.3139\n",
            "[900/1094] DLoss: 1.2536 GLoss:  1.0339, D(x): 0.5537 D(G(z)): 0.4275/0.3762\n",
            "[1000/1094] DLoss: 1.1399 GLoss:  1.1159, D(x): 0.6106 D(G(z)): 0.4177/0.3518\n",
            "----------- Epoch #6 ------------\n",
            "[100/1094] DLoss: 1.1966 GLoss:  1.0571, D(x): 0.5896 D(G(z)): 0.4234/0.3681\n",
            "[200/1094] DLoss: 1.1996 GLoss:  1.0218, D(x): 0.6018 D(G(z)): 0.4446/0.3804\n",
            "[300/1094] DLoss: 1.2617 GLoss:  0.9603, D(x): 0.5429 D(G(z)): 0.4365/0.4044\n",
            "[400/1094] DLoss: 1.1923 GLoss:  1.1609, D(x): 0.5486 D(G(z)): 0.3886/0.3390\n",
            "[500/1094] DLoss: 1.2447 GLoss:  0.9787, D(x): 0.5836 D(G(z)): 0.4501/0.4021\n",
            "[600/1094] DLoss: 1.1279 GLoss:  1.0832, D(x): 0.6015 D(G(z)): 0.4049/0.3552\n",
            "[700/1094] DLoss: 1.1272 GLoss:  1.1188, D(x): 0.5679 D(G(z)): 0.3830/0.3463\n",
            "[800/1094] DLoss: 1.2415 GLoss:  1.0071, D(x): 0.5755 D(G(z)): 0.4408/0.3858\n",
            "[900/1094] DLoss: 1.1367 GLoss:  1.1500, D(x): 0.6338 D(G(z)): 0.4321/0.3489\n",
            "[1000/1094] DLoss: 1.1793 GLoss:  1.0584, D(x): 0.5863 D(G(z)): 0.4255/0.3651\n",
            "----------- Epoch #7 ------------\n",
            "[100/1094] DLoss: 1.2718 GLoss:  1.1185, D(x): 0.5298 D(G(z)): 0.3951/0.3630\n",
            "[200/1094] DLoss: 1.2920 GLoss:  1.0747, D(x): 0.5463 D(G(z)): 0.4272/0.3659\n",
            "[300/1094] DLoss: 1.2106 GLoss:  1.1263, D(x): 0.5673 D(G(z)): 0.4135/0.3431\n",
            "[400/1094] DLoss: 1.2453 GLoss:  1.0783, D(x): 0.5500 D(G(z)): 0.4155/0.3750\n",
            "[500/1094] DLoss: 1.1422 GLoss:  1.0892, D(x): 0.5793 D(G(z)): 0.4039/0.3751\n",
            "[600/1094] DLoss: 1.1579 GLoss:  1.0536, D(x): 0.6477 D(G(z)): 0.4663/0.3767\n",
            "[700/1094] DLoss: 1.2229 GLoss:  0.9794, D(x): 0.5594 D(G(z)): 0.4195/0.3977\n",
            "[800/1094] DLoss: 1.2189 GLoss:  1.1566, D(x): 0.6067 D(G(z)): 0.4489/0.3360\n",
            "[900/1094] DLoss: 1.1340 GLoss:  1.1146, D(x): 0.6016 D(G(z)): 0.4033/0.3476\n",
            "[1000/1094] DLoss: 1.1578 GLoss:  1.0775, D(x): 0.5927 D(G(z)): 0.4191/0.3602\n",
            "----------- Epoch #8 ------------\n",
            "[100/1094] DLoss: 1.2142 GLoss:  1.0914, D(x): 0.6286 D(G(z)): 0.4591/0.3581\n",
            "[200/1094] DLoss: 1.1366 GLoss:  1.1972, D(x): 0.5470 D(G(z)): 0.3558/0.3201\n",
            "[300/1094] DLoss: 1.2475 GLoss:  1.1644, D(x): 0.6158 D(G(z)): 0.4517/0.3489\n",
            "[400/1094] DLoss: 1.3112 GLoss:  1.1246, D(x): 0.5316 D(G(z)): 0.4300/0.3490\n",
            "[500/1094] DLoss: 1.2107 GLoss:  1.0656, D(x): 0.5928 D(G(z)): 0.4241/0.3636\n",
            "[600/1094] DLoss: 1.1458 GLoss:  1.1850, D(x): 0.5532 D(G(z)): 0.3641/0.3201\n",
            "[700/1094] DLoss: 1.1671 GLoss:  1.1006, D(x): 0.5592 D(G(z)): 0.3872/0.3576\n",
            "[800/1094] DLoss: 1.2685 GLoss:  1.0188, D(x): 0.5882 D(G(z)): 0.4555/0.3846\n",
            "[900/1094] DLoss: 1.2640 GLoss:  0.9688, D(x): 0.5578 D(G(z)): 0.4334/0.4068\n",
            "[1000/1094] DLoss: 1.1398 GLoss:  1.2839, D(x): 0.5603 D(G(z)): 0.3584/0.3177\n",
            "----------- Epoch #9 ------------\n",
            "[100/1094] DLoss: 1.0666 GLoss:  1.1658, D(x): 0.5969 D(G(z)): 0.3784/0.3375\n",
            "[200/1094] DLoss: 1.2454 GLoss:  1.1618, D(x): 0.5601 D(G(z)): 0.3950/0.3358\n",
            "[300/1094] DLoss: 1.1346 GLoss:  1.2468, D(x): 0.6341 D(G(z)): 0.4332/0.3087\n",
            "[400/1094] DLoss: 1.2084 GLoss:  1.1691, D(x): 0.5686 D(G(z)): 0.3888/0.3401\n",
            "[500/1094] DLoss: 1.1178 GLoss:  1.1061, D(x): 0.6068 D(G(z)): 0.3914/0.3605\n",
            "[600/1094] DLoss: 1.0707 GLoss:  1.4022, D(x): 0.6296 D(G(z)): 0.3738/0.2878\n",
            "[700/1094] DLoss: 1.0627 GLoss:  1.3124, D(x): 0.6208 D(G(z)): 0.3612/0.3102\n",
            "[800/1094] DLoss: 1.1428 GLoss:  1.0904, D(x): 0.6135 D(G(z)): 0.4143/0.3594\n",
            "[900/1094] DLoss: 0.9698 GLoss:  1.1907, D(x): 0.6519 D(G(z)): 0.3633/0.3260\n",
            "[1000/1094] DLoss: 1.0635 GLoss:  1.2257, D(x): 0.6038 D(G(z)): 0.3663/0.3231\n",
            "----------- Epoch #10 ------------\n",
            "[100/1094] DLoss: 1.1072 GLoss:  1.2134, D(x): 0.6049 D(G(z)): 0.3822/0.3224\n",
            "[200/1094] DLoss: 1.0493 GLoss:  1.1464, D(x): 0.6277 D(G(z)): 0.3843/0.3417\n",
            "[300/1094] DLoss: 1.0370 GLoss:  1.1973, D(x): 0.6395 D(G(z)): 0.3835/0.3367\n",
            "[400/1094] DLoss: 1.2163 GLoss:  1.1297, D(x): 0.5843 D(G(z)): 0.4242/0.3521\n",
            "[500/1094] DLoss: 1.0728 GLoss:  1.2033, D(x): 0.5894 D(G(z)): 0.3355/0.3270\n",
            "[600/1094] DLoss: 1.0099 GLoss:  1.2807, D(x): 0.6385 D(G(z)): 0.3623/0.3073\n",
            "[700/1094] DLoss: 1.3323 GLoss:  1.2766, D(x): 0.5223 D(G(z)): 0.3632/0.3185\n",
            "[800/1094] DLoss: 1.1457 GLoss:  1.2391, D(x): 0.5964 D(G(z)): 0.3849/0.3301\n",
            "[900/1094] DLoss: 1.1552 GLoss:  1.1944, D(x): 0.6066 D(G(z)): 0.3959/0.3281\n",
            "[1000/1094] DLoss: 1.1334 GLoss:  1.1820, D(x): 0.6098 D(G(z)): 0.4056/0.3313\n"
          ]
        },
        {
          "output_type": "display_data",
          "data": {
            "text/plain": [
              "VBox(children=(Label(value='0.011 MB of 0.011 MB uploaded\\r'), FloatProgress(value=1.0, max=1.0)))"
            ],
            "application/vnd.jupyter.widget-view+json": {
              "version_major": 2,
              "version_minor": 0,
              "model_id": "d31275c8d47b4b729a95c70ad717aaef"
            }
          },
          "metadata": {}
        },
        {
          "output_type": "display_data",
          "data": {
            "text/plain": [
              "<IPython.core.display.HTML object>"
            ],
            "text/html": [
              "<style>\n",
              "    table.wandb td:nth-child(1) { padding: 0 10px; text-align: left ; width: auto;} td:nth-child(2) {text-align: left ; width: 100%}\n",
              "    .wandb-row { display: flex; flex-direction: row; flex-wrap: wrap; justify-content: flex-start; width: 100% }\n",
              "    .wandb-col { display: flex; flex-direction: column; flex-basis: 100%; flex: 1; padding: 10px; }\n",
              "    </style>\n",
              "<div class=\"wandb-row\"><div class=\"wandb-col\"><h3>Run history:</h3><br/><table class=\"wandb\"><tr><td>Discriminator Loss</td><td>████▆▃▄▂▂▁▆▆▆▄▆▄▅▅▆▇▅▅▅▆▇▆▄▄▅▃▃▅▄▃▃▇▃▃▅▂</td></tr><tr><td>Generator Loss</td><td>▁▃▃█▄▄▃▂▃▃▂▃▄▂▂▂▁▂▂▂▂▂▂▂▂▂▃▂▂▂▂▂▂▂▂▂▃▂▂▂</td></tr></table><br/></div><div class=\"wandb-col\"><h3>Run summary:</h3><br/><table class=\"wandb\"><tr><td>Discriminator Loss</td><td>0.96828</td></tr><tr><td>Generator Loss</td><td>1.2846</td></tr></table><br/></div></div>"
            ]
          },
          "metadata": {}
        },
        {
          "output_type": "display_data",
          "data": {
            "text/plain": [
              "<IPython.core.display.HTML object>"
            ],
            "text/html": [
              " View run <strong style=\"color:#cdcd00\">warm-silence-24</strong> at: <a href='https://wandb.ai/mitkrieger-cornell-university/dcgan/runs/klc8ccbb' target=\"_blank\">https://wandb.ai/mitkrieger-cornell-university/dcgan/runs/klc8ccbb</a><br/> View project at: <a href='https://wandb.ai/mitkrieger-cornell-university/dcgan' target=\"_blank\">https://wandb.ai/mitkrieger-cornell-university/dcgan</a><br/>Synced 5 W&B file(s), 0 media file(s), 0 artifact file(s) and 0 other file(s)"
            ]
          },
          "metadata": {}
        },
        {
          "output_type": "display_data",
          "data": {
            "text/plain": [
              "<IPython.core.display.HTML object>"
            ],
            "text/html": [
              "Find logs at: <code>./wandb/run-20241017_181915-klc8ccbb/logs</code>"
            ]
          },
          "metadata": {}
        }
      ]
    },
    {
      "cell_type": "code",
      "source": [
        "torch.save(dc.generator.state_dict(), '/content/drive/MyDrive/DL3/dc_generator_arch_b.pth')\n",
        "torch.save(dc.discriminator.state_dict(), '/content/drive/MyDrive/DL3/dc_discriminator_arch_b.pth')"
      ],
      "metadata": {
        "id": "aEwFD5hYtfqd"
      },
      "execution_count": 52,
      "outputs": []
    },
    {
      "cell_type": "code",
      "source": [
        "dc2.generate_images(4, F.one_hot(torch.tensor([3]*4, device=device), num_classes=10).float())"
      ],
      "metadata": {
        "colab": {
          "base_uri": "https://localhost:8080/",
          "height": 167
        },
        "id": "218R_sY9t1vM",
        "outputId": "222bebe5-5441-4244-9562-f566500264b5"
      },
      "execution_count": 53,
      "outputs": [
        {
          "output_type": "display_data",
          "data": {
            "text/plain": [
              "<Figure size 640x480 with 1 Axes>"
            ],
            "image/png": "[encoded data removed]"
          },
          "metadata": {}
        }
      ]
    },
    {
      "cell_type": "markdown",
      "source": [
        "## WGAN with Clipping\n"
      ],
      "metadata": {
        "id": "MU0k9mJBjGb7"
      }
    },
    {
      "cell_type": "code",
      "execution_count": 61,
      "metadata": {
        "id": "-a06N3AKvcr_"
      },
      "outputs": [],
      "source": [
        "def wasserstein_loss(real_preds, fake_preds):\n",
        "    return torch.mean(fake_preds) - torch.mean(real_preds)\n",
        "\n",
        "class WGAN:\n",
        "    def __init__(self, arch_type, z_dim, channels, num_classes, features, device, clip_value=0.01, lr=0.00005):\n",
        "        self.z_dim = z_dim\n",
        "        self.clip_value = clip_value\n",
        "        self.lr = lr\n",
        "        self.device = device\n",
        "        self.arch_type = arch_type\n",
        "        self.model_type = 'clip'\n",
        "\n",
        "        self.generator = Generator(self.model_type, self.arch_type, z_dim, num_classes, channels, features).to(device)\n",
        "        self.critic = Discriminator(self.model_type, self.arch_type, channels, num_classes, features).to(device)\n",
        "        self.loss = wasserstein_loss\n",
        "\n",
        "        self.optim_critic = optim.RMSprop(self.critic.parameters(), lr=lr)\n",
        "        self.optim_gen = optim.RMSprop(self.generator.parameters(), lr=lr)\n",
        "\n",
        "    def train_critic(self, real_images, real_labels, fake_labels, batch_size):\n",
        "        self.optim_critic.zero_grad()\n",
        "\n",
        "        real_preds = self.critic(real_images, real_labels)\n",
        "\n",
        "        noise = torch.randn(batch_size, self.z_dim, 1, 1, device=self.device)\n",
        "        fake_images = self.generator(noise, fake_labels)\n",
        "        fake_preds = self.critic(fake_images.detach(), fake_labels.detach())\n",
        "\n",
        "        loss = self.loss(real_preds, fake_preds)\n",
        "        loss.backward()\n",
        "        self.optim_critic.step()\n",
        "\n",
        "        for p in self.critic.parameters():\n",
        "            p.data.clamp_(-self.clip_value, self.clip_value)\n",
        "\n",
        "        return loss.item(), real_preds.mean().item(), fake_preds.mean().item()\n",
        "\n",
        "    def train_generator(self, fake_labels, batch_size):\n",
        "        self.optim_gen.zero_grad()\n",
        "\n",
        "        noise = torch.randn(batch_size, self.z_dim, 1, 1, device=self.device)\n",
        "        fake_images = self.generator(noise, fake_labels)\n",
        "        fake_preds = self.critic(fake_images, fake_labels)\n",
        "\n",
        "        loss = -torch.mean(fake_preds)\n",
        "        loss.backward()\n",
        "        self.optim_gen.step()\n",
        "\n",
        "        return loss.item(), fake_images.mean().item()\n",
        "\n",
        "    def train_one_epoch(self, dataloader, n_critic=5):\n",
        "        for i, (real_images, real_labels) in enumerate(dataloader):\n",
        "            batch_size = real_images.size(0)\n",
        "            real_images = real_images.to(self.device)\n",
        "\n",
        "            fake_labels = F.one_hot(torch.randint(0, 10, (batch_size,), device=self.device), num_classes=10).float()\n",
        "\n",
        "            d_loss, avg_real, avg_fake1 = self.train_critic(real_images, real_labels, fake_labels, batch_size)\n",
        "\n",
        "            if i % n_critic == 0:\n",
        "                g_loss, avg_fake2 = self.train_generator(fake_labels, batch_size)\n",
        "            else:\n",
        "                g_loss, avg_fake2 = float('nan'), float('nan')\n",
        "\n",
        "            if i % 100 == 0 and i != 0:\n",
        "                print(f\"Batch {i}/{len(dataloader)} \"\n",
        "                      f\"Closs: {d_loss:.4f}, Gloss: {g_loss:.4f}, C(x): {avg_real:.4f} C(G(z)): {avg_fake1:.4f}/{avg_fake2:.4f}\")\n",
        "\n",
        "            wandb.log({\n",
        "                \"Discriminator Loss\": d_loss,\n",
        "                \"Generator Loss\": g_loss\n",
        "            })\n",
        "\n",
        "    def train(self, dataloader, num_epochs, n_critic=5):\n",
        "        wandb.init(project='wgan', config ={\n",
        "            'epochs': num_epochs,\n",
        "            'lr':self.lr,\n",
        "            'n_critic': n_critic,\n",
        "            'clip_value': self.clip_value\n",
        "        })\n",
        "        print(f'----------- {self.__class__.__name__} Train Start! ------------')\n",
        "        for epoch in range(num_epochs):\n",
        "            print(f'----------- Epoch #{epoch + 1} ------------')\n",
        "            self.train_one_epoch(dataloader, n_critic)\n",
        "            print(f'--------------------------------------')\n",
        "        print(f'----------- {self.__class__.__name__} Train End! ------------')\n",
        "        wandb.finish()\n",
        "\n",
        "    def generate_images(self, num_images, labels):\n",
        "        self.generator.eval()\n",
        "        with torch.no_grad():  # Disable gradient calculation\n",
        "            noise = torch.randn(num_images, self.z_dim, 1, 1, device=self.device)\n",
        "            generated_images = self.generator(noise, labels)\n",
        "            # generated_images = (generated_images + 1) / 2\n",
        "            grid = torchvision.utils.make_grid(generated_images.cpu(), nrow=4, padding=2, normalize=True)\n",
        "            np_grid = grid.permute(1, 2, 0).numpy()\n",
        "            plt.imshow(np_grid)\n",
        "            plt.axis('off')"
      ]
    },
    {
      "cell_type": "code",
      "source": [
        "wandb.finish()"
      ],
      "metadata": {
        "colab": {
          "base_uri": "https://localhost:8080/",
          "height": 258,
          "referenced_widgets": [
            "7e515466d50542ccb87b6d2d8c59d0ed",
            "7d129557913149389c70424d2cf9910f",
            "5dbf4a69b1b94a1191511c1b7ccc17fc",
            "3d7ddcf27e214da99999f9029c72a9a1",
            "08bd17fc6fb74db8bdb77f997c743be2",
            "3e4ed74a82244b54b0231e6f3eb12959",
            "103054eb6c1b493797b0cc77e3c5bbf6",
            "4e6317a63c334386bb7e8c2d8516d976"
          ]
        },
        "id": "_27mCUaawhPy",
        "outputId": "359a9322-7382-4f4c-da08-ef29a9c9fbe3"
      },
      "execution_count": 62,
      "outputs": [
        {
          "output_type": "display_data",
          "data": {
            "text/plain": [
              "VBox(children=(Label(value='0.011 MB of 0.011 MB uploaded\\r'), FloatProgress(value=1.0, max=1.0)))"
            ],
            "application/vnd.jupyter.widget-view+json": {
              "version_major": 2,
              "version_minor": 0,
              "model_id": "7e515466d50542ccb87b6d2d8c59d0ed"
            }
          },
          "metadata": {}
        },
        {
          "output_type": "display_data",
          "data": {
            "text/plain": [
              "<IPython.core.display.HTML object>"
            ],
            "text/html": [
              "<style>\n",
              "    table.wandb td:nth-child(1) { padding: 0 10px; text-align: left ; width: auto;} td:nth-child(2) {text-align: left ; width: 100%}\n",
              "    .wandb-row { display: flex; flex-direction: row; flex-wrap: wrap; justify-content: flex-start; width: 100% }\n",
              "    .wandb-col { display: flex; flex-direction: column; flex-basis: 100%; flex: 1; padding: 10px; }\n",
              "    </style>\n",
              "<div class=\"wandb-row\"><div class=\"wandb-col\"><h3>Run history:</h3><br/><table class=\"wandb\"><tr><td>Discriminator Loss</td><td>▇▆▆▆█▄▄▅▃▃▃▃▃▂▃▃▁▂▁▂▂▁▂▁▁▂▂▂▂▁▂▂▂▂▂▁▂▂▃▃</td></tr><tr><td>Generator Loss</td><td>▁               █    ▇ █     █ ▇     ▆  </td></tr></table><br/></div><div class=\"wandb-col\"><h3>Run summary:</h3><br/><table class=\"wandb\"><tr><td>Discriminator Loss</td><td>-0.01136</td></tr><tr><td>Generator Loss</td><td>nan</td></tr></table><br/></div></div>"
            ]
          },
          "metadata": {}
        },
        {
          "output_type": "display_data",
          "data": {
            "text/plain": [
              "<IPython.core.display.HTML object>"
            ],
            "text/html": [
              " View run <strong style=\"color:#cdcd00\">dry-wind-7</strong> at: <a href='https://wandb.ai/mitkrieger-cornell-university/wgan/runs/n6xs2802' target=\"_blank\">https://wandb.ai/mitkrieger-cornell-university/wgan/runs/n6xs2802</a><br/> View project at: <a href='https://wandb.ai/mitkrieger-cornell-university/wgan' target=\"_blank\">https://wandb.ai/mitkrieger-cornell-university/wgan</a><br/>Synced 5 W&B file(s), 0 media file(s), 0 artifact file(s) and 0 other file(s)"
            ]
          },
          "metadata": {}
        },
        {
          "output_type": "display_data",
          "data": {
            "text/plain": [
              "<IPython.core.display.HTML object>"
            ],
            "text/html": [
              "Find logs at: <code>./wandb/run-20241017_183408-n6xs2802/logs</code>"
            ]
          },
          "metadata": {}
        }
      ]
    },
    {
      "cell_type": "code",
      "execution_count": 77,
      "metadata": {
        "colab": {
          "base_uri": "https://localhost:8080/",
          "height": 1000,
          "referenced_widgets": [
            "236c7a251d0a4c0581190d5180ef1da3",
            "9f9d6dc21747442387aecb34c53b55f8",
            "76985961909140c2b4f8b76918e3517e",
            "6731c0f9f4074869bda275190169042c",
            "ad94824356554551baa1e37a83c104de",
            "b5e3dd96e6e94836a72d5b57ab384f21",
            "51fc117cb7e34be9a0a9ec5303d2b7b9",
            "1c842ef81bef49a5a2809c55f08c3d21"
          ]
        },
        "id": "fqVy9y2wB_nP",
        "outputId": "1e585c69-4ce6-41a1-fc3c-7a7620d4b0aa"
      },
      "outputs": [
        {
          "data": {
            "text/html": [
              "Tracking run with wandb version 0.18.3"
            ],
            "text/plain": [
              "<IPython.core.display.HTML object>"
            ]
          },
          "metadata": {},
          "output_type": "display_data"
        },
        {
          "data": {
            "text/html": [
              "Run data is saved locally in <code>/content/wandb/run-20241017_184919-okswrqva</code>"
            ],
            "text/plain": [
              "<IPython.core.display.HTML object>"
            ]
          },
          "metadata": {},
          "output_type": "display_data"
        },
        {
          "data": {
            "text/html": [
              "Syncing run <strong><a href='https://wandb.ai/mitkrieger-cornell-university/wgan/runs/okswrqva' target=\"_blank\">summer-night-10</a></strong> to <a href='https://wandb.ai/mitkrieger-cornell-university/wgan' target=\"_blank\">Weights & Biases</a> (<a href='https://wandb.me/run' target=\"_blank\">docs</a>)<br/>"
            ],
            "text/plain": [
              "<IPython.core.display.HTML object>"
            ]
          },
          "metadata": {},
          "output_type": "display_data"
        },
        {
          "data": {
            "text/html": [
              " View project at <a href='https://wandb.ai/mitkrieger-cornell-university/wgan' target=\"_blank\">https://wandb.ai/mitkrieger-cornell-university/wgan</a>"
            ],
            "text/plain": [
              "<IPython.core.display.HTML object>"
            ]
          },
          "metadata": {},
          "output_type": "display_data"
        },
        {
          "data": {
            "text/html": [
              " View run at <a href='https://wandb.ai/mitkrieger-cornell-university/wgan/runs/okswrqva' target=\"_blank\">https://wandb.ai/mitkrieger-cornell-university/wgan/runs/okswrqva</a>"
            ],
            "text/plain": [
              "<IPython.core.display.HTML object>"
            ]
          },
          "metadata": {},
          "output_type": "display_data"
        },
        {
          "output_type": "stream",
          "name": "stdout",
          "text": [
            "----------- WGAN Train Start! ------------\n",
            "----------- Epoch #1 ------------\n",
            "Batch 100/1094 Closs: -0.0058, Gloss: -0.0066, C(x): 0.0132 C(G(z)): 0.0075/-0.1814\n",
            "Batch 200/1094 Closs: -0.0056, Gloss: -0.0069, C(x): 0.0115 C(G(z)): 0.0060/-0.3306\n",
            "Batch 300/1094 Closs: -0.0064, Gloss: -0.0062, C(x): 0.0125 C(G(z)): 0.0061/-0.3947\n",
            "Batch 400/1094 Closs: -0.0053, Gloss: -0.0063, C(x): 0.0124 C(G(z)): 0.0071/-0.3979\n",
            "Batch 500/1094 Closs: -0.0071, Gloss: -0.0069, C(x): 0.0123 C(G(z)): 0.0052/-0.3979\n",
            "Batch 600/1094 Closs: -0.0065, Gloss: -0.0038, C(x): 0.0141 C(G(z)): 0.0077/-0.4042\n",
            "Batch 700/1094 Closs: -0.0093, Gloss: -0.0048, C(x): 0.0132 C(G(z)): 0.0038/-0.4037\n",
            "Batch 800/1094 Closs: -0.0109, Gloss: -0.0038, C(x): 0.0143 C(G(z)): 0.0034/-0.4089\n",
            "Batch 900/1094 Closs: -0.0108, Gloss: -0.0044, C(x): 0.0139 C(G(z)): 0.0031/-0.3992\n",
            "Batch 1000/1094 Closs: -0.0085, Gloss: -0.0028, C(x): 0.0150 C(G(z)): 0.0066/-0.4111\n",
            "--------------------------------------\n",
            "----------- Epoch #2 ------------\n",
            "Batch 100/1094 Closs: -0.0109, Gloss: -0.0049, C(x): 0.0137 C(G(z)): 0.0028/-0.4292\n",
            "Batch 200/1094 Closs: -0.0106, Gloss: -0.0051, C(x): 0.0134 C(G(z)): 0.0028/-0.4178\n",
            "Batch 300/1094 Closs: -0.0106, Gloss: -0.0048, C(x): 0.0135 C(G(z)): 0.0029/-0.4261\n",
            "Batch 400/1094 Closs: -0.0117, Gloss: -0.0027, C(x): 0.0159 C(G(z)): 0.0041/-0.4273\n",
            "Batch 500/1094 Closs: -0.0124, Gloss: -0.0031, C(x): 0.0160 C(G(z)): 0.0036/-0.4317\n",
            "Batch 600/1094 Closs: -0.0117, Gloss: -0.0048, C(x): 0.0142 C(G(z)): 0.0025/-0.4253\n",
            "Batch 700/1094 Closs: -0.0120, Gloss: -0.0027, C(x): 0.0153 C(G(z)): 0.0034/-0.4247\n",
            "Batch 800/1094 Closs: -0.0127, Gloss: -0.0033, C(x): 0.0153 C(G(z)): 0.0026/-0.4210\n",
            "Batch 900/1094 Closs: -0.0125, Gloss: -0.0026, C(x): 0.0159 C(G(z)): 0.0034/-0.4288\n",
            "Batch 1000/1094 Closs: -0.0125, Gloss: -0.0024, C(x): 0.0162 C(G(z)): 0.0037/-0.4170\n",
            "--------------------------------------\n",
            "----------- Epoch #3 ------------\n",
            "Batch 100/1094 Closs: -0.0116, Gloss: -0.0021, C(x): 0.0160 C(G(z)): 0.0044/-0.4399\n",
            "Batch 200/1094 Closs: -0.0121, Gloss: -0.0047, C(x): 0.0145 C(G(z)): 0.0024/-0.4284\n",
            "Batch 300/1094 Closs: -0.0121, Gloss: -0.0051, C(x): 0.0144 C(G(z)): 0.0023/-0.4120\n",
            "Batch 400/1094 Closs: -0.0133, Gloss: -0.0022, C(x): 0.0157 C(G(z)): 0.0023/-0.4323\n",
            "Batch 500/1094 Closs: -0.0124, Gloss: -0.0050, C(x): 0.0148 C(G(z)): 0.0024/-0.4297\n",
            "Batch 600/1094 Closs: -0.0119, Gloss: -0.0024, C(x): 0.0165 C(G(z)): 0.0046/-0.4470\n",
            "Batch 700/1094 Closs: -0.0129, Gloss: -0.0026, C(x): 0.0157 C(G(z)): 0.0027/-0.4427\n",
            "Batch 800/1094 Closs: -0.0125, Gloss: -0.0019, C(x): 0.0163 C(G(z)): 0.0038/-0.4249\n",
            "Batch 900/1094 Closs: -0.0094, Gloss: -0.0023, C(x): 0.0160 C(G(z)): 0.0066/-0.4321\n",
            "Batch 1000/1094 Closs: -0.0125, Gloss: -0.0031, C(x): 0.0153 C(G(z)): 0.0028/-0.4403\n",
            "--------------------------------------\n",
            "----------- Epoch #4 ------------\n",
            "Batch 100/1094 Closs: -0.0127, Gloss: -0.0039, C(x): 0.0147 C(G(z)): 0.0020/-0.4398\n",
            "Batch 200/1094 Closs: -0.0114, Gloss: -0.0019, C(x): 0.0164 C(G(z)): 0.0050/-0.4100\n",
            "Batch 300/1094 Closs: -0.0120, Gloss: -0.0037, C(x): 0.0140 C(G(z)): 0.0020/-0.4229\n",
            "Batch 400/1094 Closs: -0.0114, Gloss: -0.0019, C(x): 0.0160 C(G(z)): 0.0046/-0.4164\n",
            "Batch 500/1094 Closs: -0.0115, Gloss: -0.0038, C(x): 0.0139 C(G(z)): 0.0024/-0.4186\n",
            "Batch 600/1094 Closs: -0.0129, Gloss: -0.0027, C(x): 0.0157 C(G(z)): 0.0029/-0.4431\n",
            "Batch 700/1094 Closs: -0.0115, Gloss: -0.0048, C(x): 0.0137 C(G(z)): 0.0022/-0.4177\n",
            "Batch 800/1094 Closs: -0.0119, Gloss: -0.0023, C(x): 0.0162 C(G(z)): 0.0043/-0.4258\n",
            "Batch 900/1094 Closs: -0.0122, Gloss: -0.0043, C(x): 0.0144 C(G(z)): 0.0023/-0.4275\n",
            "Batch 1000/1094 Closs: -0.0123, Gloss: -0.0034, C(x): 0.0147 C(G(z)): 0.0024/-0.4350\n",
            "--------------------------------------\n",
            "----------- Epoch #5 ------------\n",
            "Batch 100/1094 Closs: -0.0122, Gloss: -0.0037, C(x): 0.0149 C(G(z)): 0.0027/-0.4353\n",
            "Batch 200/1094 Closs: -0.0122, Gloss: -0.0025, C(x): 0.0160 C(G(z)): 0.0038/-0.4119\n",
            "Batch 300/1094 Closs: -0.0114, Gloss: -0.0055, C(x): 0.0145 C(G(z)): 0.0031/-0.4169\n",
            "Batch 400/1094 Closs: -0.0122, Gloss: -0.0027, C(x): 0.0157 C(G(z)): 0.0035/-0.4166\n",
            "Batch 500/1094 Closs: -0.0114, Gloss: -0.0045, C(x): 0.0138 C(G(z)): 0.0024/-0.4138\n",
            "Batch 600/1094 Closs: -0.0127, Gloss: -0.0031, C(x): 0.0159 C(G(z)): 0.0032/-0.4345\n",
            "Batch 700/1094 Closs: -0.0110, Gloss: -0.0044, C(x): 0.0137 C(G(z)): 0.0027/-0.4317\n",
            "Batch 800/1094 Closs: -0.0103, Gloss: -0.0051, C(x): 0.0124 C(G(z)): 0.0021/-0.4151\n",
            "Batch 900/1094 Closs: -0.0117, Gloss: -0.0029, C(x): 0.0159 C(G(z)): 0.0042/-0.4301\n",
            "Batch 1000/1094 Closs: -0.0121, Gloss: -0.0036, C(x): 0.0146 C(G(z)): 0.0025/-0.4260\n",
            "--------------------------------------\n",
            "----------- Epoch #6 ------------\n",
            "Batch 100/1094 Closs: -0.0124, Gloss: -0.0041, C(x): 0.0148 C(G(z)): 0.0025/-0.4270\n",
            "Batch 200/1094 Closs: -0.0117, Gloss: -0.0027, C(x): 0.0147 C(G(z)): 0.0029/-0.4133\n",
            "Batch 300/1094 Closs: -0.0123, Gloss: -0.0026, C(x): 0.0156 C(G(z)): 0.0033/-0.4385\n",
            "Batch 400/1094 Closs: -0.0117, Gloss: -0.0024, C(x): 0.0157 C(G(z)): 0.0040/-0.4294\n",
            "Batch 500/1094 Closs: -0.0110, Gloss: -0.0051, C(x): 0.0141 C(G(z)): 0.0031/-0.4183\n",
            "Batch 600/1094 Closs: -0.0117, Gloss: -0.0037, C(x): 0.0142 C(G(z)): 0.0026/-0.4185\n",
            "Batch 700/1094 Closs: -0.0096, Gloss: -0.0054, C(x): 0.0119 C(G(z)): 0.0024/-0.4167\n",
            "Batch 800/1094 Closs: -0.0114, Gloss: -0.0037, C(x): 0.0143 C(G(z)): 0.0029/-0.4151\n",
            "Batch 900/1094 Closs: -0.0110, Gloss: -0.0037, C(x): 0.0140 C(G(z)): 0.0030/-0.4323\n",
            "Batch 1000/1094 Closs: -0.0116, Gloss: -0.0024, C(x): 0.0160 C(G(z)): 0.0044/-0.4280\n",
            "--------------------------------------\n",
            "----------- Epoch #7 ------------\n",
            "Batch 100/1094 Closs: -0.0124, Gloss: -0.0025, C(x): 0.0159 C(G(z)): 0.0036/-0.4187\n",
            "Batch 200/1094 Closs: -0.0107, Gloss: -0.0045, C(x): 0.0133 C(G(z)): 0.0025/-0.4251\n",
            "Batch 300/1094 Closs: -0.0106, Gloss: -0.0033, C(x): 0.0158 C(G(z)): 0.0052/-0.4370\n",
            "Batch 400/1094 Closs: -0.0103, Gloss: -0.0028, C(x): 0.0157 C(G(z)): 0.0054/-0.4319\n",
            "Batch 500/1094 Closs: -0.0124, Gloss: -0.0041, C(x): 0.0150 C(G(z)): 0.0026/-0.4148\n",
            "Batch 600/1094 Closs: -0.0101, Gloss: -0.0027, C(x): 0.0155 C(G(z)): 0.0054/-0.4387\n",
            "Batch 700/1094 Closs: -0.0120, Gloss: -0.0040, C(x): 0.0142 C(G(z)): 0.0022/-0.4195\n",
            "Batch 800/1094 Closs: -0.0111, Gloss: -0.0032, C(x): 0.0147 C(G(z)): 0.0036/-0.4497\n",
            "Batch 900/1094 Closs: -0.0119, Gloss: -0.0041, C(x): 0.0147 C(G(z)): 0.0028/-0.4134\n",
            "Batch 1000/1094 Closs: -0.0111, Gloss: -0.0025, C(x): 0.0158 C(G(z)): 0.0047/-0.4236\n",
            "--------------------------------------\n",
            "----------- Epoch #8 ------------\n",
            "Batch 100/1094 Closs: -0.0103, Gloss: -0.0028, C(x): 0.0155 C(G(z)): 0.0051/-0.4260\n",
            "Batch 200/1094 Closs: -0.0095, Gloss: -0.0040, C(x): 0.0128 C(G(z)): 0.0033/-0.4325\n",
            "Batch 300/1094 Closs: -0.0103, Gloss: -0.0049, C(x): 0.0126 C(G(z)): 0.0024/-0.4278\n",
            "Batch 400/1094 Closs: -0.0105, Gloss: -0.0034, C(x): 0.0156 C(G(z)): 0.0051/-0.4114\n",
            "Batch 500/1094 Closs: -0.0113, Gloss: -0.0031, C(x): 0.0161 C(G(z)): 0.0048/-0.4252\n",
            "Batch 600/1094 Closs: -0.0125, Gloss: -0.0026, C(x): 0.0158 C(G(z)): 0.0033/-0.4181\n",
            "Batch 700/1094 Closs: -0.0115, Gloss: -0.0034, C(x): 0.0143 C(G(z)): 0.0028/-0.4284\n",
            "Batch 800/1094 Closs: -0.0107, Gloss: -0.0026, C(x): 0.0154 C(G(z)): 0.0046/-0.4023\n",
            "Batch 900/1094 Closs: -0.0117, Gloss: -0.0025, C(x): 0.0156 C(G(z)): 0.0039/-0.4385\n",
            "Batch 1000/1094 Closs: -0.0118, Gloss: -0.0027, C(x): 0.0155 C(G(z)): 0.0037/-0.4161\n",
            "--------------------------------------\n",
            "----------- Epoch #9 ------------\n",
            "Batch 100/1094 Closs: -0.0099, Gloss: -0.0062, C(x): 0.0125 C(G(z)): 0.0026/-0.4255\n",
            "Batch 200/1094 Closs: -0.0093, Gloss: -0.0063, C(x): 0.0123 C(G(z)): 0.0030/-0.4374\n",
            "Batch 300/1094 Closs: -0.0106, Gloss: -0.0047, C(x): 0.0132 C(G(z)): 0.0025/-0.4285\n",
            "Batch 400/1094 Closs: -0.0099, Gloss: -0.0050, C(x): 0.0139 C(G(z)): 0.0040/-0.4244\n",
            "Batch 500/1094 Closs: -0.0127, Gloss: -0.0032, C(x): 0.0155 C(G(z)): 0.0029/-0.4226\n",
            "Batch 600/1094 Closs: -0.0115, Gloss: -0.0050, C(x): 0.0143 C(G(z)): 0.0028/-0.4146\n",
            "Batch 700/1094 Closs: -0.0105, Gloss: -0.0025, C(x): 0.0152 C(G(z)): 0.0047/-0.4176\n",
            "Batch 800/1094 Closs: -0.0107, Gloss: -0.0051, C(x): 0.0138 C(G(z)): 0.0031/-0.4075\n",
            "Batch 900/1094 Closs: -0.0114, Gloss: -0.0048, C(x): 0.0143 C(G(z)): 0.0029/-0.4248\n",
            "Batch 1000/1094 Closs: -0.0118, Gloss: -0.0025, C(x): 0.0155 C(G(z)): 0.0037/-0.4230\n",
            "--------------------------------------\n",
            "----------- Epoch #10 ------------\n",
            "Batch 100/1094 Closs: -0.0095, Gloss: -0.0029, C(x): 0.0156 C(G(z)): 0.0062/-0.4273\n",
            "Batch 200/1094 Closs: -0.0110, Gloss: -0.0030, C(x): 0.0149 C(G(z)): 0.0040/-0.4094\n",
            "Batch 300/1094 Closs: -0.0109, Gloss: -0.0028, C(x): 0.0159 C(G(z)): 0.0051/-0.4188\n",
            "Batch 400/1094 Closs: -0.0111, Gloss: -0.0047, C(x): 0.0143 C(G(z)): 0.0031/-0.3966\n",
            "Batch 500/1094 Closs: -0.0112, Gloss: -0.0038, C(x): 0.0143 C(G(z)): 0.0032/-0.4202\n",
            "Batch 600/1094 Closs: -0.0098, Gloss: -0.0028, C(x): 0.0159 C(G(z)): 0.0061/-0.4326\n",
            "Batch 700/1094 Closs: -0.0110, Gloss: -0.0029, C(x): 0.0153 C(G(z)): 0.0043/-0.4071\n",
            "Batch 800/1094 Closs: -0.0115, Gloss: -0.0029, C(x): 0.0147 C(G(z)): 0.0031/-0.4404\n",
            "Batch 900/1094 Closs: -0.0108, Gloss: -0.0046, C(x): 0.0141 C(G(z)): 0.0033/-0.4317\n",
            "Batch 1000/1094 Closs: -0.0100, Gloss: -0.0060, C(x): 0.0130 C(G(z)): 0.0030/-0.4401\n",
            "--------------------------------------\n",
            "----------- WGAN Train End! ------------\n"
          ]
        },
        {
          "output_type": "display_data",
          "data": {
            "text/plain": [
              "VBox(children=(Label(value='0.020 MB of 0.020 MB uploaded\\r'), FloatProgress(value=1.0, max=1.0)))"
            ],
            "application/vnd.jupyter.widget-view+json": {
              "version_major": 2,
              "version_minor": 0,
              "model_id": "236c7a251d0a4c0581190d5180ef1da3"
            }
          },
          "metadata": {}
        },
        {
          "output_type": "display_data",
          "data": {
            "text/plain": [
              "<IPython.core.display.HTML object>"
            ],
            "text/html": [
              "<style>\n",
              "    table.wandb td:nth-child(1) { padding: 0 10px; text-align: left ; width: auto;} td:nth-child(2) {text-align: left ; width: 100%}\n",
              "    .wandb-row { display: flex; flex-direction: row; flex-wrap: wrap; justify-content: flex-start; width: 100% }\n",
              "    .wandb-col { display: flex; flex-direction: column; flex-basis: 100%; flex: 1; padding: 10px; }\n",
              "    </style>\n",
              "<div class=\"wandb-row\"><div class=\"wandb-col\"><h3>Run history:</h3><br/><table class=\"wandb\"><tr><td>Discriminator Loss</td><td>██▇▇▇▂▁▁▂▁▁▂▁▂▁▂▂▂▂▃▃▃▁▃▃▂▃▃▃▃▄▂▂▃▂▃▃▂▂▃</td></tr><tr><td>Generator Loss</td><td>        █ ▇ █ ▄      ▅     ▇       ▁  ▂▇</td></tr></table><br/></div><div class=\"wandb-col\"><h3>Run summary:</h3><br/><table class=\"wandb\"><tr><td>Discriminator Loss</td><td>-0.01047</td></tr><tr><td>Generator Loss</td><td>nan</td></tr></table><br/></div></div>"
            ]
          },
          "metadata": {}
        },
        {
          "output_type": "display_data",
          "data": {
            "text/plain": [
              "<IPython.core.display.HTML object>"
            ],
            "text/html": [
              " View run <strong style=\"color:#cdcd00\">summer-night-10</strong> at: <a href='https://wandb.ai/mitkrieger-cornell-university/wgan/runs/okswrqva' target=\"_blank\">https://wandb.ai/mitkrieger-cornell-university/wgan/runs/okswrqva</a><br/> View project at: <a href='https://wandb.ai/mitkrieger-cornell-university/wgan' target=\"_blank\">https://wandb.ai/mitkrieger-cornell-university/wgan</a><br/>Synced 5 W&B file(s), 0 media file(s), 0 artifact file(s) and 0 other file(s)"
            ]
          },
          "metadata": {}
        },
        {
          "output_type": "display_data",
          "data": {
            "text/plain": [
              "<IPython.core.display.HTML object>"
            ],
            "text/html": [
              "Find logs at: <code>./wandb/run-20241017_184919-okswrqva/logs</code>"
            ]
          },
          "metadata": {}
        }
      ],
      "source": [
        "wgan = WGAN('a', 100, 1, 10, 64, device, lr=0.0001)\n",
        "wgan.train(traindataloader, 10, 5)"
      ]
    },
    {
      "cell_type": "code",
      "source": [
        "wgan.generate_images(4, F.one_hot(torch.tensor([3]*4, device=wgan.device), num_classes=10).float())"
      ],
      "metadata": {
        "colab": {
          "base_uri": "https://localhost:8080/",
          "height": 167
        },
        "id": "2u0TRqsKyUuo",
        "outputId": "c699a492-b4d6-4248-ba95-ed597fbcdf36"
      },
      "execution_count": 78,
      "outputs": [
        {
          "output_type": "display_data",
          "data": {
            "text/plain": [
              "<Figure size 640x480 with 1 Axes>"
            ],
            "image/png": "[encoded data removed]"
          },
          "metadata": {}
        }
      ]
    },
    {
      "cell_type": "code",
      "source": [
        "torch.save(wgan.generator.cpu().state_dict(), '/content/drive/MyDrive/DL3/wgan_generator_arch_a.pth')\n",
        "torch.save(wgan.critic.cpu().state_dict(), '/content/drive/MyDrive/DL3/wgan_discriminator_arch_a.pth')"
      ],
      "metadata": {
        "id": "KtABkiISxn8I"
      },
      "execution_count": 79,
      "outputs": []
    },
    {
      "cell_type": "code",
      "source": [
        "wgan2 = WGAN('b', 100, 1, 10, 64, device, lr=0.0001)\n",
        "wgan2.train(traindataloader, 10, 5)"
      ],
      "metadata": {
        "colab": {
          "base_uri": "https://localhost:8080/",
          "height": 1000,
          "referenced_widgets": [
            "fcec425e01b949f8841cdbf3820464ef",
            "c3c018903c344c1986434000b0ee5d6d",
            "88c3fe0f512a4a6fa97d3329f72ec23c",
            "b9a49634ff0f479981fa5b77c4d76617",
            "3acf81a56f8e43f4a0baab178c3707c5",
            "fd14999d969c4d0a87e59d49f45aaa1a",
            "6a679c8fd1394251b6a8feb85f7f38a2",
            "14fc7c7bac084048b277253315addf82"
          ]
        },
        "id": "oEYSpE6Qw4Qv",
        "outputId": "afb5626c-054a-4361-c5b9-b81393cd8b52"
      },
      "execution_count": 80,
      "outputs": [
        {
          "output_type": "display_data",
          "data": {
            "text/plain": [
              "<IPython.core.display.HTML object>"
            ],
            "text/html": [
              "Tracking run with wandb version 0.18.3"
            ]
          },
          "metadata": {}
        },
        {
          "output_type": "display_data",
          "data": {
            "text/plain": [
              "<IPython.core.display.HTML object>"
            ],
            "text/html": [
              "Run data is saved locally in <code>/content/wandb/run-20241017_185147-9gzi0tvt</code>"
            ]
          },
          "metadata": {}
        },
        {
          "output_type": "display_data",
          "data": {
            "text/plain": [
              "<IPython.core.display.HTML object>"
            ],
            "text/html": [
              "Syncing run <strong><a href='https://wandb.ai/mitkrieger-cornell-university/wgan/runs/9gzi0tvt' target=\"_blank\">wise-flower-11</a></strong> to <a href='https://wandb.ai/mitkrieger-cornell-university/wgan' target=\"_blank\">Weights & Biases</a> (<a href='https://wandb.me/run' target=\"_blank\">docs</a>)<br/>"
            ]
          },
          "metadata": {}
        },
        {
          "output_type": "display_data",
          "data": {
            "text/plain": [
              "<IPython.core.display.HTML object>"
            ],
            "text/html": [
              " View project at <a href='https://wandb.ai/mitkrieger-cornell-university/wgan' target=\"_blank\">https://wandb.ai/mitkrieger-cornell-university/wgan</a>"
            ]
          },
          "metadata": {}
        },
        {
          "output_type": "display_data",
          "data": {
            "text/plain": [
              "<IPython.core.display.HTML object>"
            ],
            "text/html": [
              " View run at <a href='https://wandb.ai/mitkrieger-cornell-university/wgan/runs/9gzi0tvt' target=\"_blank\">https://wandb.ai/mitkrieger-cornell-university/wgan/runs/9gzi0tvt</a>"
            ]
          },
          "metadata": {}
        },
        {
          "output_type": "stream",
          "name": "stdout",
          "text": [
            "----------- WGAN Train Start! ------------\n",
            "----------- Epoch #1 ------------\n",
            "Batch 100/1094 Closs: -5.1329, Gloss: 54.3742, C(x): -47.2489 C(G(z)): -52.3818/-0.4362\n",
            "Batch 200/1094 Closs: -35.8508, Gloss: 74.1412, C(x): -41.9501 C(G(z)): -77.8009/-0.4053\n",
            "Batch 300/1094 Closs: -62.3774, Gloss: 156.9469, C(x): -94.5347 C(G(z)): -156.9120/-0.2130\n",
            "Batch 400/1094 Closs: -64.6050, Gloss: 199.9543, C(x): -143.3925 C(G(z)): -207.9975/-0.3568\n",
            "Batch 500/1094 Closs: -100.7006, Gloss: 251.0019, C(x): -139.7565 C(G(z)): -240.4571/-0.1662\n",
            "Batch 600/1094 Closs: -85.8389, Gloss: 203.1243, C(x): -136.9632 C(G(z)): -222.8022/-0.2004\n",
            "Batch 700/1094 Closs: -69.5835, Gloss: 192.6411, C(x): -128.9759 C(G(z)): -198.5594/-0.4607\n",
            "Batch 800/1094 Closs: -1.1194, Gloss: 106.5062, C(x): -59.2165 C(G(z)): -60.3359/-0.1549\n",
            "Batch 900/1094 Closs: -24.9121, Gloss: 108.4309, C(x): -98.2237 C(G(z)): -123.1359/-0.3059\n",
            "Batch 1000/1094 Closs: -65.8727, Gloss: 227.7421, C(x): -149.2613 C(G(z)): -215.1340/-0.3615\n",
            "--------------------------------------\n",
            "----------- Epoch #2 ------------\n",
            "Batch 100/1094 Closs: -47.2632, Gloss: 196.9463, C(x): -86.0475 C(G(z)): -133.3107/-0.3810\n",
            "Batch 200/1094 Closs: -44.3198, Gloss: 68.2755, C(x): -14.7851 C(G(z)): -59.1050/-0.4373\n",
            "Batch 300/1094 Closs: -26.4910, Gloss: 65.7966, C(x): -59.5799 C(G(z)): -86.0709/-0.4080\n",
            "Batch 400/1094 Closs: -17.5479, Gloss: 133.2354, C(x): -103.8786 C(G(z)): -121.4265/-0.4047\n",
            "Batch 500/1094 Closs: 6.1251, Gloss: 55.7135, C(x): -69.8660 C(G(z)): -63.7409/-0.4646\n",
            "Batch 600/1094 Closs: 13.1252, Gloss: 111.9912, C(x): -135.6462 C(G(z)): -122.5211/-0.5835\n",
            "Batch 700/1094 Closs: -5.5213, Gloss: 237.3834, C(x): -246.3386 C(G(z)): -251.8599/-0.4847\n",
            "Batch 800/1094 Closs: 21.7905, Gloss: 150.9361, C(x): -189.1358 C(G(z)): -167.3453/-0.5750\n",
            "Batch 900/1094 Closs: -49.5824, Gloss: 248.3569, C(x): -171.1094 C(G(z)): -220.6918/-0.3729\n",
            "Batch 1000/1094 Closs: -0.0589, Gloss: 60.8352, C(x): -20.5533 C(G(z)): -20.6122/-0.3113\n",
            "--------------------------------------\n",
            "----------- Epoch #3 ------------\n",
            "Batch 100/1094 Closs: -11.3373, Gloss: 124.2963, C(x): -115.3731 C(G(z)): -126.7104/-0.4949\n",
            "Batch 200/1094 Closs: -11.0333, Gloss: 61.8976, C(x): -38.1255 C(G(z)): -49.1588/-0.2955\n",
            "Batch 300/1094 Closs: -2.4092, Gloss: -6.9993, C(x): 10.4978 C(G(z)): 8.0887/-0.4630\n",
            "Batch 400/1094 Closs: -29.6211, Gloss: -134.3828, C(x): 165.6968 C(G(z)): 136.0757/-0.3343\n",
            "Batch 500/1094 Closs: 1.2081, Gloss: -72.1690, C(x): 70.7697 C(G(z)): 71.9778/-0.3686\n",
            "Batch 600/1094 Closs: -33.5312, Gloss: -137.7814, C(x): 168.2002 C(G(z)): 134.6689/-0.3969\n",
            "Batch 700/1094 Closs: -19.1574, Gloss: -87.9498, C(x): 101.9924 C(G(z)): 82.8350/-0.4941\n",
            "Batch 800/1094 Closs: -17.6221, Gloss: -46.9156, C(x): 93.0975 C(G(z)): 75.4755/-0.2083\n",
            "Batch 900/1094 Closs: -35.4206, Gloss: -59.7892, C(x): 97.9379 C(G(z)): 62.5173/-0.3591\n",
            "Batch 1000/1094 Closs: -4.1308, Gloss: -84.4278, C(x): 114.7163 C(G(z)): 110.5855/-0.4972\n",
            "--------------------------------------\n",
            "----------- Epoch #4 ------------\n",
            "Batch 100/1094 Closs: -7.3301, Gloss: -85.1399, C(x): 87.5983 C(G(z)): 80.2682/-0.4823\n",
            "Batch 200/1094 Closs: -5.1701, Gloss: -130.0513, C(x): 126.9345 C(G(z)): 121.7644/-0.4540\n",
            "Batch 300/1094 Closs: -6.7210, Gloss: -111.5434, C(x): 115.1599 C(G(z)): 108.4389/-0.4655\n",
            "Batch 400/1094 Closs: -12.6404, Gloss: -79.9253, C(x): 104.3161 C(G(z)): 91.6758/-0.4558\n",
            "Batch 500/1094 Closs: -8.9059, Gloss: -102.7490, C(x): 103.4656 C(G(z)): 94.5597/-0.4442\n",
            "Batch 600/1094 Closs: 13.4443, Gloss: -50.0812, C(x): 40.7291 C(G(z)): 54.1734/-0.4335\n",
            "Batch 700/1094 Closs: -12.1617, Gloss: -140.7233, C(x): 150.3360 C(G(z)): 138.1743/-0.4111\n",
            "Batch 800/1094 Closs: 29.3039, Gloss: -40.5998, C(x): 9.5787 C(G(z)): 38.8826/-0.4394\n",
            "Batch 900/1094 Closs: -21.0775, Gloss: -49.3518, C(x): 59.5776 C(G(z)): 38.5001/-0.4938\n",
            "Batch 1000/1094 Closs: -9.6544, Gloss: -42.9714, C(x): 52.6751 C(G(z)): 43.0207/-0.3711\n",
            "--------------------------------------\n",
            "----------- Epoch #5 ------------\n",
            "Batch 100/1094 Closs: 0.8926, Gloss: -61.7149, C(x): 62.3601 C(G(z)): 63.2527/-0.4207\n",
            "Batch 200/1094 Closs: -11.9023, Gloss: -44.1343, C(x): 59.5558 C(G(z)): 47.6535/-0.2258\n",
            "Batch 300/1094 Closs: -7.4784, Gloss: -94.1699, C(x): 99.4607 C(G(z)): 91.9824/-0.3394\n",
            "Batch 400/1094 Closs: 0.9701, Gloss: -64.7292, C(x): 70.6065 C(G(z)): 71.5766/-0.4002\n",
            "Batch 500/1094 Closs: 4.7060, Gloss: -48.4854, C(x): 51.8078 C(G(z)): 56.5138/-0.3551\n",
            "Batch 600/1094 Closs: -9.9062, Gloss: -71.0910, C(x): 90.3106 C(G(z)): 80.4043/-0.4869\n",
            "Batch 700/1094 Closs: -18.3099, Gloss: -65.9730, C(x): 74.5111 C(G(z)): 56.2011/-0.4017\n",
            "Batch 800/1094 Closs: -17.4683, Gloss: -57.6588, C(x): 68.8686 C(G(z)): 51.4002/-0.4311\n",
            "Batch 900/1094 Closs: -9.4291, Gloss: -79.9388, C(x): 77.3612 C(G(z)): 67.9320/-0.4691\n",
            "Batch 1000/1094 Closs: -23.0280, Gloss: -16.9069, C(x): 44.4946 C(G(z)): 21.4667/-0.3351\n",
            "--------------------------------------\n",
            "----------- Epoch #6 ------------\n",
            "Batch 100/1094 Closs: -30.5252, Gloss: -14.0480, C(x): 57.8979 C(G(z)): 27.3727/-0.4301\n",
            "Batch 200/1094 Closs: -10.7293, Gloss: -24.5918, C(x): 34.1319 C(G(z)): 23.4025/-0.4107\n",
            "Batch 300/1094 Closs: -8.3786, Gloss: -13.0366, C(x): 13.9780 C(G(z)): 5.5994/-0.4169\n",
            "Batch 400/1094 Closs: -11.4965, Gloss: -9.2587, C(x): 25.4258 C(G(z)): 13.9293/-0.3841\n",
            "Batch 500/1094 Closs: 2.8601, Gloss: -22.0596, C(x): 5.5502 C(G(z)): 8.4103/-0.4019\n",
            "Batch 600/1094 Closs: -9.7825, Gloss: -19.2169, C(x): 24.8745 C(G(z)): 15.0920/-0.5211\n",
            "Batch 700/1094 Closs: -16.7045, Gloss: -22.3490, C(x): 40.5084 C(G(z)): 23.8039/-0.3634\n",
            "Batch 800/1094 Closs: -12.6020, Gloss: -14.6653, C(x): 34.6128 C(G(z)): 22.0108/-0.3956\n",
            "Batch 900/1094 Closs: -5.1582, Gloss: -45.5916, C(x): 48.5915 C(G(z)): 43.4333/-0.4499\n",
            "Batch 1000/1094 Closs: -3.1317, Gloss: -37.0458, C(x): 36.6914 C(G(z)): 33.5597/-0.4450\n",
            "--------------------------------------\n",
            "----------- Epoch #7 ------------\n",
            "Batch 100/1094 Closs: -10.7850, Gloss: 1.4892, C(x): 15.7654 C(G(z)): 4.9804/-0.3505\n",
            "Batch 200/1094 Closs: -4.4830, Gloss: -36.9443, C(x): 41.5239 C(G(z)): 37.0410/-0.4819\n",
            "Batch 300/1094 Closs: -13.7335, Gloss: -35.8669, C(x): 46.9742 C(G(z)): 33.2407/-0.5767\n",
            "Batch 400/1094 Closs: -3.0850, Gloss: -10.8781, C(x): 13.1541 C(G(z)): 10.0691/-0.4212\n",
            "Batch 500/1094 Closs: -5.4663, Gloss: -30.7436, C(x): 38.1131 C(G(z)): 32.6468/-0.3920\n",
            "Batch 600/1094 Closs: -12.1695, Gloss: -32.8840, C(x): 38.3018 C(G(z)): 26.1323/-0.3911\n",
            "Batch 700/1094 Closs: -3.5506, Gloss: -16.2823, C(x): 10.4130 C(G(z)): 6.8624/-0.5124\n",
            "Batch 800/1094 Closs: -7.1665, Gloss: -26.4526, C(x): 34.3411 C(G(z)): 27.1746/-0.4779\n",
            "Batch 900/1094 Closs: -0.8824, Gloss: -51.2314, C(x): 60.4609 C(G(z)): 59.5785/-0.3604\n",
            "Batch 1000/1094 Closs: -7.9629, Gloss: -13.7817, C(x): 26.5209 C(G(z)): 18.5580/-0.4897\n",
            "--------------------------------------\n",
            "----------- Epoch #8 ------------\n",
            "Batch 100/1094 Closs: -7.4253, Gloss: -9.4595, C(x): 21.7399 C(G(z)): 14.3147/-0.2726\n",
            "Batch 200/1094 Closs: -4.8987, Gloss: -10.4365, C(x): 17.5163 C(G(z)): 12.6176/-0.3397\n",
            "Batch 300/1094 Closs: -4.2874, Gloss: -15.1239, C(x): 17.7494 C(G(z)): 13.4621/-0.4829\n",
            "Batch 400/1094 Closs: -7.2795, Gloss: -24.7216, C(x): 28.3603 C(G(z)): 21.0809/-0.3969\n",
            "Batch 500/1094 Closs: -3.3737, Gloss: -22.5480, C(x): 24.5579 C(G(z)): 21.1842/-0.4696\n",
            "Batch 600/1094 Closs: -0.8207, Gloss: -17.0985, C(x): 14.1263 C(G(z)): 13.3056/-0.5111\n",
            "Batch 700/1094 Closs: -5.5400, Gloss: 0.6978, C(x): 4.5244 C(G(z)): -1.0156/-0.4613\n",
            "Batch 800/1094 Closs: -3.6366, Gloss: 11.6788, C(x): -2.9225 C(G(z)): -6.5592/-0.3418\n",
            "Batch 900/1094 Closs: -4.3585, Gloss: 11.1932, C(x): -2.9825 C(G(z)): -7.3410/-0.5358\n",
            "Batch 1000/1094 Closs: -4.4008, Gloss: 11.3783, C(x): -5.9883 C(G(z)): -10.3891/-0.4438\n",
            "--------------------------------------\n",
            "----------- Epoch #9 ------------\n",
            "Batch 100/1094 Closs: -6.9943, Gloss: -17.1182, C(x): 23.1820 C(G(z)): 16.1877/-0.5146\n",
            "Batch 200/1094 Closs: -4.9891, Gloss: -24.3403, C(x): 24.8570 C(G(z)): 19.8679/-0.4717\n",
            "Batch 300/1094 Closs: -2.9644, Gloss: -17.8142, C(x): 22.8453 C(G(z)): 19.8809/-0.5489\n",
            "Batch 400/1094 Closs: -3.5092, Gloss: -41.4120, C(x): 45.1425 C(G(z)): 41.6333/-0.4854\n",
            "Batch 500/1094 Closs: -2.7694, Gloss: -33.9852, C(x): 44.5330 C(G(z)): 41.7636/-0.4622\n",
            "Batch 600/1094 Closs: -5.3622, Gloss: -5.5229, C(x): 19.0347 C(G(z)): 13.6725/-0.4721\n",
            "Batch 700/1094 Closs: -0.7490, Gloss: -26.8126, C(x): 24.0251 C(G(z)): 23.2761/-0.5133\n",
            "Batch 800/1094 Closs: -8.7666, Gloss: -11.5714, C(x): 23.0287 C(G(z)): 14.2621/-0.3839\n",
            "Batch 900/1094 Closs: -3.4943, Gloss: -14.2036, C(x): 14.7293 C(G(z)): 11.2350/-0.5596\n",
            "Batch 1000/1094 Closs: -5.1643, Gloss: -30.7603, C(x): 33.0769 C(G(z)): 27.9126/-0.4876\n",
            "--------------------------------------\n",
            "----------- Epoch #10 ------------\n",
            "Batch 100/1094 Closs: -6.1903, Gloss: -16.0358, C(x): 21.2418 C(G(z)): 15.0515/-0.4112\n",
            "Batch 200/1094 Closs: 3.7212, Gloss: 7.4324, C(x): -5.4502 C(G(z)): -1.7289/-0.4687\n",
            "Batch 300/1094 Closs: -2.1991, Gloss: 10.4966, C(x): -2.5104 C(G(z)): -4.7094/-0.3155\n",
            "Batch 400/1094 Closs: -3.6161, Gloss: -0.3218, C(x): 1.1981 C(G(z)): -2.4180/-0.3994\n",
            "Batch 500/1094 Closs: -2.0365, Gloss: 26.7940, C(x): -20.9671 C(G(z)): -23.0036/-0.3323\n",
            "Batch 600/1094 Closs: 1.8163, Gloss: 12.9858, C(x): -12.0861 C(G(z)): -10.2698/-0.4516\n",
            "Batch 700/1094 Closs: -2.5229, Gloss: 30.7459, C(x): -27.5528 C(G(z)): -30.0756/-0.4623\n",
            "Batch 800/1094 Closs: 0.5933, Gloss: 18.2152, C(x): -21.2330 C(G(z)): -20.6397/-0.4739\n",
            "Batch 900/1094 Closs: -7.1847, Gloss: 16.8542, C(x): -8.9719 C(G(z)): -16.1566/-0.3022\n",
            "Batch 1000/1094 Closs: -4.5875, Gloss: 8.3094, C(x): 0.8290 C(G(z)): -3.7585/-0.3576\n",
            "--------------------------------------\n",
            "----------- WGAN Train End! ------------\n"
          ]
        },
        {
          "output_type": "display_data",
          "data": {
            "text/plain": [
              "VBox(children=(Label(value='0.021 MB of 0.021 MB uploaded\\r'), FloatProgress(value=1.0, max=1.0)))"
            ],
            "application/vnd.jupyter.widget-view+json": {
              "version_major": 2,
              "version_minor": 0,
              "model_id": "fcec425e01b949f8841cdbf3820464ef"
            }
          },
          "metadata": {}
        },
        {
          "output_type": "display_data",
          "data": {
            "text/plain": [
              "<IPython.core.display.HTML object>"
            ],
            "text/html": [
              "<style>\n",
              "    table.wandb td:nth-child(1) { padding: 0 10px; text-align: left ; width: auto;} td:nth-child(2) {text-align: left ; width: 100%}\n",
              "    .wandb-row { display: flex; flex-direction: row; flex-wrap: wrap; justify-content: flex-start; width: 100% }\n",
              "    .wandb-col { display: flex; flex-direction: column; flex-basis: 100%; flex: 1; padding: 10px; }\n",
              "    </style>\n",
              "<div class=\"wandb-row\"><div class=\"wandb-col\"><h3>Run history:</h3><br/><table class=\"wandb\"><tr><td>Discriminator Loss</td><td>▁▄▅▃█▄▇▄▃▅▄▆▆▆▅▅▅▇▇▅▆▇▆▇▆▆▇▇▇█▇▇▇██▇▇█▇▇</td></tr><tr><td>Generator Loss</td><td> █     ▅ ▅    ▁▁      ▁     ▂      ▂▂   </td></tr></table><br/></div><div class=\"wandb-col\"><h3>Run summary:</h3><br/><table class=\"wandb\"><tr><td>Discriminator Loss</td><td>-6.37142</td></tr><tr><td>Generator Loss</td><td>nan</td></tr></table><br/></div></div>"
            ]
          },
          "metadata": {}
        },
        {
          "output_type": "display_data",
          "data": {
            "text/plain": [
              "<IPython.core.display.HTML object>"
            ],
            "text/html": [
              " View run <strong style=\"color:#cdcd00\">wise-flower-11</strong> at: <a href='https://wandb.ai/mitkrieger-cornell-university/wgan/runs/9gzi0tvt' target=\"_blank\">https://wandb.ai/mitkrieger-cornell-university/wgan/runs/9gzi0tvt</a><br/> View project at: <a href='https://wandb.ai/mitkrieger-cornell-university/wgan' target=\"_blank\">https://wandb.ai/mitkrieger-cornell-university/wgan</a><br/>Synced 5 W&B file(s), 0 media file(s), 0 artifact file(s) and 0 other file(s)"
            ]
          },
          "metadata": {}
        },
        {
          "output_type": "display_data",
          "data": {
            "text/plain": [
              "<IPython.core.display.HTML object>"
            ],
            "text/html": [
              "Find logs at: <code>./wandb/run-20241017_185147-9gzi0tvt/logs</code>"
            ]
          },
          "metadata": {}
        }
      ]
    },
    {
      "cell_type": "code",
      "execution_count": 81,
      "metadata": {
        "colab": {
          "base_uri": "https://localhost:8080/",
          "height": 167
        },
        "id": "RExy5mEkCHBv",
        "outputId": "f2df0601-fda7-434c-a8ff-416f94c712ef"
      },
      "outputs": [
        {
          "output_type": "display_data",
          "data": {
            "text/plain": [
              "<Figure size 640x480 with 1 Axes>"
            ],
            "image/png": "[encoded data removed]"
          },
          "metadata": {}
        }
      ],
      "source": [
        "wgan2.generate_images(4, F.one_hot(torch.tensor([3]*4, device=wgan.device), num_classes=10).float())"
      ]
    },
    {
      "cell_type": "code",
      "source": [
        "torch.save(wgan.generator.cpu().state_dict(), '/content/drive/MyDrive/DL3/wgan_generator_arch_b.pth')\n",
        "torch.save(wgan.critic.cpu().state_dict(), '/content/drive/MyDrive/DL3/wgan_discriminator_arch_b.pth')"
      ],
      "metadata": {
        "id": "XQkMDGqI1ROj"
      },
      "execution_count": 82,
      "outputs": []
    },
    {
      "cell_type": "markdown",
      "source": [
        "## WGAN-GP"
      ],
      "metadata": {
        "id": "DOamfP9OjCOw"
      }
    },
    {
      "cell_type": "code",
      "source": [
        "class WGAN_GP:\n",
        "    def __init__(self, arch_type, z_dim, num_classes, channels, features, device, lr=0.0001, lambda_gp=10):\n",
        "        self.z_dim = z_dim\n",
        "        self.device = device\n",
        "        self.lambda_gp = lambda_gp\n",
        "        self.num_classes = num_classes\n",
        "        self.lr = lr\n",
        "        self.arch_type = arch_type\n",
        "        self.model_type = 'gp'\n",
        "\n",
        "        self.generator = Generator(self.model_type, arch_type, z_dim, num_classes, channels, features).to(device)\n",
        "        self.critic = Discriminator(self.model_type, arch_type, channels, num_classes, features).to(device)\n",
        "\n",
        "        self.optim_critic = optim.Adam(self.critic.parameters(), lr=self.lr, betas=(0.0, 0.9))\n",
        "        self.optim_gen = optim.Adam(self.generator.parameters(), lr=self.lr, betas=(0.0, 0.9))\n",
        "\n",
        "    def compute_gradient_penalty(self, real_imgs, real_labels, fake_imgs):\n",
        "        alpha = torch.rand((real_imgs.size(0), 1, 1, 1), device=self.device)\n",
        "        interpolates = (alpha * real_imgs + (1 - alpha) * fake_imgs).requires_grad_(True)\n",
        "        d_interpolates = self.critic(interpolates, real_labels)\n",
        "        fake = torch.ones(d_interpolates.size(), device=self.device)\n",
        "        gradients = torch.autograd.grad(\n",
        "            outputs=d_interpolates,\n",
        "            inputs=interpolates,\n",
        "            grad_outputs=fake,\n",
        "            create_graph=True,\n",
        "            retain_graph=True,\n",
        "            only_inputs=True,\n",
        "        )[0]\n",
        "        gradients = gradients.view(gradients.size(0), -1)\n",
        "        gradient_penalty = ((gradients.norm(2, dim=1) - 1) ** 2).mean()\n",
        "        return gradient_penalty\n",
        "\n",
        "    def train_critic(self, fake_labels, real_imgs, real_labels, batch_size):\n",
        "        self.optim_critic.zero_grad()\n",
        "        noise = torch.randn(batch_size, self.z_dim, 1, 1, device=self.device)\n",
        "\n",
        "        fake_imgs = self.generator(noise, fake_labels)\n",
        "        real_preds = self.critic(real_imgs, real_labels)\n",
        "        fake_preds = self.critic(fake_imgs.detach(), fake_labels)\n",
        "        gradient_penalty = self.compute_gradient_penalty(real_imgs, real_labels, fake_imgs.detach())\n",
        "        critic_loss = -torch.mean(real_preds) + torch.mean(fake_preds) + self.lambda_gp * gradient_penalty\n",
        "        critic_loss.backward()\n",
        "        self.optim_critic.step()\n",
        "        return critic_loss\n",
        "\n",
        "    def train_generator(self, fake_labels):\n",
        "        self.optim_gen.zero_grad()\n",
        "        noise = torch.randn(fake_labels.size(0), self.z_dim, 1, 1, device=self.device)\n",
        "        fake_imgs = self.generator(noise, fake_labels)\n",
        "        fake_preds = self.critic(fake_imgs, fake_labels)\n",
        "        gen_loss = -torch.mean(fake_preds)\n",
        "        gen_loss.backward()\n",
        "        self.optim_gen.step()\n",
        "        return gen_loss\n",
        "\n",
        "    def train_one_epoch(self, dataloader, n_critic):\n",
        "        gen_loss = None  # Initialize gen_loss\n",
        "        for i, (real_imgs, real_labels) in enumerate(dataloader):\n",
        "            batch_size = real_imgs.size(0)\n",
        "            real_imgs = real_imgs.to(self.device)\n",
        "\n",
        "            fake_labels = F.one_hot(torch.randint(0, 10, (batch_size,), device=self.device), num_classes=10).float()\n",
        "\n",
        "            # Train Critic n_critic times\n",
        "            for _ in range(n_critic):\n",
        "                critic_loss = self.train_critic(fake_labels, real_imgs, real_labels, batch_size)\n",
        "            # Train Generator\n",
        "\n",
        "            gen_loss = self.train_generator(fake_labels)\n",
        "            if i % 100 == 0 and i != 0:\n",
        "                print(f\"Batch {i}/{len(dataloader)} \"\n",
        "                      f\"Closs: {critic_loss:.4f}, Gloss: {gen_loss:.4f}\")\n",
        "\n",
        "            wandb.log({\n",
        "                \"Critic Loss\": critic_loss,\n",
        "                \"Generator Loss\": gen_loss\n",
        "            })\n",
        "\n",
        "    def train(self, dataloader, num_epochs, n_critic=5):\n",
        "        wandb.init(project='wgan-GP', config ={\n",
        "            'epochs': num_epochs,\n",
        "            'lr':self.lr,\n",
        "            'n_critic': n_critic,\n",
        "            'lambda_gp': self.lambda_gp\n",
        "        })\n",
        "        print(f'----------- {self.__class__.__name__} Train Start! ------------')\n",
        "        for epoch in range(num_epochs):\n",
        "            print(f'----------- Epoch #{epoch + 1} ------------')\n",
        "            self.train_one_epoch(dataloader, n_critic)\n",
        "            print(f'--------------------------------------')\n",
        "        print(f'----------- {self.__class__.__name__} Train End! ------------')\n",
        "        wandb.finish()\n",
        "\n",
        "    def generate_images(self, num_images, labels):\n",
        "        self.generator.eval()\n",
        "        with torch.no_grad():  # Disable gradient calculation\n",
        "            noise = torch.randn(num_images, self.z_dim, 1, 1, device=self.device)\n",
        "            generated_images = self.generator(noise, labels)\n",
        "            # generated_images = (generated_images + 1) / 2\n",
        "            grid = torchvision.utils.make_grid(generated_images.cpu(), nrow=4, padding=2, normalize=True)\n",
        "            np_grid = grid.permute(1, 2, 0).numpy()\n",
        "            plt.imshow(np_grid)\n",
        "            plt.axis('off')"
      ],
      "metadata": {
        "id": "KJLdmR6-jrYw"
      },
      "execution_count": 96,
      "outputs": []
    },
    {
      "cell_type": "code",
      "source": [
        "wandb.finish()"
      ],
      "metadata": {
        "id": "HzADD-6z4gGE"
      },
      "execution_count": 97,
      "outputs": []
    },
    {
      "cell_type": "code",
      "source": [
        "wgangp = WGAN_GP('a', 100, 10, 1, 64, device)\n",
        "wgangp.train(traindataloader, 10, 5)"
      ],
      "metadata": {
        "colab": {
          "base_uri": "https://localhost:8080/",
          "height": 1000,
          "referenced_widgets": [
            "a9c7d0ab38654986a60894af149e58ce",
            "b139fe81480d4875a8b5b487957bfe78",
            "bd91ceec225940af8009efec75762e39",
            "47804d5369dd42dc8b99e99c91d7b88c",
            "4874204f25d44eaeb02cbb961dee8d36",
            "6854bec217684c24bc9440269616cf75",
            "5797cd43f7eb42d794792d62385460d7",
            "f2dcd35871904838ad5b7358458e3064",
            "e37e11009f2e48489bc5325c6f62ac6e",
            "418d2f4ef05e403cac6da63c73377b6f",
            "e46f39ab10bb453f800da21bfbb75fd1",
            "5d458e1dc0514c629ca143245b99f267",
            "b1fba85d7ef94991bf43b50842240cf7",
            "8d38e2bfd5c44e23bda171b17e40f4c7",
            "f1e9516a0d004801b9a505f368142103",
            "f79c155507984977b12cf526f7a19de4"
          ]
        },
        "id": "gunqgYqboTc1",
        "outputId": "a0a486db-1cbd-488f-93f6-467365709fe3"
      },
      "execution_count": 92,
      "outputs": [
        {
          "output_type": "display_data",
          "data": {
            "text/plain": [
              "VBox(children=(Label(value='Waiting for wandb.init()...\\r'), FloatProgress(value=0.011112840766650657, max=1.0…"
            ],
            "application/vnd.jupyter.widget-view+json": {
              "version_major": 2,
              "version_minor": 0,
              "model_id": "a9c7d0ab38654986a60894af149e58ce"
            }
          },
          "metadata": {}
        },
        {
          "output_type": "display_data",
          "data": {
            "text/plain": [
              "<IPython.core.display.HTML object>"
            ],
            "text/html": [
              "Tracking run with wandb version 0.18.3"
            ]
          },
          "metadata": {}
        },
        {
          "output_type": "display_data",
          "data": {
            "text/plain": [
              "<IPython.core.display.HTML object>"
            ],
            "text/html": [
              "Run data is saved locally in <code>/content/wandb/run-20241017_190907-ekqvh7ur</code>"
            ]
          },
          "metadata": {}
        },
        {
          "output_type": "display_data",
          "data": {
            "text/plain": [
              "<IPython.core.display.HTML object>"
            ],
            "text/html": [
              "Syncing run <strong><a href='https://wandb.ai/mitkrieger-cornell-university/wgan-GP/runs/ekqvh7ur' target=\"_blank\">twilight-water-13</a></strong> to <a href='https://wandb.ai/mitkrieger-cornell-university/wgan-GP' target=\"_blank\">Weights & Biases</a> (<a href='https://wandb.me/run' target=\"_blank\">docs</a>)<br/>"
            ]
          },
          "metadata": {}
        },
        {
          "output_type": "display_data",
          "data": {
            "text/plain": [
              "<IPython.core.display.HTML object>"
            ],
            "text/html": [
              " View project at <a href='https://wandb.ai/mitkrieger-cornell-university/wgan-GP' target=\"_blank\">https://wandb.ai/mitkrieger-cornell-university/wgan-GP</a>"
            ]
          },
          "metadata": {}
        },
        {
          "output_type": "display_data",
          "data": {
            "text/plain": [
              "<IPython.core.display.HTML object>"
            ],
            "text/html": [
              " View run at <a href='https://wandb.ai/mitkrieger-cornell-university/wgan-GP/runs/ekqvh7ur' target=\"_blank\">https://wandb.ai/mitkrieger-cornell-university/wgan-GP/runs/ekqvh7ur</a>"
            ]
          },
          "metadata": {}
        },
        {
          "output_type": "stream",
          "name": "stdout",
          "text": [
            "----------- WGAN_GP Train Start! ------------\n",
            "----------- Epoch #1 ------------\n",
            "Batch 100/1094 Closs: -14.3090, Gloss: 8.0504\n",
            "Batch 200/1094 Closs: -9.7446, Gloss: -1.7013\n",
            "Batch 300/1094 Closs: -11.6021, Gloss: 8.2873\n",
            "Batch 400/1094 Closs: -14.7538, Gloss: 20.1781\n",
            "Batch 500/1094 Closs: -21.3046, Gloss: 4.0764\n",
            "Batch 600/1094 Closs: -21.8121, Gloss: 16.1358\n",
            "Batch 700/1094 Closs: 0.6259, Gloss: -9.6071\n",
            "Batch 800/1094 Closs: -8.1833, Gloss: 17.3331\n",
            "Batch 900/1094 Closs: -7.8457, Gloss: -10.8356\n",
            "Batch 1000/1094 Closs: -0.9410, Gloss: -0.6002\n",
            "--------------------------------------\n",
            "----------- Epoch #2 ------------\n",
            "Batch 100/1094 Closs: -15.2720, Gloss: 79.4280\n",
            "Batch 200/1094 Closs: -36.3681, Gloss: 23.4275\n",
            "Batch 300/1094 Closs: -25.8278, Gloss: 60.9625\n",
            "Batch 400/1094 Closs: -36.5087, Gloss: 73.0523\n",
            "Batch 500/1094 Closs: -55.2730, Gloss: 46.2590\n",
            "Batch 600/1094 Closs: -13.4452, Gloss: 86.9694\n",
            "Batch 700/1094 Closs: -0.2136, Gloss: 133.8481\n",
            "Batch 800/1094 Closs: -13.3959, Gloss: 128.8626\n",
            "Batch 900/1094 Closs: 5.8261, Gloss: -4.4833\n",
            "Batch 1000/1094 Closs: 7.4895, Gloss: 22.4448\n",
            "--------------------------------------\n",
            "----------- Epoch #3 ------------\n",
            "Batch 100/1094 Closs: -40.6312, Gloss: -67.7632\n",
            "Batch 200/1094 Closs: -44.7403, Gloss: 68.0128\n",
            "Batch 300/1094 Closs: 7.6138, Gloss: -149.6435\n",
            "Batch 400/1094 Closs: -89.4425, Gloss: 60.6832\n",
            "Batch 500/1094 Closs: 9.4860, Gloss: 69.6733\n",
            "Batch 600/1094 Closs: -71.0645, Gloss: 99.3995\n",
            "Batch 700/1094 Closs: 26.1632, Gloss: -154.9194\n",
            "Batch 800/1094 Closs: -53.4060, Gloss: 98.1468\n",
            "Batch 900/1094 Closs: 13.7968, Gloss: -110.9624\n",
            "Batch 1000/1094 Closs: -62.1168, Gloss: 86.8887\n",
            "--------------------------------------\n",
            "----------- Epoch #4 ------------\n",
            "Batch 100/1094 Closs: -42.3537, Gloss: 78.7805\n",
            "Batch 200/1094 Closs: -64.3641, Gloss: 26.4240\n",
            "Batch 300/1094 Closs: -61.2236, Gloss: 52.8306\n",
            "Batch 400/1094 Closs: -47.0802, Gloss: -4.4310\n",
            "Batch 500/1094 Closs: -50.0898, Gloss: 221.7708\n",
            "Batch 600/1094 Closs: -95.3121, Gloss: 90.6149\n",
            "Batch 700/1094 Closs: -50.9631, Gloss: -4.2932\n",
            "Batch 800/1094 Closs: -113.1939, Gloss: -89.9897\n",
            "Batch 900/1094 Closs: -176.6525, Gloss: -24.7128\n",
            "Batch 1000/1094 Closs: -36.1109, Gloss: -49.5773\n",
            "--------------------------------------\n",
            "----------- Epoch #5 ------------\n",
            "Batch 100/1094 Closs: -82.6064, Gloss: -151.5173\n",
            "Batch 200/1094 Closs: -65.6645, Gloss: -45.8174\n",
            "Batch 300/1094 Closs: 15.0210, Gloss: 164.5087\n",
            "Batch 400/1094 Closs: -175.8344, Gloss: 259.8386\n",
            "Batch 500/1094 Closs: -8.9606, Gloss: 100.0384\n",
            "Batch 600/1094 Closs: -70.8296, Gloss: -235.1123\n",
            "Batch 700/1094 Closs: -11.4166, Gloss: -8.6274\n",
            "Batch 800/1094 Closs: -142.5988, Gloss: 193.6835\n",
            "Batch 900/1094 Closs: -75.7360, Gloss: -36.7770\n",
            "Batch 1000/1094 Closs: -217.8454, Gloss: 334.4772\n",
            "--------------------------------------\n",
            "----------- Epoch #6 ------------\n",
            "Batch 100/1094 Closs: 48.3560, Gloss: 234.0425\n",
            "Batch 200/1094 Closs: -10.5581, Gloss: -339.8272\n",
            "Batch 300/1094 Closs: -172.0880, Gloss: 108.0295\n",
            "Batch 400/1094 Closs: -94.6540, Gloss: 274.8423\n",
            "Batch 500/1094 Closs: -21.8783, Gloss: -106.5435\n",
            "Batch 600/1094 Closs: -148.1801, Gloss: 193.1441\n",
            "Batch 700/1094 Closs: -15.8263, Gloss: 187.5980\n",
            "Batch 800/1094 Closs: -71.5601, Gloss: -28.2771\n",
            "Batch 900/1094 Closs: 31.4603, Gloss: 79.5158\n",
            "Batch 1000/1094 Closs: 50.7097, Gloss: 46.5514\n",
            "--------------------------------------\n",
            "----------- Epoch #7 ------------\n",
            "Batch 100/1094 Closs: -53.2416, Gloss: -68.3349\n",
            "Batch 200/1094 Closs: 7.5045, Gloss: 323.9358\n",
            "Batch 300/1094 Closs: 93.2470, Gloss: 189.9096\n",
            "Batch 400/1094 Closs: -187.7036, Gloss: 211.5341\n",
            "Batch 500/1094 Closs: 24.5796, Gloss: -122.0696\n",
            "Batch 600/1094 Closs: -78.5900, Gloss: 142.9026\n",
            "Batch 700/1094 Closs: -74.7322, Gloss: 69.9295\n",
            "Batch 800/1094 Closs: 69.6202, Gloss: -184.2484\n",
            "Batch 900/1094 Closs: -246.2642, Gloss: 453.4078\n",
            "Batch 1000/1094 Closs: -3.1273, Gloss: 384.5063\n",
            "--------------------------------------\n",
            "----------- Epoch #8 ------------\n",
            "Batch 100/1094 Closs: -190.0826, Gloss: 234.9757\n",
            "Batch 200/1094 Closs: -89.6211, Gloss: 91.4155\n",
            "Batch 300/1094 Closs: -80.2287, Gloss: -170.6209\n",
            "Batch 400/1094 Closs: 204.1405, Gloss: -571.0648\n",
            "Batch 500/1094 Closs: 62.8814, Gloss: 516.2543\n",
            "Batch 600/1094 Closs: -326.8242, Gloss: 119.7642\n",
            "Batch 700/1094 Closs: -238.1424, Gloss: -320.7888\n",
            "Batch 800/1094 Closs: -472.5796, Gloss: 365.6263\n",
            "Batch 900/1094 Closs: -84.3564, Gloss: 321.2617\n",
            "Batch 1000/1094 Closs: 209.0570, Gloss: -210.1261\n",
            "--------------------------------------\n",
            "----------- Epoch #9 ------------\n",
            "Batch 100/1094 Closs: -208.3516, Gloss: -171.9030\n",
            "Batch 200/1094 Closs: -225.0592, Gloss: 191.1668\n",
            "Batch 300/1094 Closs: -336.8225, Gloss: 836.3616\n",
            "Batch 400/1094 Closs: -9.3593, Gloss: 201.7478\n",
            "Batch 500/1094 Closs: -156.1136, Gloss: 911.9028\n",
            "Batch 600/1094 Closs: -176.8914, Gloss: 237.3235\n",
            "Batch 700/1094 Closs: -188.8074, Gloss: 9.0886\n",
            "Batch 800/1094 Closs: 172.1470, Gloss: 324.2834\n",
            "Batch 900/1094 Closs: -310.4515, Gloss: 605.4224\n",
            "Batch 1000/1094 Closs: 26.6072, Gloss: 21.9625\n",
            "--------------------------------------\n",
            "----------- Epoch #10 ------------\n",
            "Batch 100/1094 Closs: -36.4279, Gloss: 212.9174\n",
            "Batch 200/1094 Closs: 34.4501, Gloss: 408.8877\n",
            "Batch 300/1094 Closs: -208.9676, Gloss: 122.5494\n",
            "Batch 400/1094 Closs: -171.5545, Gloss: 146.5944\n",
            "Batch 500/1094 Closs: 219.8782, Gloss: 460.5570\n",
            "Batch 600/1094 Closs: -110.7155, Gloss: -401.6425\n",
            "Batch 700/1094 Closs: -52.7341, Gloss: -806.3610\n",
            "Batch 800/1094 Closs: -114.9284, Gloss: 111.7177\n",
            "Batch 900/1094 Closs: -359.8212, Gloss: -59.2204\n",
            "Batch 1000/1094 Closs: -39.8786, Gloss: 754.4086\n",
            "--------------------------------------\n",
            "----------- WGAN_GP Train End! ------------\n"
          ]
        },
        {
          "output_type": "display_data",
          "data": {
            "text/plain": [
              "VBox(children=(Label(value='0.017 MB of 0.017 MB uploaded\\r'), FloatProgress(value=1.0, max=1.0)))"
            ],
            "application/vnd.jupyter.widget-view+json": {
              "version_major": 2,
              "version_minor": 0,
              "model_id": "e37e11009f2e48489bc5325c6f62ac6e"
            }
          },
          "metadata": {}
        },
        {
          "output_type": "display_data",
          "data": {
            "text/plain": [
              "<IPython.core.display.HTML object>"
            ],
            "text/html": [
              "<style>\n",
              "    table.wandb td:nth-child(1) { padding: 0 10px; text-align: left ; width: auto;} td:nth-child(2) {text-align: left ; width: 100%}\n",
              "    .wandb-row { display: flex; flex-direction: row; flex-wrap: wrap; justify-content: flex-start; width: 100% }\n",
              "    .wandb-col { display: flex; flex-direction: column; flex-basis: 100%; flex: 1; padding: 10px; }\n",
              "    </style>\n",
              "<div class=\"wandb-row\"><div class=\"wandb-col\"><h3>Run history:</h3><br/><table class=\"wandb\"><tr><td>Critic Loss</td><td>▇▆▇▇▇▇▆▆▆▆▅▇▆▆▇█▇▆█▄▆▆▅▅█▇▇▅▄▅▃▄█▅▅▆▂▁▂▇</td></tr><tr><td>Generator Loss</td><td>▄▄▄▄▄▄▄▄▅▃▄▄▄▄▄▄▄▅▅▄▄▃▃▆▄▄▅▅▆▄▅▄▇█▆▄▁▆▆▃</td></tr></table><br/></div><div class=\"wandb-col\"><h3>Run summary:</h3><br/><table class=\"wandb\"><tr><td>Critic Loss</td><td>-517.052</td></tr><tr><td>Generator Loss</td><td>390.81201</td></tr></table><br/></div></div>"
            ]
          },
          "metadata": {}
        },
        {
          "output_type": "display_data",
          "data": {
            "text/plain": [
              "<IPython.core.display.HTML object>"
            ],
            "text/html": [
              " View run <strong style=\"color:#cdcd00\">twilight-water-13</strong> at: <a href='https://wandb.ai/mitkrieger-cornell-university/wgan-GP/runs/ekqvh7ur' target=\"_blank\">https://wandb.ai/mitkrieger-cornell-university/wgan-GP/runs/ekqvh7ur</a><br/> View project at: <a href='https://wandb.ai/mitkrieger-cornell-university/wgan-GP' target=\"_blank\">https://wandb.ai/mitkrieger-cornell-university/wgan-GP</a><br/>Synced 5 W&B file(s), 0 media file(s), 0 artifact file(s) and 0 other file(s)"
            ]
          },
          "metadata": {}
        },
        {
          "output_type": "display_data",
          "data": {
            "text/plain": [
              "<IPython.core.display.HTML object>"
            ],
            "text/html": [
              "Find logs at: <code>./wandb/run-20241017_190907-ekqvh7ur/logs</code>"
            ]
          },
          "metadata": {}
        }
      ]
    },
    {
      "cell_type": "code",
      "source": [
        "wgangp.generate_images(4, F.one_hot(torch.tensor([3]*4, device=wgangp.device), num_classes=10).float())"
      ],
      "metadata": {
        "colab": {
          "base_uri": "https://localhost:8080/",
          "height": 167
        },
        "id": "i-yL4fxHoXMe",
        "outputId": "6005cce9-c803-421f-d307-bacee042b024"
      },
      "execution_count": 95,
      "outputs": [
        {
          "output_type": "display_data",
          "data": {
            "text/plain": [
              "<Figure size 640x480 with 1 Axes>"
            ],
            "image/png": "[encoded data removed]"
          },
          "metadata": {}
        }
      ]
    },
    {
      "cell_type": "code",
      "source": [
        "torch.save(wgan.generator.cpu().state_dict(), '/content/drive/MyDrive/DL3/gp_generator_arch_a.pth')\n",
        "torch.save(wgan.critic.cpu().state_dict(), '/content/drive/MyDrive/DL3/gp_discriminator_arch_a.pth')"
      ],
      "metadata": {
        "id": "Lpa9VDx7ckP2"
      },
      "execution_count": 99,
      "outputs": []
    },
    {
      "cell_type": "code",
      "source": [
        "wgangp2 = WGAN_GP('b', 100, 10, 1, 64, device, lr=0.00001)\n",
        "wgangp2.train(traindataloader, 10, 5)"
      ],
      "metadata": {
        "colab": {
          "base_uri": "https://localhost:8080/",
          "height": 1000,
          "referenced_widgets": [
            "a9ac89b098a945edb108e8cf1f31ca68",
            "7acc819072cb4f30891d02fe65a05a64",
            "d834342d86ce4bf8ad06a886763ea088",
            "a5c64a3622b544c99a9d324fd970a3aa",
            "9cd8802db0d04e9a86736253aa1bd207",
            "accc0c32d2cd4cbe8dade00eabed722c",
            "a1d86421f7834b0ab91dd81ca7c75782",
            "abe3e83d5a894d3e9ac9681e0ae76dc8"
          ]
        },
        "id": "nkBfMz3WWvsl",
        "outputId": "88cc0bf1-3d60-408e-cc9f-dbf8b0a74fb6"
      },
      "execution_count": 103,
      "outputs": [
        {
          "output_type": "display_data",
          "data": {
            "text/plain": [
              "<IPython.core.display.HTML object>"
            ],
            "text/html": [
              "Tracking run with wandb version 0.18.3"
            ]
          },
          "metadata": {}
        },
        {
          "output_type": "display_data",
          "data": {
            "text/plain": [
              "<IPython.core.display.HTML object>"
            ],
            "text/html": [
              "Run data is saved locally in <code>/content/wandb/run-20241017_194047-mikchywi</code>"
            ]
          },
          "metadata": {}
        },
        {
          "output_type": "display_data",
          "data": {
            "text/plain": [
              "<IPython.core.display.HTML object>"
            ],
            "text/html": [
              "Syncing run <strong><a href='https://wandb.ai/mitkrieger-cornell-university/wgan-GP/runs/mikchywi' target=\"_blank\">smooth-dawn-15</a></strong> to <a href='https://wandb.ai/mitkrieger-cornell-university/wgan-GP' target=\"_blank\">Weights & Biases</a> (<a href='https://wandb.me/run' target=\"_blank\">docs</a>)<br/>"
            ]
          },
          "metadata": {}
        },
        {
          "output_type": "display_data",
          "data": {
            "text/plain": [
              "<IPython.core.display.HTML object>"
            ],
            "text/html": [
              " View project at <a href='https://wandb.ai/mitkrieger-cornell-university/wgan-GP' target=\"_blank\">https://wandb.ai/mitkrieger-cornell-university/wgan-GP</a>"
            ]
          },
          "metadata": {}
        },
        {
          "output_type": "display_data",
          "data": {
            "text/plain": [
              "<IPython.core.display.HTML object>"
            ],
            "text/html": [
              " View run at <a href='https://wandb.ai/mitkrieger-cornell-university/wgan-GP/runs/mikchywi' target=\"_blank\">https://wandb.ai/mitkrieger-cornell-university/wgan-GP/runs/mikchywi</a>"
            ]
          },
          "metadata": {}
        },
        {
          "output_type": "stream",
          "name": "stdout",
          "text": [
            "----------- WGAN_GP Train Start! ------------\n",
            "----------- Epoch #1 ------------\n",
            "Batch 100/1094 Closs: -10.7736, Gloss: 25.4790\n",
            "Batch 200/1094 Closs: -12.6708, Gloss: 19.3899\n",
            "Batch 300/1094 Closs: -14.5690, Gloss: 2.6594\n",
            "Batch 400/1094 Closs: -15.8027, Gloss: -2.0697\n",
            "Batch 500/1094 Closs: -14.7076, Gloss: -3.2140\n",
            "Batch 600/1094 Closs: -14.2537, Gloss: -8.3273\n",
            "Batch 700/1094 Closs: -15.0878, Gloss: -11.6259\n",
            "Batch 800/1094 Closs: -16.7405, Gloss: -12.0959\n",
            "Batch 900/1094 Closs: -16.1320, Gloss: -13.3612\n",
            "Batch 1000/1094 Closs: -15.7317, Gloss: -14.1735\n",
            "--------------------------------------\n",
            "----------- Epoch #2 ------------\n",
            "Batch 100/1094 Closs: -14.3058, Gloss: -25.6745\n",
            "Batch 200/1094 Closs: -12.4115, Gloss: -29.1571\n",
            "Batch 300/1094 Closs: -11.8754, Gloss: -37.2898\n",
            "Batch 400/1094 Closs: -12.3331, Gloss: -41.1078\n",
            "Batch 500/1094 Closs: -14.3877, Gloss: -47.0274\n",
            "Batch 600/1094 Closs: -16.9742, Gloss: -54.4378\n",
            "Batch 700/1094 Closs: -13.3075, Gloss: -56.7203\n",
            "Batch 800/1094 Closs: -12.7688, Gloss: -67.8494\n",
            "Batch 900/1094 Closs: -11.3387, Gloss: -71.5701\n",
            "Batch 1000/1094 Closs: -14.8723, Gloss: -71.1949\n",
            "--------------------------------------\n",
            "----------- Epoch #3 ------------\n",
            "Batch 100/1094 Closs: -15.9246, Gloss: -90.0049\n",
            "Batch 200/1094 Closs: -13.1562, Gloss: -86.3457\n",
            "Batch 300/1094 Closs: -11.3900, Gloss: -94.0356\n",
            "Batch 400/1094 Closs: -9.8241, Gloss: -87.4987\n",
            "Batch 500/1094 Closs: -11.2925, Gloss: -99.0655\n",
            "Batch 600/1094 Closs: -9.9968, Gloss: -93.0478\n",
            "Batch 700/1094 Closs: -13.1900, Gloss: -107.8567\n",
            "Batch 800/1094 Closs: -22.1639, Gloss: -102.1769\n",
            "Batch 900/1094 Closs: -14.9679, Gloss: -106.8261\n",
            "Batch 1000/1094 Closs: -9.8357, Gloss: -111.6544\n",
            "--------------------------------------\n",
            "----------- Epoch #4 ------------\n",
            "Batch 100/1094 Closs: -10.3815, Gloss: -111.9782\n",
            "Batch 200/1094 Closs: -5.5801, Gloss: -139.1518\n",
            "Batch 300/1094 Closs: -3.7365, Gloss: -124.6039\n",
            "Batch 400/1094 Closs: 1.4499, Gloss: -133.4761\n",
            "Batch 500/1094 Closs: -8.4258, Gloss: -144.6879\n",
            "Batch 600/1094 Closs: -11.2408, Gloss: -159.0563\n",
            "Batch 700/1094 Closs: -19.1958, Gloss: -172.8484\n",
            "Batch 800/1094 Closs: -19.9231, Gloss: -165.3617\n",
            "Batch 900/1094 Closs: -17.1356, Gloss: -159.3362\n",
            "Batch 1000/1094 Closs: -61.3747, Gloss: -142.9806\n",
            "--------------------------------------\n",
            "----------- Epoch #5 ------------\n",
            "Batch 100/1094 Closs: -10.9664, Gloss: -102.0360\n",
            "Batch 200/1094 Closs: -13.8255, Gloss: -120.7483\n",
            "Batch 300/1094 Closs: 1.5438, Gloss: -164.6534\n",
            "Batch 400/1094 Closs: -35.9462, Gloss: -266.9623\n",
            "Batch 500/1094 Closs: -9.0670, Gloss: -189.2387\n",
            "Batch 600/1094 Closs: 5.1314, Gloss: -150.7313\n",
            "Batch 700/1094 Closs: -11.8545, Gloss: -267.4681\n",
            "Batch 800/1094 Closs: -13.7070, Gloss: -298.1058\n",
            "Batch 900/1094 Closs: 18.9936, Gloss: -254.4950\n",
            "Batch 1000/1094 Closs: -9.3895, Gloss: -268.6490\n",
            "--------------------------------------\n",
            "----------- Epoch #6 ------------\n",
            "Batch 100/1094 Closs: -77.6379, Gloss: -329.3749\n",
            "Batch 200/1094 Closs: -14.5584, Gloss: -213.4855\n",
            "Batch 300/1094 Closs: -22.4209, Gloss: -116.6981\n",
            "Batch 400/1094 Closs: 22.9368, Gloss: -427.5124\n",
            "Batch 500/1094 Closs: 32.1725, Gloss: -211.4576\n",
            "Batch 600/1094 Closs: 31.5284, Gloss: -140.5834\n",
            "Batch 700/1094 Closs: -42.8010, Gloss: -283.5700\n",
            "Batch 800/1094 Closs: 3.4876, Gloss: -106.4807\n",
            "Batch 900/1094 Closs: -72.8003, Gloss: -336.1122\n",
            "Batch 1000/1094 Closs: 86.4814, Gloss: -168.8943\n",
            "--------------------------------------\n",
            "----------- Epoch #7 ------------\n",
            "Batch 100/1094 Closs: -66.0258, Gloss: -593.7552\n",
            "Batch 200/1094 Closs: -179.3567, Gloss: -300.2414\n",
            "Batch 300/1094 Closs: 226.2108, Gloss: -937.8633\n",
            "Batch 400/1094 Closs: -60.2228, Gloss: -321.3099\n",
            "Batch 500/1094 Closs: -178.4619, Gloss: -266.9599\n",
            "Batch 600/1094 Closs: -55.7569, Gloss: -402.3661\n",
            "Batch 700/1094 Closs: 2.8964, Gloss: 76.4428\n",
            "Batch 800/1094 Closs: 46.5847, Gloss: -198.7554\n",
            "Batch 900/1094 Closs: -129.3820, Gloss: -621.8600\n",
            "Batch 1000/1094 Closs: -350.2061, Gloss: -929.7570\n",
            "--------------------------------------\n",
            "----------- Epoch #8 ------------\n",
            "Batch 100/1094 Closs: -11.2974, Gloss: -684.1340\n",
            "Batch 200/1094 Closs: 129.5365, Gloss: -722.0862\n",
            "Batch 300/1094 Closs: 115.6581, Gloss: -577.4761\n",
            "Batch 400/1094 Closs: -104.6009, Gloss: -898.4783\n",
            "Batch 500/1094 Closs: -342.6685, Gloss: -755.0592\n",
            "Batch 600/1094 Closs: -110.7386, Gloss: -316.8092\n",
            "Batch 700/1094 Closs: 445.3672, Gloss: -726.7340\n",
            "Batch 800/1094 Closs: -544.8638, Gloss: -310.2964\n",
            "Batch 900/1094 Closs: 85.2416, Gloss: -949.8910\n",
            "Batch 1000/1094 Closs: 367.1075, Gloss: -1684.0083\n",
            "--------------------------------------\n",
            "----------- Epoch #9 ------------\n",
            "Batch 100/1094 Closs: -169.2227, Gloss: -1183.2151\n",
            "Batch 200/1094 Closs: -64.3283, Gloss: -955.4120\n",
            "Batch 300/1094 Closs: 389.1230, Gloss: 864.2050\n",
            "Batch 400/1094 Closs: 460.3909, Gloss: -998.9178\n",
            "Batch 500/1094 Closs: -389.2966, Gloss: -866.2302\n",
            "Batch 600/1094 Closs: 39.9771, Gloss: -96.9753\n",
            "Batch 700/1094 Closs: 454.6235, Gloss: -13.8806\n",
            "Batch 800/1094 Closs: -83.8853, Gloss: 2174.6211\n",
            "Batch 900/1094 Closs: 9.5097, Gloss: 1736.3510\n",
            "Batch 1000/1094 Closs: -91.1199, Gloss: 621.0101\n",
            "--------------------------------------\n",
            "----------- Epoch #10 ------------\n",
            "Batch 100/1094 Closs: 310.5248, Gloss: -1112.4558\n",
            "Batch 200/1094 Closs: -160.2666, Gloss: -1735.0066\n",
            "Batch 300/1094 Closs: -766.3290, Gloss: -2135.2312\n",
            "Batch 400/1094 Closs: -179.2572, Gloss: -2077.4414\n",
            "Batch 500/1094 Closs: 88.2357, Gloss: -3698.7212\n",
            "Batch 600/1094 Closs: -1105.3513, Gloss: -2352.8259\n",
            "Batch 700/1094 Closs: 707.8696, Gloss: -2443.9780\n",
            "Batch 800/1094 Closs: -426.3435, Gloss: -1386.8595\n",
            "Batch 900/1094 Closs: 198.6956, Gloss: -2045.1643\n",
            "Batch 1000/1094 Closs: 699.6520, Gloss: -246.9833\n",
            "--------------------------------------\n",
            "----------- WGAN_GP Train End! ------------\n"
          ]
        },
        {
          "output_type": "display_data",
          "data": {
            "text/plain": [
              "VBox(children=(Label(value='0.017 MB of 0.017 MB uploaded\\r'), FloatProgress(value=1.0, max=1.0)))"
            ],
            "application/vnd.jupyter.widget-view+json": {
              "version_major": 2,
              "version_minor": 0,
              "model_id": "a9ac89b098a945edb108e8cf1f31ca68"
            }
          },
          "metadata": {}
        },
        {
          "output_type": "display_data",
          "data": {
            "text/plain": [
              "<IPython.core.display.HTML object>"
            ],
            "text/html": [
              "<style>\n",
              "    table.wandb td:nth-child(1) { padding: 0 10px; text-align: left ; width: auto;} td:nth-child(2) {text-align: left ; width: 100%}\n",
              "    .wandb-row { display: flex; flex-direction: row; flex-wrap: wrap; justify-content: flex-start; width: 100% }\n",
              "    .wandb-col { display: flex; flex-direction: column; flex-basis: 100%; flex: 1; padding: 10px; }\n",
              "    </style>\n",
              "<div class=\"wandb-row\"><div class=\"wandb-col\"><h3>Run history:</h3><br/><table class=\"wandb\"><tr><td>Critic Loss</td><td>▅▅▅▅▅▅▅▅▅▅▅▅▅▅▆▅▅▆▅▅▆▆▆▆▆▆▅▆▆▆▆▆▆▅▆▅▇▆▁█</td></tr><tr><td>Generator Loss</td><td>▅▅▅▅▅▅▅▅▅▅▅▅▅▅▅▅▅▅▅▅▅▄▅▄▆▃▂▃▂▄▁▃▃██▅██▁▂</td></tr></table><br/></div><div class=\"wandb-col\"><h3>Run summary:</h3><br/><table class=\"wandb\"><tr><td>Critic Loss</td><td>90.53501</td></tr><tr><td>Generator Loss</td><td>639.4425</td></tr></table><br/></div></div>"
            ]
          },
          "metadata": {}
        },
        {
          "output_type": "display_data",
          "data": {
            "text/plain": [
              "<IPython.core.display.HTML object>"
            ],
            "text/html": [
              " View run <strong style=\"color:#cdcd00\">smooth-dawn-15</strong> at: <a href='https://wandb.ai/mitkrieger-cornell-university/wgan-GP/runs/mikchywi' target=\"_blank\">https://wandb.ai/mitkrieger-cornell-university/wgan-GP/runs/mikchywi</a><br/> View project at: <a href='https://wandb.ai/mitkrieger-cornell-university/wgan-GP' target=\"_blank\">https://wandb.ai/mitkrieger-cornell-university/wgan-GP</a><br/>Synced 5 W&B file(s), 0 media file(s), 0 artifact file(s) and 0 other file(s)"
            ]
          },
          "metadata": {}
        },
        {
          "output_type": "display_data",
          "data": {
            "text/plain": [
              "<IPython.core.display.HTML object>"
            ],
            "text/html": [
              "Find logs at: <code>./wandb/run-20241017_194047-mikchywi/logs</code>"
            ]
          },
          "metadata": {}
        }
      ]
    },
    {
      "cell_type": "code",
      "source": [
        "wgangp2.generate_images(4, F.one_hot(torch.tensor([3]*4, device=wgangp.device), num_classes=10).float())"
      ],
      "metadata": {
        "colab": {
          "base_uri": "https://localhost:8080/",
          "height": 167
        },
        "id": "70UVctT-cjwO",
        "outputId": "e2d305a0-ea0f-4401-a90d-fb786c605481"
      },
      "execution_count": 107,
      "outputs": [
        {
          "output_type": "display_data",
          "data": {
            "text/plain": [
              "<Figure size 640x480 with 1 Axes>"
            ],
            "image/png": "[encoded data removed]"
          },
          "metadata": {}
        }
      ]
    },
    {
      "cell_type": "code",
      "source": [
        "torch.save(wgan.generator.cpu().state_dict(), '/content/drive/MyDrive/DL3/gp_generator_arch_b.pth')\n",
        "torch.save(wgan.critic.cpu().state_dict(), '/content/drive/MyDrive/DL3/gp_discriminator_arch_b.pth')"
      ],
      "metadata": {
        "id": "5Kp3B549_i0l"
      },
      "execution_count": 108,
      "outputs": []
    },
    {
      "cell_type": "code",
      "source": [],
      "metadata": {
        "id": "Jc6Cs2yeCcog"
      },
      "execution_count": null,
      "outputs": []
    }
  ],
  "metadata": {
    "accelerator": "GPU",
    "colab": {
      "gpuType": "A100",
      "provenance": [],
      "machine_shape": "hm",
      "mount_file_id": "1apBdp72eW_5P6cLQ_h74ldLz4WEWLezy",
      "authorship_tag": "ABX9TyNrriJXNaeSzfrxUi2j7Y6o",
      "include_colab_link": true
    },
    "kernelspec": {
      "display_name": "Python 3",
      "name": "python3"
    },
    "language_info": {
      "name": "python"
    },
    "widgets": {
      "application/vnd.jupyter.widget-state+json": {
        "d8306d3c4c8d4da8a3305890f3641f7f": {
          "model_module": "@jupyter-widgets/controls",
          "model_name": "VBoxModel",
          "model_module_version": "1.5.0",
          "state": {
            "_dom_classes": [],
            "_model_module": "@jupyter-widgets/controls",
            "_model_module_version": "1.5.0",
            "_model_name": "VBoxModel",
            "_view_count": null,
            "_view_module": "@jupyter-widgets/controls",
            "_view_module_version": "1.5.0",
            "_view_name": "VBoxView",
            "box_style": "",
            "children": [
              "IPY_MODEL_3a8f8b2f831f4aeb9cff712d65db6ac9",
              "IPY_MODEL_7a7540c22fb24d11aae421c5a62cd46f"
            ],
            "layout": "IPY_MODEL_c82aadbeeddf471183680d62b62277b5"
          }
        },
        "3a8f8b2f831f4aeb9cff712d65db6ac9": {
          "model_module": "@jupyter-widgets/controls",
          "model_name": "LabelModel",
          "model_module_version": "1.5.0",
          "state": {
            "_dom_classes": [],
            "_model_module": "@jupyter-widgets/controls",
            "_model_module_version": "1.5.0",
            "_model_name": "LabelModel",
            "_view_count": null,
            "_view_module": "@jupyter-widgets/controls",
            "_view_module_version": "1.5.0",
            "_view_name": "LabelView",
            "description": "",
            "description_tooltip": null,
            "layout": "IPY_MODEL_559ea85f41ed4bc3ad047cbf97fc06f4",
            "placeholder": "​",
            "style": "IPY_MODEL_a671e768471140528dc8ddf39f525fe4",
            "value": "0.011 MB of 0.011 MB uploaded\r"
          }
        },
        "7a7540c22fb24d11aae421c5a62cd46f": {
          "model_module": "@jupyter-widgets/controls",
          "model_name": "FloatProgressModel",
          "model_module_version": "1.5.0",
          "state": {
            "_dom_classes": [],
            "_model_module": "@jupyter-widgets/controls",
            "_model_module_version": "1.5.0",
            "_model_name": "FloatProgressModel",
            "_view_count": null,
            "_view_module": "@jupyter-widgets/controls",
            "_view_module_version": "1.5.0",
            "_view_name": "ProgressView",
            "bar_style": "",
            "description": "",
            "description_tooltip": null,
            "layout": "IPY_MODEL_a8cbf343e4bb46a98d0db67e7a42d539",
            "max": 1,
            "min": 0,
            "orientation": "horizontal",
            "style": "IPY_MODEL_74406b66f75c43148540e8cdcc2a235e",
            "value": 1
          }
        },
        "c82aadbeeddf471183680d62b62277b5": {
          "model_module": "@jupyter-widgets/base",
          "model_name": "LayoutModel",
          "model_module_version": "1.2.0",
          "state": {
            "_model_module": "@jupyter-widgets/base",
            "_model_module_version": "1.2.0",
            "_model_name": "LayoutModel",
            "_view_count": null,
            "_view_module": "@jupyter-widgets/base",
            "_view_module_version": "1.2.0",
            "_view_name": "LayoutView",
            "align_content": null,
            "align_items": null,
            "align_self": null,
            "border": null,
            "bottom": null,
            "display": null,
            "flex": null,
            "flex_flow": null,
            "grid_area": null,
            "grid_auto_columns": null,
            "grid_auto_flow": null,
            "grid_auto_rows": null,
            "grid_column": null,
            "grid_gap": null,
            "grid_row": null,
            "grid_template_areas": null,
            "grid_template_columns": null,
            "grid_template_rows": null,
            "height": null,
            "justify_content": null,
            "justify_items": null,
            "left": null,
            "margin": null,
            "max_height": null,
            "max_width": null,
            "min_height": null,
            "min_width": null,
            "object_fit": null,
            "object_position": null,
            "order": null,
            "overflow": null,
            "overflow_x": null,
            "overflow_y": null,
            "padding": null,
            "right": null,
            "top": null,
            "visibility": null,
            "width": null
          }
        },
        "559ea85f41ed4bc3ad047cbf97fc06f4": {
          "model_module": "@jupyter-widgets/base",
          "model_name": "LayoutModel",
          "model_module_version": "1.2.0",
          "state": {
            "_model_module": "@jupyter-widgets/base",
            "_model_module_version": "1.2.0",
            "_model_name": "LayoutModel",
            "_view_count": null,
            "_view_module": "@jupyter-widgets/base",
            "_view_module_version": "1.2.0",
            "_view_name": "LayoutView",
            "align_content": null,
            "align_items": null,
            "align_self": null,
            "border": null,
            "bottom": null,
            "display": null,
            "flex": null,
            "flex_flow": null,
            "grid_area": null,
            "grid_auto_columns": null,
            "grid_auto_flow": null,
            "grid_auto_rows": null,
            "grid_column": null,
            "grid_gap": null,
            "grid_row": null,
            "grid_template_areas": null,
            "grid_template_columns": null,
            "grid_template_rows": null,
            "height": null,
            "justify_content": null,
            "justify_items": null,
            "left": null,
            "margin": null,
            "max_height": null,
            "max_width": null,
            "min_height": null,
            "min_width": null,
            "object_fit": null,
            "object_position": null,
            "order": null,
            "overflow": null,
            "overflow_x": null,
            "overflow_y": null,
            "padding": null,
            "right": null,
            "top": null,
            "visibility": null,
            "width": null
          }
        },
        "a671e768471140528dc8ddf39f525fe4": {
          "model_module": "@jupyter-widgets/controls",
          "model_name": "DescriptionStyleModel",
          "model_module_version": "1.5.0",
          "state": {
            "_model_module": "@jupyter-widgets/controls",
            "_model_module_version": "1.5.0",
            "_model_name": "DescriptionStyleModel",
            "_view_count": null,
            "_view_module": "@jupyter-widgets/base",
            "_view_module_version": "1.2.0",
            "_view_name": "StyleView",
            "description_width": ""
          }
        },
        "a8cbf343e4bb46a98d0db67e7a42d539": {
          "model_module": "@jupyter-widgets/base",
          "model_name": "LayoutModel",
          "model_module_version": "1.2.0",
          "state": {
            "_model_module": "@jupyter-widgets/base",
            "_model_module_version": "1.2.0",
            "_model_name": "LayoutModel",
            "_view_count": null,
            "_view_module": "@jupyter-widgets/base",
            "_view_module_version": "1.2.0",
            "_view_name": "LayoutView",
            "align_content": null,
            "align_items": null,
            "align_self": null,
            "border": null,
            "bottom": null,
            "display": null,
            "flex": null,
            "flex_flow": null,
            "grid_area": null,
            "grid_auto_columns": null,
            "grid_auto_flow": null,
            "grid_auto_rows": null,
            "grid_column": null,
            "grid_gap": null,
            "grid_row": null,
            "grid_template_areas": null,
            "grid_template_columns": null,
            "grid_template_rows": null,
            "height": null,
            "justify_content": null,
            "justify_items": null,
            "left": null,
            "margin": null,
            "max_height": null,
            "max_width": null,
            "min_height": null,
            "min_width": null,
            "object_fit": null,
            "object_position": null,
            "order": null,
            "overflow": null,
            "overflow_x": null,
            "overflow_y": null,
            "padding": null,
            "right": null,
            "top": null,
            "visibility": null,
            "width": null
          }
        },
        "74406b66f75c43148540e8cdcc2a235e": {
          "model_module": "@jupyter-widgets/controls",
          "model_name": "ProgressStyleModel",
          "model_module_version": "1.5.0",
          "state": {
            "_model_module": "@jupyter-widgets/controls",
            "_model_module_version": "1.5.0",
            "_model_name": "ProgressStyleModel",
            "_view_count": null,
            "_view_module": "@jupyter-widgets/base",
            "_view_module_version": "1.2.0",
            "_view_name": "StyleView",
            "bar_color": null,
            "description_width": ""
          }
        },
        "b50e4f4b7e984026ac39013f46026491": {
          "model_module": "@jupyter-widgets/controls",
          "model_name": "VBoxModel",
          "model_module_version": "1.5.0",
          "state": {
            "_dom_classes": [],
            "_model_module": "@jupyter-widgets/controls",
            "_model_module_version": "1.5.0",
            "_model_name": "VBoxModel",
            "_view_count": null,
            "_view_module": "@jupyter-widgets/controls",
            "_view_module_version": "1.5.0",
            "_view_name": "VBoxView",
            "box_style": "",
            "children": [
              "IPY_MODEL_a5fa5e8ecca546b19c152ebc7a646912",
              "IPY_MODEL_a8b8a381be774eba949e74cb3a8725e8"
            ],
            "layout": "IPY_MODEL_09fc24ac2f38458c852953fd83115883"
          }
        },
        "a5fa5e8ecca546b19c152ebc7a646912": {
          "model_module": "@jupyter-widgets/controls",
          "model_name": "LabelModel",
          "model_module_version": "1.5.0",
          "state": {
            "_dom_classes": [],
            "_model_module": "@jupyter-widgets/controls",
            "_model_module_version": "1.5.0",
            "_model_name": "LabelModel",
            "_view_count": null,
            "_view_module": "@jupyter-widgets/controls",
            "_view_module_version": "1.5.0",
            "_view_name": "LabelView",
            "description": "",
            "description_tooltip": null,
            "layout": "IPY_MODEL_4ae911b007cc40aca10b493c9b701ade",
            "placeholder": "​",
            "style": "IPY_MODEL_6a6d870c7bc649c1afe0a29770789d0e",
            "value": "0.019 MB of 0.019 MB uploaded\r"
          }
        },
        "a8b8a381be774eba949e74cb3a8725e8": {
          "model_module": "@jupyter-widgets/controls",
          "model_name": "FloatProgressModel",
          "model_module_version": "1.5.0",
          "state": {
            "_dom_classes": [],
            "_model_module": "@jupyter-widgets/controls",
            "_model_module_version": "1.5.0",
            "_model_name": "FloatProgressModel",
            "_view_count": null,
            "_view_module": "@jupyter-widgets/controls",
            "_view_module_version": "1.5.0",
            "_view_name": "ProgressView",
            "bar_style": "",
            "description": "",
            "description_tooltip": null,
            "layout": "IPY_MODEL_9e6e8eb4c9b0436589ab2bf57f4fc56a",
            "max": 1,
            "min": 0,
            "orientation": "horizontal",
            "style": "IPY_MODEL_af0dbf01ec574013a760159f242c039a",
            "value": 1
          }
        },
        "09fc24ac2f38458c852953fd83115883": {
          "model_module": "@jupyter-widgets/base",
          "model_name": "LayoutModel",
          "model_module_version": "1.2.0",
          "state": {
            "_model_module": "@jupyter-widgets/base",
            "_model_module_version": "1.2.0",
            "_model_name": "LayoutModel",
            "_view_count": null,
            "_view_module": "@jupyter-widgets/base",
            "_view_module_version": "1.2.0",
            "_view_name": "LayoutView",
            "align_content": null,
            "align_items": null,
            "align_self": null,
            "border": null,
            "bottom": null,
            "display": null,
            "flex": null,
            "flex_flow": null,
            "grid_area": null,
            "grid_auto_columns": null,
            "grid_auto_flow": null,
            "grid_auto_rows": null,
            "grid_column": null,
            "grid_gap": null,
            "grid_row": null,
            "grid_template_areas": null,
            "grid_template_columns": null,
            "grid_template_rows": null,
            "height": null,
            "justify_content": null,
            "justify_items": null,
            "left": null,
            "margin": null,
            "max_height": null,
            "max_width": null,
            "min_height": null,
            "min_width": null,
            "object_fit": null,
            "object_position": null,
            "order": null,
            "overflow": null,
            "overflow_x": null,
            "overflow_y": null,
            "padding": null,
            "right": null,
            "top": null,
            "visibility": null,
            "width": null
          }
        },
        "4ae911b007cc40aca10b493c9b701ade": {
          "model_module": "@jupyter-widgets/base",
          "model_name": "LayoutModel",
          "model_module_version": "1.2.0",
          "state": {
            "_model_module": "@jupyter-widgets/base",
            "_model_module_version": "1.2.0",
            "_model_name": "LayoutModel",
            "_view_count": null,
            "_view_module": "@jupyter-widgets/base",
            "_view_module_version": "1.2.0",
            "_view_name": "LayoutView",
            "align_content": null,
            "align_items": null,
            "align_self": null,
            "border": null,
            "bottom": null,
            "display": null,
            "flex": null,
            "flex_flow": null,
            "grid_area": null,
            "grid_auto_columns": null,
            "grid_auto_flow": null,
            "grid_auto_rows": null,
            "grid_column": null,
            "grid_gap": null,
            "grid_row": null,
            "grid_template_areas": null,
            "grid_template_columns": null,
            "grid_template_rows": null,
            "height": null,
            "justify_content": null,
            "justify_items": null,
            "left": null,
            "margin": null,
            "max_height": null,
            "max_width": null,
            "min_height": null,
            "min_width": null,
            "object_fit": null,
            "object_position": null,
            "order": null,
            "overflow": null,
            "overflow_x": null,
            "overflow_y": null,
            "padding": null,
            "right": null,
            "top": null,
            "visibility": null,
            "width": null
          }
        },
        "6a6d870c7bc649c1afe0a29770789d0e": {
          "model_module": "@jupyter-widgets/controls",
          "model_name": "DescriptionStyleModel",
          "model_module_version": "1.5.0",
          "state": {
            "_model_module": "@jupyter-widgets/controls",
            "_model_module_version": "1.5.0",
            "_model_name": "DescriptionStyleModel",
            "_view_count": null,
            "_view_module": "@jupyter-widgets/base",
            "_view_module_version": "1.2.0",
            "_view_name": "StyleView",
            "description_width": ""
          }
        },
        "9e6e8eb4c9b0436589ab2bf57f4fc56a": {
          "model_module": "@jupyter-widgets/base",
          "model_name": "LayoutModel",
          "model_module_version": "1.2.0",
          "state": {
            "_model_module": "@jupyter-widgets/base",
            "_model_module_version": "1.2.0",
            "_model_name": "LayoutModel",
            "_view_count": null,
            "_view_module": "@jupyter-widgets/base",
            "_view_module_version": "1.2.0",
            "_view_name": "LayoutView",
            "align_content": null,
            "align_items": null,
            "align_self": null,
            "border": null,
            "bottom": null,
            "display": null,
            "flex": null,
            "flex_flow": null,
            "grid_area": null,
            "grid_auto_columns": null,
            "grid_auto_flow": null,
            "grid_auto_rows": null,
            "grid_column": null,
            "grid_gap": null,
            "grid_row": null,
            "grid_template_areas": null,
            "grid_template_columns": null,
            "grid_template_rows": null,
            "height": null,
            "justify_content": null,
            "justify_items": null,
            "left": null,
            "margin": null,
            "max_height": null,
            "max_width": null,
            "min_height": null,
            "min_width": null,
            "object_fit": null,
            "object_position": null,
            "order": null,
            "overflow": null,
            "overflow_x": null,
            "overflow_y": null,
            "padding": null,
            "right": null,
            "top": null,
            "visibility": null,
            "width": null
          }
        },
        "af0dbf01ec574013a760159f242c039a": {
          "model_module": "@jupyter-widgets/controls",
          "model_name": "ProgressStyleModel",
          "model_module_version": "1.5.0",
          "state": {
            "_model_module": "@jupyter-widgets/controls",
            "_model_module_version": "1.5.0",
            "_model_name": "ProgressStyleModel",
            "_view_count": null,
            "_view_module": "@jupyter-widgets/base",
            "_view_module_version": "1.2.0",
            "_view_name": "StyleView",
            "bar_color": null,
            "description_width": ""
          }
        },
        "d31275c8d47b4b729a95c70ad717aaef": {
          "model_module": "@jupyter-widgets/controls",
          "model_name": "VBoxModel",
          "model_module_version": "1.5.0",
          "state": {
            "_dom_classes": [],
            "_model_module": "@jupyter-widgets/controls",
            "_model_module_version": "1.5.0",
            "_model_name": "VBoxModel",
            "_view_count": null,
            "_view_module": "@jupyter-widgets/controls",
            "_view_module_version": "1.5.0",
            "_view_name": "VBoxView",
            "box_style": "",
            "children": [
              "IPY_MODEL_5833320e20fa4c0aa5b2b8005c2798c8",
              "IPY_MODEL_553fe444566d46839d82e5f283a6214c"
            ],
            "layout": "IPY_MODEL_345e4af935b4412183c3878562c6cd15"
          }
        },
        "5833320e20fa4c0aa5b2b8005c2798c8": {
          "model_module": "@jupyter-widgets/controls",
          "model_name": "LabelModel",
          "model_module_version": "1.5.0",
          "state": {
            "_dom_classes": [],
            "_model_module": "@jupyter-widgets/controls",
            "_model_module_version": "1.5.0",
            "_model_name": "LabelModel",
            "_view_count": null,
            "_view_module": "@jupyter-widgets/controls",
            "_view_module_version": "1.5.0",
            "_view_name": "LabelView",
            "description": "",
            "description_tooltip": null,
            "layout": "IPY_MODEL_3e8bae2e83b44638acee2c988330cfcb",
            "placeholder": "​",
            "style": "IPY_MODEL_1a3c15b461ae41a2b05dcc5ef1885dfa",
            "value": "0.019 MB of 0.019 MB uploaded\r"
          }
        },
        "553fe444566d46839d82e5f283a6214c": {
          "model_module": "@jupyter-widgets/controls",
          "model_name": "FloatProgressModel",
          "model_module_version": "1.5.0",
          "state": {
            "_dom_classes": [],
            "_model_module": "@jupyter-widgets/controls",
            "_model_module_version": "1.5.0",
            "_model_name": "FloatProgressModel",
            "_view_count": null,
            "_view_module": "@jupyter-widgets/controls",
            "_view_module_version": "1.5.0",
            "_view_name": "ProgressView",
            "bar_style": "",
            "description": "",
            "description_tooltip": null,
            "layout": "IPY_MODEL_246b119061e147619d95cf175e504c85",
            "max": 1,
            "min": 0,
            "orientation": "horizontal",
            "style": "IPY_MODEL_682eb8b5575b470db913d4cb267fc269",
            "value": 1
          }
        },
        "345e4af935b4412183c3878562c6cd15": {
          "model_module": "@jupyter-widgets/base",
          "model_name": "LayoutModel",
          "model_module_version": "1.2.0",
          "state": {
            "_model_module": "@jupyter-widgets/base",
            "_model_module_version": "1.2.0",
            "_model_name": "LayoutModel",
            "_view_count": null,
            "_view_module": "@jupyter-widgets/base",
            "_view_module_version": "1.2.0",
            "_view_name": "LayoutView",
            "align_content": null,
            "align_items": null,
            "align_self": null,
            "border": null,
            "bottom": null,
            "display": null,
            "flex": null,
            "flex_flow": null,
            "grid_area": null,
            "grid_auto_columns": null,
            "grid_auto_flow": null,
            "grid_auto_rows": null,
            "grid_column": null,
            "grid_gap": null,
            "grid_row": null,
            "grid_template_areas": null,
            "grid_template_columns": null,
            "grid_template_rows": null,
            "height": null,
            "justify_content": null,
            "justify_items": null,
            "left": null,
            "margin": null,
            "max_height": null,
            "max_width": null,
            "min_height": null,
            "min_width": null,
            "object_fit": null,
            "object_position": null,
            "order": null,
            "overflow": null,
            "overflow_x": null,
            "overflow_y": null,
            "padding": null,
            "right": null,
            "top": null,
            "visibility": null,
            "width": null
          }
        },
        "3e8bae2e83b44638acee2c988330cfcb": {
          "model_module": "@jupyter-widgets/base",
          "model_name": "LayoutModel",
          "model_module_version": "1.2.0",
          "state": {
            "_model_module": "@jupyter-widgets/base",
            "_model_module_version": "1.2.0",
            "_model_name": "LayoutModel",
            "_view_count": null,
            "_view_module": "@jupyter-widgets/base",
            "_view_module_version": "1.2.0",
            "_view_name": "LayoutView",
            "align_content": null,
            "align_items": null,
            "align_self": null,
            "border": null,
            "bottom": null,
            "display": null,
            "flex": null,
            "flex_flow": null,
            "grid_area": null,
            "grid_auto_columns": null,
            "grid_auto_flow": null,
            "grid_auto_rows": null,
            "grid_column": null,
            "grid_gap": null,
            "grid_row": null,
            "grid_template_areas": null,
            "grid_template_columns": null,
            "grid_template_rows": null,
            "height": null,
            "justify_content": null,
            "justify_items": null,
            "left": null,
            "margin": null,
            "max_height": null,
            "max_width": null,
            "min_height": null,
            "min_width": null,
            "object_fit": null,
            "object_position": null,
            "order": null,
            "overflow": null,
            "overflow_x": null,
            "overflow_y": null,
            "padding": null,
            "right": null,
            "top": null,
            "visibility": null,
            "width": null
          }
        },
        "1a3c15b461ae41a2b05dcc5ef1885dfa": {
          "model_module": "@jupyter-widgets/controls",
          "model_name": "DescriptionStyleModel",
          "model_module_version": "1.5.0",
          "state": {
            "_model_module": "@jupyter-widgets/controls",
            "_model_module_version": "1.5.0",
            "_model_name": "DescriptionStyleModel",
            "_view_count": null,
            "_view_module": "@jupyter-widgets/base",
            "_view_module_version": "1.2.0",
            "_view_name": "StyleView",
            "description_width": ""
          }
        },
        "246b119061e147619d95cf175e504c85": {
          "model_module": "@jupyter-widgets/base",
          "model_name": "LayoutModel",
          "model_module_version": "1.2.0",
          "state": {
            "_model_module": "@jupyter-widgets/base",
            "_model_module_version": "1.2.0",
            "_model_name": "LayoutModel",
            "_view_count": null,
            "_view_module": "@jupyter-widgets/base",
            "_view_module_version": "1.2.0",
            "_view_name": "LayoutView",
            "align_content": null,
            "align_items": null,
            "align_self": null,
            "border": null,
            "bottom": null,
            "display": null,
            "flex": null,
            "flex_flow": null,
            "grid_area": null,
            "grid_auto_columns": null,
            "grid_auto_flow": null,
            "grid_auto_rows": null,
            "grid_column": null,
            "grid_gap": null,
            "grid_row": null,
            "grid_template_areas": null,
            "grid_template_columns": null,
            "grid_template_rows": null,
            "height": null,
            "justify_content": null,
            "justify_items": null,
            "left": null,
            "margin": null,
            "max_height": null,
            "max_width": null,
            "min_height": null,
            "min_width": null,
            "object_fit": null,
            "object_position": null,
            "order": null,
            "overflow": null,
            "overflow_x": null,
            "overflow_y": null,
            "padding": null,
            "right": null,
            "top": null,
            "visibility": null,
            "width": null
          }
        },
        "682eb8b5575b470db913d4cb267fc269": {
          "model_module": "@jupyter-widgets/controls",
          "model_name": "ProgressStyleModel",
          "model_module_version": "1.5.0",
          "state": {
            "_model_module": "@jupyter-widgets/controls",
            "_model_module_version": "1.5.0",
            "_model_name": "ProgressStyleModel",
            "_view_count": null,
            "_view_module": "@jupyter-widgets/base",
            "_view_module_version": "1.2.0",
            "_view_name": "StyleView",
            "bar_color": null,
            "description_width": ""
          }
        },
        "7e515466d50542ccb87b6d2d8c59d0ed": {
          "model_module": "@jupyter-widgets/controls",
          "model_name": "VBoxModel",
          "model_module_version": "1.5.0",
          "state": {
            "_dom_classes": [],
            "_model_module": "@jupyter-widgets/controls",
            "_model_module_version": "1.5.0",
            "_model_name": "VBoxModel",
            "_view_count": null,
            "_view_module": "@jupyter-widgets/controls",
            "_view_module_version": "1.5.0",
            "_view_name": "VBoxView",
            "box_style": "",
            "children": [
              "IPY_MODEL_7d129557913149389c70424d2cf9910f",
              "IPY_MODEL_5dbf4a69b1b94a1191511c1b7ccc17fc"
            ],
            "layout": "IPY_MODEL_3d7ddcf27e214da99999f9029c72a9a1"
          }
        },
        "7d129557913149389c70424d2cf9910f": {
          "model_module": "@jupyter-widgets/controls",
          "model_name": "LabelModel",
          "model_module_version": "1.5.0",
          "state": {
            "_dom_classes": [],
            "_model_module": "@jupyter-widgets/controls",
            "_model_module_version": "1.5.0",
            "_model_name": "LabelModel",
            "_view_count": null,
            "_view_module": "@jupyter-widgets/controls",
            "_view_module_version": "1.5.0",
            "_view_name": "LabelView",
            "description": "",
            "description_tooltip": null,
            "layout": "IPY_MODEL_08bd17fc6fb74db8bdb77f997c743be2",
            "placeholder": "​",
            "style": "IPY_MODEL_3e4ed74a82244b54b0231e6f3eb12959",
            "value": "0.016 MB of 0.016 MB uploaded\r"
          }
        },
        "5dbf4a69b1b94a1191511c1b7ccc17fc": {
          "model_module": "@jupyter-widgets/controls",
          "model_name": "FloatProgressModel",
          "model_module_version": "1.5.0",
          "state": {
            "_dom_classes": [],
            "_model_module": "@jupyter-widgets/controls",
            "_model_module_version": "1.5.0",
            "_model_name": "FloatProgressModel",
            "_view_count": null,
            "_view_module": "@jupyter-widgets/controls",
            "_view_module_version": "1.5.0",
            "_view_name": "ProgressView",
            "bar_style": "",
            "description": "",
            "description_tooltip": null,
            "layout": "IPY_MODEL_103054eb6c1b493797b0cc77e3c5bbf6",
            "max": 1,
            "min": 0,
            "orientation": "horizontal",
            "style": "IPY_MODEL_4e6317a63c334386bb7e8c2d8516d976",
            "value": 1
          }
        },
        "3d7ddcf27e214da99999f9029c72a9a1": {
          "model_module": "@jupyter-widgets/base",
          "model_name": "LayoutModel",
          "model_module_version": "1.2.0",
          "state": {
            "_model_module": "@jupyter-widgets/base",
            "_model_module_version": "1.2.0",
            "_model_name": "LayoutModel",
            "_view_count": null,
            "_view_module": "@jupyter-widgets/base",
            "_view_module_version": "1.2.0",
            "_view_name": "LayoutView",
            "align_content": null,
            "align_items": null,
            "align_self": null,
            "border": null,
            "bottom": null,
            "display": null,
            "flex": null,
            "flex_flow": null,
            "grid_area": null,
            "grid_auto_columns": null,
            "grid_auto_flow": null,
            "grid_auto_rows": null,
            "grid_column": null,
            "grid_gap": null,
            "grid_row": null,
            "grid_template_areas": null,
            "grid_template_columns": null,
            "grid_template_rows": null,
            "height": null,
            "justify_content": null,
            "justify_items": null,
            "left": null,
            "margin": null,
            "max_height": null,
            "max_width": null,
            "min_height": null,
            "min_width": null,
            "object_fit": null,
            "object_position": null,
            "order": null,
            "overflow": null,
            "overflow_x": null,
            "overflow_y": null,
            "padding": null,
            "right": null,
            "top": null,
            "visibility": null,
            "width": null
          }
        },
        "08bd17fc6fb74db8bdb77f997c743be2": {
          "model_module": "@jupyter-widgets/base",
          "model_name": "LayoutModel",
          "model_module_version": "1.2.0",
          "state": {
            "_model_module": "@jupyter-widgets/base",
            "_model_module_version": "1.2.0",
            "_model_name": "LayoutModel",
            "_view_count": null,
            "_view_module": "@jupyter-widgets/base",
            "_view_module_version": "1.2.0",
            "_view_name": "LayoutView",
            "align_content": null,
            "align_items": null,
            "align_self": null,
            "border": null,
            "bottom": null,
            "display": null,
            "flex": null,
            "flex_flow": null,
            "grid_area": null,
            "grid_auto_columns": null,
            "grid_auto_flow": null,
            "grid_auto_rows": null,
            "grid_column": null,
            "grid_gap": null,
            "grid_row": null,
            "grid_template_areas": null,
            "grid_template_columns": null,
            "grid_template_rows": null,
            "height": null,
            "justify_content": null,
            "justify_items": null,
            "left": null,
            "margin": null,
            "max_height": null,
            "max_width": null,
            "min_height": null,
            "min_width": null,
            "object_fit": null,
            "object_position": null,
            "order": null,
            "overflow": null,
            "overflow_x": null,
            "overflow_y": null,
            "padding": null,
            "right": null,
            "top": null,
            "visibility": null,
            "width": null
          }
        },
        "3e4ed74a82244b54b0231e6f3eb12959": {
          "model_module": "@jupyter-widgets/controls",
          "model_name": "DescriptionStyleModel",
          "model_module_version": "1.5.0",
          "state": {
            "_model_module": "@jupyter-widgets/controls",
            "_model_module_version": "1.5.0",
            "_model_name": "DescriptionStyleModel",
            "_view_count": null,
            "_view_module": "@jupyter-widgets/base",
            "_view_module_version": "1.2.0",
            "_view_name": "StyleView",
            "description_width": ""
          }
        },
        "103054eb6c1b493797b0cc77e3c5bbf6": {
          "model_module": "@jupyter-widgets/base",
          "model_name": "LayoutModel",
          "model_module_version": "1.2.0",
          "state": {
            "_model_module": "@jupyter-widgets/base",
            "_model_module_version": "1.2.0",
            "_model_name": "LayoutModel",
            "_view_count": null,
            "_view_module": "@jupyter-widgets/base",
            "_view_module_version": "1.2.0",
            "_view_name": "LayoutView",
            "align_content": null,
            "align_items": null,
            "align_self": null,
            "border": null,
            "bottom": null,
            "display": null,
            "flex": null,
            "flex_flow": null,
            "grid_area": null,
            "grid_auto_columns": null,
            "grid_auto_flow": null,
            "grid_auto_rows": null,
            "grid_column": null,
            "grid_gap": null,
            "grid_row": null,
            "grid_template_areas": null,
            "grid_template_columns": null,
            "grid_template_rows": null,
            "height": null,
            "justify_content": null,
            "justify_items": null,
            "left": null,
            "margin": null,
            "max_height": null,
            "max_width": null,
            "min_height": null,
            "min_width": null,
            "object_fit": null,
            "object_position": null,
            "order": null,
            "overflow": null,
            "overflow_x": null,
            "overflow_y": null,
            "padding": null,
            "right": null,
            "top": null,
            "visibility": null,
            "width": null
          }
        },
        "4e6317a63c334386bb7e8c2d8516d976": {
          "model_module": "@jupyter-widgets/controls",
          "model_name": "ProgressStyleModel",
          "model_module_version": "1.5.0",
          "state": {
            "_model_module": "@jupyter-widgets/controls",
            "_model_module_version": "1.5.0",
            "_model_name": "ProgressStyleModel",
            "_view_count": null,
            "_view_module": "@jupyter-widgets/base",
            "_view_module_version": "1.2.0",
            "_view_name": "StyleView",
            "bar_color": null,
            "description_width": ""
          }
        },
        "236c7a251d0a4c0581190d5180ef1da3": {
          "model_module": "@jupyter-widgets/controls",
          "model_name": "VBoxModel",
          "model_module_version": "1.5.0",
          "state": {
            "_dom_classes": [],
            "_model_module": "@jupyter-widgets/controls",
            "_model_module_version": "1.5.0",
            "_model_name": "VBoxModel",
            "_view_count": null,
            "_view_module": "@jupyter-widgets/controls",
            "_view_module_version": "1.5.0",
            "_view_name": "VBoxView",
            "box_style": "",
            "children": [
              "IPY_MODEL_9f9d6dc21747442387aecb34c53b55f8",
              "IPY_MODEL_76985961909140c2b4f8b76918e3517e"
            ],
            "layout": "IPY_MODEL_6731c0f9f4074869bda275190169042c"
          }
        },
        "9f9d6dc21747442387aecb34c53b55f8": {
          "model_module": "@jupyter-widgets/controls",
          "model_name": "LabelModel",
          "model_module_version": "1.5.0",
          "state": {
            "_dom_classes": [],
            "_model_module": "@jupyter-widgets/controls",
            "_model_module_version": "1.5.0",
            "_model_name": "LabelModel",
            "_view_count": null,
            "_view_module": "@jupyter-widgets/controls",
            "_view_module_version": "1.5.0",
            "_view_name": "LabelView",
            "description": "",
            "description_tooltip": null,
            "layout": "IPY_MODEL_ad94824356554551baa1e37a83c104de",
            "placeholder": "​",
            "style": "IPY_MODEL_b5e3dd96e6e94836a72d5b57ab384f21",
            "value": "0.020 MB of 0.020 MB uploaded\r"
          }
        },
        "76985961909140c2b4f8b76918e3517e": {
          "model_module": "@jupyter-widgets/controls",
          "model_name": "FloatProgressModel",
          "model_module_version": "1.5.0",
          "state": {
            "_dom_classes": [],
            "_model_module": "@jupyter-widgets/controls",
            "_model_module_version": "1.5.0",
            "_model_name": "FloatProgressModel",
            "_view_count": null,
            "_view_module": "@jupyter-widgets/controls",
            "_view_module_version": "1.5.0",
            "_view_name": "ProgressView",
            "bar_style": "",
            "description": "",
            "description_tooltip": null,
            "layout": "IPY_MODEL_51fc117cb7e34be9a0a9ec5303d2b7b9",
            "max": 1,
            "min": 0,
            "orientation": "horizontal",
            "style": "IPY_MODEL_1c842ef81bef49a5a2809c55f08c3d21",
            "value": 1
          }
        },
        "6731c0f9f4074869bda275190169042c": {
          "model_module": "@jupyter-widgets/base",
          "model_name": "LayoutModel",
          "model_module_version": "1.2.0",
          "state": {
            "_model_module": "@jupyter-widgets/base",
            "_model_module_version": "1.2.0",
            "_model_name": "LayoutModel",
            "_view_count": null,
            "_view_module": "@jupyter-widgets/base",
            "_view_module_version": "1.2.0",
            "_view_name": "LayoutView",
            "align_content": null,
            "align_items": null,
            "align_self": null,
            "border": null,
            "bottom": null,
            "display": null,
            "flex": null,
            "flex_flow": null,
            "grid_area": null,
            "grid_auto_columns": null,
            "grid_auto_flow": null,
            "grid_auto_rows": null,
            "grid_column": null,
            "grid_gap": null,
            "grid_row": null,
            "grid_template_areas": null,
            "grid_template_columns": null,
            "grid_template_rows": null,
            "height": null,
            "justify_content": null,
            "justify_items": null,
            "left": null,
            "margin": null,
            "max_height": null,
            "max_width": null,
            "min_height": null,
            "min_width": null,
            "object_fit": null,
            "object_position": null,
            "order": null,
            "overflow": null,
            "overflow_x": null,
            "overflow_y": null,
            "padding": null,
            "right": null,
            "top": null,
            "visibility": null,
            "width": null
          }
        },
        "ad94824356554551baa1e37a83c104de": {
          "model_module": "@jupyter-widgets/base",
          "model_name": "LayoutModel",
          "model_module_version": "1.2.0",
          "state": {
            "_model_module": "@jupyter-widgets/base",
            "_model_module_version": "1.2.0",
            "_model_name": "LayoutModel",
            "_view_count": null,
            "_view_module": "@jupyter-widgets/base",
            "_view_module_version": "1.2.0",
            "_view_name": "LayoutView",
            "align_content": null,
            "align_items": null,
            "align_self": null,
            "border": null,
            "bottom": null,
            "display": null,
            "flex": null,
            "flex_flow": null,
            "grid_area": null,
            "grid_auto_columns": null,
            "grid_auto_flow": null,
            "grid_auto_rows": null,
            "grid_column": null,
            "grid_gap": null,
            "grid_row": null,
            "grid_template_areas": null,
            "grid_template_columns": null,
            "grid_template_rows": null,
            "height": null,
            "justify_content": null,
            "justify_items": null,
            "left": null,
            "margin": null,
            "max_height": null,
            "max_width": null,
            "min_height": null,
            "min_width": null,
            "object_fit": null,
            "object_position": null,
            "order": null,
            "overflow": null,
            "overflow_x": null,
            "overflow_y": null,
            "padding": null,
            "right": null,
            "top": null,
            "visibility": null,
            "width": null
          }
        },
        "b5e3dd96e6e94836a72d5b57ab384f21": {
          "model_module": "@jupyter-widgets/controls",
          "model_name": "DescriptionStyleModel",
          "model_module_version": "1.5.0",
          "state": {
            "_model_module": "@jupyter-widgets/controls",
            "_model_module_version": "1.5.0",
            "_model_name": "DescriptionStyleModel",
            "_view_count": null,
            "_view_module": "@jupyter-widgets/base",
            "_view_module_version": "1.2.0",
            "_view_name": "StyleView",
            "description_width": ""
          }
        },
        "51fc117cb7e34be9a0a9ec5303d2b7b9": {
          "model_module": "@jupyter-widgets/base",
          "model_name": "LayoutModel",
          "model_module_version": "1.2.0",
          "state": {
            "_model_module": "@jupyter-widgets/base",
            "_model_module_version": "1.2.0",
            "_model_name": "LayoutModel",
            "_view_count": null,
            "_view_module": "@jupyter-widgets/base",
            "_view_module_version": "1.2.0",
            "_view_name": "LayoutView",
            "align_content": null,
            "align_items": null,
            "align_self": null,
            "border": null,
            "bottom": null,
            "display": null,
            "flex": null,
            "flex_flow": null,
            "grid_area": null,
            "grid_auto_columns": null,
            "grid_auto_flow": null,
            "grid_auto_rows": null,
            "grid_column": null,
            "grid_gap": null,
            "grid_row": null,
            "grid_template_areas": null,
            "grid_template_columns": null,
            "grid_template_rows": null,
            "height": null,
            "justify_content": null,
            "justify_items": null,
            "left": null,
            "margin": null,
            "max_height": null,
            "max_width": null,
            "min_height": null,
            "min_width": null,
            "object_fit": null,
            "object_position": null,
            "order": null,
            "overflow": null,
            "overflow_x": null,
            "overflow_y": null,
            "padding": null,
            "right": null,
            "top": null,
            "visibility": null,
            "width": null
          }
        },
        "1c842ef81bef49a5a2809c55f08c3d21": {
          "model_module": "@jupyter-widgets/controls",
          "model_name": "ProgressStyleModel",
          "model_module_version": "1.5.0",
          "state": {
            "_model_module": "@jupyter-widgets/controls",
            "_model_module_version": "1.5.0",
            "_model_name": "ProgressStyleModel",
            "_view_count": null,
            "_view_module": "@jupyter-widgets/base",
            "_view_module_version": "1.2.0",
            "_view_name": "StyleView",
            "bar_color": null,
            "description_width": ""
          }
        },
        "fcec425e01b949f8841cdbf3820464ef": {
          "model_module": "@jupyter-widgets/controls",
          "model_name": "VBoxModel",
          "model_module_version": "1.5.0",
          "state": {
            "_dom_classes": [],
            "_model_module": "@jupyter-widgets/controls",
            "_model_module_version": "1.5.0",
            "_model_name": "VBoxModel",
            "_view_count": null,
            "_view_module": "@jupyter-widgets/controls",
            "_view_module_version": "1.5.0",
            "_view_name": "VBoxView",
            "box_style": "",
            "children": [
              "IPY_MODEL_c3c018903c344c1986434000b0ee5d6d",
              "IPY_MODEL_88c3fe0f512a4a6fa97d3329f72ec23c"
            ],
            "layout": "IPY_MODEL_b9a49634ff0f479981fa5b77c4d76617"
          }
        },
        "c3c018903c344c1986434000b0ee5d6d": {
          "model_module": "@jupyter-widgets/controls",
          "model_name": "LabelModel",
          "model_module_version": "1.5.0",
          "state": {
            "_dom_classes": [],
            "_model_module": "@jupyter-widgets/controls",
            "_model_module_version": "1.5.0",
            "_model_name": "LabelModel",
            "_view_count": null,
            "_view_module": "@jupyter-widgets/controls",
            "_view_module_version": "1.5.0",
            "_view_name": "LabelView",
            "description": "",
            "description_tooltip": null,
            "layout": "IPY_MODEL_3acf81a56f8e43f4a0baab178c3707c5",
            "placeholder": "​",
            "style": "IPY_MODEL_fd14999d969c4d0a87e59d49f45aaa1a",
            "value": "0.021 MB of 0.021 MB uploaded\r"
          }
        },
        "88c3fe0f512a4a6fa97d3329f72ec23c": {
          "model_module": "@jupyter-widgets/controls",
          "model_name": "FloatProgressModel",
          "model_module_version": "1.5.0",
          "state": {
            "_dom_classes": [],
            "_model_module": "@jupyter-widgets/controls",
            "_model_module_version": "1.5.0",
            "_model_name": "FloatProgressModel",
            "_view_count": null,
            "_view_module": "@jupyter-widgets/controls",
            "_view_module_version": "1.5.0",
            "_view_name": "ProgressView",
            "bar_style": "",
            "description": "",
            "description_tooltip": null,
            "layout": "IPY_MODEL_6a679c8fd1394251b6a8feb85f7f38a2",
            "max": 1,
            "min": 0,
            "orientation": "horizontal",
            "style": "IPY_MODEL_14fc7c7bac084048b277253315addf82",
            "value": 1
          }
        },
        "b9a49634ff0f479981fa5b77c4d76617": {
          "model_module": "@jupyter-widgets/base",
          "model_name": "LayoutModel",
          "model_module_version": "1.2.0",
          "state": {
            "_model_module": "@jupyter-widgets/base",
            "_model_module_version": "1.2.0",
            "_model_name": "LayoutModel",
            "_view_count": null,
            "_view_module": "@jupyter-widgets/base",
            "_view_module_version": "1.2.0",
            "_view_name": "LayoutView",
            "align_content": null,
            "align_items": null,
            "align_self": null,
            "border": null,
            "bottom": null,
            "display": null,
            "flex": null,
            "flex_flow": null,
            "grid_area": null,
            "grid_auto_columns": null,
            "grid_auto_flow": null,
            "grid_auto_rows": null,
            "grid_column": null,
            "grid_gap": null,
            "grid_row": null,
            "grid_template_areas": null,
            "grid_template_columns": null,
            "grid_template_rows": null,
            "height": null,
            "justify_content": null,
            "justify_items": null,
            "left": null,
            "margin": null,
            "max_height": null,
            "max_width": null,
            "min_height": null,
            "min_width": null,
            "object_fit": null,
            "object_position": null,
            "order": null,
            "overflow": null,
            "overflow_x": null,
            "overflow_y": null,
            "padding": null,
            "right": null,
            "top": null,
            "visibility": null,
            "width": null
          }
        },
        "3acf81a56f8e43f4a0baab178c3707c5": {
          "model_module": "@jupyter-widgets/base",
          "model_name": "LayoutModel",
          "model_module_version": "1.2.0",
          "state": {
            "_model_module": "@jupyter-widgets/base",
            "_model_module_version": "1.2.0",
            "_model_name": "LayoutModel",
            "_view_count": null,
            "_view_module": "@jupyter-widgets/base",
            "_view_module_version": "1.2.0",
            "_view_name": "LayoutView",
            "align_content": null,
            "align_items": null,
            "align_self": null,
            "border": null,
            "bottom": null,
            "display": null,
            "flex": null,
            "flex_flow": null,
            "grid_area": null,
            "grid_auto_columns": null,
            "grid_auto_flow": null,
            "grid_auto_rows": null,
            "grid_column": null,
            "grid_gap": null,
            "grid_row": null,
            "grid_template_areas": null,
            "grid_template_columns": null,
            "grid_template_rows": null,
            "height": null,
            "justify_content": null,
            "justify_items": null,
            "left": null,
            "margin": null,
            "max_height": null,
            "max_width": null,
            "min_height": null,
            "min_width": null,
            "object_fit": null,
            "object_position": null,
            "order": null,
            "overflow": null,
            "overflow_x": null,
            "overflow_y": null,
            "padding": null,
            "right": null,
            "top": null,
            "visibility": null,
            "width": null
          }
        },
        "fd14999d969c4d0a87e59d49f45aaa1a": {
          "model_module": "@jupyter-widgets/controls",
          "model_name": "DescriptionStyleModel",
          "model_module_version": "1.5.0",
          "state": {
            "_model_module": "@jupyter-widgets/controls",
            "_model_module_version": "1.5.0",
            "_model_name": "DescriptionStyleModel",
            "_view_count": null,
            "_view_module": "@jupyter-widgets/base",
            "_view_module_version": "1.2.0",
            "_view_name": "StyleView",
            "description_width": ""
          }
        },
        "6a679c8fd1394251b6a8feb85f7f38a2": {
          "model_module": "@jupyter-widgets/base",
          "model_name": "LayoutModel",
          "model_module_version": "1.2.0",
          "state": {
            "_model_module": "@jupyter-widgets/base",
            "_model_module_version": "1.2.0",
            "_model_name": "LayoutModel",
            "_view_count": null,
            "_view_module": "@jupyter-widgets/base",
            "_view_module_version": "1.2.0",
            "_view_name": "LayoutView",
            "align_content": null,
            "align_items": null,
            "align_self": null,
            "border": null,
            "bottom": null,
            "display": null,
            "flex": null,
            "flex_flow": null,
            "grid_area": null,
            "grid_auto_columns": null,
            "grid_auto_flow": null,
            "grid_auto_rows": null,
            "grid_column": null,
            "grid_gap": null,
            "grid_row": null,
            "grid_template_areas": null,
            "grid_template_columns": null,
            "grid_template_rows": null,
            "height": null,
            "justify_content": null,
            "justify_items": null,
            "left": null,
            "margin": null,
            "max_height": null,
            "max_width": null,
            "min_height": null,
            "min_width": null,
            "object_fit": null,
            "object_position": null,
            "order": null,
            "overflow": null,
            "overflow_x": null,
            "overflow_y": null,
            "padding": null,
            "right": null,
            "top": null,
            "visibility": null,
            "width": null
          }
        },
        "14fc7c7bac084048b277253315addf82": {
          "model_module": "@jupyter-widgets/controls",
          "model_name": "ProgressStyleModel",
          "model_module_version": "1.5.0",
          "state": {
            "_model_module": "@jupyter-widgets/controls",
            "_model_module_version": "1.5.0",
            "_model_name": "ProgressStyleModel",
            "_view_count": null,
            "_view_module": "@jupyter-widgets/base",
            "_view_module_version": "1.2.0",
            "_view_name": "StyleView",
            "bar_color": null,
            "description_width": ""
          }
        },
        "a9c7d0ab38654986a60894af149e58ce": {
          "model_module": "@jupyter-widgets/controls",
          "model_name": "VBoxModel",
          "model_module_version": "1.5.0",
          "state": {
            "_dom_classes": [],
            "_model_module": "@jupyter-widgets/controls",
            "_model_module_version": "1.5.0",
            "_model_name": "VBoxModel",
            "_view_count": null,
            "_view_module": "@jupyter-widgets/controls",
            "_view_module_version": "1.5.0",
            "_view_name": "VBoxView",
            "box_style": "",
            "children": [
              "IPY_MODEL_b139fe81480d4875a8b5b487957bfe78",
              "IPY_MODEL_bd91ceec225940af8009efec75762e39"
            ],
            "layout": "IPY_MODEL_47804d5369dd42dc8b99e99c91d7b88c"
          }
        },
        "b139fe81480d4875a8b5b487957bfe78": {
          "model_module": "@jupyter-widgets/controls",
          "model_name": "LabelModel",
          "model_module_version": "1.5.0",
          "state": {
            "_dom_classes": [],
            "_model_module": "@jupyter-widgets/controls",
            "_model_module_version": "1.5.0",
            "_model_name": "LabelModel",
            "_view_count": null,
            "_view_module": "@jupyter-widgets/controls",
            "_view_module_version": "1.5.0",
            "_view_name": "LabelView",
            "description": "",
            "description_tooltip": null,
            "layout": "IPY_MODEL_4874204f25d44eaeb02cbb961dee8d36",
            "placeholder": "​",
            "style": "IPY_MODEL_6854bec217684c24bc9440269616cf75",
            "value": "Waiting for wandb.init()...\r"
          }
        },
        "bd91ceec225940af8009efec75762e39": {
          "model_module": "@jupyter-widgets/controls",
          "model_name": "FloatProgressModel",
          "model_module_version": "1.5.0",
          "state": {
            "_dom_classes": [],
            "_model_module": "@jupyter-widgets/controls",
            "_model_module_version": "1.5.0",
            "_model_name": "FloatProgressModel",
            "_view_count": null,
            "_view_module": "@jupyter-widgets/controls",
            "_view_module_version": "1.5.0",
            "_view_name": "ProgressView",
            "bar_style": "",
            "description": "",
            "description_tooltip": null,
            "layout": "IPY_MODEL_5797cd43f7eb42d794792d62385460d7",
            "max": 1,
            "min": 0,
            "orientation": "horizontal",
            "style": "IPY_MODEL_f2dcd35871904838ad5b7358458e3064",
            "value": 1
          }
        },
        "47804d5369dd42dc8b99e99c91d7b88c": {
          "model_module": "@jupyter-widgets/base",
          "model_name": "LayoutModel",
          "model_module_version": "1.2.0",
          "state": {
            "_model_module": "@jupyter-widgets/base",
            "_model_module_version": "1.2.0",
            "_model_name": "LayoutModel",
            "_view_count": null,
            "_view_module": "@jupyter-widgets/base",
            "_view_module_version": "1.2.0",
            "_view_name": "LayoutView",
            "align_content": null,
            "align_items": null,
            "align_self": null,
            "border": null,
            "bottom": null,
            "display": null,
            "flex": null,
            "flex_flow": null,
            "grid_area": null,
            "grid_auto_columns": null,
            "grid_auto_flow": null,
            "grid_auto_rows": null,
            "grid_column": null,
            "grid_gap": null,
            "grid_row": null,
            "grid_template_areas": null,
            "grid_template_columns": null,
            "grid_template_rows": null,
            "height": null,
            "justify_content": null,
            "justify_items": null,
            "left": null,
            "margin": null,
            "max_height": null,
            "max_width": null,
            "min_height": null,
            "min_width": null,
            "object_fit": null,
            "object_position": null,
            "order": null,
            "overflow": null,
            "overflow_x": null,
            "overflow_y": null,
            "padding": null,
            "right": null,
            "top": null,
            "visibility": null,
            "width": null
          }
        },
        "4874204f25d44eaeb02cbb961dee8d36": {
          "model_module": "@jupyter-widgets/base",
          "model_name": "LayoutModel",
          "model_module_version": "1.2.0",
          "state": {
            "_model_module": "@jupyter-widgets/base",
            "_model_module_version": "1.2.0",
            "_model_name": "LayoutModel",
            "_view_count": null,
            "_view_module": "@jupyter-widgets/base",
            "_view_module_version": "1.2.0",
            "_view_name": "LayoutView",
            "align_content": null,
            "align_items": null,
            "align_self": null,
            "border": null,
            "bottom": null,
            "display": null,
            "flex": null,
            "flex_flow": null,
            "grid_area": null,
            "grid_auto_columns": null,
            "grid_auto_flow": null,
            "grid_auto_rows": null,
            "grid_column": null,
            "grid_gap": null,
            "grid_row": null,
            "grid_template_areas": null,
            "grid_template_columns": null,
            "grid_template_rows": null,
            "height": null,
            "justify_content": null,
            "justify_items": null,
            "left": null,
            "margin": null,
            "max_height": null,
            "max_width": null,
            "min_height": null,
            "min_width": null,
            "object_fit": null,
            "object_position": null,
            "order": null,
            "overflow": null,
            "overflow_x": null,
            "overflow_y": null,
            "padding": null,
            "right": null,
            "top": null,
            "visibility": null,
            "width": null
          }
        },
        "6854bec217684c24bc9440269616cf75": {
          "model_module": "@jupyter-widgets/controls",
          "model_name": "DescriptionStyleModel",
          "model_module_version": "1.5.0",
          "state": {
            "_model_module": "@jupyter-widgets/controls",
            "_model_module_version": "1.5.0",
            "_model_name": "DescriptionStyleModel",
            "_view_count": null,
            "_view_module": "@jupyter-widgets/base",
            "_view_module_version": "1.2.0",
            "_view_name": "StyleView",
            "description_width": ""
          }
        },
        "5797cd43f7eb42d794792d62385460d7": {
          "model_module": "@jupyter-widgets/base",
          "model_name": "LayoutModel",
          "model_module_version": "1.2.0",
          "state": {
            "_model_module": "@jupyter-widgets/base",
            "_model_module_version": "1.2.0",
            "_model_name": "LayoutModel",
            "_view_count": null,
            "_view_module": "@jupyter-widgets/base",
            "_view_module_version": "1.2.0",
            "_view_name": "LayoutView",
            "align_content": null,
            "align_items": null,
            "align_self": null,
            "border": null,
            "bottom": null,
            "display": null,
            "flex": null,
            "flex_flow": null,
            "grid_area": null,
            "grid_auto_columns": null,
            "grid_auto_flow": null,
            "grid_auto_rows": null,
            "grid_column": null,
            "grid_gap": null,
            "grid_row": null,
            "grid_template_areas": null,
            "grid_template_columns": null,
            "grid_template_rows": null,
            "height": null,
            "justify_content": null,
            "justify_items": null,
            "left": null,
            "margin": null,
            "max_height": null,
            "max_width": null,
            "min_height": null,
            "min_width": null,
            "object_fit": null,
            "object_position": null,
            "order": null,
            "overflow": null,
            "overflow_x": null,
            "overflow_y": null,
            "padding": null,
            "right": null,
            "top": null,
            "visibility": null,
            "width": null
          }
        },
        "f2dcd35871904838ad5b7358458e3064": {
          "model_module": "@jupyter-widgets/controls",
          "model_name": "ProgressStyleModel",
          "model_module_version": "1.5.0",
          "state": {
            "_model_module": "@jupyter-widgets/controls",
            "_model_module_version": "1.5.0",
            "_model_name": "ProgressStyleModel",
            "_view_count": null,
            "_view_module": "@jupyter-widgets/base",
            "_view_module_version": "1.2.0",
            "_view_name": "StyleView",
            "bar_color": null,
            "description_width": ""
          }
        },
        "e37e11009f2e48489bc5325c6f62ac6e": {
          "model_module": "@jupyter-widgets/controls",
          "model_name": "VBoxModel",
          "model_module_version": "1.5.0",
          "state": {
            "_dom_classes": [],
            "_model_module": "@jupyter-widgets/controls",
            "_model_module_version": "1.5.0",
            "_model_name": "VBoxModel",
            "_view_count": null,
            "_view_module": "@jupyter-widgets/controls",
            "_view_module_version": "1.5.0",
            "_view_name": "VBoxView",
            "box_style": "",
            "children": [
              "IPY_MODEL_418d2f4ef05e403cac6da63c73377b6f",
              "IPY_MODEL_e46f39ab10bb453f800da21bfbb75fd1"
            ],
            "layout": "IPY_MODEL_5d458e1dc0514c629ca143245b99f267"
          }
        },
        "418d2f4ef05e403cac6da63c73377b6f": {
          "model_module": "@jupyter-widgets/controls",
          "model_name": "LabelModel",
          "model_module_version": "1.5.0",
          "state": {
            "_dom_classes": [],
            "_model_module": "@jupyter-widgets/controls",
            "_model_module_version": "1.5.0",
            "_model_name": "LabelModel",
            "_view_count": null,
            "_view_module": "@jupyter-widgets/controls",
            "_view_module_version": "1.5.0",
            "_view_name": "LabelView",
            "description": "",
            "description_tooltip": null,
            "layout": "IPY_MODEL_b1fba85d7ef94991bf43b50842240cf7",
            "placeholder": "​",
            "style": "IPY_MODEL_8d38e2bfd5c44e23bda171b17e40f4c7",
            "value": "0.017 MB of 0.017 MB uploaded\r"
          }
        },
        "e46f39ab10bb453f800da21bfbb75fd1": {
          "model_module": "@jupyter-widgets/controls",
          "model_name": "FloatProgressModel",
          "model_module_version": "1.5.0",
          "state": {
            "_dom_classes": [],
            "_model_module": "@jupyter-widgets/controls",
            "_model_module_version": "1.5.0",
            "_model_name": "FloatProgressModel",
            "_view_count": null,
            "_view_module": "@jupyter-widgets/controls",
            "_view_module_version": "1.5.0",
            "_view_name": "ProgressView",
            "bar_style": "",
            "description": "",
            "description_tooltip": null,
            "layout": "IPY_MODEL_f1e9516a0d004801b9a505f368142103",
            "max": 1,
            "min": 0,
            "orientation": "horizontal",
            "style": "IPY_MODEL_f79c155507984977b12cf526f7a19de4",
            "value": 1
          }
        },
        "5d458e1dc0514c629ca143245b99f267": {
          "model_module": "@jupyter-widgets/base",
          "model_name": "LayoutModel",
          "model_module_version": "1.2.0",
          "state": {
            "_model_module": "@jupyter-widgets/base",
            "_model_module_version": "1.2.0",
            "_model_name": "LayoutModel",
            "_view_count": null,
            "_view_module": "@jupyter-widgets/base",
            "_view_module_version": "1.2.0",
            "_view_name": "LayoutView",
            "align_content": null,
            "align_items": null,
            "align_self": null,
            "border": null,
            "bottom": null,
            "display": null,
            "flex": null,
            "flex_flow": null,
            "grid_area": null,
            "grid_auto_columns": null,
            "grid_auto_flow": null,
            "grid_auto_rows": null,
            "grid_column": null,
            "grid_gap": null,
            "grid_row": null,
            "grid_template_areas": null,
            "grid_template_columns": null,
            "grid_template_rows": null,
            "height": null,
            "justify_content": null,
            "justify_items": null,
            "left": null,
            "margin": null,
            "max_height": null,
            "max_width": null,
            "min_height": null,
            "min_width": null,
            "object_fit": null,
            "object_position": null,
            "order": null,
            "overflow": null,
            "overflow_x": null,
            "overflow_y": null,
            "padding": null,
            "right": null,
            "top": null,
            "visibility": null,
            "width": null
          }
        },
        "b1fba85d7ef94991bf43b50842240cf7": {
          "model_module": "@jupyter-widgets/base",
          "model_name": "LayoutModel",
          "model_module_version": "1.2.0",
          "state": {
            "_model_module": "@jupyter-widgets/base",
            "_model_module_version": "1.2.0",
            "_model_name": "LayoutModel",
            "_view_count": null,
            "_view_module": "@jupyter-widgets/base",
            "_view_module_version": "1.2.0",
            "_view_name": "LayoutView",
            "align_content": null,
            "align_items": null,
            "align_self": null,
            "border": null,
            "bottom": null,
            "display": null,
            "flex": null,
            "flex_flow": null,
            "grid_area": null,
            "grid_auto_columns": null,
            "grid_auto_flow": null,
            "grid_auto_rows": null,
            "grid_column": null,
            "grid_gap": null,
            "grid_row": null,
            "grid_template_areas": null,
            "grid_template_columns": null,
            "grid_template_rows": null,
            "height": null,
            "justify_content": null,
            "justify_items": null,
            "left": null,
            "margin": null,
            "max_height": null,
            "max_width": null,
            "min_height": null,
            "min_width": null,
            "object_fit": null,
            "object_position": null,
            "order": null,
            "overflow": null,
            "overflow_x": null,
            "overflow_y": null,
            "padding": null,
            "right": null,
            "top": null,
            "visibility": null,
            "width": null
          }
        },
        "8d38e2bfd5c44e23bda171b17e40f4c7": {
          "model_module": "@jupyter-widgets/controls",
          "model_name": "DescriptionStyleModel",
          "model_module_version": "1.5.0",
          "state": {
            "_model_module": "@jupyter-widgets/controls",
            "_model_module_version": "1.5.0",
            "_model_name": "DescriptionStyleModel",
            "_view_count": null,
            "_view_module": "@jupyter-widgets/base",
            "_view_module_version": "1.2.0",
            "_view_name": "StyleView",
            "description_width": ""
          }
        },
        "f1e9516a0d004801b9a505f368142103": {
          "model_module": "@jupyter-widgets/base",
          "model_name": "LayoutModel",
          "model_module_version": "1.2.0",
          "state": {
            "_model_module": "@jupyter-widgets/base",
            "_model_module_version": "1.2.0",
            "_model_name": "LayoutModel",
            "_view_count": null,
            "_view_module": "@jupyter-widgets/base",
            "_view_module_version": "1.2.0",
            "_view_name": "LayoutView",
            "align_content": null,
            "align_items": null,
            "align_self": null,
            "border": null,
            "bottom": null,
            "display": null,
            "flex": null,
            "flex_flow": null,
            "grid_area": null,
            "grid_auto_columns": null,
            "grid_auto_flow": null,
            "grid_auto_rows": null,
            "grid_column": null,
            "grid_gap": null,
            "grid_row": null,
            "grid_template_areas": null,
            "grid_template_columns": null,
            "grid_template_rows": null,
            "height": null,
            "justify_content": null,
            "justify_items": null,
            "left": null,
            "margin": null,
            "max_height": null,
            "max_width": null,
            "min_height": null,
            "min_width": null,
            "object_fit": null,
            "object_position": null,
            "order": null,
            "overflow": null,
            "overflow_x": null,
            "overflow_y": null,
            "padding": null,
            "right": null,
            "top": null,
            "visibility": null,
            "width": null
          }
        },
        "f79c155507984977b12cf526f7a19de4": {
          "model_module": "@jupyter-widgets/controls",
          "model_name": "ProgressStyleModel",
          "model_module_version": "1.5.0",
          "state": {
            "_model_module": "@jupyter-widgets/controls",
            "_model_module_version": "1.5.0",
            "_model_name": "ProgressStyleModel",
            "_view_count": null,
            "_view_module": "@jupyter-widgets/base",
            "_view_module_version": "1.2.0",
            "_view_name": "StyleView",
            "bar_color": null,
            "description_width": ""
          }
        },
        "a9ac89b098a945edb108e8cf1f31ca68": {
          "model_module": "@jupyter-widgets/controls",
          "model_name": "VBoxModel",
          "model_module_version": "1.5.0",
          "state": {
            "_dom_classes": [],
            "_model_module": "@jupyter-widgets/controls",
            "_model_module_version": "1.5.0",
            "_model_name": "VBoxModel",
            "_view_count": null,
            "_view_module": "@jupyter-widgets/controls",
            "_view_module_version": "1.5.0",
            "_view_name": "VBoxView",
            "box_style": "",
            "children": [
              "IPY_MODEL_7acc819072cb4f30891d02fe65a05a64",
              "IPY_MODEL_d834342d86ce4bf8ad06a886763ea088"
            ],
            "layout": "IPY_MODEL_a5c64a3622b544c99a9d324fd970a3aa"
          }
        },
        "7acc819072cb4f30891d02fe65a05a64": {
          "model_module": "@jupyter-widgets/controls",
          "model_name": "LabelModel",
          "model_module_version": "1.5.0",
          "state": {
            "_dom_classes": [],
            "_model_module": "@jupyter-widgets/controls",
            "_model_module_version": "1.5.0",
            "_model_name": "LabelModel",
            "_view_count": null,
            "_view_module": "@jupyter-widgets/controls",
            "_view_module_version": "1.5.0",
            "_view_name": "LabelView",
            "description": "",
            "description_tooltip": null,
            "layout": "IPY_MODEL_9cd8802db0d04e9a86736253aa1bd207",
            "placeholder": "​",
            "style": "IPY_MODEL_accc0c32d2cd4cbe8dade00eabed722c",
            "value": "0.017 MB of 0.017 MB uploaded\r"
          }
        },
        "d834342d86ce4bf8ad06a886763ea088": {
          "model_module": "@jupyter-widgets/controls",
          "model_name": "FloatProgressModel",
          "model_module_version": "1.5.0",
          "state": {
            "_dom_classes": [],
            "_model_module": "@jupyter-widgets/controls",
            "_model_module_version": "1.5.0",
            "_model_name": "FloatProgressModel",
            "_view_count": null,
            "_view_module": "@jupyter-widgets/controls",
            "_view_module_version": "1.5.0",
            "_view_name": "ProgressView",
            "bar_style": "",
            "description": "",
            "description_tooltip": null,
            "layout": "IPY_MODEL_a1d86421f7834b0ab91dd81ca7c75782",
            "max": 1,
            "min": 0,
            "orientation": "horizontal",
            "style": "IPY_MODEL_abe3e83d5a894d3e9ac9681e0ae76dc8",
            "value": 1
          }
        },
        "a5c64a3622b544c99a9d324fd970a3aa": {
          "model_module": "@jupyter-widgets/base",
          "model_name": "LayoutModel",
          "model_module_version": "1.2.0",
          "state": {
            "_model_module": "@jupyter-widgets/base",
            "_model_module_version": "1.2.0",
            "_model_name": "LayoutModel",
            "_view_count": null,
            "_view_module": "@jupyter-widgets/base",
            "_view_module_version": "1.2.0",
            "_view_name": "LayoutView",
            "align_content": null,
            "align_items": null,
            "align_self": null,
            "border": null,
            "bottom": null,
            "display": null,
            "flex": null,
            "flex_flow": null,
            "grid_area": null,
            "grid_auto_columns": null,
            "grid_auto_flow": null,
            "grid_auto_rows": null,
            "grid_column": null,
            "grid_gap": null,
            "grid_row": null,
            "grid_template_areas": null,
            "grid_template_columns": null,
            "grid_template_rows": null,
            "height": null,
            "justify_content": null,
            "justify_items": null,
            "left": null,
            "margin": null,
            "max_height": null,
            "max_width": null,
            "min_height": null,
            "min_width": null,
            "object_fit": null,
            "object_position": null,
            "order": null,
            "overflow": null,
            "overflow_x": null,
            "overflow_y": null,
            "padding": null,
            "right": null,
            "top": null,
            "visibility": null,
            "width": null
          }
        },
        "9cd8802db0d04e9a86736253aa1bd207": {
          "model_module": "@jupyter-widgets/base",
          "model_name": "LayoutModel",
          "model_module_version": "1.2.0",
          "state": {
            "_model_module": "@jupyter-widgets/base",
            "_model_module_version": "1.2.0",
            "_model_name": "LayoutModel",
            "_view_count": null,
            "_view_module": "@jupyter-widgets/base",
            "_view_module_version": "1.2.0",
            "_view_name": "LayoutView",
            "align_content": null,
            "align_items": null,
            "align_self": null,
            "border": null,
            "bottom": null,
            "display": null,
            "flex": null,
            "flex_flow": null,
            "grid_area": null,
            "grid_auto_columns": null,
            "grid_auto_flow": null,
            "grid_auto_rows": null,
            "grid_column": null,
            "grid_gap": null,
            "grid_row": null,
            "grid_template_areas": null,
            "grid_template_columns": null,
            "grid_template_rows": null,
            "height": null,
            "justify_content": null,
            "justify_items": null,
            "left": null,
            "margin": null,
            "max_height": null,
            "max_width": null,
            "min_height": null,
            "min_width": null,
            "object_fit": null,
            "object_position": null,
            "order": null,
            "overflow": null,
            "overflow_x": null,
            "overflow_y": null,
            "padding": null,
            "right": null,
            "top": null,
            "visibility": null,
            "width": null
          }
        },
        "accc0c32d2cd4cbe8dade00eabed722c": {
          "model_module": "@jupyter-widgets/controls",
          "model_name": "DescriptionStyleModel",
          "model_module_version": "1.5.0",
          "state": {
            "_model_module": "@jupyter-widgets/controls",
            "_model_module_version": "1.5.0",
            "_model_name": "DescriptionStyleModel",
            "_view_count": null,
            "_view_module": "@jupyter-widgets/base",
            "_view_module_version": "1.2.0",
            "_view_name": "StyleView",
            "description_width": ""
          }
        },
        "a1d86421f7834b0ab91dd81ca7c75782": {
          "model_module": "@jupyter-widgets/base",
          "model_name": "LayoutModel",
          "model_module_version": "1.2.0",
          "state": {
            "_model_module": "@jupyter-widgets/base",
            "_model_module_version": "1.2.0",
            "_model_name": "LayoutModel",
            "_view_count": null,
            "_view_module": "@jupyter-widgets/base",
            "_view_module_version": "1.2.0",
            "_view_name": "LayoutView",
            "align_content": null,
            "align_items": null,
            "align_self": null,
            "border": null,
            "bottom": null,
            "display": null,
            "flex": null,
            "flex_flow": null,
            "grid_area": null,
            "grid_auto_columns": null,
            "grid_auto_flow": null,
            "grid_auto_rows": null,
            "grid_column": null,
            "grid_gap": null,
            "grid_row": null,
            "grid_template_areas": null,
            "grid_template_columns": null,
            "grid_template_rows": null,
            "height": null,
            "justify_content": null,
            "justify_items": null,
            "left": null,
            "margin": null,
            "max_height": null,
            "max_width": null,
            "min_height": null,
            "min_width": null,
            "object_fit": null,
            "object_position": null,
            "order": null,
            "overflow": null,
            "overflow_x": null,
            "overflow_y": null,
            "padding": null,
            "right": null,
            "top": null,
            "visibility": null,
            "width": null
          }
        },
        "abe3e83d5a894d3e9ac9681e0ae76dc8": {
          "model_module": "@jupyter-widgets/controls",
          "model_name": "ProgressStyleModel",
          "model_module_version": "1.5.0",
          "state": {
            "_model_module": "@jupyter-widgets/controls",
            "_model_module_version": "1.5.0",
            "_model_name": "ProgressStyleModel",
            "_view_count": null,
            "_view_module": "@jupyter-widgets/base",
            "_view_module_version": "1.2.0",
            "_view_name": "StyleView",
            "bar_color": null,
            "description_width": ""
          }
        }
      }
    }
  },
  "nbformat": 4,
  "nbformat_minor": 0
}