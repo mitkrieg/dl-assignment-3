{
  "cells": [
    {
      "cell_type": "markdown",
      "metadata": {
        "id": "view-in-github",
        "colab_type": "text"
      },
      "source": [
        "<a href=\"https://colab.research.google.com/github/mitkrieg/dl-assignment-3/blob/main/gan.ipynb\" target=\"_parent\"><img src=\"https://colab.research.google.com/assets/colab-badge.svg\" alt=\"Open In Colab\"/></a>"
      ]
    },
    {
      "cell_type": "markdown",
      "metadata": {
        "id": "INKgqRaUohpB"
      },
      "source": [
        "# Assignment 3, Problem 5: DCGAN, WGAN, WGAN-GP"
      ]
    },
    {
      "cell_type": "markdown",
      "metadata": {
        "id": "UjNTkHkCowXj"
      },
      "source": [
        "## Download Data"
      ]
    },
    {
      "cell_type": "code",
      "execution_count": 1,
      "metadata": {
        "colab": {
          "base_uri": "https://localhost:8080/"
        },
        "id": "PWaxpfsNnLcu",
        "outputId": "1bd52ac8-c843-4f9c-a70a-65548b1d64c5"
      },
      "outputs": [
        {
          "output_type": "stream",
          "name": "stdout",
          "text": [
            "--2024-10-15 05:29:22--  http://fashion-mnist.s3-website.eu-central-1.amazonaws.com/train-images-idx3-ubyte.gz\n",
            "Resolving fashion-mnist.s3-website.eu-central-1.amazonaws.com (fashion-mnist.s3-website.eu-central-1.amazonaws.com)... 3.5.134.115, 52.219.169.12, 3.5.134.245, ...\n",
            "Connecting to fashion-mnist.s3-website.eu-central-1.amazonaws.com (fashion-mnist.s3-website.eu-central-1.amazonaws.com)|3.5.134.115|:80... connected.\n",
            "HTTP request sent, awaiting response... 200 OK\n",
            "Length: 26421880 (25M) [binary/octet-stream]\n",
            "Saving to: ‘/content/train-images-idx3-ubyte.gz’\n",
            "\n",
            "/content/train-imag 100%[===================>]  25.20M  4.79MB/s    in 13s     \n",
            "\n",
            "2024-10-15 05:29:36 (1.91 MB/s) - ‘/content/train-images-idx3-ubyte.gz’ saved [26421880/26421880]\n",
            "\n",
            "--2024-10-15 05:29:36--  http://fashion-mnist.s3-website.eu-central-1.amazonaws.com/train-labels-idx1-ubyte.gz\n",
            "Resolving fashion-mnist.s3-website.eu-central-1.amazonaws.com (fashion-mnist.s3-website.eu-central-1.amazonaws.com)... 52.219.170.192, 3.5.135.60, 52.219.171.200, ...\n",
            "Connecting to fashion-mnist.s3-website.eu-central-1.amazonaws.com (fashion-mnist.s3-website.eu-central-1.amazonaws.com)|52.219.170.192|:80... connected.\n",
            "HTTP request sent, awaiting response... 200 OK\n",
            "Length: 29515 (29K) [binary/octet-stream]\n",
            "Saving to: ‘/content/train-labels-idx1-ubyte.gz’\n",
            "\n",
            "/content/train-labe 100%[===================>]  28.82K   167KB/s    in 0.2s    \n",
            "\n",
            "2024-10-15 05:29:36 (167 KB/s) - ‘/content/train-labels-idx1-ubyte.gz’ saved [29515/29515]\n",
            "\n",
            "--2024-10-15 05:29:36--  http://fashion-mnist.s3-website.eu-central-1.amazonaws.com/t10k-images-idx3-ubyte.gz\n",
            "Resolving fashion-mnist.s3-website.eu-central-1.amazonaws.com (fashion-mnist.s3-website.eu-central-1.amazonaws.com)... 52.219.170.192, 3.5.135.60, 52.219.171.200, ...\n",
            "Connecting to fashion-mnist.s3-website.eu-central-1.amazonaws.com (fashion-mnist.s3-website.eu-central-1.amazonaws.com)|52.219.170.192|:80... connected.\n",
            "HTTP request sent, awaiting response... 200 OK\n",
            "Length: 4422102 (4.2M) [binary/octet-stream]\n",
            "Saving to: ‘/content/test-images-idx3-ubyte.gz’\n",
            "\n",
            "/content/test-image 100%[===================>]   4.22M  3.05MB/s    in 1.4s    \n",
            "\n",
            "2024-10-15 05:29:38 (3.05 MB/s) - ‘/content/test-images-idx3-ubyte.gz’ saved [4422102/4422102]\n",
            "\n",
            "--2024-10-15 05:29:38--  http://fashion-mnist.s3-website.eu-central-1.amazonaws.com/t10k-labels-idx1-ubyte.gz\n",
            "Resolving fashion-mnist.s3-website.eu-central-1.amazonaws.com (fashion-mnist.s3-website.eu-central-1.amazonaws.com)... 52.219.170.192, 3.5.135.60, 52.219.171.200, ...\n",
            "Connecting to fashion-mnist.s3-website.eu-central-1.amazonaws.com (fashion-mnist.s3-website.eu-central-1.amazonaws.com)|52.219.170.192|:80... connected.\n",
            "HTTP request sent, awaiting response... 200 OK\n",
            "Length: 5148 (5.0K) [binary/octet-stream]\n",
            "Saving to: ‘/content/test-labels-idx1-ubyte.gz’\n",
            "\n",
            "/content/test-label 100%[===================>]   5.03K  --.-KB/s    in 0s      \n",
            "\n",
            "2024-10-15 05:29:39 (621 MB/s) - ‘/content/test-labels-idx1-ubyte.gz’ saved [5148/5148]\n",
            "\n"
          ]
        }
      ],
      "source": [
        "!wget http://fashion-mnist.s3-website.eu-central-1.amazonaws.com/train-images-idx3-ubyte.gz -O /content/train-images-idx3-ubyte.gz\n",
        "!wget http://fashion-mnist.s3-website.eu-central-1.amazonaws.com/train-labels-idx1-ubyte.gz -O /content/train-labels-idx1-ubyte.gz\n",
        "!wget http://fashion-mnist.s3-website.eu-central-1.amazonaws.com/t10k-images-idx3-ubyte.gz -O /content/test-images-idx3-ubyte.gz\n",
        "!wget http://fashion-mnist.s3-website.eu-central-1.amazonaws.com/t10k-labels-idx1-ubyte.gz -O /content/test-labels-idx1-ubyte.gz"
      ]
    },
    {
      "cell_type": "markdown",
      "metadata": {
        "id": "QvvimtrPoy2I"
      },
      "source": [
        "## Library Imports"
      ]
    },
    {
      "cell_type": "code",
      "execution_count": 2,
      "metadata": {
        "id": "QXapS2Q4oY_s"
      },
      "outputs": [],
      "source": [
        "import torch\n",
        "from torch import nn\n",
        "import torch.nn.functional as F\n",
        "import torch.optim as optim\n",
        "from torch.utils.data import Dataset, DataLoader\n",
        "import torchvision\n",
        "import numpy as np\n",
        "import matplotlib.pyplot as plt\n",
        "import itertools\n",
        "from time import time\n",
        "import gzip\n",
        "import typing as T\n",
        "from sklearn.model_selection import StratifiedShuffleSplit\n",
        "from sklearn.svm import SVC\n",
        "from sklearn.metrics import accuracy_score, precision_score, recall_score, f1_score, roc_auc_score\n",
        "# import wandb\n",
        "\n",
        "torch.manual_seed(123)\n",
        "np.random.seed(123)\n",
        "\n",
        "# wandb.login()"
      ]
    },
    {
      "cell_type": "markdown",
      "metadata": {
        "id": "6Z8KLh6Ro0cM"
      },
      "source": [
        "## Check for GPU Access"
      ]
    },
    {
      "cell_type": "code",
      "execution_count": 3,
      "metadata": {
        "colab": {
          "base_uri": "https://localhost:8080/"
        },
        "id": "MTnZTov3oe6a",
        "outputId": "8645f231-9023-4e00-b6a5-c4c425962e17"
      },
      "outputs": [
        {
          "output_type": "stream",
          "name": "stdout",
          "text": [
            "------ ACCELERATION INFO -----\n",
            "CUDA GPU Available: True\n",
            "MPS GPU Available: False\n",
            "GPU Name: Tesla T4\n",
            "GPU Count: 1\n",
            "GPU Memory Allocated: 0\n",
            "GPU Memory Cached: 0\n"
          ]
        }
      ],
      "source": [
        "print(\"------ ACCELERATION INFO -----\")\n",
        "print('CUDA GPU Available:',torch.cuda.is_available())\n",
        "print('MPS GPU Available:', torch.backends.mps.is_available())\n",
        "if torch.cuda.is_available():\n",
        "  device = torch.device('cuda:0')\n",
        "  print('GPU Name:',torch.cuda.get_device_name(0))\n",
        "  print('GPU Count:',torch.cuda.device_count())\n",
        "  print('GPU Memory Allocated:',torch.cuda.memory_allocated(0))\n",
        "  print('GPU Memory Cached:',torch.cuda.memory_reserved(0))\n",
        "# elif torch.backends.mps.is_available() and torch.backends.mps.is_built():\n",
        "#   device = torch.device('mps')\n",
        "#   print('Pytorch GPU Build:',torch.backends.mps.is_built())\n",
        "else:\n",
        "  device = torch.device('cpu')\n",
        "  print('Using CPU')"
      ]
    },
    {
      "cell_type": "markdown",
      "metadata": {
        "id": "Ei5lpNbqo5wk"
      },
      "source": [
        "## Load Data"
      ]
    },
    {
      "cell_type": "markdown",
      "metadata": {
        "id": "h68nncHHo5kg"
      },
      "source": [
        "### Define FashionMNIST"
      ]
    },
    {
      "cell_type": "code",
      "execution_count": 4,
      "metadata": {
        "id": "-GVuAxV5o32R"
      },
      "outputs": [],
      "source": [
        "class FasionMNISTDataset(Dataset):\n",
        "    def __init__(self, path: str, kind: str, device=torch.device('cpu')) -> None:\n",
        "        super().__init__()\n",
        "        self.device = device\n",
        "        self.labels, self.images = self._load_data(path, kind)\n",
        "\n",
        "    def _load_data(self, path: str, kind: str) -> T.Tuple[np.ndarray, np.ndarray]:\n",
        "        with gzip.open(path + f'/{kind}-labels-idx1-ubyte.gz', 'rb') as lable_file:\n",
        "            lbls = np.frombuffer(lable_file.read(), dtype=np.int8, offset=8)\n",
        "            lbls = np.copy(lbls)\n",
        "        with gzip.open(path + f'/{kind}-images-idx3-ubyte.gz', 'rb') as lable_file:\n",
        "            imgs = np.frombuffer(lable_file.read(), dtype=np.uint8, offset=16).reshape(len(lbls), 1, 28, 28)\n",
        "            imgs = (np.copy(imgs) / 255).astype(np.float32)\n",
        "        return lbls, imgs\n",
        "\n",
        "    def __len__(self) -> int:\n",
        "        return self.labels.size\n",
        "\n",
        "    def __getitem__(self, index: int) -> T.Tuple[torch.tensor, torch.tensor]:\n",
        "        img = torch.tensor(self.images[index])\n",
        "        img = img.to(self.device)\n",
        "        if self.labels is not None:\n",
        "            label = torch.tensor(self.labels[index], dtype=torch.long)\n",
        "            label = label.to(self.device)\n",
        "            return img, label\n",
        "        else:\n",
        "            return img\n",
        "\n",
        "    def stratified_indices(self, num_labels, removed_indicies=[]):\n",
        "        \"\"\"\n",
        "        Create a stratified subset of the dataset using num_labels data points\n",
        "        \"\"\"\n",
        "        # Get remaining indices after removing removed_indicies\n",
        "        remaining_indices = np.setdiff1d(np.arange(len(self)), removed_indicies)\n",
        "\n",
        "        indices = []\n",
        "        for cls in range(10):\n",
        "            cls_indices = remaining_indices[self.labels[remaining_indices] == cls]\n",
        "            num_to_select = min(len(cls_indices), num_labels // 10)\n",
        "            selected_indices = np.random.choice(cls_indices, num_to_select, replace=False)\n",
        "            indices.extend(selected_indices.tolist())\n",
        "        return indices\n",
        "\n",
        "    def create_subsets(self, num_labels):\n",
        "        \"\"\"Create labeled and unlabeled subsets with no overlapping indices.\"\"\"\n",
        "        assert num_labels <= len(self), \"Number of labels must be less than or equal to the dataset size\"\n",
        "\n",
        "        labeled_indices = self.stratified_indices(num_labels)\n",
        "\n",
        "        all_indices = set(range(len(self)))\n",
        "        remaining_indices = list(all_indices - set(labeled_indices))\n",
        "\n",
        "        remaining_dataset = self.labels[remaining_indices]\n",
        "        unlabeled_indices = self.stratified_indices(num_labels, labeled_indices)\n",
        "\n",
        "        labeled_subset = torch.utils.data.Subset(self, labeled_indices)\n",
        "        unlabeled_subset = torch.utils.data.Subset(self, unlabeled_indices)\n",
        "\n",
        "        return labeled_subset, unlabeled_subset\n",
        "\n",
        "def show_img(dataset: Dataset, index: int) -> None:\n",
        "    img, label = dataset[index]\n",
        "    labels_map = {\n",
        "            0: \"T-Shirt\",\n",
        "            1: \"Trouser\",\n",
        "            2: \"Pullover\",\n",
        "            3: \"Dress\",\n",
        "            4: \"Coat\",\n",
        "            5: \"Sandal\",\n",
        "            6: \"Shirt\",\n",
        "            7: \"Sneaker\",\n",
        "            8: \"Bag\",\n",
        "            9: \"Ankle Boot\",\n",
        "        }\n",
        "    plt.imshow(img.cpu().reshape(28,28), cmap='gray')\n",
        "    plt.title(labels_map[label.cpu().item()])\n",
        "    plt.show()\n",
        "\n",
        "gen = torch.Generator().manual_seed(123)\n",
        "\n",
        "train = FasionMNISTDataset('/content', 'train', device=device)\n",
        "test = FasionMNISTDataset('/content', 'test', device=device)\n",
        "\n",
        "traindataloader = DataLoader(train, batch_size=64, shuffle=True, generator=gen)\n",
        "testdataloader = DataLoader(test, batch_size=64, shuffle=True, generator=gen)"
      ]
    },
    {
      "cell_type": "markdown",
      "metadata": {
        "id": "1M7zZNH72c9_"
      },
      "source": [
        "## Model Building"
      ]
    },
    {
      "cell_type": "markdown",
      "metadata": {
        "id": "JpwRkPEC4BEh"
      },
      "source": [
        "### GAN Modules"
      ]
    },
    {
      "cell_type": "code",
      "execution_count": 5,
      "metadata": {
        "id": "V-HDLmEtq0eR"
      },
      "outputs": [],
      "source": [
        "class Discriminator(nn.Module):\n",
        "    def __init__(self, channels, filters):\n",
        "        super().__init__()\n",
        "        self.seq = nn.Sequential(\n",
        "            nn.Conv2d(channels, filters, kernel_size=4, stride=2, padding=1, bias=False),\n",
        "            nn.LeakyReLU(0.2, inplace=True),\n",
        "\n",
        "            nn.Conv2d(filters, filters * 2, kernel_size=4, stride=2, padding=1, bias=False),\n",
        "            nn.BatchNorm2d(filters * 2),\n",
        "            nn.LeakyReLU(0.2, inplace=True),\n",
        "\n",
        "            nn.Conv2d(filters * 2, filters * 4, kernel_size=4, stride=2, padding=1, bias=False),\n",
        "            nn.BatchNorm2d(filters * 4),\n",
        "            nn.LeakyReLU(0.2, inplace=True),\n",
        "\n",
        "            nn.Conv2d(filters * 4, filters * 8, kernel_size=3, stride=2, padding=0, bias=False),  # Adjusted Layer\n",
        "            nn.BatchNorm2d(filters * 8),\n",
        "            nn.LeakyReLU(0.2, inplace=True),\n",
        "\n",
        "            nn.Conv2d(filters * 8, 1, kernel_size=1, stride=1, padding=0, bias=False),  # Adjusted Layer\n",
        "            nn.Sigmoid()\n",
        "        )\n",
        "        self.apply(self.weights_init)\n",
        "\n",
        "    def forward(self, x):\n",
        "        return self.seq(x)\n",
        "\n",
        "    def weights_init(self, m):\n",
        "        classname = m.__class__.__name__\n",
        "        if classname.find('Conv') != -1:\n",
        "            nn.init.normal_(m.weight.data, 0.0, 0.02)\n",
        "        elif classname.find('BatchNorm') != -1:\n",
        "            nn.init.normal_(m.weight.data, 1.0, 0.02)\n",
        "            nn.init.constant_(m.bias.data, 0)\n",
        "\n",
        "class Generator(nn.Module):\n",
        "    def __init__(self, z_dim, channels, filters):\n",
        "        super().__init__()\n",
        "        self.seq = nn.Sequential(\n",
        "            nn.ConvTranspose2d(z_dim, filters * 8, kernel_size=7, stride=1, padding=0, bias=False),\n",
        "            nn.BatchNorm2d(filters * 8),\n",
        "            nn.ReLU(inplace=True),\n",
        "            nn.ConvTranspose2d(filters * 8, filters * 4, kernel_size=4, stride=2, padding=1, bias=False),\n",
        "            nn.BatchNorm2d(filters * 4),\n",
        "            nn.ReLU(inplace=True),\n",
        "            # nn.ConvTranspose2d(filters * 4, filters, kernel_size=4, stride=2, padding=1, bias=False),\n",
        "            # nn.BatchNorm2d(filters),\n",
        "            # nn.ReLU(inplace=True),\n",
        "            nn.ConvTranspose2d(filters * 4, channels, kernel_size=4, stride=2, padding=1, bias=False),\n",
        "            nn.Tanh()\n",
        "            )\n",
        "        self.apply(self.weights_init)\n",
        "\n",
        "    def forward(self, x):\n",
        "        return self.seq(x)\n",
        "\n",
        "    def weights_init(self, m):\n",
        "        classname = m.__class__.__name__\n",
        "        if classname.find('Conv') != -1:\n",
        "            nn.init.normal_(m.weight.data, 0.0, 0.02)\n",
        "        elif classname.find('BatchNorm') != -1:\n",
        "            nn.init.normal_(m.weight.data, 1.0, 0.02)\n",
        "            nn.init.constant_(m.bias.data, 0)"
      ]
    },
    {
      "cell_type": "markdown",
      "metadata": {
        "id": "jjrlwxlB2f0W"
      },
      "source": [
        "### DCGAN"
      ]
    },
    {
      "cell_type": "code",
      "execution_count": 8,
      "metadata": {
        "id": "dKCmNJA82e7M"
      },
      "outputs": [],
      "source": [
        "class DCGAN:\n",
        "    def __init__(self, z_dim, channels, filters, device):\n",
        "        self.z_dim = z_dim\n",
        "        self.channels = channels\n",
        "        self.filters = filters\n",
        "        self.discriminator = Discriminator(channels, filters).to(device)\n",
        "        self.adam_discrim = optim.Adam(self.discriminator.parameters(), lr=0.0001, betas=(0.5, 0.999)) #, betas=(0.5, 0.999)\n",
        "        self.generator = Generator(z_dim, channels, filters).to(device)\n",
        "        self.adam_gen = optim.Adam(self.generator.parameters(), lr=0.0005, betas=(0.5, 0.999))\n",
        "        self.loss = nn.BCELoss()\n",
        "        self.device = device\n",
        "        self.img_list = []\n",
        "        self.evaluation_noise = torch.randn(64, self.z_dim, 1, 1, device=self.device)\n",
        "\n",
        "    def train_discriminator(self, real_imgs, real_labels, fake_labels, batch_size):\n",
        "        self.discriminator.zero_grad()\n",
        "\n",
        "        # Train on reals\n",
        "        output = self.discriminator(real_imgs).view(-1)\n",
        "        real_loss = self.loss(output, real_labels.squeeze(1))\n",
        "        real_loss.backward()\n",
        "        avg_real = output.mean().item()\n",
        "\n",
        "        # train on fakes\n",
        "        noise = torch.randn(batch_size, self.z_dim, 1, 1, device=self.device)\n",
        "        fake_imgs = self.generator(noise)\n",
        "        output = self.discriminator(fake_imgs.detach()).view(-1)\n",
        "        fake_loss = self.loss(output, fake_labels.squeeze(1))\n",
        "        fake_loss.backward()\n",
        "        avg_fake = output.mean().item()\n",
        "        discrim_loss = real_loss + fake_loss\n",
        "        self.adam_discrim.step()\n",
        "\n",
        "        return fake_imgs, discrim_loss, avg_real, avg_fake\n",
        "\n",
        "\n",
        "\n",
        "    def train_generator(self, fake_imgs, real_labels):\n",
        "        self.generator.zero_grad()\n",
        "        output = self.discriminator(fake_imgs).view(-1)\n",
        "        real_loss = self.loss(output, real_labels.squeeze(1))\n",
        "        real_loss.backward()\n",
        "        self.adam_gen.step()\n",
        "\n",
        "        return real_loss, output.mean().item()\n",
        "\n",
        "    def train_one_epoch(self, train_loader, batch_size):\n",
        "        for i, (real_imgs, _) in enumerate(train_loader):\n",
        "            current_batch_size = real_imgs.size(0)\n",
        "\n",
        "            fake_lables = torch.zeros(current_batch_size, 1, device=self.device)\n",
        "            real_labels = torch.ones(current_batch_size, 1, device=self.device)\n",
        "\n",
        "            fake_imgs, discrim_loss, avg_real, avg_fake1 = self.train_discriminator(real_imgs, real_labels, fake_lables, current_batch_size)\n",
        "            gen_loss, avg_fake2 = self.train_generator(fake_imgs, real_labels)\n",
        "\n",
        "            if i % 100 == 0:\n",
        "                print(f'[{i}/{len(train_loader)}] DLoss: {discrim_loss.item():.4f} GLoss: {gen_loss.item(): .4f}, D(x): {avg_real:.4f} D(G(z)): {avg_fake1:.4f}/{avg_fake2:.4f}')\n",
        "\n",
        "            #wandb goes here for g and d losses\n",
        "            # with torch.no_grad():\n",
        "            #     fake = self.generator(self.evaluation_noise).detach().cpu()\n",
        "            # self.img_list.append(torchvision.utils.make_grid(fake, padding=2, normalize=True))\n",
        "\n",
        "    def train(self, traindataloader, epochs, batch_size, noise):\n",
        "        print('----------- VAE Train Start! ------------')\n",
        "        for epoch in range(epochs):\n",
        "            print(f'----------- Epoch #{epoch + 1} ------------')\n",
        "            self.train_one_epoch(traindataloader, batch_size)\n",
        "\n",
        "    def generate_images(self, num_images):\n",
        "        with torch.no_grad():  # Disable gradient calculation\n",
        "            noise = torch.randn(num_images, self.z_dim, 1, 1, device=dc.device)\n",
        "            generated_images = self.generator(noise)\n",
        "            generated_images = (generated_images + 1) / 2\n",
        "            grid = torchvision.utils.make_grid(generated_images.cpu(), nrow=4, padding=2, normalize=True)\n",
        "            np_grid = grid.permute(1, 2, 0).numpy()\n",
        "            plt.imshow(np_grid)\n",
        "            plt.axis('off')\n"
      ]
    },
    {
      "cell_type": "code",
      "execution_count": 9,
      "metadata": {
        "colab": {
          "base_uri": "https://localhost:8080/"
        },
        "id": "PMUn4KVD94gk",
        "outputId": "82205154-5bd1-4e61-b7ff-31f904a8ce3a"
      },
      "outputs": [
        {
          "output_type": "stream",
          "name": "stdout",
          "text": [
            "----------- VAE Train Start! ------------\n",
            "----------- Epoch #1 ------------\n",
            "[0/938] DLoss: 1.4031 GLoss:  0.7772, D(x): 0.4743 D(G(z)): 0.4736/0.4615\n",
            "[100/938] DLoss: 1.1311 GLoss:  0.8458, D(x): 0.5844 D(G(z)): 0.4435/0.4304\n",
            "[200/938] DLoss: 1.0246 GLoss:  0.9932, D(x): 0.5920 D(G(z)): 0.3850/0.3749\n",
            "[300/938] DLoss: 0.9710 GLoss:  1.0425, D(x): 0.6147 D(G(z)): 0.3743/0.3577\n",
            "[400/938] DLoss: 0.9054 GLoss:  1.1416, D(x): 0.6607 D(G(z)): 0.3731/0.3287\n",
            "[500/938] DLoss: 0.8152 GLoss:  1.2568, D(x): 0.6507 D(G(z)): 0.3006/0.2921\n",
            "[600/938] DLoss: 0.8892 GLoss:  1.2330, D(x): 0.6801 D(G(z)): 0.3708/0.3135\n",
            "[700/938] DLoss: 0.7507 GLoss:  1.4288, D(x): 0.7052 D(G(z)): 0.3070/0.2583\n",
            "[800/938] DLoss: 0.7650 GLoss:  1.3046, D(x): 0.6512 D(G(z)): 0.2699/0.2926\n",
            "[900/938] DLoss: 0.6929 GLoss:  1.4405, D(x): 0.7230 D(G(z)): 0.2985/0.2442\n",
            "----------- Epoch #2 ------------\n",
            "[0/938] DLoss: 0.7802 GLoss:  1.4959, D(x): 0.7241 D(G(z)): 0.3369/0.2535\n",
            "[100/938] DLoss: 0.7850 GLoss:  1.2865, D(x): 0.6157 D(G(z)): 0.2412/0.2929\n",
            "[200/938] DLoss: 0.8316 GLoss:  1.2955, D(x): 0.6193 D(G(z)): 0.2772/0.2871\n",
            "[300/938] DLoss: 0.9163 GLoss:  1.0517, D(x): 0.5539 D(G(z)): 0.2278/0.3906\n",
            "[400/938] DLoss: 0.8258 GLoss:  1.3587, D(x): 0.6490 D(G(z)): 0.2951/0.2962\n",
            "[500/938] DLoss: 0.9004 GLoss:  1.5234, D(x): 0.6588 D(G(z)): 0.3356/0.2716\n",
            "[600/938] DLoss: 0.8016 GLoss:  1.3340, D(x): 0.6331 D(G(z)): 0.2592/0.2878\n",
            "[700/938] DLoss: 0.5962 GLoss:  1.6083, D(x): 0.7784 D(G(z)): 0.2764/0.2149\n",
            "[800/938] DLoss: 0.7796 GLoss:  1.7076, D(x): 0.7851 D(G(z)): 0.3904/0.2072\n",
            "[900/938] DLoss: 0.6613 GLoss:  1.5868, D(x): 0.7540 D(G(z)): 0.2910/0.2273\n",
            "----------- Epoch #3 ------------\n",
            "[0/938] DLoss: 0.7505 GLoss:  1.5466, D(x): 0.6870 D(G(z)): 0.2762/0.2281\n",
            "[100/938] DLoss: 0.6107 GLoss:  1.9873, D(x): 0.7914 D(G(z)): 0.2931/0.1479\n",
            "[200/938] DLoss: 0.5558 GLoss:  1.6742, D(x): 0.7057 D(G(z)): 0.1632/0.2049\n",
            "[300/938] DLoss: 0.6090 GLoss:  1.6534, D(x): 0.8388 D(G(z)): 0.3382/0.2106\n",
            "[400/938] DLoss: 0.5046 GLoss:  1.8716, D(x): 0.7586 D(G(z)): 0.1838/0.1726\n",
            "[500/938] DLoss: 0.6248 GLoss:  1.5871, D(x): 0.6881 D(G(z)): 0.1994/0.2205\n",
            "[600/938] DLoss: 0.6256 GLoss:  1.6884, D(x): 0.7759 D(G(z)): 0.2865/0.1989\n",
            "[700/938] DLoss: 0.5785 GLoss:  1.6037, D(x): 0.7382 D(G(z)): 0.2143/0.2240\n",
            "[800/938] DLoss: 0.6878 GLoss:  1.1613, D(x): 0.6202 D(G(z)): 0.1624/0.3412\n",
            "[900/938] DLoss: 0.4422 GLoss:  2.0559, D(x): 0.7908 D(G(z)): 0.1729/0.1381\n",
            "----------- Epoch #4 ------------\n",
            "[0/938] DLoss: 0.6198 GLoss:  1.6683, D(x): 0.7643 D(G(z)): 0.2706/0.2042\n",
            "[100/938] DLoss: 0.4802 GLoss:  1.8732, D(x): 0.7400 D(G(z)): 0.1413/0.1728\n",
            "[200/938] DLoss: 0.6750 GLoss:  1.6046, D(x): 0.7872 D(G(z)): 0.3231/0.2217\n",
            "[300/938] DLoss: 0.6656 GLoss:  1.4475, D(x): 0.6861 D(G(z)): 0.2073/0.2719\n",
            "[400/938] DLoss: 0.7226 GLoss:  1.7623, D(x): 0.5936 D(G(z)): 0.1306/0.1906\n",
            "[500/938] DLoss: 0.6904 GLoss:  2.3423, D(x): 0.7625 D(G(z)): 0.3042/0.1267\n",
            "[600/938] DLoss: 1.0575 GLoss:  1.9481, D(x): 0.8083 D(G(z)): 0.5071/0.1726\n",
            "[700/938] DLoss: 0.6423 GLoss:  1.9536, D(x): 0.7447 D(G(z)): 0.2543/0.1741\n",
            "[800/938] DLoss: 0.5344 GLoss:  1.6450, D(x): 0.8224 D(G(z)): 0.2688/0.2036\n",
            "[900/938] DLoss: 0.6914 GLoss:  1.9223, D(x): 0.7401 D(G(z)): 0.2943/0.1681\n",
            "----------- Epoch #5 ------------\n",
            "[0/938] DLoss: 0.5768 GLoss:  1.7925, D(x): 0.7625 D(G(z)): 0.2279/0.2082\n",
            "[100/938] DLoss: 0.6464 GLoss:  1.4454, D(x): 0.6813 D(G(z)): 0.2022/0.2540\n",
            "[200/938] DLoss: 0.4628 GLoss:  2.3608, D(x): 0.7476 D(G(z)): 0.1309/0.1103\n",
            "[300/938] DLoss: 0.5085 GLoss:  1.8958, D(x): 0.7768 D(G(z)): 0.2065/0.1723\n",
            "[400/938] DLoss: 0.7039 GLoss:  2.1669, D(x): 0.8074 D(G(z)): 0.3591/0.1354\n",
            "[500/938] DLoss: 0.6523 GLoss:  1.9423, D(x): 0.7622 D(G(z)): 0.2836/0.1737\n",
            "[600/938] DLoss: 0.5818 GLoss:  2.4497, D(x): 0.7662 D(G(z)): 0.2310/0.1084\n",
            "[700/938] DLoss: 0.4772 GLoss:  2.0958, D(x): 0.8850 D(G(z)): 0.2799/0.1407\n",
            "[800/938] DLoss: 0.5153 GLoss:  1.8977, D(x): 0.8436 D(G(z)): 0.2676/0.1681\n",
            "[900/938] DLoss: 0.4122 GLoss:  1.9626, D(x): 0.8498 D(G(z)): 0.2055/0.1670\n",
            "----------- Epoch #6 ------------\n",
            "[0/938] DLoss: 0.8187 GLoss:  1.3431, D(x): 0.8891 D(G(z)): 0.4386/0.2841\n",
            "[100/938] DLoss: 0.4501 GLoss:  2.2787, D(x): 0.8038 D(G(z)): 0.1786/0.1288\n",
            "[200/938] DLoss: 0.5051 GLoss:  2.1343, D(x): 0.6919 D(G(z)): 0.1084/0.1356\n",
            "[300/938] DLoss: 0.4227 GLoss:  2.1023, D(x): 0.8218 D(G(z)): 0.1851/0.1427\n",
            "[400/938] DLoss: 0.6996 GLoss:  1.9308, D(x): 0.7168 D(G(z)): 0.2294/0.1718\n",
            "[500/938] DLoss: 0.6159 GLoss:  1.5784, D(x): 0.6191 D(G(z)): 0.0951/0.2407\n",
            "[600/938] DLoss: 0.4327 GLoss:  2.0943, D(x): 0.8811 D(G(z)): 0.2345/0.1489\n",
            "[700/938] DLoss: 0.6690 GLoss:  1.4328, D(x): 0.7228 D(G(z)): 0.2364/0.2827\n",
            "[800/938] DLoss: 0.6771 GLoss:  2.2174, D(x): 0.7040 D(G(z)): 0.2085/0.1768\n",
            "[900/938] DLoss: 0.5016 GLoss:  2.4460, D(x): 0.7558 D(G(z)): 0.1566/0.1149\n",
            "----------- Epoch #7 ------------\n",
            "[0/938] DLoss: 0.8441 GLoss:  2.0706, D(x): 0.9236 D(G(z)): 0.4912/0.1534\n",
            "[100/938] DLoss: 0.5240 GLoss:  2.5849, D(x): 0.8890 D(G(z)): 0.3134/0.0907\n",
            "[200/938] DLoss: 0.4891 GLoss:  2.4750, D(x): 0.8559 D(G(z)): 0.2619/0.0996\n",
            "[300/938] DLoss: 0.5286 GLoss:  1.7490, D(x): 0.8323 D(G(z)): 0.2618/0.1941\n",
            "[400/938] DLoss: 0.5640 GLoss:  2.0020, D(x): 0.6696 D(G(z)): 0.0990/0.1842\n",
            "[500/938] DLoss: 0.3795 GLoss:  2.0465, D(x): 0.8906 D(G(z)): 0.2169/0.1604\n",
            "[600/938] DLoss: 0.6915 GLoss:  2.0095, D(x): 0.7982 D(G(z)): 0.3357/0.1588\n",
            "[700/938] DLoss: 0.8094 GLoss:  2.5884, D(x): 0.6879 D(G(z)): 0.2243/0.1376\n",
            "[800/938] DLoss: 1.1531 GLoss:  1.3845, D(x): 0.4278 D(G(z)): 0.1353/0.2998\n",
            "[900/938] DLoss: 0.4553 GLoss:  1.8530, D(x): 0.7389 D(G(z)): 0.1153/0.1909\n",
            "----------- Epoch #8 ------------\n",
            "[0/938] DLoss: 0.8560 GLoss:  2.1155, D(x): 0.8480 D(G(z)): 0.3618/0.1710\n",
            "[100/938] DLoss: 0.5853 GLoss:  2.5752, D(x): 0.8615 D(G(z)): 0.3074/0.0905\n",
            "[200/938] DLoss: 0.3066 GLoss:  2.1602, D(x): 0.8819 D(G(z)): 0.1499/0.1317\n",
            "[300/938] DLoss: 0.5150 GLoss:  1.7065, D(x): 0.8652 D(G(z)): 0.2740/0.2392\n",
            "[400/938] DLoss: 0.5118 GLoss:  2.0460, D(x): 0.7248 D(G(z)): 0.1399/0.1590\n",
            "[500/938] DLoss: 0.7159 GLoss:  1.3682, D(x): 0.6501 D(G(z)): 0.1871/0.3152\n",
            "[600/938] DLoss: 0.6753 GLoss:  1.9933, D(x): 0.8099 D(G(z)): 0.2977/0.2008\n",
            "[700/938] DLoss: 0.1755 GLoss:  2.9601, D(x): 0.9301 D(G(z)): 0.0950/0.0602\n",
            "[800/938] DLoss: 0.5737 GLoss:  1.6959, D(x): 0.6862 D(G(z)): 0.1414/0.2203\n",
            "[900/938] DLoss: 0.7083 GLoss:  2.1137, D(x): 0.7264 D(G(z)): 0.2472/0.1706\n",
            "----------- Epoch #9 ------------\n",
            "[0/938] DLoss: 0.5803 GLoss:  1.9733, D(x): 0.6964 D(G(z)): 0.1200/0.1786\n",
            "[100/938] DLoss: 0.4889 GLoss:  2.0631, D(x): 0.8754 D(G(z)): 0.2734/0.1637\n",
            "[200/938] DLoss: 0.7078 GLoss:  2.5776, D(x): 0.8283 D(G(z)): 0.3348/0.1435\n",
            "[300/938] DLoss: 0.6003 GLoss:  2.4230, D(x): 0.7423 D(G(z)): 0.1928/0.1216\n",
            "[400/938] DLoss: 0.4645 GLoss:  2.3563, D(x): 0.8408 D(G(z)): 0.1921/0.1171\n",
            "[500/938] DLoss: 0.3520 GLoss:  2.3483, D(x): 0.8155 D(G(z)): 0.1267/0.1143\n",
            "[600/938] DLoss: 1.0457 GLoss:  1.0193, D(x): 0.4653 D(G(z)): 0.1265/0.4616\n",
            "[700/938] DLoss: 0.5227 GLoss:  2.2942, D(x): 0.7562 D(G(z)): 0.1782/0.1246\n",
            "[800/938] DLoss: 0.7734 GLoss:  1.8600, D(x): 0.7502 D(G(z)): 0.2978/0.2925\n",
            "[900/938] DLoss: 0.9820 GLoss:  1.2867, D(x): 0.4790 D(G(z)): 0.0776/0.3365\n",
            "----------- Epoch #10 ------------\n",
            "[0/938] DLoss: 0.5608 GLoss:  2.0182, D(x): 0.8351 D(G(z)): 0.2697/0.1774\n",
            "[100/938] DLoss: 0.4207 GLoss:  2.2069, D(x): 0.7390 D(G(z)): 0.0905/0.1319\n",
            "[200/938] DLoss: 0.3508 GLoss:  2.4735, D(x): 0.8497 D(G(z)): 0.1528/0.1056\n",
            "[300/938] DLoss: 0.4183 GLoss:  1.9682, D(x): 0.7873 D(G(z)): 0.1452/0.1686\n",
            "[400/938] DLoss: 0.6701 GLoss:  2.1033, D(x): 0.7093 D(G(z)): 0.1971/0.2235\n",
            "[500/938] DLoss: 0.3441 GLoss:  2.4178, D(x): 0.8684 D(G(z)): 0.1672/0.1026\n",
            "[600/938] DLoss: 0.6032 GLoss:  1.7675, D(x): 0.6419 D(G(z)): 0.0871/0.2794\n",
            "[700/938] DLoss: 0.5751 GLoss:  2.1893, D(x): 0.8614 D(G(z)): 0.3160/0.1324\n",
            "[800/938] DLoss: 0.7396 GLoss:  2.5517, D(x): 0.8314 D(G(z)): 0.3716/0.1228\n",
            "[900/938] DLoss: 0.5568 GLoss:  1.9884, D(x): 0.7571 D(G(z)): 0.2051/0.1844\n"
          ]
        }
      ],
      "source": [
        "dc = DCGAN(100, 1, 64, device)\n",
        "dc.train(traindataloader, 10, 64, 100)"
      ]
    },
    {
      "cell_type": "code",
      "execution_count": 11,
      "metadata": {
        "id": "XmgaCROs_9Eq",
        "colab": {
          "base_uri": "https://localhost:8080/"
        },
        "outputId": "612bf6c8-aa33-45fa-9354-0201ea139b35"
      },
      "outputs": [
        {
          "output_type": "execute_result",
          "data": {
            "text/plain": [
              "Generator(\n",
              "  (seq): Sequential(\n",
              "    (0): ConvTranspose2d(100, 512, kernel_size=(7, 7), stride=(1, 1), bias=False)\n",
              "    (1): BatchNorm2d(512, eps=1e-05, momentum=0.1, affine=True, track_running_stats=True)\n",
              "    (2): ReLU(inplace=True)\n",
              "    (3): ConvTranspose2d(512, 256, kernel_size=(4, 4), stride=(2, 2), padding=(1, 1), bias=False)\n",
              "    (4): BatchNorm2d(256, eps=1e-05, momentum=0.1, affine=True, track_running_stats=True)\n",
              "    (5): ReLU(inplace=True)\n",
              "    (6): ConvTranspose2d(256, 1, kernel_size=(4, 4), stride=(2, 2), padding=(1, 1), bias=False)\n",
              "    (7): Tanh()\n",
              "  )\n",
              ")"
            ]
          },
          "metadata": {},
          "execution_count": 11
        }
      ],
      "source": [
        "dc.generator.eval()"
      ]
    },
    {
      "cell_type": "code",
      "source": [
        "# Number of images you want to generate\n",
        "num_images = 16\n",
        "\n",
        "# Sample random noise\n"
      ],
      "metadata": {
        "id": "uO3LNTUsuxS1"
      },
      "execution_count": 12,
      "outputs": []
    },
    {
      "cell_type": "code",
      "source": [
        "with torch.no_grad():  # Disable gradient calculation\n",
        "    noise = torch.randn(num_images, dc.z_dim, 1, 1, device=dc.device)\n",
        "    generated_images = dc.generator(noise)\n",
        "    generated_images = (generated_images + 1) / 2\n",
        "    grid = torchvision.utils.make_grid(generated_images.cpu(), nrow=4, padding=2, normalize=True)\n",
        "    np_grid = grid.permute(1, 2, 0).numpy()\n",
        "    plt.imshow(np_grid)\n",
        "    plt.axis('off')"
      ],
      "metadata": {
        "colab": {
          "base_uri": "https://localhost:8080/",
          "height": 406
        },
        "id": "PMHPHwYUu_fx",
        "outputId": "bafe6703-a8a8-4ad7-b6aa-5895f147c1a9"
      },
      "execution_count": 15,
      "outputs": [
        {
          "output_type": "display_data",
          "data": {
            "text/plain": [
              "<Figure size 640x480 with 1 Axes>"
            ],
            "image/png": "[encoded data removed]"
          },
          "metadata": {}
        }
      ]
    },
    {
      "cell_type": "code",
      "source": [],
      "metadata": {
        "id": "-a06N3AKvcr_"
      },
      "execution_count": null,
      "outputs": []
    }
  ],
  "metadata": {
    "accelerator": "GPU",
    "colab": {
      "gpuType": "T4",
      "provenance": [],
      "authorship_tag": "ABX9TyNNghwwB2oIZ9aCDGKw+oLC",
      "include_colab_link": true
    },
    "kernelspec": {
      "display_name": "Python 3",
      "name": "python3"
    },
    "language_info": {
      "name": "python"
    }
  },
  "nbformat": 4,
  "nbformat_minor": 0
}