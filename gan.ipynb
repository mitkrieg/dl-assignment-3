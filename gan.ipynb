{
  "cells": [
    {
      "cell_type": "markdown",
      "metadata": {
        "id": "view-in-github",
        "colab_type": "text"
      },
      "source": [
        "<a href=\"https://colab.research.google.com/github/mitkrieg/dl-assignment-3/blob/main/gan.ipynb\" target=\"_parent\"><img src=\"https://colab.research.google.com/assets/colab-badge.svg\" alt=\"Open In Colab\"/></a>"
      ]
    },
    {
      "cell_type": "markdown",
      "metadata": {
        "id": "INKgqRaUohpB"
      },
      "source": [
        "# Assignment 3, Problem 5: DCGAN, WGAN, WGAN-GP"
      ]
    },
    {
      "cell_type": "markdown",
      "metadata": {
        "id": "UjNTkHkCowXj"
      },
      "source": [
        "## Download Data"
      ]
    },
    {
      "cell_type": "code",
      "execution_count": 1,
      "metadata": {
        "colab": {
          "base_uri": "https://localhost:8080/"
        },
        "id": "PWaxpfsNnLcu",
        "outputId": "35103898-dc25-4e2d-8f98-84d2fb4f91d5"
      },
      "outputs": [
        {
          "output_type": "stream",
          "name": "stdout",
          "text": [
            "--2024-10-17 16:45:22--  http://fashion-mnist.s3-website.eu-central-1.amazonaws.com/train-images-idx3-ubyte.gz\n",
            "Resolving fashion-mnist.s3-website.eu-central-1.amazonaws.com (fashion-mnist.s3-website.eu-central-1.amazonaws.com)... 3.5.134.113, 52.219.170.52, 52.219.208.0, ...\n",
            "Connecting to fashion-mnist.s3-website.eu-central-1.amazonaws.com (fashion-mnist.s3-website.eu-central-1.amazonaws.com)|3.5.134.113|:80... connected.\n",
            "HTTP request sent, awaiting response... 200 OK\n",
            "Length: 26421880 (25M) [binary/octet-stream]\n",
            "Saving to: ‘/content/train-images-idx3-ubyte.gz’\n",
            "\n",
            "/content/train-imag 100%[===================>]  25.20M  6.44MB/s    in 5.3s    \n",
            "\n",
            "2024-10-17 16:45:27 (4.76 MB/s) - ‘/content/train-images-idx3-ubyte.gz’ saved [26421880/26421880]\n",
            "\n",
            "--2024-10-17 16:45:27--  http://fashion-mnist.s3-website.eu-central-1.amazonaws.com/train-labels-idx1-ubyte.gz\n",
            "Resolving fashion-mnist.s3-website.eu-central-1.amazonaws.com (fashion-mnist.s3-website.eu-central-1.amazonaws.com)... 3.5.136.48, 52.219.170.132, 52.219.210.4, ...\n",
            "Connecting to fashion-mnist.s3-website.eu-central-1.amazonaws.com (fashion-mnist.s3-website.eu-central-1.amazonaws.com)|3.5.136.48|:80... connected.\n",
            "HTTP request sent, awaiting response... 200 OK\n",
            "Length: 29515 (29K) [binary/octet-stream]\n",
            "Saving to: ‘/content/train-labels-idx1-ubyte.gz’\n",
            "\n",
            "/content/train-labe 100%[===================>]  28.82K   161KB/s    in 0.2s    \n",
            "\n",
            "2024-10-17 16:45:28 (161 KB/s) - ‘/content/train-labels-idx1-ubyte.gz’ saved [29515/29515]\n",
            "\n",
            "--2024-10-17 16:45:28--  http://fashion-mnist.s3-website.eu-central-1.amazonaws.com/t10k-images-idx3-ubyte.gz\n",
            "Resolving fashion-mnist.s3-website.eu-central-1.amazonaws.com (fashion-mnist.s3-website.eu-central-1.amazonaws.com)... 3.5.136.48, 52.219.170.132, 52.219.210.4, ...\n",
            "Connecting to fashion-mnist.s3-website.eu-central-1.amazonaws.com (fashion-mnist.s3-website.eu-central-1.amazonaws.com)|3.5.136.48|:80... connected.\n",
            "HTTP request sent, awaiting response... 200 OK\n",
            "Length: 4422102 (4.2M) [binary/octet-stream]\n",
            "Saving to: ‘/content/test-images-idx3-ubyte.gz’\n",
            "\n",
            "/content/test-image 100%[===================>]   4.22M   950KB/s    in 7.9s    \n",
            "\n",
            "2024-10-17 16:45:36 (548 KB/s) - ‘/content/test-images-idx3-ubyte.gz’ saved [4422102/4422102]\n",
            "\n",
            "--2024-10-17 16:45:36--  http://fashion-mnist.s3-website.eu-central-1.amazonaws.com/t10k-labels-idx1-ubyte.gz\n",
            "Resolving fashion-mnist.s3-website.eu-central-1.amazonaws.com (fashion-mnist.s3-website.eu-central-1.amazonaws.com)... 52.219.170.84, 52.219.171.60, 52.219.169.68, ...\n",
            "Connecting to fashion-mnist.s3-website.eu-central-1.amazonaws.com (fashion-mnist.s3-website.eu-central-1.amazonaws.com)|52.219.170.84|:80... connected.\n",
            "HTTP request sent, awaiting response... 200 OK\n",
            "Length: 5148 (5.0K) [binary/octet-stream]\n",
            "Saving to: ‘/content/test-labels-idx1-ubyte.gz’\n",
            "\n",
            "/content/test-label 100%[===================>]   5.03K  --.-KB/s    in 0s      \n",
            "\n",
            "2024-10-17 16:45:37 (708 MB/s) - ‘/content/test-labels-idx1-ubyte.gz’ saved [5148/5148]\n",
            "\n",
            "Collecting wandb\n",
            "  Downloading wandb-0.18.3-py3-none-manylinux_2_17_x86_64.manylinux2014_x86_64.whl.metadata (9.7 kB)\n",
            "Requirement already satisfied: click!=8.0.0,>=7.1 in /usr/local/lib/python3.10/dist-packages (from wandb) (8.1.7)\n",
            "Collecting docker-pycreds>=0.4.0 (from wandb)\n",
            "  Downloading docker_pycreds-0.4.0-py2.py3-none-any.whl.metadata (1.8 kB)\n",
            "Collecting gitpython!=3.1.29,>=1.0.0 (from wandb)\n",
            "  Downloading GitPython-3.1.43-py3-none-any.whl.metadata (13 kB)\n",
            "Requirement already satisfied: platformdirs in /usr/local/lib/python3.10/dist-packages (from wandb) (4.3.6)\n",
            "Requirement already satisfied: protobuf!=4.21.0,!=5.28.0,<6,>=3.19.0 in /usr/local/lib/python3.10/dist-packages (from wandb) (3.20.3)\n",
            "Requirement already satisfied: psutil>=5.0.0 in /usr/local/lib/python3.10/dist-packages (from wandb) (5.9.5)\n",
            "Requirement already satisfied: pyyaml in /usr/local/lib/python3.10/dist-packages (from wandb) (6.0.2)\n",
            "Requirement already satisfied: requests<3,>=2.0.0 in /usr/local/lib/python3.10/dist-packages (from wandb) (2.32.3)\n",
            "Collecting sentry-sdk>=1.0.0 (from wandb)\n",
            "  Downloading sentry_sdk-2.17.0-py2.py3-none-any.whl.metadata (9.8 kB)\n",
            "Collecting setproctitle (from wandb)\n",
            "  Downloading setproctitle-1.3.3-cp310-cp310-manylinux_2_5_x86_64.manylinux1_x86_64.manylinux_2_17_x86_64.manylinux2014_x86_64.whl.metadata (9.9 kB)\n",
            "Requirement already satisfied: setuptools in /usr/local/lib/python3.10/dist-packages (from wandb) (71.0.4)\n",
            "Requirement already satisfied: six>=1.4.0 in /usr/local/lib/python3.10/dist-packages (from docker-pycreds>=0.4.0->wandb) (1.16.0)\n",
            "Collecting gitdb<5,>=4.0.1 (from gitpython!=3.1.29,>=1.0.0->wandb)\n",
            "  Downloading gitdb-4.0.11-py3-none-any.whl.metadata (1.2 kB)\n",
            "Requirement already satisfied: charset-normalizer<4,>=2 in /usr/local/lib/python3.10/dist-packages (from requests<3,>=2.0.0->wandb) (3.4.0)\n",
            "Requirement already satisfied: idna<4,>=2.5 in /usr/local/lib/python3.10/dist-packages (from requests<3,>=2.0.0->wandb) (3.10)\n",
            "Requirement already satisfied: urllib3<3,>=1.21.1 in /usr/local/lib/python3.10/dist-packages (from requests<3,>=2.0.0->wandb) (2.2.3)\n",
            "Requirement already satisfied: certifi>=2017.4.17 in /usr/local/lib/python3.10/dist-packages (from requests<3,>=2.0.0->wandb) (2024.8.30)\n",
            "Collecting smmap<6,>=3.0.1 (from gitdb<5,>=4.0.1->gitpython!=3.1.29,>=1.0.0->wandb)\n",
            "  Downloading smmap-5.0.1-py3-none-any.whl.metadata (4.3 kB)\n",
            "Downloading wandb-0.18.3-py3-none-manylinux_2_17_x86_64.manylinux2014_x86_64.whl (13.0 MB)\n",
            "\u001b[2K   \u001b[90m━━━━━━━━━━━━━━━━━━━━━━━━━━━━━━━━━━━━━━━━\u001b[0m \u001b[32m13.0/13.0 MB\u001b[0m \u001b[31m98.6 MB/s\u001b[0m eta \u001b[36m0:00:00\u001b[0m\n",
            "\u001b[?25hDownloading docker_pycreds-0.4.0-py2.py3-none-any.whl (9.0 kB)\n",
            "Downloading GitPython-3.1.43-py3-none-any.whl (207 kB)\n",
            "\u001b[2K   \u001b[90m━━━━━━━━━━━━━━━━━━━━━━━━━━━━━━━━━━━━━━━━\u001b[0m \u001b[32m207.3/207.3 kB\u001b[0m \u001b[31m19.4 MB/s\u001b[0m eta \u001b[36m0:00:00\u001b[0m\n",
            "\u001b[?25hDownloading sentry_sdk-2.17.0-py2.py3-none-any.whl (314 kB)\n",
            "\u001b[2K   \u001b[90m━━━━━━━━━━━━━━━━━━━━━━━━━━━━━━━━━━━━━━━━\u001b[0m \u001b[32m314.5/314.5 kB\u001b[0m \u001b[31m28.6 MB/s\u001b[0m eta \u001b[36m0:00:00\u001b[0m\n",
            "\u001b[?25hDownloading setproctitle-1.3.3-cp310-cp310-manylinux_2_5_x86_64.manylinux1_x86_64.manylinux_2_17_x86_64.manylinux2014_x86_64.whl (30 kB)\n",
            "Downloading gitdb-4.0.11-py3-none-any.whl (62 kB)\n",
            "\u001b[2K   \u001b[90m━━━━━━━━━━━━━━━━━━━━━━━━━━━━━━━━━━━━━━━━\u001b[0m \u001b[32m62.7/62.7 kB\u001b[0m \u001b[31m6.6 MB/s\u001b[0m eta \u001b[36m0:00:00\u001b[0m\n",
            "\u001b[?25hDownloading smmap-5.0.1-py3-none-any.whl (24 kB)\n",
            "Installing collected packages: smmap, setproctitle, sentry-sdk, docker-pycreds, gitdb, gitpython, wandb\n",
            "Successfully installed docker-pycreds-0.4.0 gitdb-4.0.11 gitpython-3.1.43 sentry-sdk-2.17.0 setproctitle-1.3.3 smmap-5.0.1 wandb-0.18.3\n",
            "\u001b[34m\u001b[1mwandb\u001b[0m: Logging into wandb.ai. (Learn how to deploy a W&B server locally: https://wandb.me/wandb-server)\n",
            "\u001b[34m\u001b[1mwandb\u001b[0m: You can find your API key in your browser here: https://wandb.ai/authorize\n",
            "\u001b[34m\u001b[1mwandb\u001b[0m: Paste an API key from your profile and hit enter, or press ctrl+c to quit: \n",
            "\u001b[34m\u001b[1mwandb\u001b[0m: Appending key for api.wandb.ai to your netrc file: /root/.netrc\n"
          ]
        }
      ],
      "source": [
        "!wget http://fashion-mnist.s3-website.eu-central-1.amazonaws.com/train-images-idx3-ubyte.gz -O /content/train-images-idx3-ubyte.gz\n",
        "!wget http://fashion-mnist.s3-website.eu-central-1.amazonaws.com/train-labels-idx1-ubyte.gz -O /content/train-labels-idx1-ubyte.gz\n",
        "!wget http://fashion-mnist.s3-website.eu-central-1.amazonaws.com/t10k-images-idx3-ubyte.gz -O /content/test-images-idx3-ubyte.gz\n",
        "!wget http://fashion-mnist.s3-website.eu-central-1.amazonaws.com/t10k-labels-idx1-ubyte.gz -O /content/test-labels-idx1-ubyte.gz\n",
        "!pip install wandb\n",
        "!wandb login"
      ]
    },
    {
      "cell_type": "markdown",
      "metadata": {
        "id": "QvvimtrPoy2I"
      },
      "source": [
        "## Library Imports"
      ]
    },
    {
      "cell_type": "code",
      "execution_count": 1,
      "metadata": {
        "id": "QXapS2Q4oY_s"
      },
      "outputs": [],
      "source": [
        "import torch\n",
        "from torch import nn\n",
        "import torch.nn.functional as F\n",
        "import torch.optim as optim\n",
        "from torch.utils.data import Dataset, DataLoader\n",
        "import torchvision\n",
        "import numpy as np\n",
        "import matplotlib.pyplot as plt\n",
        "import itertools\n",
        "from time import time\n",
        "import gzip\n",
        "import typing as T\n",
        "import wandb\n",
        "\n",
        "torch.manual_seed(123)\n",
        "np.random.seed(123)\n",
        "\n",
        "# wandb.login()"
      ]
    },
    {
      "cell_type": "markdown",
      "metadata": {
        "id": "6Z8KLh6Ro0cM"
      },
      "source": [
        "## Check for GPU Access"
      ]
    },
    {
      "cell_type": "code",
      "execution_count": 2,
      "metadata": {
        "colab": {
          "base_uri": "https://localhost:8080/"
        },
        "id": "MTnZTov3oe6a",
        "outputId": "f6ff7347-fdec-4200-a805-30926a27b373"
      },
      "outputs": [
        {
          "output_type": "stream",
          "name": "stdout",
          "text": [
            "------ ACCELERATION INFO -----\n",
            "CUDA GPU Available: True\n",
            "MPS GPU Available: False\n",
            "GPU Name: NVIDIA A100-SXM4-40GB\n",
            "GPU Count: 1\n",
            "GPU Memory Allocated: 0\n",
            "GPU Memory Cached: 0\n"
          ]
        }
      ],
      "source": [
        "print(\"------ ACCELERATION INFO -----\")\n",
        "print('CUDA GPU Available:',torch.cuda.is_available())\n",
        "print('MPS GPU Available:', torch.backends.mps.is_available())\n",
        "if torch.cuda.is_available():\n",
        "  device = torch.device('cuda:0')\n",
        "  print('GPU Name:',torch.cuda.get_device_name(0))\n",
        "  print('GPU Count:',torch.cuda.device_count())\n",
        "  print('GPU Memory Allocated:',torch.cuda.memory_allocated(0))\n",
        "  print('GPU Memory Cached:',torch.cuda.memory_reserved(0))\n",
        "# elif torch.backends.mps.is_available() and torch.backends.mps.is_built():\n",
        "#   device = torch.device('mps')\n",
        "#   print('Pytorch GPU Build:',torch.backends.mps.is_built())\n",
        "else:\n",
        "  device = torch.device('cpu')\n",
        "  print('Using CPU')"
      ]
    },
    {
      "cell_type": "markdown",
      "metadata": {
        "id": "Ei5lpNbqo5wk"
      },
      "source": [
        "## Load Data"
      ]
    },
    {
      "cell_type": "markdown",
      "metadata": {
        "id": "h68nncHHo5kg"
      },
      "source": [
        "### Define FashionMNIST"
      ]
    },
    {
      "cell_type": "code",
      "execution_count": 3,
      "metadata": {
        "id": "-GVuAxV5o32R"
      },
      "outputs": [],
      "source": [
        "class FasionMNISTDataset(Dataset):\n",
        "    def __init__(self, path: str, kind: str, device=torch.device('cpu')) -> None:\n",
        "        super().__init__()\n",
        "        self.device = device\n",
        "        self.labels, self.images = self._load_data(path, kind)\n",
        "\n",
        "    def _load_data(self, path: str, kind: str) -> T.Tuple[np.ndarray, np.ndarray]:\n",
        "        with gzip.open(path + f'/{kind}-labels-idx1-ubyte.gz', 'rb') as lable_file:\n",
        "            lbls = np.frombuffer(lable_file.read(), dtype=np.int8, offset=8)\n",
        "            lbls = np.copy(lbls)\n",
        "        with gzip.open(path + f'/{kind}-images-idx3-ubyte.gz', 'rb') as lable_file:\n",
        "            imgs = np.frombuffer(lable_file.read(), dtype=np.uint8, offset=16).reshape(len(lbls), 1, 28, 28)\n",
        "            imgs = ((np.copy(imgs) / 255) * 2 - 1).astype(np.float32)\n",
        "        return lbls, imgs\n",
        "\n",
        "    def __len__(self) -> int:\n",
        "        return self.labels.size\n",
        "\n",
        "    def __getitem__(self, index: int) -> T.Tuple[torch.tensor, torch.tensor]:\n",
        "        img = torch.tensor(self.images[index])\n",
        "        img = img.to(self.device)\n",
        "        if self.labels is not None:\n",
        "            label = torch.tensor(self.labels[index], dtype=torch.long)\n",
        "            label = F.one_hot(label, num_classes=10).float().to(self.device)\n",
        "            return img, label\n",
        "        else:\n",
        "            return img\n",
        "\n",
        "def show_img(dataset: Dataset, index: int) -> None:\n",
        "    img, label = dataset[index]\n",
        "    labels_map = {\n",
        "            0: \"T-Shirt\",\n",
        "            1: \"Trouser\",\n",
        "            2: \"Pullover\",\n",
        "            3: \"Dress\",\n",
        "            4: \"Coat\",\n",
        "            5: \"Sandal\",\n",
        "            6: \"Shirt\",\n",
        "            7: \"Sneaker\",\n",
        "            8: \"Bag\",\n",
        "            9: \"Ankle Boot\",\n",
        "        }\n",
        "    label = torch.argmax(label)\n",
        "    plt.imshow(img.cpu().reshape(28,28), cmap='gray')\n",
        "    plt.title(labels_map[label.cpu().item()])\n",
        "    plt.show()\n",
        "\n",
        "gen = torch.Generator().manual_seed(123)\n",
        "\n",
        "train = FasionMNISTDataset('/content', 'train', device=device)\n",
        "test = FasionMNISTDataset('/content', 'test', device=device)\n",
        "\n",
        "traindataloader = DataLoader(torch.utils.data.ConcatDataset([train,test]), batch_size=64, shuffle=True, generator=gen)\n",
        "# testdataloader = DataLoader(test, batch_size=64, shuffle=True, generator=gen)"
      ]
    },
    {
      "cell_type": "code",
      "source": [
        "len(test)"
      ],
      "metadata": {
        "colab": {
          "base_uri": "https://localhost:8080/"
        },
        "id": "vlT-U4N284a4",
        "outputId": "126ed9ce-99b0-453c-abe5-c17b5f58205c"
      },
      "execution_count": 5,
      "outputs": [
        {
          "output_type": "execute_result",
          "data": {
            "text/plain": [
              "10000"
            ]
          },
          "metadata": {},
          "execution_count": 5
        }
      ]
    },
    {
      "cell_type": "code",
      "source": [
        "show_img(train, 1)\n",
        "show_img(train, 100)"
      ],
      "metadata": {
        "colab": {
          "base_uri": "https://localhost:8080/",
          "height": 887
        },
        "id": "iYena8khbXyY",
        "outputId": "0a138590-f56b-4bfb-91b2-301975279db9"
      },
      "execution_count": 6,
      "outputs": [
        {
          "output_type": "display_data",
          "data": {
            "text/plain": [
              "<Figure size 640x480 with 1 Axes>"
            ],
            "image/png": "[encoded data removed]"
          },
          "metadata": {}
        },
        {
          "output_type": "display_data",
          "data": {
            "text/plain": [
              "<Figure size 640x480 with 1 Axes>"
            ],
            "image/png": "[encoded data removed]"
          },
          "metadata": {}
        }
      ]
    },
    {
      "cell_type": "markdown",
      "metadata": {
        "id": "1M7zZNH72c9_"
      },
      "source": [
        "## Model Building"
      ]
    },
    {
      "cell_type": "markdown",
      "metadata": {
        "id": "JpwRkPEC4BEh"
      },
      "source": [
        "### GAN Modules"
      ]
    },
    {
      "cell_type": "code",
      "execution_count": 23,
      "metadata": {
        "id": "dKCmNJA82e7M"
      },
      "outputs": [],
      "source": [
        "class Discriminator(nn.Module):\n",
        "    def __init__(self, model_type, arch_type, channels, num_classes, features):\n",
        "        super().__init__()\n",
        "        self.num_classes = num_classes\n",
        "        self.seq = nn.Sequential(\n",
        "            # Input: N x (channels + num_classes) x 28 x 28\n",
        "            nn.Conv2d(channels + num_classes, features, kernel_size=4, stride=2, padding=1, bias=False),\n",
        "            nn.LeakyReLU(0.2, inplace=True),\n",
        "\n",
        "            nn.Conv2d(features, features * 2, kernel_size=4, stride=2, padding=1, bias=False),\n",
        "            nn.BatchNorm2d(features * 2) if model_type != 'gp' else nn.LayerNorm([features * 2, 14, 14]),\n",
        "            nn.LeakyReLU(0.2, inplace=True) if arch_type == 'a' else nn.Softplus(),\n",
        "\n",
        "            nn.Conv2d(features * 2, features * 4, kernel_size=4, stride=2, padding=1, bias=False),\n",
        "            nn.BatchNorm2d(features * 4) if model_type != 'gp' else nn.LayerNorm([features * 4, 7, 7]),\n",
        "            nn.LeakyReLU(0.2, inplace=True) if arch_type == 'a' else nn.Softplus(),\n",
        "\n",
        "            nn.Conv2d(features * 4, features * 8, kernel_size=3, stride=2, padding=0, bias=False),\n",
        "            nn.BatchNorm2d(features * 8) if model_type != 'gp' else nn.LayerNorm([features * 8, 3, 3]),\n",
        "            nn.LeakyReLU(0.2, inplace=True) if arch_type == 'a' else nn.Softplus(),\n",
        "\n",
        "            nn.Flatten(),\n",
        "            nn.Linear(features * 8, 1),\n",
        "            nn.Sigmoid() if model_type == 'dc' else nn.Identity()\n",
        "        )\n",
        "        self.apply(self.weights_init)\n",
        "\n",
        "    def forward(self, x, labels):\n",
        "        batch_size, _, height, width = x.shape\n",
        "        labels = labels.view(batch_size, self.num_classes, 1, 1)\n",
        "        labels = labels.repeat(1, 1, height, width)\n",
        "        x = torch.cat((x, labels), dim=1)\n",
        "        return self.seq(x).view(-1)\n",
        "\n",
        "    def weights_init(self, m):\n",
        "        classname = m.__class__.__name__\n",
        "        if classname.find('Conv') != -1:\n",
        "            nn.init.normal_(m.weight.data, 0.0, 0.02)\n",
        "        elif classname.find('BatchNorm') != -1:\n",
        "            nn.init.normal_(m.weight.data, 1.0, 0.02)\n",
        "            nn.init.constant_(m.bias.data, 0)\n",
        "\n",
        "class Generator(nn.Module):\n",
        "    def __init__(self, model_type, arch_type, z_dim, num_classes, channels, features):\n",
        "        super().__init__()\n",
        "        self.num_classes = num_classes\n",
        "        self.z_dim = z_dim\n",
        "        self.seq = nn.Sequential(\n",
        "            # Project and reshape\n",
        "            nn.Linear(z_dim + num_classes, features * 8),\n",
        "            nn.BatchNorm1d(features * 8),\n",
        "            nn.Unflatten(1, (features * 8, 1, 1)),\n",
        "\n",
        "            # First upsampling block\n",
        "            nn.ConvTranspose2d(features * 8, features * 4, kernel_size=3, stride=2, padding=0, bias=False),\n",
        "            nn.BatchNorm2d(features * 4) if model_type != 'gp' else nn.LayerNorm([features * 4, 3, 3]),\n",
        "            nn.LeakyReLU(0.2, inplace=True) if arch_type == 'a' else nn.Softplus(),\n",
        "\n",
        "            # Second upsampling block\n",
        "            nn.ConvTranspose2d(features * 4, features * 2, kernel_size=4, stride=2, padding=1, output_padding=1, bias=False),\n",
        "            nn.BatchNorm2d(features * 2) if model_type != 'gp' else nn.LayerNorm([features * 2, 7, 7]),\n",
        "            nn.LeakyReLU(0.2, inplace=True) if arch_type == 'a' else nn.Softplus(),\n",
        "\n",
        "            # Third upsampling block\n",
        "            nn.ConvTranspose2d(features * 2, features, kernel_size=4, stride=2, padding=1, bias=False),\n",
        "            nn.BatchNorm2d(features) if model_type != 'gp' else nn.LayerNorm([features, 14, 14]),\n",
        "            nn.LeakyReLU(0.2, inplace=True) if arch_type == 'a' else nn.Softplus(),\n",
        "\n",
        "            # Output layer\n",
        "            nn.ConvTranspose2d(features, channels, kernel_size=4, stride=2, padding=1, bias=False),\n",
        "            nn.Tanh()\n",
        "        )\n",
        "        self.apply(self.weights_init)\n",
        "\n",
        "    def forward(self, noise, labels):\n",
        "        batch_size = noise.size(0)\n",
        "        # labels = labels.view(batch_size, self.num_classes, 1, 1)\n",
        "        x = torch.cat((noise.squeeze(), labels), dim=1)\n",
        "        return self.seq(x)\n",
        "\n",
        "    def weights_init(self, m):\n",
        "        classname = m.__class__.__name__\n",
        "        if classname.find('Conv') != -1:\n",
        "            nn.init.normal_(m.weight.data, 0.0, 0.02)\n",
        "        elif classname.find('BatchNorm') != -1:\n",
        "            nn.init.normal_(m.weight.data, 1.0, 0.02)\n",
        "            nn.init.constant_(m.bias.data, 0)"
      ]
    },
    {
      "cell_type": "markdown",
      "metadata": {
        "id": "jjrlwxlB2f0W"
      },
      "source": [
        "### DCGAN"
      ]
    },
    {
      "cell_type": "code",
      "source": [
        "class DCGAN:\n",
        "    def __init__(self, arch_type, z_dim, num_classes, channels, features, device):\n",
        "        self.z_dim = z_dim\n",
        "        self.channels = channels\n",
        "        self.features = features\n",
        "        self.model_type = 'dc'\n",
        "        self.arch_type = arch_type\n",
        "        self.discriminator = Discriminator(self.model_type, arch_type, channels, num_classes, features).to(device)\n",
        "        self.optim_discrim = optim.Adam(self.discriminator.parameters(), lr=2e-4, betas=(0.5, 0.999)) #, betas=(0.5, 0.999)\n",
        "        self.generator = Generator(self.model_type, arch_type, z_dim, num_classes, channels, features).to(device)\n",
        "        self.optim_gen = optim.Adam(self.generator.parameters(), lr=2e-4, betas=(0.5, 0.999))\n",
        "        self.loss = nn.BCELoss()\n",
        "        self.device = device\n",
        "\n",
        "    def train_discriminator(self, real_imgs, real_labels, fake_labels, batch_size):\n",
        "        self.optim_discrim.zero_grad()\n",
        "\n",
        "        real_imgs = real_imgs.to(self.device)\n",
        "        real_labels = real_labels.to(self.device)\n",
        "\n",
        "        # Train on real images\n",
        "        output_real = self.discriminator(real_imgs, real_labels).view(-1)\n",
        "        real_targets = torch.ones_like(output_real)\n",
        "        real_loss = self.loss(output_real, real_targets)\n",
        "        real_loss.backward()\n",
        "        avg_real = output_real.mean().item()\n",
        "\n",
        "        # Generate fake images\n",
        "        noise = torch.randn(batch_size, self.z_dim, 1, 1, device=self.device)\n",
        "        fake_imgs = self.generator(noise, fake_labels)\n",
        "        output_fake = self.discriminator(fake_imgs.detach(), fake_labels).view(-1)\n",
        "        fake_targets = torch.zeros_like(output_fake)\n",
        "        fake_loss = self.loss(output_fake, fake_targets)\n",
        "        fake_loss.backward()\n",
        "        avg_fake = output_fake.mean().item()\n",
        "\n",
        "        discrim_loss = real_loss + fake_loss\n",
        "        self.optim_discrim.step()\n",
        "\n",
        "        return fake_imgs, discrim_loss.item(), avg_real, avg_fake\n",
        "\n",
        "\n",
        "    def train_generator(self, fake_imgs, fake_labels):\n",
        "        self.optim_gen.zero_grad()\n",
        "        output = self.discriminator(fake_imgs, fake_labels).view(-1)\n",
        "        real_targets = torch.ones_like(output)\n",
        "        gen_loss = self.loss(output, real_targets)\n",
        "        gen_loss.backward()\n",
        "        self.optim_gen.step()\n",
        "        return gen_loss.item(), output.mean().item()\n",
        "\n",
        "    def train_one_epoch(self, train_loader, batch_size):\n",
        "        for i, (real_imgs, real_labels) in enumerate(train_loader):\n",
        "            current_batch_size = real_imgs.size(0)\n",
        "\n",
        "            fake_labels = F.one_hot(torch.randint(0, 10, (current_batch_size,), device=self.device), num_classes=10).float()\n",
        "\n",
        "            fake_imgs, discrim_loss, avg_real, avg_fake1 = self.train_discriminator(real_imgs, real_labels, fake_labels, current_batch_size)\n",
        "            gen_loss, avg_fake2 = self.train_generator(fake_imgs, fake_labels)\n",
        "\n",
        "            if i % 100 == 0 and i != 0:\n",
        "                print(f'[{i}/{len(train_loader)}] DLoss: {discrim_loss:.4f} GLoss: {gen_loss: .4f}, D(x): {avg_real:.4f} D(G(z)): {avg_fake1:.4f}/{avg_fake2:.4f}')\n",
        "\n",
        "            wandb.log({\n",
        "                \"Discriminator Loss\": discrim_loss,\n",
        "                \"Generator Loss\": gen_loss\n",
        "            })\n",
        "\n",
        "\n",
        "    def train(self, traindataloader, epochs, batch_size, noise):\n",
        "        wandb.init(project='dcgan', config ={\n",
        "            'epochs': epochs,\n",
        "            'batch_size': batch_size,\n",
        "            'noise': noise\n",
        "        })\n",
        "        print(f'----------- {self.__class__.__name__} Train Start! ------------')\n",
        "        for epoch in range(epochs):\n",
        "            print(f'----------- Epoch #{epoch + 1} ------------')\n",
        "            self.train_one_epoch(traindataloader, batch_size)\n",
        "\n",
        "        wandb.finish()\n",
        "\n",
        "    def generate_images(self, num_images, labels):\n",
        "        self.generator.eval()\n",
        "        with torch.no_grad():  # Disable gradient calculation\n",
        "            noise = torch.randn(num_images, self.z_dim, 1, 1, device=self.device)\n",
        "            generated_images = self.generator(noise, labels)\n",
        "            # generated_images = (generated_images + 1) / 2\n",
        "            grid = torchvision.utils.make_grid(generated_images.cpu(), nrow=4, padding=2, normalize=True)\n",
        "            np_grid = grid.permute(1, 2, 0).numpy()\n",
        "            plt.imshow(np_grid)\n",
        "            plt.axis('off')\n"
      ],
      "metadata": {
        "id": "mbiSVRZidl39"
      },
      "execution_count": 29,
      "outputs": []
    },
    {
      "cell_type": "code",
      "execution_count": null,
      "metadata": {
        "colab": {
          "base_uri": "https://localhost:8080/",
          "height": 283
        },
        "id": "PMUn4KVD94gk",
        "outputId": "6c40ec42-e361-4612-8e2a-1883f9a5d932"
      },
      "outputs": [
        {
          "output_type": "display_data",
          "data": {
            "text/plain": [
              "<IPython.core.display.HTML object>"
            ],
            "text/html": [
              "Tracking run with wandb version 0.18.3"
            ]
          },
          "metadata": {}
        },
        {
          "output_type": "display_data",
          "data": {
            "text/plain": [
              "<IPython.core.display.HTML object>"
            ],
            "text/html": [
              "Run data is saved locally in <code>/content/wandb/run-20241017_174958-uxtnvrlt</code>"
            ]
          },
          "metadata": {}
        },
        {
          "output_type": "display_data",
          "data": {
            "text/plain": [
              "<IPython.core.display.HTML object>"
            ],
            "text/html": [
              "Syncing run <strong><a href='https://wandb.ai/mitkrieger-cornell-university/dcgan/runs/uxtnvrlt' target=\"_blank\">prime-forest-20</a></strong> to <a href='https://wandb.ai/mitkrieger-cornell-university/dcgan' target=\"_blank\">Weights & Biases</a> (<a href='https://wandb.me/run' target=\"_blank\">docs</a>)<br/>"
            ]
          },
          "metadata": {}
        },
        {
          "output_type": "display_data",
          "data": {
            "text/plain": [
              "<IPython.core.display.HTML object>"
            ],
            "text/html": [
              " View project at <a href='https://wandb.ai/mitkrieger-cornell-university/dcgan' target=\"_blank\">https://wandb.ai/mitkrieger-cornell-university/dcgan</a>"
            ]
          },
          "metadata": {}
        },
        {
          "output_type": "display_data",
          "data": {
            "text/plain": [
              "<IPython.core.display.HTML object>"
            ],
            "text/html": [
              " View run at <a href='https://wandb.ai/mitkrieger-cornell-university/dcgan/runs/uxtnvrlt' target=\"_blank\">https://wandb.ai/mitkrieger-cornell-university/dcgan/runs/uxtnvrlt</a>"
            ]
          },
          "metadata": {}
        },
        {
          "output_type": "stream",
          "name": "stdout",
          "text": [
            "----------- DCGAN Train Start! ------------\n",
            "----------- Epoch #1 ------------\n",
            "[100/1094] DLoss: 1.1253 GLoss:  1.0727, D(x): 0.6113 D(G(z)): 0.4491/0.3579\n",
            "[200/1094] DLoss: 1.1890 GLoss:  0.8862, D(x): 0.5702 D(G(z)): 0.4569/0.4153\n",
            "[300/1094] DLoss: 1.0571 GLoss:  0.9938, D(x): 0.6001 D(G(z)): 0.4077/0.3777\n",
            "[400/1094] DLoss: 1.1123 GLoss:  0.9294, D(x): 0.5735 D(G(z)): 0.4146/0.4020\n",
            "[500/1094] DLoss: 1.1587 GLoss:  1.0264, D(x): 0.5670 D(G(z)): 0.4348/0.3677\n",
            "[600/1094] DLoss: 1.2099 GLoss:  0.9890, D(x): 0.5782 D(G(z)): 0.4626/0.3913\n",
            "[700/1094] DLoss: 1.1859 GLoss:  0.9274, D(x): 0.5431 D(G(z)): 0.4146/0.4065\n",
            "[800/1094] DLoss: 1.2448 GLoss:  1.0829, D(x): 0.5086 D(G(z)): 0.4070/0.3543\n"
          ]
        }
      ],
      "source": [
        "dc = DCGAN('a', 100, 10, 1, 64, device)\n",
        "dc.train(traindataloader, 10, 64, 100)"
      ]
    },
    {
      "cell_type": "code",
      "source": [
        "torch.save(dc.generator.state_dict(), '/content/drive/MyDrive/dc_generator_arch_a.pth')\n",
        "torch.save(dc.discriminator.state_dict(), '/content/drive/MyDrive/dc_discriminator_archb.pth')"
      ],
      "metadata": {
        "id": "YRwx2xnFDp0o"
      },
      "execution_count": 139,
      "outputs": []
    },
    {
      "cell_type": "code",
      "execution_count": 142,
      "metadata": {
        "colab": {
          "base_uri": "https://localhost:8080/",
          "height": 167
        },
        "id": "XmgaCROs_9Eq",
        "outputId": "7f9ad5a7-0af4-4958-9996-d969c21fd802"
      },
      "outputs": [
        {
          "output_type": "display_data",
          "data": {
            "text/plain": [
              "<Figure size 640x480 with 1 Axes>"
            ],
            "image/png": "[encoded data removed]"
          },
          "metadata": {}
        }
      ],
      "source": [
        "dc.generate_images(4, F.one_hot(torch.tensor([3]*4, device=device), num_classes=10).float())"
      ]
    },
    {
      "cell_type": "markdown",
      "source": [
        "## WGAN with Clipping\n"
      ],
      "metadata": {
        "id": "MU0k9mJBjGb7"
      }
    },
    {
      "cell_type": "code",
      "source": [
        "class Generator(nn.Module):\n",
        "    def __init__(self, z_dim, channels, num_classes, filters):\n",
        "        super().__init__()\n",
        "        self.num_classes = num_classes\n",
        "        self.seq = nn.Sequential(\n",
        "            # Adjust the kernel_size, stride, and padding\n",
        "            nn.ConvTranspose2d(z_dim + num_classes, filters * 32, kernel_size=4, stride=1, padding=0, bias=False),  # Output: (filters*8, 4, 4)\n",
        "            nn.BatchNorm2d(filters * 32),\n",
        "            nn.ReLU(inplace=True),\n",
        "            nn.ConvTranspose2d(filters * 32, filters * 16, kernel_size=3, stride=2, padding=1, bias=False),  # Output: (filters*4, 7, 7)\n",
        "            nn.BatchNorm2d(filters * 16),\n",
        "            nn.ReLU(inplace=True),\n",
        "            nn.ConvTranspose2d(filters * 16, filters * 4, kernel_size=4, stride=2, padding=1, bias=False),  # Output: (filters*2, 14, 14)\n",
        "            nn.BatchNorm2d(filters * 4),\n",
        "            nn.ReLU(inplace=True),\n",
        "            nn.ConvTranspose2d(filters * 4, channels, kernel_size=4, stride=2, padding=1, bias=False),  # Output: (channels, 28, 28)\n",
        "            nn.Tanh()\n",
        "        )\n",
        "        self.apply(self.weights_init)\n",
        "\n",
        "    def forward(self, x, labels):\n",
        "        batch_size, _, height, width = x.shape\n",
        "        # print(x.shape)\n",
        "        # print(labels.shape)\n",
        "        labels = labels.view(batch_size, self.num_classes, 1, 1)\n",
        "        x = torch.cat((x, labels), dim=1)\n",
        "        return self.seq(x)\n",
        "\n",
        "    def weights_init(self, m):\n",
        "        classname = m.__class__.__name__\n",
        "        if classname.find('ConvTranspose2d') != -1:\n",
        "            nn.init.normal_(m.weight.data, 0.0, 0.02)\n",
        "        elif classname.find('BatchNorm') != -1:\n",
        "            nn.init.normal_(m.weight.data, 1.0, 0.02)\n",
        "            nn.init.constant_(m.bias.data, 0)\n"
      ],
      "metadata": {
        "id": "nLB5ZlEj0P6W"
      },
      "execution_count": 6,
      "outputs": []
    },
    {
      "cell_type": "code",
      "execution_count": 7,
      "metadata": {
        "id": "-a06N3AKvcr_"
      },
      "outputs": [],
      "source": [
        "def wasserstein_loss(real_preds, fake_preds):\n",
        "    return torch.mean(fake_preds) - torch.mean(real_preds)\n",
        "\n",
        "class Critic(nn.Module):\n",
        "    def __init__(self, channels, num_classes, filters):\n",
        "        super().__init__()\n",
        "        self.num_classes = num_classes\n",
        "        self.seq = nn.Sequential(\n",
        "            nn.Flatten(),\n",
        "            nn.Linear(channels * 28 * 28 + num_classes, filters * 128),\n",
        "            nn.BatchNorm1d(filters * 128),\n",
        "            nn.LeakyReLU(0.2, inplace=True),\n",
        "            nn.Linear(filters * 128, filters * 64, bias=False),\n",
        "            nn.BatchNorm1d(filters * 64),\n",
        "            nn.LeakyReLU(0.2, inplace=True),\n",
        "            nn.Linear(filters * 64, 1)\n",
        "        )\n",
        "        self.apply(self.weights_init)\n",
        "\n",
        "    def forward(self, x, labels):\n",
        "        batch_size, _, height, width = x.shape\n",
        "        x = torch.cat((x.view(batch_size, -1), labels), dim=1)\n",
        "        return self.seq(x)\n",
        "\n",
        "    # def __init__(self, channels, filters):\n",
        "    #     super().__init__()\n",
        "    #     self.seq = nn.Sequential(\n",
        "    #         # Input: channels x 28 x 28\n",
        "    #         nn.Conv2d(channels, filters, kernel_size=4, stride=2, padding=1, bias=False),\n",
        "    #         nn.LeakyReLU(0.2, inplace=True),\n",
        "    #         # Output: filters x 14 x 14\n",
        "\n",
        "    #         nn.Conv2d(filters, filters * 2, kernel_size=4, stride=2, padding=1, bias=False),\n",
        "    #         nn.LayerNorm([filters * 2, 7, 7]),\n",
        "    #         nn.LeakyReLU(0.2, inplace=True),\n",
        "    #         # Output: (filters * 2) x 7 x 7\n",
        "\n",
        "    #         nn.Conv2d(filters * 2, filters * 4, kernel_size=3, stride=1, padding=1, bias=False),\n",
        "    #         nn.LayerNorm([filters * 4, 7, 7]),\n",
        "    #         nn.LeakyReLU(0.2, inplace=True),\n",
        "    #         # Output: (filters * 4) x 7 x 7\n",
        "\n",
        "    #         nn.Conv2d(filters * 4, filters * 8, kernel_size=3, stride=1, padding=1, bias=False),\n",
        "    #         nn.LayerNorm([filters * 8, 7, 7]),\n",
        "    #         nn.LeakyReLU(0.2, inplace=True),\n",
        "    #         # Output: (filters * 8) x 7 x 7\n",
        "\n",
        "    #         nn.Flatten(),\n",
        "    #         nn.Linear(filters * 8 * 7 * 7, 1, bias=False)\n",
        "    #     )\n",
        "    #     self.apply(self.weights_init)\n",
        "\n",
        "\n",
        "    def weights_init(self, m):\n",
        "        classname = m.__class__.__name__\n",
        "        if classname.find('Conv') != -1:\n",
        "            nn.init.normal_(m.weight.data, 0.0, 0.02)\n",
        "        elif classname.find('LayerNorm') != -1:\n",
        "            nn.init.normal_(m.weight.data, 1.0, 0.02)\n",
        "            nn.init.constant_(m.bias.data, 0)\n",
        "        elif classname.find('Linear') != -1:\n",
        "            nn.init.normal_(m.weight.data, 0.0, 0.02)\n",
        "\n",
        "class WGAN:\n",
        "    def __init__(self, z_dim, channels, num_classes, features, device, clip_value=0.01, lr=0.00005):\n",
        "        self.z_dim = z_dim\n",
        "        self.clip_value = clip_value\n",
        "        self.lr = lr\n",
        "        self.device = device\n",
        "\n",
        "        self.generator = Generator(z_dim, channels, num_classes, features).to(device)\n",
        "        self.critic = Critic(channels, num_classes, features).to(device)\n",
        "        self.loss = wasserstein_loss\n",
        "\n",
        "        self.optim_critic = optim.RMSprop(self.critic.parameters(), lr=lr)\n",
        "        self.optim_gen = optim.RMSprop(self.generator.parameters(), lr=lr)\n",
        "\n",
        "    def train_critic(self, real_images, real_labels, fake_labels, batch_size):\n",
        "        self.optim_critic.zero_grad()\n",
        "\n",
        "        real_preds = self.critic(real_images, real_labels)\n",
        "\n",
        "        noise = torch.randn(batch_size, self.z_dim, 1, 1, device=self.device)\n",
        "        fake_images = self.generator(noise, fake_labels)\n",
        "        fake_preds = self.critic(fake_images.detach(), fake_labels.detach())\n",
        "\n",
        "        loss = self.loss(real_preds, fake_preds)\n",
        "        loss.backward()\n",
        "        self.optim_critic.step()\n",
        "\n",
        "        for p in self.critic.parameters():\n",
        "            p.data.clamp_(-self.clip_value, self.clip_value)\n",
        "\n",
        "        return loss.item(), real_preds.mean().item(), fake_preds.mean().item()\n",
        "\n",
        "    def train_generator(self, fake_labels, batch_size):\n",
        "        self.optim_gen.zero_grad()\n",
        "\n",
        "        noise = torch.randn(batch_size, self.z_dim, 1, 1, device=self.device)\n",
        "        fake_images = self.generator(noise, fake_labels)\n",
        "        fake_preds = self.critic(fake_images, fake_labels)\n",
        "\n",
        "        loss = -torch.mean(fake_preds)\n",
        "        loss.backward()\n",
        "        self.optim_gen.step()\n",
        "\n",
        "        return loss.item(), fake_images.mean().item()\n",
        "\n",
        "    def train_one_epoch(self, dataloader, n_critic=5):\n",
        "        for i, (real_images, real_labels) in enumerate(dataloader):\n",
        "            batch_size = real_images.size(0)\n",
        "            real_images = real_images.to(self.device)\n",
        "\n",
        "            fake_labels = F.one_hot(torch.randint(0, 10, (batch_size,), device=self.device), num_classes=10).float()\n",
        "\n",
        "            d_loss, avg_real, avg_fake1 = self.train_critic(real_images, real_labels, fake_labels, batch_size)\n",
        "\n",
        "            if i % n_critic == 0:\n",
        "                g_loss, avg_fake2 = self.train_generator(fake_labels, batch_size)\n",
        "            else:\n",
        "                g_loss, avg_fake2 = float('nan'), float('nan')\n",
        "\n",
        "            if i % 100 == 0 and i != 0:\n",
        "                print(f\"Batch {i}/{len(dataloader)} \"\n",
        "                      f\"Closs: {d_loss:.4f}, Gloss: {g_loss:.4f}, C(x): {avg_real:.4f} C(G(z)): {avg_fake1:.4f}/{avg_fake2:.4f}\")\n",
        "\n",
        "            wandb.log({\n",
        "                \"Discriminator Loss\": d_loss,\n",
        "                \"Generator Loss\": g_loss\n",
        "            })\n",
        "\n",
        "    def train(self, dataloader, num_epochs, n_critic=5):\n",
        "        wandb.init(project='wgan', config ={\n",
        "            'epochs': num_epochs,\n",
        "            'lr':self.lr,\n",
        "            'n_critic': n_critic,\n",
        "            'clip_value': self.clip_value\n",
        "        })\n",
        "        print(f'----------- {self.__class__.__name__} Train Start! ------------')\n",
        "        for epoch in range(num_epochs):\n",
        "            print(f'----------- Epoch #{epoch + 1} ------------')\n",
        "            self.train_one_epoch(dataloader, n_critic)\n",
        "            print(f'--------------------------------------')\n",
        "        print(f'----------- {self.__class__.__name__} Train End! ------------')\n",
        "        wandb.finish()\n",
        "\n",
        "    def generate_images(self, num_images, labels):\n",
        "        self.generator.eval()\n",
        "        with torch.no_grad():  # Disable gradient calculation\n",
        "            noise = torch.randn(num_images, self.z_dim, 1, 1, device=self.device)\n",
        "            generated_images = self.generator(noise, labels)\n",
        "            # generated_images = (generated_images + 1) / 2\n",
        "            grid = torchvision.utils.make_grid(generated_images.cpu(), nrow=4, padding=2, normalize=True)\n",
        "            np_grid = grid.permute(1, 2, 0).numpy()\n",
        "            plt.imshow(np_grid)\n",
        "            plt.axis('off')"
      ]
    },
    {
      "cell_type": "code",
      "execution_count": 8,
      "metadata": {
        "colab": {
          "base_uri": "https://localhost:8080/",
          "height": 1000,
          "referenced_widgets": [
            "bc15ac9cc87741dd98f77b4e9b93771e",
            "d51ed52ffc854d20b5b3c4353f029b67",
            "afc0906205ea4eab948af9d0aeb395e7",
            "7db2379c79fb4e2cac4ecf11b2fb61fa",
            "8158268fff3543018280a98594f32336",
            "7435404cd574458784552f833dd7ce90",
            "a2fe5a2897e747f0bed25426d7238dcb",
            "2711c6c5fb144ff09d4206963600a375"
          ]
        },
        "id": "fqVy9y2wB_nP",
        "outputId": "fbd6afbf-9d05-46f8-9ffd-d93530d17e04"
      },
      "outputs": [
        {
          "output_type": "stream",
          "name": "stderr",
          "text": [
            "\u001b[34m\u001b[1mwandb\u001b[0m: Using wandb-core as the SDK backend. Please refer to https://wandb.me/wandb-core for more information.\n",
            "\u001b[34m\u001b[1mwandb\u001b[0m: Currently logged in as: \u001b[33mmitkrieger\u001b[0m (\u001b[33mmitkrieger-cornell-university\u001b[0m). Use \u001b[1m`wandb login --relogin`\u001b[0m to force relogin\n"
          ]
        },
        {
          "output_type": "display_data",
          "data": {
            "text/plain": [
              "<IPython.core.display.HTML object>"
            ],
            "text/html": [
              "Tracking run with wandb version 0.18.3"
            ]
          },
          "metadata": {}
        },
        {
          "output_type": "display_data",
          "data": {
            "text/plain": [
              "<IPython.core.display.HTML object>"
            ],
            "text/html": [
              "Run data is saved locally in <code>/content/wandb/run-20241017_141431-w97y6dne</code>"
            ]
          },
          "metadata": {}
        },
        {
          "output_type": "display_data",
          "data": {
            "text/plain": [
              "<IPython.core.display.HTML object>"
            ],
            "text/html": [
              "Syncing run <strong><a href='https://wandb.ai/mitkrieger-cornell-university/wgan/runs/w97y6dne' target=\"_blank\">fanciful-sea-3</a></strong> to <a href='https://wandb.ai/mitkrieger-cornell-university/wgan' target=\"_blank\">Weights & Biases</a> (<a href='https://wandb.me/run' target=\"_blank\">docs</a>)<br/>"
            ]
          },
          "metadata": {}
        },
        {
          "output_type": "display_data",
          "data": {
            "text/plain": [
              "<IPython.core.display.HTML object>"
            ],
            "text/html": [
              " View project at <a href='https://wandb.ai/mitkrieger-cornell-university/wgan' target=\"_blank\">https://wandb.ai/mitkrieger-cornell-university/wgan</a>"
            ]
          },
          "metadata": {}
        },
        {
          "output_type": "display_data",
          "data": {
            "text/plain": [
              "<IPython.core.display.HTML object>"
            ],
            "text/html": [
              " View run at <a href='https://wandb.ai/mitkrieger-cornell-university/wgan/runs/w97y6dne' target=\"_blank\">https://wandb.ai/mitkrieger-cornell-university/wgan/runs/w97y6dne</a>"
            ]
          },
          "metadata": {}
        },
        {
          "output_type": "stream",
          "name": "stdout",
          "text": [
            "----------- WGAN Train Start! ------------\n",
            "----------- Epoch #1 ------------\n",
            "Batch 100/1094 Closs: -0.0306, Gloss: 0.0132, C(x): 0.0211 C(G(z)): -0.0094/-0.1703\n",
            "Batch 200/1094 Closs: -0.0442, Gloss: 0.0212, C(x): 0.0239 C(G(z)): -0.0203/-0.1467\n",
            "Batch 300/1094 Closs: -0.0532, Gloss: 0.0320, C(x): 0.0222 C(G(z)): -0.0310/-0.0918\n",
            "Batch 400/1094 Closs: -0.0473, Gloss: 0.0288, C(x): 0.0237 C(G(z)): -0.0236/-0.0698\n",
            "Batch 500/1094 Closs: -0.0581, Gloss: 0.0311, C(x): 0.0215 C(G(z)): -0.0365/-0.1308\n",
            "Batch 600/1094 Closs: -0.0569, Gloss: 0.0350, C(x): 0.0276 C(G(z)): -0.0293/-0.2053\n",
            "Batch 700/1094 Closs: -0.0576, Gloss: 0.0316, C(x): 0.0239 C(G(z)): -0.0336/-0.0909\n",
            "Batch 800/1094 Closs: -0.0695, Gloss: 0.0333, C(x): 0.0335 C(G(z)): -0.0360/-0.1738\n",
            "Batch 900/1094 Closs: -0.0678, Gloss: 0.0284, C(x): 0.0315 C(G(z)): -0.0364/-0.1323\n",
            "Batch 1000/1094 Closs: -0.0531, Gloss: 0.0254, C(x): 0.0168 C(G(z)): -0.0362/-0.0852\n",
            "--------------------------------------\n",
            "----------- Epoch #2 ------------\n",
            "Batch 100/1094 Closs: -0.0660, Gloss: 0.0344, C(x): 0.0347 C(G(z)): -0.0313/-0.2250\n",
            "Batch 200/1094 Closs: -0.0665, Gloss: 0.0331, C(x): 0.0350 C(G(z)): -0.0314/-0.1304\n",
            "Batch 300/1094 Closs: -0.0703, Gloss: 0.0276, C(x): 0.0356 C(G(z)): -0.0347/-0.1830\n",
            "Batch 500/1094 Closs: -0.0708, Gloss: 0.0346, C(x): 0.0405 C(G(z)): -0.0303/-0.2560\n",
            "Batch 600/1094 Closs: -0.0600, Gloss: 0.0341, C(x): 0.0305 C(G(z)): -0.0295/-0.2527\n",
            "Batch 700/1094 Closs: -0.0632, Gloss: 0.0353, C(x): 0.0294 C(G(z)): -0.0338/-0.2933\n",
            "Batch 800/1094 Closs: -0.0720, Gloss: 0.0364, C(x): 0.0352 C(G(z)): -0.0368/-0.1645\n",
            "Batch 900/1094 Closs: -0.0673, Gloss: 0.0374, C(x): 0.0351 C(G(z)): -0.0322/-0.1096\n",
            "Batch 1000/1094 Closs: -0.0641, Gloss: 0.0220, C(x): 0.0283 C(G(z)): -0.0358/-0.1297\n",
            "--------------------------------------\n",
            "----------- Epoch #3 ------------\n",
            "Batch 100/1094 Closs: -0.0640, Gloss: 0.0332, C(x): 0.0440 C(G(z)): -0.0201/-0.2119\n",
            "Batch 200/1094 Closs: -0.0630, Gloss: 0.0241, C(x): 0.0302 C(G(z)): -0.0328/-0.1645\n",
            "Batch 300/1094 Closs: -0.0611, Gloss: 0.0293, C(x): 0.0367 C(G(z)): -0.0244/-0.1017\n",
            "Batch 400/1094 Closs: -0.0711, Gloss: 0.0291, C(x): 0.0361 C(G(z)): -0.0349/-0.1726\n",
            "Batch 500/1094 Closs: -0.0625, Gloss: 0.0272, C(x): 0.0299 C(G(z)): -0.0326/-0.1890\n",
            "Batch 600/1094 Closs: -0.0629, Gloss: 0.0352, C(x): 0.0323 C(G(z)): -0.0306/-0.2111\n",
            "Batch 700/1094 Closs: -0.0568, Gloss: 0.0349, C(x): 0.0245 C(G(z)): -0.0322/-0.1396\n",
            "Batch 800/1094 Closs: -0.0578, Gloss: 0.0213, C(x): 0.0290 C(G(z)): -0.0288/-0.1278\n",
            "Batch 900/1094 Closs: -0.0657, Gloss: 0.0307, C(x): 0.0326 C(G(z)): -0.0331/-0.1096\n",
            "Batch 1000/1094 Closs: -0.0564, Gloss: 0.0323, C(x): 0.0323 C(G(z)): -0.0241/-0.1780\n",
            "--------------------------------------\n",
            "----------- Epoch #4 ------------\n",
            "Batch 100/1094 Closs: -0.0553, Gloss: 0.0313, C(x): 0.0318 C(G(z)): -0.0235/-0.0670\n",
            "Batch 200/1094 Closs: -0.0613, Gloss: 0.0271, C(x): 0.0305 C(G(z)): -0.0308/-0.1966\n",
            "Batch 300/1094 Closs: -0.0700, Gloss: 0.0264, C(x): 0.0350 C(G(z)): -0.0350/-0.1907\n",
            "Batch 400/1094 Closs: -0.0691, Gloss: 0.0324, C(x): 0.0399 C(G(z)): -0.0292/-0.0459\n",
            "Batch 500/1094 Closs: -0.0568, Gloss: 0.0290, C(x): 0.0283 C(G(z)): -0.0285/-0.0491\n",
            "Batch 600/1094 Closs: -0.0642, Gloss: 0.0386, C(x): 0.0316 C(G(z)): -0.0326/-0.0955\n",
            "Batch 700/1094 Closs: -0.0679, Gloss: 0.0290, C(x): 0.0348 C(G(z)): -0.0331/-0.0508\n",
            "Batch 800/1094 Closs: -0.0582, Gloss: 0.0342, C(x): 0.0352 C(G(z)): -0.0230/-0.1236\n",
            "Batch 900/1094 Closs: -0.0656, Gloss: 0.0261, C(x): 0.0336 C(G(z)): -0.0319/-0.1090\n",
            "Batch 1000/1094 Closs: -0.0626, Gloss: 0.0244, C(x): 0.0306 C(G(z)): -0.0320/-0.0126\n",
            "--------------------------------------\n",
            "----------- Epoch #5 ------------\n",
            "Batch 100/1094 Closs: -0.0487, Gloss: 0.0335, C(x): 0.0297 C(G(z)): -0.0189/-0.0590\n",
            "Batch 200/1094 Closs: -0.0591, Gloss: 0.0306, C(x): 0.0309 C(G(z)): -0.0282/-0.0665\n",
            "Batch 300/1094 Closs: -0.0625, Gloss: 0.0312, C(x): 0.0344 C(G(z)): -0.0281/-0.0763\n",
            "Batch 400/1094 Closs: -0.0641, Gloss: 0.0190, C(x): 0.0335 C(G(z)): -0.0306/-0.0672\n",
            "Batch 500/1094 Closs: -0.0586, Gloss: 0.0282, C(x): 0.0284 C(G(z)): -0.0302/-0.1438\n",
            "Batch 600/1094 Closs: -0.0576, Gloss: 0.0337, C(x): 0.0356 C(G(z)): -0.0220/-0.0351\n",
            "Batch 700/1094 Closs: -0.0645, Gloss: 0.0309, C(x): 0.0324 C(G(z)): -0.0321/-0.1082\n",
            "Batch 800/1094 Closs: -0.0547, Gloss: 0.0337, C(x): 0.0285 C(G(z)): -0.0261/-0.0915\n",
            "Batch 900/1094 Closs: -0.0657, Gloss: 0.0262, C(x): 0.0281 C(G(z)): -0.0376/-0.0777\n",
            "Batch 1000/1094 Closs: -0.0513, Gloss: 0.0300, C(x): 0.0307 C(G(z)): -0.0206/-0.0412\n",
            "--------------------------------------\n",
            "----------- Epoch #6 ------------\n",
            "Batch 100/1094 Closs: -0.0517, Gloss: 0.0237, C(x): 0.0196 C(G(z)): -0.0321/-0.0472\n",
            "Batch 200/1094 Closs: -0.0629, Gloss: 0.0258, C(x): 0.0300 C(G(z)): -0.0329/-0.1502\n",
            "Batch 300/1094 Closs: -0.0473, Gloss: 0.0332, C(x): 0.0246 C(G(z)): -0.0227/-0.0012\n",
            "Batch 400/1094 Closs: -0.0465, Gloss: 0.0218, C(x): 0.0252 C(G(z)): -0.0214/-0.0722\n",
            "Batch 500/1094 Closs: -0.0470, Gloss: 0.0282, C(x): 0.0344 C(G(z)): -0.0125/-0.0351\n",
            "Batch 600/1094 Closs: -0.0517, Gloss: 0.0336, C(x): 0.0308 C(G(z)): -0.0208/-0.0984\n",
            "Batch 700/1094 Closs: -0.0536, Gloss: 0.0307, C(x): 0.0310 C(G(z)): -0.0226/-0.0798\n",
            "Batch 800/1094 Closs: -0.0446, Gloss: 0.0312, C(x): 0.0323 C(G(z)): -0.0123/-0.1092\n",
            "Batch 900/1094 Closs: -0.0483, Gloss: 0.0339, C(x): 0.0325 C(G(z)): -0.0158/-0.0601\n",
            "Batch 1000/1094 Closs: -0.0507, Gloss: 0.0335, C(x): 0.0261 C(G(z)): -0.0246/-0.0553\n",
            "--------------------------------------\n",
            "----------- Epoch #7 ------------\n",
            "Batch 100/1094 Closs: -0.0397, Gloss: 0.0052, C(x): 0.0091 C(G(z)): -0.0306/-0.0574\n",
            "Batch 200/1094 Closs: -0.0708, Gloss: 0.0289, C(x): 0.0297 C(G(z)): -0.0412/-0.0444\n",
            "Batch 300/1094 Closs: -0.0579, Gloss: 0.0339, C(x): 0.0242 C(G(z)): -0.0337/-0.0139\n",
            "Batch 400/1094 Closs: -0.0495, Gloss: 0.0285, C(x): 0.0286 C(G(z)): -0.0209/-0.0440\n",
            "Batch 500/1094 Closs: -0.0514, Gloss: 0.0381, C(x): 0.0339 C(G(z)): -0.0175/-0.0771\n",
            "Batch 600/1094 Closs: -0.0508, Gloss: 0.0318, C(x): 0.0329 C(G(z)): -0.0179/-0.0143\n",
            "Batch 700/1094 Closs: -0.0615, Gloss: 0.0341, C(x): 0.0312 C(G(z)): -0.0303/-0.0928\n",
            "Batch 800/1094 Closs: -0.0488, Gloss: 0.0212, C(x): 0.0213 C(G(z)): -0.0275/-0.0800\n",
            "Batch 900/1094 Closs: -0.0499, Gloss: 0.0139, C(x): 0.0148 C(G(z)): -0.0351/-0.0467\n",
            "Batch 1000/1094 Closs: -0.0503, Gloss: 0.0308, C(x): 0.0233 C(G(z)): -0.0270/-0.0838\n",
            "--------------------------------------\n",
            "----------- Epoch #8 ------------\n",
            "Batch 100/1094 Closs: -0.0553, Gloss: 0.0334, C(x): 0.0262 C(G(z)): -0.0291/-0.0395\n",
            "Batch 200/1094 Closs: -0.0294, Gloss: 0.0227, C(x): 0.0331 C(G(z)): 0.0037/-0.0889\n",
            "Batch 300/1094 Closs: -0.0470, Gloss: 0.0280, C(x): 0.0235 C(G(z)): -0.0235/-0.0227\n",
            "Batch 400/1094 Closs: -0.0493, Gloss: 0.0304, C(x): 0.0243 C(G(z)): -0.0250/-0.0561\n",
            "Batch 500/1094 Closs: -0.0482, Gloss: 0.0338, C(x): 0.0340 C(G(z)): -0.0141/-0.0518\n",
            "Batch 600/1094 Closs: -0.0494, Gloss: 0.0254, C(x): 0.0217 C(G(z)): -0.0277/-0.0409\n",
            "Batch 700/1094 Closs: -0.0425, Gloss: 0.0238, C(x): 0.0135 C(G(z)): -0.0289/-0.0718\n",
            "Batch 800/1094 Closs: -0.0430, Gloss: 0.0156, C(x): 0.0078 C(G(z)): -0.0351/-0.0304\n",
            "Batch 900/1094 Closs: -0.0508, Gloss: 0.0175, C(x): 0.0207 C(G(z)): -0.0301/-0.0681\n",
            "Batch 1000/1094 Closs: -0.0530, Gloss: 0.0316, C(x): 0.0207 C(G(z)): -0.0323/-0.0668\n",
            "--------------------------------------\n",
            "----------- Epoch #9 ------------\n",
            "Batch 100/1094 Closs: -0.0580, Gloss: 0.0179, C(x): 0.0207 C(G(z)): -0.0372/-0.0924\n",
            "Batch 200/1094 Closs: -0.0514, Gloss: 0.0295, C(x): 0.0304 C(G(z)): -0.0211/-0.1234\n",
            "Batch 300/1094 Closs: -0.0316, Gloss: 0.0323, C(x): 0.0206 C(G(z)): -0.0109/-0.0267\n",
            "Batch 400/1094 Closs: -0.0403, Gloss: 0.0099, C(x): 0.0063 C(G(z)): -0.0340/-0.0413\n",
            "Batch 500/1094 Closs: -0.0496, Gloss: 0.0218, C(x): 0.0208 C(G(z)): -0.0288/-0.0643\n",
            "Batch 600/1094 Closs: -0.0456, Gloss: 0.0348, C(x): 0.0236 C(G(z)): -0.0220/-0.0551\n",
            "Batch 700/1094 Closs: -0.0574, Gloss: 0.0108, C(x): 0.0239 C(G(z)): -0.0335/0.0113\n",
            "Batch 800/1094 Closs: -0.0341, Gloss: 0.0265, C(x): 0.0174 C(G(z)): -0.0166/-0.0097\n",
            "Batch 900/1094 Closs: -0.0575, Gloss: 0.0199, C(x): 0.0242 C(G(z)): -0.0333/-0.0796\n",
            "Batch 1000/1094 Closs: -0.0589, Gloss: 0.0325, C(x): 0.0271 C(G(z)): -0.0318/-0.0306\n",
            "--------------------------------------\n",
            "----------- Epoch #10 ------------\n",
            "Batch 100/1094 Closs: -0.0391, Gloss: 0.0288, C(x): 0.0190 C(G(z)): -0.0202/-0.0277\n",
            "Batch 200/1094 Closs: -0.0439, Gloss: 0.0227, C(x): 0.0223 C(G(z)): -0.0216/-0.0736\n",
            "Batch 300/1094 Closs: -0.0354, Gloss: 0.0159, C(x): 0.0269 C(G(z)): -0.0084/-0.0661\n",
            "Batch 400/1094 Closs: -0.0605, Gloss: 0.0359, C(x): 0.0281 C(G(z)): -0.0324/0.0172\n",
            "Batch 500/1094 Closs: -0.0469, Gloss: 0.0186, C(x): 0.0083 C(G(z)): -0.0386/-0.0375\n",
            "Batch 600/1094 Closs: -0.0496, Gloss: 0.0235, C(x): 0.0214 C(G(z)): -0.0282/-0.0170\n",
            "Batch 700/1094 Closs: -0.0471, Gloss: 0.0285, C(x): 0.0158 C(G(z)): -0.0314/0.0026\n",
            "Batch 800/1094 Closs: -0.0431, Gloss: 0.0308, C(x): 0.0188 C(G(z)): -0.0242/-0.0385\n",
            "Batch 900/1094 Closs: -0.0486, Gloss: 0.0320, C(x): 0.0207 C(G(z)): -0.0278/-0.0552\n",
            "Batch 1000/1094 Closs: -0.0493, Gloss: 0.0366, C(x): 0.0225 C(G(z)): -0.0268/-0.0311\n",
            "--------------------------------------\n",
            "----------- Epoch #11 ------------\n",
            "Batch 100/1094 Closs: -0.0512, Gloss: 0.0251, C(x): 0.0205 C(G(z)): -0.0307/-0.0392\n",
            "Batch 200/1094 Closs: -0.0608, Gloss: 0.0302, C(x): 0.0239 C(G(z)): -0.0369/-0.0445\n",
            "Batch 300/1094 Closs: -0.0467, Gloss: 0.0297, C(x): 0.0191 C(G(z)): -0.0277/-0.0246\n",
            "Batch 400/1094 Closs: -0.0392, Gloss: 0.0254, C(x): 0.0209 C(G(z)): -0.0183/-0.0127\n",
            "Batch 500/1094 Closs: -0.0534, Gloss: 0.0201, C(x): 0.0182 C(G(z)): -0.0353/-0.0672\n",
            "Batch 600/1094 Closs: -0.0416, Gloss: 0.0233, C(x): 0.0271 C(G(z)): -0.0145/-0.0365\n",
            "Batch 700/1094 Closs: -0.0468, Gloss: 0.0351, C(x): 0.0192 C(G(z)): -0.0275/-0.0152\n",
            "Batch 800/1094 Closs: -0.0451, Gloss: 0.0207, C(x): 0.0183 C(G(z)): -0.0268/-0.0356\n",
            "Batch 900/1094 Closs: -0.0468, Gloss: 0.0231, C(x): 0.0165 C(G(z)): -0.0303/-0.0556\n",
            "Batch 1000/1094 Closs: -0.0524, Gloss: 0.0423, C(x): 0.0337 C(G(z)): -0.0187/-0.0072\n",
            "--------------------------------------\n",
            "----------- Epoch #12 ------------\n",
            "Batch 100/1094 Closs: -0.0354, Gloss: 0.0129, C(x): 0.0036 C(G(z)): -0.0318/-0.0063\n",
            "Batch 200/1094 Closs: -0.0397, Gloss: 0.0367, C(x): 0.0269 C(G(z)): -0.0129/-0.0085\n",
            "Batch 300/1094 Closs: -0.0407, Gloss: 0.0224, C(x): 0.0227 C(G(z)): -0.0180/-0.0120\n",
            "Batch 400/1094 Closs: -0.0454, Gloss: 0.0373, C(x): 0.0309 C(G(z)): -0.0145/-0.0389\n",
            "Batch 500/1094 Closs: -0.0439, Gloss: 0.0189, C(x): 0.0135 C(G(z)): -0.0304/0.0354\n",
            "Batch 600/1094 Closs: -0.0336, Gloss: 0.0036, C(x): 0.0025 C(G(z)): -0.0312/0.0338\n",
            "Batch 700/1094 Closs: -0.0453, Gloss: 0.0267, C(x): 0.0330 C(G(z)): -0.0123/-0.0324\n",
            "Batch 800/1094 Closs: -0.0507, Gloss: 0.0359, C(x): 0.0246 C(G(z)): -0.0260/-0.0109\n",
            "Batch 900/1094 Closs: -0.0451, Gloss: 0.0273, C(x): 0.0180 C(G(z)): -0.0271/0.0002\n",
            "Batch 1000/1094 Closs: -0.0423, Gloss: 0.0087, C(x): 0.0046 C(G(z)): -0.0377/-0.0358\n",
            "--------------------------------------\n",
            "----------- Epoch #13 ------------\n",
            "Batch 100/1094 Closs: -0.0245, Gloss: 0.0121, C(x): -0.0062 C(G(z)): -0.0307/-0.0536\n",
            "Batch 200/1094 Closs: -0.0496, Gloss: 0.0066, C(x): 0.0138 C(G(z)): -0.0357/-0.0321\n",
            "Batch 300/1094 Closs: -0.0452, Gloss: -0.0050, C(x): 0.0039 C(G(z)): -0.0413/-0.0089\n",
            "Batch 400/1094 Closs: -0.0366, Gloss: 0.0059, C(x): -0.0025 C(G(z)): -0.0391/-0.0003\n",
            "Batch 500/1094 Closs: -0.0368, Gloss: 0.0123, C(x): 0.0102 C(G(z)): -0.0267/-0.0089\n",
            "Batch 600/1094 Closs: -0.0398, Gloss: 0.0224, C(x): 0.0131 C(G(z)): -0.0267/-0.0419\n",
            "Batch 700/1094 Closs: -0.0387, Gloss: 0.0301, C(x): 0.0161 C(G(z)): -0.0225/-0.0120\n",
            "Batch 800/1094 Closs: -0.0320, Gloss: 0.0303, C(x): 0.0287 C(G(z)): -0.0033/0.0194\n",
            "Batch 900/1094 Closs: -0.0402, Gloss: 0.0271, C(x): 0.0217 C(G(z)): -0.0185/-0.0059\n",
            "Batch 1000/1094 Closs: -0.0377, Gloss: 0.0279, C(x): 0.0256 C(G(z)): -0.0120/0.0317\n",
            "--------------------------------------\n",
            "----------- Epoch #14 ------------\n",
            "Batch 100/1094 Closs: -0.0421, Gloss: -0.0020, C(x): 0.0140 C(G(z)): -0.0281/-0.0272\n",
            "Batch 200/1094 Closs: -0.0422, Gloss: 0.0155, C(x): 0.0133 C(G(z)): -0.0290/-0.0242\n",
            "Batch 300/1094 Closs: -0.0439, Gloss: 0.0371, C(x): 0.0219 C(G(z)): -0.0220/0.0004\n",
            "Batch 400/1094 Closs: -0.0378, Gloss: 0.0355, C(x): 0.0290 C(G(z)): -0.0088/0.0174\n",
            "Batch 500/1094 Closs: -0.0535, Gloss: 0.0242, C(x): 0.0222 C(G(z)): -0.0313/0.0092\n",
            "Batch 600/1094 Closs: -0.0468, Gloss: 0.0009, C(x): 0.0109 C(G(z)): -0.0359/0.0321\n",
            "Batch 700/1094 Closs: -0.0406, Gloss: 0.0367, C(x): 0.0259 C(G(z)): -0.0147/0.0154\n",
            "Batch 800/1094 Closs: -0.0456, Gloss: 0.0283, C(x): 0.0245 C(G(z)): -0.0211/0.0319\n",
            "Batch 900/1094 Closs: -0.0357, Gloss: 0.0117, C(x): 0.0018 C(G(z)): -0.0340/0.0365\n",
            "Batch 1000/1094 Closs: -0.0424, Gloss: 0.0239, C(x): 0.0270 C(G(z)): -0.0154/0.0095\n",
            "--------------------------------------\n",
            "----------- Epoch #15 ------------\n",
            "Batch 100/1094 Closs: -0.0447, Gloss: 0.0360, C(x): 0.0246 C(G(z)): -0.0201/0.0850\n",
            "Batch 200/1094 Closs: -0.0430, Gloss: 0.0267, C(x): 0.0206 C(G(z)): -0.0224/0.0105\n",
            "Batch 300/1094 Closs: -0.0400, Gloss: 0.0202, C(x): 0.0202 C(G(z)): -0.0198/0.0035\n",
            "Batch 400/1094 Closs: -0.0321, Gloss: 0.0310, C(x): 0.0135 C(G(z)): -0.0186/0.0576\n",
            "Batch 500/1094 Closs: -0.0280, Gloss: 0.0131, C(x): -0.0021 C(G(z)): -0.0301/0.0262\n",
            "Batch 600/1094 Closs: -0.0364, Gloss: 0.0314, C(x): 0.0211 C(G(z)): -0.0153/0.0486\n",
            "Batch 700/1094 Closs: -0.0365, Gloss: 0.0317, C(x): 0.0147 C(G(z)): -0.0218/0.0037\n",
            "Batch 800/1094 Closs: -0.0347, Gloss: 0.0378, C(x): 0.0129 C(G(z)): -0.0219/0.0282\n",
            "Batch 900/1094 Closs: -0.0357, Gloss: 0.0320, C(x): 0.0068 C(G(z)): -0.0289/0.0167\n",
            "Batch 1000/1094 Closs: -0.0445, Gloss: 0.0155, C(x): 0.0208 C(G(z)): -0.0237/0.0589\n",
            "--------------------------------------\n",
            "----------- Epoch #16 ------------\n",
            "Batch 100/1094 Closs: -0.0504, Gloss: 0.0282, C(x): 0.0349 C(G(z)): -0.0156/0.0073\n",
            "Batch 200/1094 Closs: -0.0331, Gloss: 0.0224, C(x): 0.0206 C(G(z)): -0.0124/-0.0050\n",
            "Batch 300/1094 Closs: -0.0368, Gloss: 0.0147, C(x): 0.0109 C(G(z)): -0.0259/0.0217\n",
            "Batch 400/1094 Closs: -0.0265, Gloss: -0.0033, C(x): 0.0347 C(G(z)): 0.0082/0.0348\n",
            "Batch 500/1094 Closs: -0.0425, Gloss: 0.0302, C(x): 0.0144 C(G(z)): -0.0281/0.0232\n",
            "Batch 600/1094 Closs: -0.0362, Gloss: 0.0279, C(x): 0.0176 C(G(z)): -0.0187/0.0407\n",
            "Batch 700/1094 Closs: -0.0472, Gloss: 0.0067, C(x): 0.0167 C(G(z)): -0.0305/0.0496\n",
            "Batch 800/1094 Closs: -0.0410, Gloss: 0.0011, C(x): 0.0081 C(G(z)): -0.0329/0.0370\n",
            "Batch 900/1094 Closs: -0.0277, Gloss: 0.0131, C(x): 0.0213 C(G(z)): -0.0064/-0.0015\n",
            "Batch 1000/1094 Closs: -0.0391, Gloss: 0.0319, C(x): 0.0193 C(G(z)): -0.0197/-0.0142\n",
            "--------------------------------------\n",
            "----------- Epoch #17 ------------\n",
            "Batch 100/1094 Closs: -0.0328, Gloss: 0.0291, C(x): 0.0102 C(G(z)): -0.0226/0.0121\n",
            "Batch 200/1094 Closs: -0.0433, Gloss: 0.0123, C(x): 0.0136 C(G(z)): -0.0297/0.0119\n",
            "Batch 300/1094 Closs: -0.0364, Gloss: 0.0306, C(x): 0.0256 C(G(z)): -0.0108/-0.0183\n",
            "Batch 400/1094 Closs: -0.0322, Gloss: 0.0084, C(x): 0.0137 C(G(z)): -0.0184/0.0014\n",
            "Batch 500/1094 Closs: -0.0439, Gloss: 0.0339, C(x): 0.0201 C(G(z)): -0.0238/0.0387\n",
            "Batch 600/1094 Closs: -0.0340, Gloss: 0.0032, C(x): 0.0025 C(G(z)): -0.0315/-0.0452\n",
            "Batch 700/1094 Closs: -0.0353, Gloss: 0.0239, C(x): 0.0098 C(G(z)): -0.0256/-0.0121\n",
            "Batch 800/1094 Closs: -0.0408, Gloss: 0.0323, C(x): 0.0261 C(G(z)): -0.0148/0.0242\n",
            "Batch 900/1094 Closs: -0.0360, Gloss: 0.0215, C(x): 0.0167 C(G(z)): -0.0193/-0.0317\n",
            "Batch 1000/1094 Closs: -0.0297, Gloss: 0.0036, C(x): 0.0056 C(G(z)): -0.0241/-0.0234\n",
            "--------------------------------------\n",
            "----------- Epoch #18 ------------\n",
            "Batch 100/1094 Closs: -0.0389, Gloss: 0.0181, C(x): 0.0201 C(G(z)): -0.0188/0.0169\n",
            "Batch 200/1094 Closs: -0.0390, Gloss: 0.0220, C(x): 0.0109 C(G(z)): -0.0281/-0.0441\n",
            "Batch 300/1094 Closs: -0.0341, Gloss: 0.0313, C(x): 0.0254 C(G(z)): -0.0088/0.0067\n",
            "Batch 400/1094 Closs: -0.0282, Gloss: 0.0186, C(x): 0.0106 C(G(z)): -0.0176/0.0122\n",
            "Batch 500/1094 Closs: -0.0421, Gloss: 0.0207, C(x): 0.0094 C(G(z)): -0.0327/-0.0033\n",
            "Batch 600/1094 Closs: -0.0352, Gloss: 0.0285, C(x): 0.0142 C(G(z)): -0.0210/-0.0169\n",
            "Batch 700/1094 Closs: -0.0236, Gloss: 0.0197, C(x): 0.0078 C(G(z)): -0.0158/-0.0479\n",
            "Batch 800/1094 Closs: -0.0393, Gloss: 0.0205, C(x): 0.0201 C(G(z)): -0.0192/-0.0516\n",
            "Batch 900/1094 Closs: -0.0382, Gloss: -0.0053, C(x): 0.0075 C(G(z)): -0.0307/-0.0498\n",
            "Batch 1000/1094 Closs: -0.0321, Gloss: -0.0057, C(x): -0.0053 C(G(z)): -0.0374/-0.0034\n",
            "--------------------------------------\n",
            "----------- Epoch #19 ------------\n",
            "Batch 100/1094 Closs: -0.0404, Gloss: 0.0249, C(x): 0.0137 C(G(z)): -0.0267/-0.0056\n",
            "Batch 200/1094 Closs: -0.0322, Gloss: 0.0136, C(x): 0.0111 C(G(z)): -0.0210/-0.0543\n",
            "Batch 300/1094 Closs: -0.0187, Gloss: 0.0050, C(x): -0.0066 C(G(z)): -0.0253/-0.0755\n",
            "Batch 400/1094 Closs: -0.0369, Gloss: 0.0258, C(x): 0.0155 C(G(z)): -0.0214/-0.0485\n",
            "Batch 500/1094 Closs: -0.0264, Gloss: 0.0201, C(x): 0.0132 C(G(z)): -0.0132/-0.0398\n",
            "Batch 600/1094 Closs: -0.0290, Gloss: 0.0255, C(x): 0.0106 C(G(z)): -0.0184/-0.0295\n",
            "Batch 700/1094 Closs: -0.0371, Gloss: 0.0023, C(x): 0.0104 C(G(z)): -0.0267/-0.0437\n",
            "Batch 800/1094 Closs: -0.0364, Gloss: 0.0199, C(x): 0.0180 C(G(z)): -0.0184/-0.0455\n",
            "Batch 900/1094 Closs: -0.0397, Gloss: 0.0249, C(x): 0.0186 C(G(z)): -0.0211/-0.0729\n",
            "Batch 1000/1094 Closs: -0.0301, Gloss: 0.0261, C(x): 0.0181 C(G(z)): -0.0120/-0.0403\n",
            "--------------------------------------\n",
            "----------- Epoch #20 ------------\n",
            "Batch 100/1094 Closs: -0.0237, Gloss: 0.0055, C(x): 0.0066 C(G(z)): -0.0170/-0.0701\n",
            "Batch 200/1094 Closs: -0.0300, Gloss: 0.0294, C(x): 0.0195 C(G(z)): -0.0106/-0.0338\n",
            "Batch 300/1094 Closs: -0.0377, Gloss: 0.0149, C(x): 0.0114 C(G(z)): -0.0263/-0.0552\n",
            "Batch 400/1094 Closs: -0.0197, Gloss: -0.0040, C(x): 0.0173 C(G(z)): -0.0024/-0.1035\n",
            "Batch 500/1094 Closs: -0.0330, Gloss: 0.0289, C(x): 0.0193 C(G(z)): -0.0137/-0.0835\n",
            "Batch 600/1094 Closs: -0.0360, Gloss: -0.0020, C(x): 0.0058 C(G(z)): -0.0302/-0.1002\n",
            "Batch 700/1094 Closs: -0.0415, Gloss: 0.0160, C(x): 0.0212 C(G(z)): -0.0203/-0.0768\n",
            "Batch 800/1094 Closs: -0.0394, Gloss: 0.0197, C(x): 0.0130 C(G(z)): -0.0264/-0.0439\n",
            "Batch 900/1094 Closs: -0.0300, Gloss: 0.0199, C(x): 0.0081 C(G(z)): -0.0219/-0.1063\n",
            "Batch 1000/1094 Closs: -0.0238, Gloss: 0.0140, C(x): -0.0022 C(G(z)): -0.0260/-0.0788\n",
            "--------------------------------------\n",
            "----------- Epoch #21 ------------\n",
            "Batch 100/1094 Closs: -0.0267, Gloss: 0.0301, C(x): 0.0159 C(G(z)): -0.0108/-0.0680\n",
            "Batch 200/1094 Closs: -0.0417, Gloss: 0.0223, C(x): 0.0234 C(G(z)): -0.0183/-0.1494\n",
            "Batch 300/1094 Closs: -0.0257, Gloss: 0.0199, C(x): 0.0109 C(G(z)): -0.0148/-0.0925\n",
            "Batch 400/1094 Closs: -0.0350, Gloss: 0.0302, C(x): 0.0214 C(G(z)): -0.0136/-0.1181\n",
            "Batch 500/1094 Closs: -0.0301, Gloss: 0.0242, C(x): 0.0030 C(G(z)): -0.0272/-0.0835\n",
            "Batch 600/1094 Closs: -0.0407, Gloss: 0.0255, C(x): 0.0204 C(G(z)): -0.0202/-0.1329\n",
            "Batch 700/1094 Closs: -0.0399, Gloss: 0.0078, C(x): 0.0069 C(G(z)): -0.0330/-0.1184\n",
            "Batch 800/1094 Closs: -0.0373, Gloss: 0.0173, C(x): 0.0096 C(G(z)): -0.0277/-0.1031\n",
            "Batch 900/1094 Closs: -0.0315, Gloss: 0.0132, C(x): 0.0270 C(G(z)): -0.0045/-0.1172\n",
            "Batch 1000/1094 Closs: -0.0299, Gloss: 0.0244, C(x): 0.0177 C(G(z)): -0.0122/-0.1117\n",
            "--------------------------------------\n",
            "----------- Epoch #22 ------------\n",
            "Batch 100/1094 Closs: -0.0320, Gloss: 0.0256, C(x): 0.0197 C(G(z)): -0.0122/-0.1589\n",
            "Batch 200/1094 Closs: -0.0378, Gloss: 0.0226, C(x): 0.0095 C(G(z)): -0.0283/-0.1275\n",
            "Batch 300/1094 Closs: -0.0230, Gloss: 0.0340, C(x): 0.0113 C(G(z)): -0.0117/-0.1453\n",
            "Batch 400/1094 Closs: -0.0298, Gloss: 0.0228, C(x): 0.0171 C(G(z)): -0.0127/-0.1014\n",
            "Batch 500/1094 Closs: -0.0188, Gloss: 0.0288, C(x): 0.0296 C(G(z)): 0.0108/-0.1273\n",
            "Batch 600/1094 Closs: -0.0265, Gloss: 0.0183, C(x): -0.0005 C(G(z)): -0.0270/-0.1133\n",
            "Batch 700/1094 Closs: -0.0183, Gloss: 0.0111, C(x): 0.0004 C(G(z)): -0.0180/-0.1060\n",
            "Batch 800/1094 Closs: -0.0271, Gloss: 0.0227, C(x): 0.0163 C(G(z)): -0.0108/-0.1411\n",
            "Batch 900/1094 Closs: -0.0341, Gloss: 0.0122, C(x): 0.0097 C(G(z)): -0.0244/-0.1340\n",
            "Batch 1000/1094 Closs: -0.0387, Gloss: 0.0266, C(x): 0.0151 C(G(z)): -0.0236/-0.1468\n",
            "--------------------------------------\n",
            "----------- Epoch #23 ------------\n",
            "Batch 100/1094 Closs: -0.0370, Gloss: 0.0262, C(x): 0.0218 C(G(z)): -0.0152/-0.1370\n",
            "Batch 200/1094 Closs: -0.0306, Gloss: 0.0307, C(x): 0.0133 C(G(z)): -0.0173/-0.1317\n",
            "Batch 300/1094 Closs: -0.0393, Gloss: 0.0234, C(x): 0.0187 C(G(z)): -0.0206/-0.1291\n",
            "Batch 400/1094 Closs: -0.0299, Gloss: 0.0145, C(x): 0.0053 C(G(z)): -0.0246/-0.1191\n",
            "Batch 500/1094 Closs: -0.0361, Gloss: 0.0325, C(x): 0.0144 C(G(z)): -0.0217/-0.1513\n",
            "Batch 600/1094 Closs: -0.0349, Gloss: 0.0279, C(x): 0.0155 C(G(z)): -0.0193/-0.1499\n",
            "Batch 700/1094 Closs: -0.0367, Gloss: 0.0101, C(x): 0.0065 C(G(z)): -0.0302/-0.1150\n",
            "Batch 800/1094 Closs: -0.0281, Gloss: 0.0086, C(x): -0.0027 C(G(z)): -0.0308/-0.1068\n",
            "Batch 900/1094 Closs: -0.0252, Gloss: -0.0126, C(x): -0.0043 C(G(z)): -0.0294/-0.1232\n",
            "Batch 1000/1094 Closs: -0.0314, Gloss: 0.0296, C(x): 0.0289 C(G(z)): -0.0025/-0.1130\n",
            "--------------------------------------\n",
            "----------- Epoch #24 ------------\n",
            "Batch 100/1094 Closs: -0.0316, Gloss: 0.0063, C(x): 0.0134 C(G(z)): -0.0182/-0.1496\n",
            "Batch 200/1094 Closs: -0.0238, Gloss: 0.0213, C(x): 0.0105 C(G(z)): -0.0133/-0.1921\n",
            "Batch 300/1094 Closs: -0.0222, Gloss: 0.0135, C(x): 0.0062 C(G(z)): -0.0159/-0.1686\n",
            "Batch 400/1094 Closs: -0.0330, Gloss: 0.0252, C(x): 0.0028 C(G(z)): -0.0302/-0.1202\n",
            "Batch 500/1094 Closs: -0.0372, Gloss: 0.0166, C(x): 0.0120 C(G(z)): -0.0252/-0.1798\n",
            "Batch 600/1094 Closs: -0.0220, Gloss: 0.0315, C(x): 0.0255 C(G(z)): 0.0035/-0.1676\n",
            "Batch 700/1094 Closs: -0.0348, Gloss: 0.0077, C(x): 0.0084 C(G(z)): -0.0264/-0.1608\n",
            "Batch 800/1094 Closs: -0.0330, Gloss: 0.0165, C(x): 0.0140 C(G(z)): -0.0190/-0.1878\n",
            "Batch 900/1094 Closs: -0.0276, Gloss: 0.0105, C(x): 0.0004 C(G(z)): -0.0273/-0.1221\n",
            "Batch 1000/1094 Closs: -0.0337, Gloss: 0.0078, C(x): 0.0082 C(G(z)): -0.0255/-0.1539\n",
            "--------------------------------------\n",
            "----------- Epoch #25 ------------\n",
            "Batch 100/1094 Closs: -0.0179, Gloss: 0.0227, C(x): -0.0021 C(G(z)): -0.0200/-0.1563\n",
            "Batch 200/1094 Closs: -0.0266, Gloss: 0.0306, C(x): 0.0047 C(G(z)): -0.0219/-0.1717\n",
            "Batch 300/1094 Closs: -0.0119, Gloss: 0.0128, C(x): -0.0068 C(G(z)): -0.0187/-0.1999\n",
            "Batch 400/1094 Closs: -0.0224, Gloss: 0.0255, C(x): 0.0296 C(G(z)): 0.0071/-0.1763\n",
            "Batch 500/1094 Closs: -0.0263, Gloss: 0.0277, C(x): 0.0022 C(G(z)): -0.0241/-0.1859\n",
            "Batch 600/1094 Closs: -0.0262, Gloss: 0.0215, C(x): 0.0136 C(G(z)): -0.0126/-0.1842\n",
            "Batch 700/1094 Closs: -0.0273, Gloss: 0.0116, C(x): 0.0117 C(G(z)): -0.0156/-0.1757\n",
            "Batch 800/1094 Closs: -0.0224, Gloss: 0.0241, C(x): 0.0153 C(G(z)): -0.0072/-0.2234\n",
            "Batch 900/1094 Closs: -0.0302, Gloss: 0.0239, C(x): 0.0124 C(G(z)): -0.0177/-0.1837\n",
            "Batch 1000/1094 Closs: -0.0206, Gloss: 0.0060, C(x): 0.0017 C(G(z)): -0.0189/-0.2076\n",
            "--------------------------------------\n",
            "----------- WGAN Train End! ------------\n"
          ]
        },
        {
          "output_type": "display_data",
          "data": {
            "text/plain": [
              "VBox(children=(Label(value='0.033 MB of 0.033 MB uploaded\\r'), FloatProgress(value=1.0, max=1.0)))"
            ],
            "application/vnd.jupyter.widget-view+json": {
              "version_major": 2,
              "version_minor": 0,
              "model_id": "bc15ac9cc87741dd98f77b4e9b93771e"
            }
          },
          "metadata": {}
        },
        {
          "output_type": "display_data",
          "data": {
            "text/plain": [
              "<IPython.core.display.HTML object>"
            ],
            "text/html": [
              "<style>\n",
              "    table.wandb td:nth-child(1) { padding: 0 10px; text-align: left ; width: auto;} td:nth-child(2) {text-align: left ; width: 100%}\n",
              "    .wandb-row { display: flex; flex-direction: row; flex-wrap: wrap; justify-content: flex-start; width: 100% }\n",
              "    .wandb-col { display: flex; flex-direction: column; flex-basis: 100%; flex: 1; padding: 10px; }\n",
              "    </style>\n",
              "<div class=\"wandb-row\"><div class=\"wandb-col\"><h3>Run history:</h3><br/><table class=\"wandb\"><tr><td>Discriminator Loss</td><td>▂▂▂▃▁▁▃▂▃▄▅▄▄▆▅▄▆▅▆▅▆▆▆▇▅▆▇▅▆▆██▅██▇▇▇█▇</td></tr><tr><td>Generator Loss</td><td>   █     ▁      ▆     ▅      ▆  ▁       </td></tr></table><br/></div><div class=\"wandb-col\"><h3>Run summary:</h3><br/><table class=\"wandb\"><tr><td>Discriminator Loss</td><td>-0.02676</td></tr><tr><td>Generator Loss</td><td>nan</td></tr></table><br/></div></div>"
            ]
          },
          "metadata": {}
        },
        {
          "output_type": "display_data",
          "data": {
            "text/plain": [
              "<IPython.core.display.HTML object>"
            ],
            "text/html": [
              " View run <strong style=\"color:#cdcd00\">fanciful-sea-3</strong> at: <a href='https://wandb.ai/mitkrieger-cornell-university/wgan/runs/w97y6dne' target=\"_blank\">https://wandb.ai/mitkrieger-cornell-university/wgan/runs/w97y6dne</a><br/> View project at: <a href='https://wandb.ai/mitkrieger-cornell-university/wgan' target=\"_blank\">https://wandb.ai/mitkrieger-cornell-university/wgan</a><br/>Synced 5 W&B file(s), 0 media file(s), 0 artifact file(s) and 0 other file(s)"
            ]
          },
          "metadata": {}
        },
        {
          "output_type": "display_data",
          "data": {
            "text/plain": [
              "<IPython.core.display.HTML object>"
            ],
            "text/html": [
              "Find logs at: <code>./wandb/run-20241017_141431-w97y6dne/logs</code>"
            ]
          },
          "metadata": {}
        }
      ],
      "source": [
        "wgan = WGAN(100, 1, 10, 64, device, lr=0.0001)\n",
        "wgan.train(traindataloader, 25, 5)"
      ]
    },
    {
      "cell_type": "code",
      "source": [
        "torch.save(wgan.generator.cpu().state_dict(), '/content/drive/MyDrive/wgan_generator.pth')\n",
        "torch.save(wgan.critic.cpu().state_dict(), '/content/drive/MyDrive/wgan_discriminator.pth')"
      ],
      "metadata": {
        "id": "KtABkiISxn8I"
      },
      "execution_count": 10,
      "outputs": []
    },
    {
      "cell_type": "code",
      "source": [
        "wgan.generator = wgan.generator.to(device)\n",
        "wgan.critic = wgan.critic.to(device)\n",
        "lbl = F.one_hot(torch.tensor([3]*4, device=device), num_classes=10).float()\n",
        "wgan.generator.eval()\n",
        "with torch.no_grad():  # Disable gradient calculation\n",
        "    noise = torch.randn(4, 100, 1, 1, device=device)\n",
        "    generated_images = wgan.generator(noise, lbl)\n",
        "    # generated_images = (generated_images + 1) / 2\n",
        "    grid = torchvision.utils.make_grid(generated_images.cpu(), nrow=4, padding=2, normalize=True)\n",
        "    np_grid = grid.permute(1, 2, 0).numpy()\n",
        "    plt.imshow(np_grid)\n",
        "    plt.axis('off')"
      ],
      "metadata": {
        "colab": {
          "base_uri": "https://localhost:8080/",
          "height": 167
        },
        "id": "oEYSpE6Qw4Qv",
        "outputId": "03820b8a-7922-4fd5-b3f4-9dabf24de5cb"
      },
      "execution_count": 14,
      "outputs": [
        {
          "output_type": "display_data",
          "data": {
            "text/plain": [
              "<Figure size 640x480 with 1 Axes>"
            ],
            "image/png": "[encoded data removed]"
          },
          "metadata": {}
        }
      ]
    },
    {
      "cell_type": "code",
      "execution_count": 13,
      "metadata": {
        "colab": {
          "base_uri": "https://localhost:8080/",
          "height": 406
        },
        "id": "RExy5mEkCHBv",
        "outputId": "06b72d4f-e86c-4050-80e5-cf936ae90c67"
      },
      "outputs": [
        {
          "output_type": "display_data",
          "data": {
            "text/plain": [
              "<Figure size 640x480 with 1 Axes>"
            ],
            "image/png": "[encoded data removed]"
          },
          "metadata": {}
        }
      ],
      "source": [
        "with torch.no_grad():  # Disable gradient calculation\n",
        "    noise = torch.randn(25, wgan.z_dim, 1, 1, device=wgan.device)\n",
        "    generated_images = wgan.generator(noise)\n",
        "    generated_images = (generated_images + 1) / 2\n",
        "    grid = torchvision.utils.make_grid(generated_images.cpu(), nrow=5, padding=2, normalize=True)\n",
        "    np_grid = grid.permute(1, 2, 0).numpy()\n",
        "    plt.imshow(np_grid)\n",
        "    plt.axis('off')"
      ]
    },
    {
      "cell_type": "markdown",
      "source": [
        "## WGAN-GP"
      ],
      "metadata": {
        "id": "DOamfP9OjCOw"
      }
    },
    {
      "cell_type": "code",
      "source": [
        "class Generator(nn.Module):\n",
        "    def __init__(self, z_dim, num_classes, channels, features):\n",
        "        super().__init__()\n",
        "        self.num_classes = num_classes\n",
        "        self.seq = nn.Sequential(\n",
        "            nn.ConvTranspose2d(\n",
        "                z_dim + num_classes, features * 4, kernel_size=7, stride=1, padding=0, bias=False\n",
        "            ),\n",
        "            nn.BatchNorm2d(features * 4),\n",
        "            nn.ReLU(inplace=True),\n",
        "            nn.ConvTranspose2d(\n",
        "                features * 4, features * 2, kernel_size=4, stride=2, padding=1, bias=False\n",
        "            ),\n",
        "            nn.BatchNorm2d(features * 2),\n",
        "            nn.ReLU(inplace=True),\n",
        "            nn.ConvTranspose2d(\n",
        "                features * 2, channels, kernel_size=4, stride=2, padding=1, bias=False\n",
        "            ),\n",
        "            nn.Tanh()\n",
        "        )\n",
        "\n",
        "    def forward(self, x, labels):\n",
        "        batch_size, _, height, width = x.shape\n",
        "        labels = labels.view(batch_size, self.num_classes, 1, 1)\n",
        "        x = torch.cat((x, labels), dim=1)\n",
        "        return self.seq(x)\n",
        "\n",
        "\n",
        "class Critic(nn.Module):\n",
        "    def __init__(self, num_classes, channels, filters):\n",
        "        super().__init__()\n",
        "        self.num_classes = num_classes\n",
        "        self.seq = nn.Sequential(\n",
        "            nn.Flatten(),\n",
        "            nn.Linear(channels * 28 * 28 + num_classes, filters * 128),\n",
        "            nn.BatchNorm1d(filters * 128),\n",
        "            nn.LeakyReLU(0.2, inplace=True),\n",
        "            nn.Linear(filters * 128, filters * 64, bias=False),\n",
        "            nn.BatchNorm1d(filters * 64),\n",
        "            nn.LeakyReLU(0.2, inplace=True),\n",
        "            nn.Linear(filters * 64, 1)\n",
        "        )\n",
        "\n",
        "    def forward(self, x, labels):\n",
        "        batch_size, _, height, width = x.shape\n",
        "        x = torch.cat((x.view(batch_size, -1), labels), dim=1)\n",
        "        return self.seq(x)"
      ],
      "metadata": {
        "id": "IJSFCdPb-wq_"
      },
      "execution_count": 7,
      "outputs": []
    },
    {
      "cell_type": "code",
      "source": [
        "class WGAN_GP:\n",
        "    def __init__(self, z_dim, num_classes, channels, features, device, lr=0.0001, lambda_gp=10):\n",
        "        self.z_dim = z_dim\n",
        "        self.device = device\n",
        "        self.lambda_gp = lambda_gp\n",
        "        self.num_classes = num_classes\n",
        "        self.lr = lr\n",
        "\n",
        "        self.generator = Generator(z_dim, num_classes, channels, features).to(device)\n",
        "        self.critic = Critic(num_classes, channels, features).to(device)\n",
        "\n",
        "        self.optim_critic = optim.Adam(self.critic.parameters(), lr=self.lr, betas=(0.0, 0.9))\n",
        "        self.optim_gen = optim.Adam(self.generator.parameters(), lr=self.lr, betas=(0.0, 0.9))\n",
        "\n",
        "    def compute_gradient_penalty(self, real_imgs, real_labels, fake_imgs):\n",
        "        alpha = torch.rand((real_imgs.size(0), 1, 1, 1), device=self.device)\n",
        "        interpolates = (alpha * real_imgs + (1 - alpha) * fake_imgs).requires_grad_(True)\n",
        "        d_interpolates = self.critic(interpolates, real_labels)\n",
        "        fake = torch.ones(d_interpolates.size(), device=self.device)\n",
        "        gradients = torch.autograd.grad(\n",
        "            outputs=d_interpolates,\n",
        "            inputs=interpolates,\n",
        "            grad_outputs=fake,\n",
        "            create_graph=True,\n",
        "            retain_graph=True,\n",
        "            only_inputs=True,\n",
        "        )[0]\n",
        "        gradients = gradients.view(gradients.size(0), -1)\n",
        "        gradient_penalty = ((gradients.norm(2, dim=1) - 1) ** 2).mean()\n",
        "        return gradient_penalty\n",
        "\n",
        "    def train_critic(self, fake_labels, real_imgs, real_labels, batch_size):\n",
        "        self.optim_critic.zero_grad()\n",
        "        noise = torch.randn(batch_size, self.z_dim, 1, 1, device=self.device)\n",
        "\n",
        "        fake_imgs = self.generator(noise, fake_labels)\n",
        "        real_preds = self.critic(real_imgs, real_labels)\n",
        "        fake_preds = self.critic(fake_imgs.detach(), fake_labels)\n",
        "        gradient_penalty = self.compute_gradient_penalty(real_imgs, real_labels, fake_imgs.detach())\n",
        "        critic_loss = -torch.mean(real_preds) + torch.mean(fake_preds) + self.lambda_gp * gradient_penalty\n",
        "        critic_loss.backward()\n",
        "        self.optim_critic.step()\n",
        "        return critic_loss\n",
        "\n",
        "    def train_generator(self, fake_labels):\n",
        "        self.optim_gen.zero_grad()\n",
        "        noise = torch.randn(fake_labels.size(0), self.z_dim, 1, 1, device=self.device)\n",
        "        fake_imgs = self.generator(noise, fake_labels)\n",
        "        fake_preds = self.critic(fake_imgs, fake_labels)\n",
        "        gen_loss = -torch.mean(fake_preds)\n",
        "        gen_loss.backward()\n",
        "        self.optim_gen.step()\n",
        "        return gen_loss\n",
        "\n",
        "    def train_one_epoch(self, dataloader, n_critic):\n",
        "        gen_loss = None  # Initialize gen_loss\n",
        "        for i, (real_imgs, real_labels) in enumerate(dataloader):\n",
        "            batch_size = real_imgs.size(0)\n",
        "            real_imgs = real_imgs.to(self.device)\n",
        "\n",
        "            fake_labels = F.one_hot(torch.randint(0, 10, (batch_size,), device=self.device), num_classes=10).float()\n",
        "\n",
        "            # Train Critic n_critic times\n",
        "            for _ in range(n_critic):\n",
        "                critic_loss = self.train_critic(fake_labels, real_imgs, real_labels, batch_size)\n",
        "            # Train Generator\n",
        "\n",
        "            gen_loss = self.train_generator(fake_labels)\n",
        "            if i % 100 == 0 and i != 0:\n",
        "                print(f\"Batch {i}/{len(dataloader)} \"\n",
        "                      f\"Closs: {critic_loss:.4f}, Gloss: {gen_loss:.4f}\")\n",
        "\n",
        "            wandb.log({\n",
        "                \"Critic Loss\": critic_loss,\n",
        "                \"Generator Loss\": gen_loss\n",
        "            })\n",
        "\n",
        "    def train(self, dataloader, num_epochs, n_critic=5):\n",
        "        wandb.init(project='wgan-GP', config ={\n",
        "            'epochs': num_epochs,\n",
        "            'lr':self.lr,\n",
        "            'n_critic': n_critic,\n",
        "            'lambda_gp': self.lambda_gp\n",
        "        })\n",
        "        print(f'----------- {self.__class__.__name__} Train Start! ------------')\n",
        "        for epoch in range(num_epochs):\n",
        "            print(f'----------- Epoch #{epoch + 1} ------------')\n",
        "            self.train_one_epoch(dataloader, n_critic)\n",
        "            print(f'--------------------------------------')\n",
        "        print(f'----------- {self.__class__.__name__} Train End! ------------')\n",
        "        wandb.finish()\n",
        "\n",
        "    def generate_samples(self, num_samples, rows):\n",
        "        with torch.no_grad():\n",
        "            noise = torch.randn(num_samples, self.z_dim, 1, 1, device=self.device)\n",
        "            generated_images = self.generator(noise)\n",
        "            grid = torchvision.utils.make_grid(generated_images.cpu(), nrow=rows, padding=2, normalize=True)\n",
        "            np_grid = grid.permute(1, 2, 0).numpy()\n",
        "            plt.figure(figsize=(10, 10))\n",
        "            plt.imshow(np_grid)\n",
        "            plt.axis('off')\n",
        "            plt.show()"
      ],
      "metadata": {
        "id": "KJLdmR6-jrYw"
      },
      "execution_count": 8,
      "outputs": []
    },
    {
      "cell_type": "code",
      "source": [
        "wandb.finish()\n",
        "wgangp = WGAN_GP(100, 10, 1, 64, device)\n",
        "wgangp.train(traindataloader, 25, 5)"
      ],
      "metadata": {
        "colab": {
          "base_uri": "https://localhost:8080/",
          "height": 1000
        },
        "id": "gunqgYqboTc1",
        "outputId": "e903b027-0c16-4f32-8f4a-14facd826be4"
      },
      "execution_count": 9,
      "outputs": [
        {
          "output_type": "stream",
          "name": "stderr",
          "text": [
            "\u001b[34m\u001b[1mwandb\u001b[0m: Using wandb-core as the SDK backend. Please refer to https://wandb.me/wandb-core for more information.\n",
            "\u001b[34m\u001b[1mwandb\u001b[0m: Currently logged in as: \u001b[33mmitkrieger\u001b[0m (\u001b[33mmitkrieger-cornell-university\u001b[0m). Use \u001b[1m`wandb login --relogin`\u001b[0m to force relogin\n"
          ]
        },
        {
          "output_type": "display_data",
          "data": {
            "text/plain": [
              "<IPython.core.display.HTML object>"
            ],
            "text/html": [
              "Tracking run with wandb version 0.18.3"
            ]
          },
          "metadata": {}
        },
        {
          "output_type": "display_data",
          "data": {
            "text/plain": [
              "<IPython.core.display.HTML object>"
            ],
            "text/html": [
              "Run data is saved locally in <code>/content/wandb/run-20241017_164712-9nmt3fb2</code>"
            ]
          },
          "metadata": {}
        },
        {
          "output_type": "display_data",
          "data": {
            "text/plain": [
              "<IPython.core.display.HTML object>"
            ],
            "text/html": [
              "Syncing run <strong><a href='https://wandb.ai/mitkrieger-cornell-university/wgan-GP/runs/9nmt3fb2' target=\"_blank\">vivid-night-9</a></strong> to <a href='https://wandb.ai/mitkrieger-cornell-university/wgan-GP' target=\"_blank\">Weights & Biases</a> (<a href='https://wandb.me/run' target=\"_blank\">docs</a>)<br/>"
            ]
          },
          "metadata": {}
        },
        {
          "output_type": "display_data",
          "data": {
            "text/plain": [
              "<IPython.core.display.HTML object>"
            ],
            "text/html": [
              " View project at <a href='https://wandb.ai/mitkrieger-cornell-university/wgan-GP' target=\"_blank\">https://wandb.ai/mitkrieger-cornell-university/wgan-GP</a>"
            ]
          },
          "metadata": {}
        },
        {
          "output_type": "display_data",
          "data": {
            "text/plain": [
              "<IPython.core.display.HTML object>"
            ],
            "text/html": [
              " View run at <a href='https://wandb.ai/mitkrieger-cornell-university/wgan-GP/runs/9nmt3fb2' target=\"_blank\">https://wandb.ai/mitkrieger-cornell-university/wgan-GP/runs/9nmt3fb2</a>"
            ]
          },
          "metadata": {}
        },
        {
          "output_type": "stream",
          "name": "stdout",
          "text": [
            "----------- WGAN_GP Train Start! ------------\n",
            "----------- Epoch #1 ------------\n"
          ]
        },
        {
          "output_type": "stream",
          "name": "stderr",
          "text": [
            "/usr/local/lib/python3.10/dist-packages/torch/autograd/graph.py:769: UserWarning: Attempting to run cuBLAS, but there was no current CUDA context! Attempting to set the primary context... (Triggered internally at ../aten/src/ATen/cuda/CublasHandlePool.cpp:135.)\n",
            "  return Variable._execution_engine.run_backward(  # Calls into the C++ engine to run the backward pass\n"
          ]
        },
        {
          "output_type": "stream",
          "name": "stdout",
          "text": [
            "Batch 100/1094 Closs: -6.5770, Gloss: 9.4909\n",
            "Batch 200/1094 Closs: -12.3194, Gloss: 31.4427\n",
            "Batch 300/1094 Closs: -17.7985, Gloss: 43.4608\n",
            "Batch 400/1094 Closs: -36.4668, Gloss: 73.3884\n",
            "Batch 500/1094 Closs: -57.0066, Gloss: 109.1912\n",
            "Batch 600/1094 Closs: -73.2980, Gloss: 144.3610\n",
            "Batch 700/1094 Closs: -78.3122, Gloss: 179.7272\n",
            "Batch 800/1094 Closs: -102.8485, Gloss: 213.2243\n",
            "Batch 900/1094 Closs: -62.5947, Gloss: 215.9455\n",
            "Batch 1000/1094 Closs: -92.3334, Gloss: 258.6625\n",
            "--------------------------------------\n",
            "----------- Epoch #2 ------------\n",
            "Batch 100/1094 Closs: -110.9597, Gloss: 293.1976\n",
            "Batch 200/1094 Closs: -136.2403, Gloss: 381.1513\n",
            "Batch 300/1094 Closs: -127.1803, Gloss: 424.5729\n",
            "Batch 400/1094 Closs: -233.9063, Gloss: 512.6887\n",
            "Batch 500/1094 Closs: -200.5155, Gloss: 570.2384\n",
            "Batch 600/1094 Closs: -212.3882, Gloss: 636.4426\n",
            "Batch 700/1094 Closs: -175.4654, Gloss: 693.5220\n",
            "Batch 800/1094 Closs: -217.5130, Gloss: 800.0394\n",
            "Batch 900/1094 Closs: -361.1645, Gloss: 925.3530\n",
            "Batch 1000/1094 Closs: -262.2906, Gloss: 931.5754\n",
            "--------------------------------------\n",
            "----------- Epoch #3 ------------\n",
            "Batch 100/1094 Closs: -546.3132, Gloss: 1057.1412\n",
            "Batch 200/1094 Closs: -537.6660, Gloss: 1146.7899\n",
            "Batch 300/1094 Closs: -483.6515, Gloss: 1300.9819\n",
            "Batch 400/1094 Closs: -567.5424, Gloss: 1436.3159\n",
            "Batch 500/1094 Closs: -366.0493, Gloss: 1508.4675\n",
            "Batch 600/1094 Closs: 149.2227, Gloss: 1579.1841\n",
            "Batch 700/1094 Closs: -239.1152, Gloss: 1564.2640\n",
            "Batch 800/1094 Closs: -303.5054, Gloss: 1790.4675\n",
            "Batch 900/1094 Closs: -782.1543, Gloss: 1914.5996\n",
            "Batch 1000/1094 Closs: -847.2805, Gloss: 2163.4297\n",
            "--------------------------------------\n",
            "----------- Epoch #4 ------------\n",
            "Batch 100/1094 Closs: -600.7590, Gloss: 2146.3091\n",
            "Batch 200/1094 Closs: -706.4940, Gloss: 2082.8386\n",
            "Batch 300/1094 Closs: -676.9936, Gloss: 2539.1968\n",
            "Batch 400/1094 Closs: -965.4001, Gloss: 2638.3643\n",
            "Batch 500/1094 Closs: -1118.8816, Gloss: 2768.5679\n",
            "Batch 600/1094 Closs: -476.2099, Gloss: 2839.5803\n",
            "Batch 700/1094 Closs: -976.3065, Gloss: 3019.9587\n",
            "Batch 800/1094 Closs: -584.9720, Gloss: 3106.7759\n",
            "Batch 900/1094 Closs: -1087.3192, Gloss: 3014.8943\n",
            "Batch 1000/1094 Closs: -964.4659, Gloss: 3242.6226\n",
            "--------------------------------------\n",
            "----------- Epoch #5 ------------\n",
            "Batch 100/1094 Closs: -1183.8936, Gloss: 3577.9980\n",
            "Batch 200/1094 Closs: -1393.6819, Gloss: 3750.3743\n",
            "Batch 300/1094 Closs: -51.5862, Gloss: 3904.6567\n",
            "Batch 400/1094 Closs: -1030.8121, Gloss: 3829.5881\n",
            "Batch 500/1094 Closs: -1355.7267, Gloss: 4041.2847\n",
            "Batch 600/1094 Closs: -1291.3643, Gloss: 4465.1406\n",
            "Batch 700/1094 Closs: -1646.1133, Gloss: 4035.1282\n",
            "Batch 800/1094 Closs: -1473.2891, Gloss: 4651.7837\n",
            "Batch 900/1094 Closs: -1151.3401, Gloss: 4628.1812\n",
            "Batch 1000/1094 Closs: -991.5340, Gloss: 4690.0625\n",
            "--------------------------------------\n",
            "----------- Epoch #6 ------------\n",
            "Batch 100/1094 Closs: -2041.4139, Gloss: 5221.6221\n",
            "Batch 200/1094 Closs: -1426.3081, Gloss: 5164.0820\n",
            "Batch 300/1094 Closs: -1894.3711, Gloss: 5728.9565\n",
            "Batch 400/1094 Closs: -1621.3248, Gloss: 6012.1533\n",
            "Batch 500/1094 Closs: -1364.1172, Gloss: 5963.8916\n",
            "Batch 600/1094 Closs: -2112.6975, Gloss: 5905.0283\n",
            "Batch 700/1094 Closs: -1296.1426, Gloss: 6065.6328\n",
            "Batch 800/1094 Closs: -2097.5933, Gloss: 6465.6436\n",
            "Batch 900/1094 Closs: -1768.3555, Gloss: 6656.3267\n",
            "Batch 1000/1094 Closs: -1875.3748, Gloss: 6589.0732\n",
            "--------------------------------------\n",
            "----------- Epoch #7 ------------\n",
            "Batch 100/1094 Closs: -2508.4236, Gloss: 6848.9653\n",
            "Batch 200/1094 Closs: -1482.7410, Gloss: 7021.4741\n",
            "Batch 300/1094 Closs: -2010.5070, Gloss: 7623.0166\n",
            "Batch 400/1094 Closs: -3386.8787, Gloss: 8043.7681\n",
            "Batch 500/1094 Closs: -2770.4893, Gloss: 8005.3276\n",
            "Batch 600/1094 Closs: -1565.7974, Gloss: 8637.6680\n",
            "Batch 700/1094 Closs: -2499.0105, Gloss: 8806.2734\n",
            "Batch 800/1094 Closs: -2307.4968, Gloss: 9077.6133\n",
            "Batch 900/1094 Closs: -2771.8757, Gloss: 8986.9531\n",
            "Batch 1000/1094 Closs: -2781.8899, Gloss: 9551.6973\n",
            "--------------------------------------\n",
            "----------- Epoch #8 ------------\n",
            "Batch 100/1094 Closs: -3198.6599, Gloss: 9189.6230\n",
            "Batch 200/1094 Closs: -2838.3345, Gloss: 9461.6113\n",
            "Batch 300/1094 Closs: -2017.5195, Gloss: 9883.4902\n",
            "Batch 400/1094 Closs: -3984.9487, Gloss: 10626.8828\n",
            "Batch 500/1094 Closs: -3159.4526, Gloss: 10025.6367\n",
            "Batch 600/1094 Closs: -3971.7312, Gloss: 10722.0762\n",
            "Batch 700/1094 Closs: -3367.5591, Gloss: 10488.2168\n",
            "Batch 800/1094 Closs: -4159.5581, Gloss: 11385.1191\n",
            "Batch 900/1094 Closs: -4191.1401, Gloss: 11238.5811\n",
            "Batch 1000/1094 Closs: -5333.5420, Gloss: 10855.9805\n",
            "--------------------------------------\n",
            "----------- Epoch #9 ------------\n",
            "Batch 100/1094 Closs: -3905.0300, Gloss: 13037.8594\n",
            "Batch 200/1094 Closs: 1430.7822, Gloss: 11817.3828\n",
            "Batch 300/1094 Closs: -2582.0669, Gloss: 12042.9297\n",
            "Batch 400/1094 Closs: -4013.1182, Gloss: 13066.9199\n",
            "Batch 500/1094 Closs: -4705.6387, Gloss: 13131.8008\n",
            "Batch 600/1094 Closs: -4800.8169, Gloss: 13392.0742\n",
            "Batch 700/1094 Closs: -2612.1294, Gloss: 13674.7441\n",
            "Batch 800/1094 Closs: -4417.1807, Gloss: 13801.0957\n",
            "Batch 900/1094 Closs: -5465.2041, Gloss: 12848.0498\n",
            "Batch 1000/1094 Closs: -4393.0278, Gloss: 13443.5410\n",
            "--------------------------------------\n",
            "----------- Epoch #10 ------------\n",
            "Batch 100/1094 Closs: -7356.2231, Gloss: 15665.7842\n",
            "Batch 200/1094 Closs: -3578.0408, Gloss: 15485.8887\n",
            "Batch 300/1094 Closs: -6014.9082, Gloss: 15598.7021\n",
            "Batch 400/1094 Closs: -6641.3589, Gloss: 16351.5127\n",
            "Batch 500/1094 Closs: -7718.2397, Gloss: 15140.3672\n",
            "Batch 600/1094 Closs: -4987.6284, Gloss: 17621.3809\n",
            "Batch 700/1094 Closs: 7456.5098, Gloss: 17707.5762\n",
            "Batch 800/1094 Closs: -6347.8789, Gloss: 17222.7969\n",
            "Batch 900/1094 Closs: -1253.2539, Gloss: 16620.7168\n",
            "Batch 1000/1094 Closs: -6152.3447, Gloss: 17607.3535\n",
            "--------------------------------------\n",
            "----------- Epoch #11 ------------\n",
            "Batch 100/1094 Closs: -8287.1777, Gloss: 18630.2227\n",
            "Batch 200/1094 Closs: -4745.8916, Gloss: 18398.3008\n",
            "Batch 300/1094 Closs: -5755.5244, Gloss: 18578.3965\n",
            "Batch 400/1094 Closs: -3956.5881, Gloss: 19082.3750\n",
            "Batch 500/1094 Closs: -7723.4307, Gloss: 18953.6680\n",
            "Batch 600/1094 Closs: -3842.6274, Gloss: 19453.6055\n",
            "Batch 700/1094 Closs: -6188.1226, Gloss: 20967.9570\n",
            "Batch 800/1094 Closs: -4894.2344, Gloss: 19523.5859\n",
            "Batch 900/1094 Closs: -8750.0674, Gloss: 22382.8984\n",
            "Batch 1000/1094 Closs: -7107.8032, Gloss: 20912.8984\n",
            "--------------------------------------\n",
            "----------- Epoch #12 ------------\n",
            "Batch 100/1094 Closs: -3864.2053, Gloss: 20971.4785\n",
            "Batch 200/1094 Closs: -841.4810, Gloss: 21910.6152\n",
            "Batch 300/1094 Closs: -4257.7002, Gloss: 22165.4609\n",
            "Batch 400/1094 Closs: -5120.4668, Gloss: 23410.8535\n",
            "Batch 500/1094 Closs: -8952.2080, Gloss: 21714.2344\n",
            "Batch 600/1094 Closs: -6569.4375, Gloss: 23041.2559\n",
            "Batch 700/1094 Closs: -9737.6797, Gloss: 23011.6562\n",
            "Batch 800/1094 Closs: -9968.9229, Gloss: 24767.3359\n",
            "Batch 900/1094 Closs: -12748.3613, Gloss: 26236.3008\n",
            "Batch 1000/1094 Closs: -6114.3569, Gloss: 22754.6953\n",
            "--------------------------------------\n",
            "----------- Epoch #13 ------------\n",
            "Batch 100/1094 Closs: -6756.2891, Gloss: 26586.3945\n",
            "Batch 200/1094 Closs: -5498.4282, Gloss: 26369.8008\n",
            "Batch 300/1094 Closs: -6204.4043, Gloss: 26299.9375\n",
            "Batch 400/1094 Closs: -8387.9424, Gloss: 26646.1348\n",
            "Batch 500/1094 Closs: -9740.1768, Gloss: 28088.4375\n",
            "Batch 600/1094 Closs: -7024.0522, Gloss: 27046.1055\n",
            "Batch 700/1094 Closs: -4873.1875, Gloss: 28485.2539\n",
            "Batch 800/1094 Closs: -7800.9341, Gloss: 28358.3926\n",
            "Batch 900/1094 Closs: -8918.8613, Gloss: 28301.9023\n",
            "Batch 1000/1094 Closs: -7246.5190, Gloss: 26729.7812\n",
            "--------------------------------------\n",
            "----------- Epoch #14 ------------\n",
            "Batch 100/1094 Closs: -9936.7324, Gloss: 30117.4219\n",
            "Batch 200/1094 Closs: -11490.1143, Gloss: 28911.2949\n",
            "Batch 300/1094 Closs: -9173.6299, Gloss: 31072.2617\n",
            "Batch 400/1094 Closs: -10562.8789, Gloss: 28967.6328\n",
            "Batch 500/1094 Closs: -9711.3145, Gloss: 30233.5508\n",
            "Batch 600/1094 Closs: -12521.0928, Gloss: 31423.7930\n",
            "Batch 700/1094 Closs: -9528.6982, Gloss: 33757.2969\n",
            "Batch 800/1094 Closs: -12294.0098, Gloss: 31718.4707\n",
            "Batch 900/1094 Closs: -12423.7070, Gloss: 30379.5586\n",
            "Batch 1000/1094 Closs: -12254.9307, Gloss: 34674.7852\n",
            "--------------------------------------\n",
            "----------- Epoch #15 ------------\n",
            "Batch 100/1094 Closs: -9705.9912, Gloss: 33360.0547\n",
            "Batch 200/1094 Closs: -11103.0068, Gloss: 34848.2188\n",
            "Batch 300/1094 Closs: -16480.4277, Gloss: 32340.4355\n",
            "Batch 400/1094 Closs: -11235.8203, Gloss: 36094.7812\n",
            "Batch 500/1094 Closs: -11728.8350, Gloss: 33635.3672\n",
            "Batch 600/1094 Closs: -3314.4746, Gloss: 37141.9297\n",
            "Batch 700/1094 Closs: -8799.3164, Gloss: 35476.4531\n",
            "Batch 800/1094 Closs: -6184.7441, Gloss: 37352.6172\n",
            "Batch 900/1094 Closs: -14197.2021, Gloss: 38748.2656\n"
          ]
        },
        {
          "output_type": "error",
          "ename": "KeyboardInterrupt",
          "evalue": "",
          "traceback": [
            "\u001b[0;31m---------------------------------------------------------------------------\u001b[0m",
            "\u001b[0;31mKeyboardInterrupt\u001b[0m                         Traceback (most recent call last)",
            "\u001b[0;32m<ipython-input-9-60dc4ab298fe>\u001b[0m in \u001b[0;36m<cell line: 3>\u001b[0;34m()\u001b[0m\n\u001b[1;32m      1\u001b[0m \u001b[0mwandb\u001b[0m\u001b[0;34m.\u001b[0m\u001b[0mfinish\u001b[0m\u001b[0;34m(\u001b[0m\u001b[0;34m)\u001b[0m\u001b[0;34m\u001b[0m\u001b[0;34m\u001b[0m\u001b[0m\n\u001b[1;32m      2\u001b[0m \u001b[0mwgangp\u001b[0m \u001b[0;34m=\u001b[0m \u001b[0mWGAN_GP\u001b[0m\u001b[0;34m(\u001b[0m\u001b[0;36m100\u001b[0m\u001b[0;34m,\u001b[0m \u001b[0;36m10\u001b[0m\u001b[0;34m,\u001b[0m \u001b[0;36m1\u001b[0m\u001b[0;34m,\u001b[0m \u001b[0;36m64\u001b[0m\u001b[0;34m,\u001b[0m \u001b[0mdevice\u001b[0m\u001b[0;34m)\u001b[0m\u001b[0;34m\u001b[0m\u001b[0;34m\u001b[0m\u001b[0m\n\u001b[0;32m----> 3\u001b[0;31m \u001b[0mwgangp\u001b[0m\u001b[0;34m.\u001b[0m\u001b[0mtrain\u001b[0m\u001b[0;34m(\u001b[0m\u001b[0mtraindataloader\u001b[0m\u001b[0;34m,\u001b[0m \u001b[0;36m25\u001b[0m\u001b[0;34m,\u001b[0m \u001b[0;36m5\u001b[0m\u001b[0;34m)\u001b[0m\u001b[0;34m\u001b[0m\u001b[0;34m\u001b[0m\u001b[0m\n\u001b[0m",
            "\u001b[0;32m<ipython-input-8-0a2628453e57>\u001b[0m in \u001b[0;36mtrain\u001b[0;34m(self, dataloader, num_epochs, n_critic)\u001b[0m\n\u001b[1;32m     86\u001b[0m         \u001b[0;32mfor\u001b[0m \u001b[0mepoch\u001b[0m \u001b[0;32min\u001b[0m \u001b[0mrange\u001b[0m\u001b[0;34m(\u001b[0m\u001b[0mnum_epochs\u001b[0m\u001b[0;34m)\u001b[0m\u001b[0;34m:\u001b[0m\u001b[0;34m\u001b[0m\u001b[0;34m\u001b[0m\u001b[0m\n\u001b[1;32m     87\u001b[0m             \u001b[0mprint\u001b[0m\u001b[0;34m(\u001b[0m\u001b[0;34mf'----------- Epoch #{epoch + 1} ------------'\u001b[0m\u001b[0;34m)\u001b[0m\u001b[0;34m\u001b[0m\u001b[0;34m\u001b[0m\u001b[0m\n\u001b[0;32m---> 88\u001b[0;31m             \u001b[0mself\u001b[0m\u001b[0;34m.\u001b[0m\u001b[0mtrain_one_epoch\u001b[0m\u001b[0;34m(\u001b[0m\u001b[0mdataloader\u001b[0m\u001b[0;34m,\u001b[0m \u001b[0mn_critic\u001b[0m\u001b[0;34m)\u001b[0m\u001b[0;34m\u001b[0m\u001b[0;34m\u001b[0m\u001b[0m\n\u001b[0m\u001b[1;32m     89\u001b[0m             \u001b[0mprint\u001b[0m\u001b[0;34m(\u001b[0m\u001b[0;34mf'--------------------------------------'\u001b[0m\u001b[0;34m)\u001b[0m\u001b[0;34m\u001b[0m\u001b[0;34m\u001b[0m\u001b[0m\n\u001b[1;32m     90\u001b[0m         \u001b[0mprint\u001b[0m\u001b[0;34m(\u001b[0m\u001b[0;34mf'----------- {self.__class__.__name__} Train End! ------------'\u001b[0m\u001b[0;34m)\u001b[0m\u001b[0;34m\u001b[0m\u001b[0;34m\u001b[0m\u001b[0m\n",
            "\u001b[0;32m<ipython-input-8-0a2628453e57>\u001b[0m in \u001b[0;36mtrain_one_epoch\u001b[0;34m(self, dataloader, n_critic)\u001b[0m\n\u001b[1;32m     66\u001b[0m             \u001b[0;31m# Train Generator\u001b[0m\u001b[0;34m\u001b[0m\u001b[0;34m\u001b[0m\u001b[0m\n\u001b[1;32m     67\u001b[0m \u001b[0;34m\u001b[0m\u001b[0m\n\u001b[0;32m---> 68\u001b[0;31m             \u001b[0mgen_loss\u001b[0m \u001b[0;34m=\u001b[0m \u001b[0mself\u001b[0m\u001b[0;34m.\u001b[0m\u001b[0mtrain_generator\u001b[0m\u001b[0;34m(\u001b[0m\u001b[0mfake_labels\u001b[0m\u001b[0;34m)\u001b[0m\u001b[0;34m\u001b[0m\u001b[0;34m\u001b[0m\u001b[0m\n\u001b[0m\u001b[1;32m     69\u001b[0m             \u001b[0;32mif\u001b[0m \u001b[0mi\u001b[0m \u001b[0;34m%\u001b[0m \u001b[0;36m100\u001b[0m \u001b[0;34m==\u001b[0m \u001b[0;36m0\u001b[0m \u001b[0;32mand\u001b[0m \u001b[0mi\u001b[0m \u001b[0;34m!=\u001b[0m \u001b[0;36m0\u001b[0m\u001b[0;34m:\u001b[0m\u001b[0;34m\u001b[0m\u001b[0;34m\u001b[0m\u001b[0m\n\u001b[1;32m     70\u001b[0m                 print(f\"Batch {i}/{len(dataloader)} \"\n",
            "\u001b[0;32m<ipython-input-8-0a2628453e57>\u001b[0m in \u001b[0;36mtrain_generator\u001b[0;34m(self, fake_labels)\u001b[0m\n\u001b[1;32m     49\u001b[0m         \u001b[0mfake_preds\u001b[0m \u001b[0;34m=\u001b[0m \u001b[0mself\u001b[0m\u001b[0;34m.\u001b[0m\u001b[0mcritic\u001b[0m\u001b[0;34m(\u001b[0m\u001b[0mfake_imgs\u001b[0m\u001b[0;34m,\u001b[0m \u001b[0mfake_labels\u001b[0m\u001b[0;34m)\u001b[0m\u001b[0;34m\u001b[0m\u001b[0;34m\u001b[0m\u001b[0m\n\u001b[1;32m     50\u001b[0m         \u001b[0mgen_loss\u001b[0m \u001b[0;34m=\u001b[0m \u001b[0;34m-\u001b[0m\u001b[0mtorch\u001b[0m\u001b[0;34m.\u001b[0m\u001b[0mmean\u001b[0m\u001b[0;34m(\u001b[0m\u001b[0mfake_preds\u001b[0m\u001b[0;34m)\u001b[0m\u001b[0;34m\u001b[0m\u001b[0;34m\u001b[0m\u001b[0m\n\u001b[0;32m---> 51\u001b[0;31m         \u001b[0mgen_loss\u001b[0m\u001b[0;34m.\u001b[0m\u001b[0mbackward\u001b[0m\u001b[0;34m(\u001b[0m\u001b[0;34m)\u001b[0m\u001b[0;34m\u001b[0m\u001b[0;34m\u001b[0m\u001b[0m\n\u001b[0m\u001b[1;32m     52\u001b[0m         \u001b[0mself\u001b[0m\u001b[0;34m.\u001b[0m\u001b[0moptim_gen\u001b[0m\u001b[0;34m.\u001b[0m\u001b[0mstep\u001b[0m\u001b[0;34m(\u001b[0m\u001b[0;34m)\u001b[0m\u001b[0;34m\u001b[0m\u001b[0;34m\u001b[0m\u001b[0m\n\u001b[1;32m     53\u001b[0m         \u001b[0;32mreturn\u001b[0m \u001b[0mgen_loss\u001b[0m\u001b[0;34m\u001b[0m\u001b[0;34m\u001b[0m\u001b[0m\n",
            "\u001b[0;32m/usr/local/lib/python3.10/dist-packages/torch/_tensor.py\u001b[0m in \u001b[0;36mbackward\u001b[0;34m(self, gradient, retain_graph, create_graph, inputs)\u001b[0m\n\u001b[1;32m    519\u001b[0m                 \u001b[0minputs\u001b[0m\u001b[0;34m=\u001b[0m\u001b[0minputs\u001b[0m\u001b[0;34m,\u001b[0m\u001b[0;34m\u001b[0m\u001b[0;34m\u001b[0m\u001b[0m\n\u001b[1;32m    520\u001b[0m             )\n\u001b[0;32m--> 521\u001b[0;31m         torch.autograd.backward(\n\u001b[0m\u001b[1;32m    522\u001b[0m             \u001b[0mself\u001b[0m\u001b[0;34m,\u001b[0m \u001b[0mgradient\u001b[0m\u001b[0;34m,\u001b[0m \u001b[0mretain_graph\u001b[0m\u001b[0;34m,\u001b[0m \u001b[0mcreate_graph\u001b[0m\u001b[0;34m,\u001b[0m \u001b[0minputs\u001b[0m\u001b[0;34m=\u001b[0m\u001b[0minputs\u001b[0m\u001b[0;34m\u001b[0m\u001b[0;34m\u001b[0m\u001b[0m\n\u001b[1;32m    523\u001b[0m         )\n",
            "\u001b[0;32m/usr/local/lib/python3.10/dist-packages/torch/autograd/__init__.py\u001b[0m in \u001b[0;36mbackward\u001b[0;34m(tensors, grad_tensors, retain_graph, create_graph, grad_variables, inputs)\u001b[0m\n\u001b[1;32m    287\u001b[0m     \u001b[0;31m# some Python versions print out the first line of a multi-line function\u001b[0m\u001b[0;34m\u001b[0m\u001b[0;34m\u001b[0m\u001b[0m\n\u001b[1;32m    288\u001b[0m     \u001b[0;31m# calls in the traceback and some print out the last line\u001b[0m\u001b[0;34m\u001b[0m\u001b[0;34m\u001b[0m\u001b[0m\n\u001b[0;32m--> 289\u001b[0;31m     _engine_run_backward(\n\u001b[0m\u001b[1;32m    290\u001b[0m         \u001b[0mtensors\u001b[0m\u001b[0;34m,\u001b[0m\u001b[0;34m\u001b[0m\u001b[0;34m\u001b[0m\u001b[0m\n\u001b[1;32m    291\u001b[0m         \u001b[0mgrad_tensors_\u001b[0m\u001b[0;34m,\u001b[0m\u001b[0;34m\u001b[0m\u001b[0;34m\u001b[0m\u001b[0m\n",
            "\u001b[0;32m/usr/local/lib/python3.10/dist-packages/torch/autograd/graph.py\u001b[0m in \u001b[0;36m_engine_run_backward\u001b[0;34m(t_outputs, *args, **kwargs)\u001b[0m\n\u001b[1;32m    767\u001b[0m         \u001b[0munregister_hooks\u001b[0m \u001b[0;34m=\u001b[0m \u001b[0m_register_logging_hooks_on_whole_graph\u001b[0m\u001b[0;34m(\u001b[0m\u001b[0mt_outputs\u001b[0m\u001b[0;34m)\u001b[0m\u001b[0;34m\u001b[0m\u001b[0;34m\u001b[0m\u001b[0m\n\u001b[1;32m    768\u001b[0m     \u001b[0;32mtry\u001b[0m\u001b[0;34m:\u001b[0m\u001b[0;34m\u001b[0m\u001b[0;34m\u001b[0m\u001b[0m\n\u001b[0;32m--> 769\u001b[0;31m         return Variable._execution_engine.run_backward(  # Calls into the C++ engine to run the backward pass\n\u001b[0m\u001b[1;32m    770\u001b[0m             \u001b[0mt_outputs\u001b[0m\u001b[0;34m,\u001b[0m \u001b[0;34m*\u001b[0m\u001b[0margs\u001b[0m\u001b[0;34m,\u001b[0m \u001b[0;34m**\u001b[0m\u001b[0mkwargs\u001b[0m\u001b[0;34m\u001b[0m\u001b[0;34m\u001b[0m\u001b[0m\n\u001b[1;32m    771\u001b[0m         )  # Calls into the C++ engine to run the backward pass\n",
            "\u001b[0;31mKeyboardInterrupt\u001b[0m: "
          ]
        }
      ]
    },
    {
      "cell_type": "code",
      "source": [
        "lbl = F.one_hot(torch.tensor([9]*4, device=device), num_classes=10).float()\n",
        "wgangp.generator.eval()\n",
        "with torch.no_grad():  # Disable gradient calculation\n",
        "    noise = torch.randn(4, 100, 1, 1, device=device)\n",
        "    generated_images = wgangp.generator(noise, lbl)\n",
        "    # generated_images = (generated_images + 1) / 2\n",
        "    grid = torchvision.utils.make_grid(generated_images.cpu(), nrow=4, padding=2, normalize=True)\n",
        "    np_grid = grid.permute(1, 2, 0).numpy()\n",
        "    plt.imshow(np_grid)\n",
        "    plt.axis('off')"
      ],
      "metadata": {
        "colab": {
          "base_uri": "https://localhost:8080/",
          "height": 167
        },
        "id": "i-yL4fxHoXMe",
        "outputId": "fa15c3cb-ccb1-422c-d2ef-907e1dacce8e"
      },
      "execution_count": 13,
      "outputs": [
        {
          "output_type": "display_data",
          "data": {
            "text/plain": [
              "<Figure size 640x480 with 1 Axes>"
            ],
            "image/png": "[encoded data removed]"
          },
          "metadata": {}
        }
      ]
    },
    {
      "cell_type": "code",
      "source": [],
      "metadata": {
        "id": "Lpa9VDx7ckP2"
      },
      "execution_count": null,
      "outputs": []
    },
    {
      "cell_type": "code",
      "source": [
        "wandb.finish()"
      ],
      "metadata": {
        "colab": {
          "base_uri": "https://localhost:8080/",
          "height": 258,
          "referenced_widgets": [
            "f89c3882073343d2a3abe8d92a42aa10",
            "41d4cd60d83643ccae8a9a8df0adcdec",
            "09bfcb0f20bc4bc78e4059da829b53df",
            "db04229a2aae458aa571c668191f86ef",
            "8f85ee120d96478f9e2e8d784d658976",
            "91fce65995ae496a9c0ec09fe583202a",
            "6cb27c4d01194e369e4ae2ae9d1a22bc",
            "0444f03d57b341aebcc26188493b87b4"
          ]
        },
        "id": "nkBfMz3WWvsl",
        "outputId": "e1fbe6ea-7903-42fc-affc-66068bb7514a"
      },
      "execution_count": 14,
      "outputs": [
        {
          "output_type": "display_data",
          "data": {
            "text/plain": [
              "VBox(children=(Label(value='0.020 MB of 0.020 MB uploaded\\r'), FloatProgress(value=1.0, max=1.0)))"
            ],
            "application/vnd.jupyter.widget-view+json": {
              "version_major": 2,
              "version_minor": 0,
              "model_id": "f89c3882073343d2a3abe8d92a42aa10"
            }
          },
          "metadata": {}
        },
        {
          "output_type": "display_data",
          "data": {
            "text/plain": [
              "<IPython.core.display.HTML object>"
            ],
            "text/html": [
              "<style>\n",
              "    table.wandb td:nth-child(1) { padding: 0 10px; text-align: left ; width: auto;} td:nth-child(2) {text-align: left ; width: 100%}\n",
              "    .wandb-row { display: flex; flex-direction: row; flex-wrap: wrap; justify-content: flex-start; width: 100% }\n",
              "    .wandb-col { display: flex; flex-direction: column; flex-basis: 100%; flex: 1; padding: 10px; }\n",
              "    </style>\n",
              "<div class=\"wandb-row\"><div class=\"wandb-col\"><h3>Run history:</h3><br/><table class=\"wandb\"><tr><td>Critic Loss</td><td>██████████████▇▇█▇▇▆▇█▇▅▇▅▅▆▆▅▄▄▅▅█▁▂▄▃▂</td></tr><tr><td>Generator Loss</td><td>▁▁▁▁▁▁▁▁▁▁▁▂▂▂▂▂▂▂▂▂▃▃▃▃▃▃▃▄▃▄▄▄▅▅▅▆▆▆▇█</td></tr></table><br/></div><div class=\"wandb-col\"><h3>Run summary:</h3><br/><table class=\"wandb\"><tr><td>Critic Loss</td><td>-16106.54688</td></tr><tr><td>Generator Loss</td><td>39695.04688</td></tr></table><br/></div></div>"
            ]
          },
          "metadata": {}
        },
        {
          "output_type": "display_data",
          "data": {
            "text/plain": [
              "<IPython.core.display.HTML object>"
            ],
            "text/html": [
              " View run <strong style=\"color:#cdcd00\">vivid-night-9</strong> at: <a href='https://wandb.ai/mitkrieger-cornell-university/wgan-GP/runs/9nmt3fb2' target=\"_blank\">https://wandb.ai/mitkrieger-cornell-university/wgan-GP/runs/9nmt3fb2</a><br/> View project at: <a href='https://wandb.ai/mitkrieger-cornell-university/wgan-GP' target=\"_blank\">https://wandb.ai/mitkrieger-cornell-university/wgan-GP</a><br/>Synced 5 W&B file(s), 0 media file(s), 0 artifact file(s) and 0 other file(s)"
            ]
          },
          "metadata": {}
        },
        {
          "output_type": "display_data",
          "data": {
            "text/plain": [
              "<IPython.core.display.HTML object>"
            ],
            "text/html": [
              "Find logs at: <code>./wandb/run-20241017_164712-9nmt3fb2/logs</code>"
            ]
          },
          "metadata": {}
        }
      ]
    },
    {
      "cell_type": "code",
      "source": [],
      "metadata": {
        "id": "70UVctT-cjwO"
      },
      "execution_count": null,
      "outputs": []
    }
  ],
  "metadata": {
    "accelerator": "GPU",
    "colab": {
      "gpuType": "A100",
      "provenance": [],
      "machine_shape": "hm",
      "mount_file_id": "1apBdp72eW_5P6cLQ_h74ldLz4WEWLezy",
      "authorship_tag": "ABX9TyOGWRNcAqyK5oUVpeByodYC",
      "include_colab_link": true
    },
    "kernelspec": {
      "display_name": "Python 3",
      "name": "python3"
    },
    "language_info": {
      "name": "python"
    },
    "widgets": {
      "application/vnd.jupyter.widget-state+json": {
        "bc15ac9cc87741dd98f77b4e9b93771e": {
          "model_module": "@jupyter-widgets/controls",
          "model_name": "VBoxModel",
          "model_module_version": "1.5.0",
          "state": {
            "_dom_classes": [],
            "_model_module": "@jupyter-widgets/controls",
            "_model_module_version": "1.5.0",
            "_model_name": "VBoxModel",
            "_view_count": null,
            "_view_module": "@jupyter-widgets/controls",
            "_view_module_version": "1.5.0",
            "_view_name": "VBoxView",
            "box_style": "",
            "children": [
              "IPY_MODEL_d51ed52ffc854d20b5b3c4353f029b67",
              "IPY_MODEL_afc0906205ea4eab948af9d0aeb395e7"
            ],
            "layout": "IPY_MODEL_7db2379c79fb4e2cac4ecf11b2fb61fa"
          }
        },
        "d51ed52ffc854d20b5b3c4353f029b67": {
          "model_module": "@jupyter-widgets/controls",
          "model_name": "LabelModel",
          "model_module_version": "1.5.0",
          "state": {
            "_dom_classes": [],
            "_model_module": "@jupyter-widgets/controls",
            "_model_module_version": "1.5.0",
            "_model_name": "LabelModel",
            "_view_count": null,
            "_view_module": "@jupyter-widgets/controls",
            "_view_module_version": "1.5.0",
            "_view_name": "LabelView",
            "description": "",
            "description_tooltip": null,
            "layout": "IPY_MODEL_8158268fff3543018280a98594f32336",
            "placeholder": "​",
            "style": "IPY_MODEL_7435404cd574458784552f833dd7ce90",
            "value": "0.033 MB of 0.033 MB uploaded\r"
          }
        },
        "afc0906205ea4eab948af9d0aeb395e7": {
          "model_module": "@jupyter-widgets/controls",
          "model_name": "FloatProgressModel",
          "model_module_version": "1.5.0",
          "state": {
            "_dom_classes": [],
            "_model_module": "@jupyter-widgets/controls",
            "_model_module_version": "1.5.0",
            "_model_name": "FloatProgressModel",
            "_view_count": null,
            "_view_module": "@jupyter-widgets/controls",
            "_view_module_version": "1.5.0",
            "_view_name": "ProgressView",
            "bar_style": "",
            "description": "",
            "description_tooltip": null,
            "layout": "IPY_MODEL_a2fe5a2897e747f0bed25426d7238dcb",
            "max": 1,
            "min": 0,
            "orientation": "horizontal",
            "style": "IPY_MODEL_2711c6c5fb144ff09d4206963600a375",
            "value": 1
          }
        },
        "7db2379c79fb4e2cac4ecf11b2fb61fa": {
          "model_module": "@jupyter-widgets/base",
          "model_name": "LayoutModel",
          "model_module_version": "1.2.0",
          "state": {
            "_model_module": "@jupyter-widgets/base",
            "_model_module_version": "1.2.0",
            "_model_name": "LayoutModel",
            "_view_count": null,
            "_view_module": "@jupyter-widgets/base",
            "_view_module_version": "1.2.0",
            "_view_name": "LayoutView",
            "align_content": null,
            "align_items": null,
            "align_self": null,
            "border": null,
            "bottom": null,
            "display": null,
            "flex": null,
            "flex_flow": null,
            "grid_area": null,
            "grid_auto_columns": null,
            "grid_auto_flow": null,
            "grid_auto_rows": null,
            "grid_column": null,
            "grid_gap": null,
            "grid_row": null,
            "grid_template_areas": null,
            "grid_template_columns": null,
            "grid_template_rows": null,
            "height": null,
            "justify_content": null,
            "justify_items": null,
            "left": null,
            "margin": null,
            "max_height": null,
            "max_width": null,
            "min_height": null,
            "min_width": null,
            "object_fit": null,
            "object_position": null,
            "order": null,
            "overflow": null,
            "overflow_x": null,
            "overflow_y": null,
            "padding": null,
            "right": null,
            "top": null,
            "visibility": null,
            "width": null
          }
        },
        "8158268fff3543018280a98594f32336": {
          "model_module": "@jupyter-widgets/base",
          "model_name": "LayoutModel",
          "model_module_version": "1.2.0",
          "state": {
            "_model_module": "@jupyter-widgets/base",
            "_model_module_version": "1.2.0",
            "_model_name": "LayoutModel",
            "_view_count": null,
            "_view_module": "@jupyter-widgets/base",
            "_view_module_version": "1.2.0",
            "_view_name": "LayoutView",
            "align_content": null,
            "align_items": null,
            "align_self": null,
            "border": null,
            "bottom": null,
            "display": null,
            "flex": null,
            "flex_flow": null,
            "grid_area": null,
            "grid_auto_columns": null,
            "grid_auto_flow": null,
            "grid_auto_rows": null,
            "grid_column": null,
            "grid_gap": null,
            "grid_row": null,
            "grid_template_areas": null,
            "grid_template_columns": null,
            "grid_template_rows": null,
            "height": null,
            "justify_content": null,
            "justify_items": null,
            "left": null,
            "margin": null,
            "max_height": null,
            "max_width": null,
            "min_height": null,
            "min_width": null,
            "object_fit": null,
            "object_position": null,
            "order": null,
            "overflow": null,
            "overflow_x": null,
            "overflow_y": null,
            "padding": null,
            "right": null,
            "top": null,
            "visibility": null,
            "width": null
          }
        },
        "7435404cd574458784552f833dd7ce90": {
          "model_module": "@jupyter-widgets/controls",
          "model_name": "DescriptionStyleModel",
          "model_module_version": "1.5.0",
          "state": {
            "_model_module": "@jupyter-widgets/controls",
            "_model_module_version": "1.5.0",
            "_model_name": "DescriptionStyleModel",
            "_view_count": null,
            "_view_module": "@jupyter-widgets/base",
            "_view_module_version": "1.2.0",
            "_view_name": "StyleView",
            "description_width": ""
          }
        },
        "a2fe5a2897e747f0bed25426d7238dcb": {
          "model_module": "@jupyter-widgets/base",
          "model_name": "LayoutModel",
          "model_module_version": "1.2.0",
          "state": {
            "_model_module": "@jupyter-widgets/base",
            "_model_module_version": "1.2.0",
            "_model_name": "LayoutModel",
            "_view_count": null,
            "_view_module": "@jupyter-widgets/base",
            "_view_module_version": "1.2.0",
            "_view_name": "LayoutView",
            "align_content": null,
            "align_items": null,
            "align_self": null,
            "border": null,
            "bottom": null,
            "display": null,
            "flex": null,
            "flex_flow": null,
            "grid_area": null,
            "grid_auto_columns": null,
            "grid_auto_flow": null,
            "grid_auto_rows": null,
            "grid_column": null,
            "grid_gap": null,
            "grid_row": null,
            "grid_template_areas": null,
            "grid_template_columns": null,
            "grid_template_rows": null,
            "height": null,
            "justify_content": null,
            "justify_items": null,
            "left": null,
            "margin": null,
            "max_height": null,
            "max_width": null,
            "min_height": null,
            "min_width": null,
            "object_fit": null,
            "object_position": null,
            "order": null,
            "overflow": null,
            "overflow_x": null,
            "overflow_y": null,
            "padding": null,
            "right": null,
            "top": null,
            "visibility": null,
            "width": null
          }
        },
        "2711c6c5fb144ff09d4206963600a375": {
          "model_module": "@jupyter-widgets/controls",
          "model_name": "ProgressStyleModel",
          "model_module_version": "1.5.0",
          "state": {
            "_model_module": "@jupyter-widgets/controls",
            "_model_module_version": "1.5.0",
            "_model_name": "ProgressStyleModel",
            "_view_count": null,
            "_view_module": "@jupyter-widgets/base",
            "_view_module_version": "1.2.0",
            "_view_name": "StyleView",
            "bar_color": null,
            "description_width": ""
          }
        },
        "f89c3882073343d2a3abe8d92a42aa10": {
          "model_module": "@jupyter-widgets/controls",
          "model_name": "VBoxModel",
          "model_module_version": "1.5.0",
          "state": {
            "_dom_classes": [],
            "_model_module": "@jupyter-widgets/controls",
            "_model_module_version": "1.5.0",
            "_model_name": "VBoxModel",
            "_view_count": null,
            "_view_module": "@jupyter-widgets/controls",
            "_view_module_version": "1.5.0",
            "_view_name": "VBoxView",
            "box_style": "",
            "children": [
              "IPY_MODEL_41d4cd60d83643ccae8a9a8df0adcdec",
              "IPY_MODEL_09bfcb0f20bc4bc78e4059da829b53df"
            ],
            "layout": "IPY_MODEL_db04229a2aae458aa571c668191f86ef"
          }
        },
        "41d4cd60d83643ccae8a9a8df0adcdec": {
          "model_module": "@jupyter-widgets/controls",
          "model_name": "LabelModel",
          "model_module_version": "1.5.0",
          "state": {
            "_dom_classes": [],
            "_model_module": "@jupyter-widgets/controls",
            "_model_module_version": "1.5.0",
            "_model_name": "LabelModel",
            "_view_count": null,
            "_view_module": "@jupyter-widgets/controls",
            "_view_module_version": "1.5.0",
            "_view_name": "LabelView",
            "description": "",
            "description_tooltip": null,
            "layout": "IPY_MODEL_8f85ee120d96478f9e2e8d784d658976",
            "placeholder": "​",
            "style": "IPY_MODEL_91fce65995ae496a9c0ec09fe583202a",
            "value": "0.020 MB of 0.020 MB uploaded\r"
          }
        },
        "09bfcb0f20bc4bc78e4059da829b53df": {
          "model_module": "@jupyter-widgets/controls",
          "model_name": "FloatProgressModel",
          "model_module_version": "1.5.0",
          "state": {
            "_dom_classes": [],
            "_model_module": "@jupyter-widgets/controls",
            "_model_module_version": "1.5.0",
            "_model_name": "FloatProgressModel",
            "_view_count": null,
            "_view_module": "@jupyter-widgets/controls",
            "_view_module_version": "1.5.0",
            "_view_name": "ProgressView",
            "bar_style": "",
            "description": "",
            "description_tooltip": null,
            "layout": "IPY_MODEL_6cb27c4d01194e369e4ae2ae9d1a22bc",
            "max": 1,
            "min": 0,
            "orientation": "horizontal",
            "style": "IPY_MODEL_0444f03d57b341aebcc26188493b87b4",
            "value": 1
          }
        },
        "db04229a2aae458aa571c668191f86ef": {
          "model_module": "@jupyter-widgets/base",
          "model_name": "LayoutModel",
          "model_module_version": "1.2.0",
          "state": {
            "_model_module": "@jupyter-widgets/base",
            "_model_module_version": "1.2.0",
            "_model_name": "LayoutModel",
            "_view_count": null,
            "_view_module": "@jupyter-widgets/base",
            "_view_module_version": "1.2.0",
            "_view_name": "LayoutView",
            "align_content": null,
            "align_items": null,
            "align_self": null,
            "border": null,
            "bottom": null,
            "display": null,
            "flex": null,
            "flex_flow": null,
            "grid_area": null,
            "grid_auto_columns": null,
            "grid_auto_flow": null,
            "grid_auto_rows": null,
            "grid_column": null,
            "grid_gap": null,
            "grid_row": null,
            "grid_template_areas": null,
            "grid_template_columns": null,
            "grid_template_rows": null,
            "height": null,
            "justify_content": null,
            "justify_items": null,
            "left": null,
            "margin": null,
            "max_height": null,
            "max_width": null,
            "min_height": null,
            "min_width": null,
            "object_fit": null,
            "object_position": null,
            "order": null,
            "overflow": null,
            "overflow_x": null,
            "overflow_y": null,
            "padding": null,
            "right": null,
            "top": null,
            "visibility": null,
            "width": null
          }
        },
        "8f85ee120d96478f9e2e8d784d658976": {
          "model_module": "@jupyter-widgets/base",
          "model_name": "LayoutModel",
          "model_module_version": "1.2.0",
          "state": {
            "_model_module": "@jupyter-widgets/base",
            "_model_module_version": "1.2.0",
            "_model_name": "LayoutModel",
            "_view_count": null,
            "_view_module": "@jupyter-widgets/base",
            "_view_module_version": "1.2.0",
            "_view_name": "LayoutView",
            "align_content": null,
            "align_items": null,
            "align_self": null,
            "border": null,
            "bottom": null,
            "display": null,
            "flex": null,
            "flex_flow": null,
            "grid_area": null,
            "grid_auto_columns": null,
            "grid_auto_flow": null,
            "grid_auto_rows": null,
            "grid_column": null,
            "grid_gap": null,
            "grid_row": null,
            "grid_template_areas": null,
            "grid_template_columns": null,
            "grid_template_rows": null,
            "height": null,
            "justify_content": null,
            "justify_items": null,
            "left": null,
            "margin": null,
            "max_height": null,
            "max_width": null,
            "min_height": null,
            "min_width": null,
            "object_fit": null,
            "object_position": null,
            "order": null,
            "overflow": null,
            "overflow_x": null,
            "overflow_y": null,
            "padding": null,
            "right": null,
            "top": null,
            "visibility": null,
            "width": null
          }
        },
        "91fce65995ae496a9c0ec09fe583202a": {
          "model_module": "@jupyter-widgets/controls",
          "model_name": "DescriptionStyleModel",
          "model_module_version": "1.5.0",
          "state": {
            "_model_module": "@jupyter-widgets/controls",
            "_model_module_version": "1.5.0",
            "_model_name": "DescriptionStyleModel",
            "_view_count": null,
            "_view_module": "@jupyter-widgets/base",
            "_view_module_version": "1.2.0",
            "_view_name": "StyleView",
            "description_width": ""
          }
        },
        "6cb27c4d01194e369e4ae2ae9d1a22bc": {
          "model_module": "@jupyter-widgets/base",
          "model_name": "LayoutModel",
          "model_module_version": "1.2.0",
          "state": {
            "_model_module": "@jupyter-widgets/base",
            "_model_module_version": "1.2.0",
            "_model_name": "LayoutModel",
            "_view_count": null,
            "_view_module": "@jupyter-widgets/base",
            "_view_module_version": "1.2.0",
            "_view_name": "LayoutView",
            "align_content": null,
            "align_items": null,
            "align_self": null,
            "border": null,
            "bottom": null,
            "display": null,
            "flex": null,
            "flex_flow": null,
            "grid_area": null,
            "grid_auto_columns": null,
            "grid_auto_flow": null,
            "grid_auto_rows": null,
            "grid_column": null,
            "grid_gap": null,
            "grid_row": null,
            "grid_template_areas": null,
            "grid_template_columns": null,
            "grid_template_rows": null,
            "height": null,
            "justify_content": null,
            "justify_items": null,
            "left": null,
            "margin": null,
            "max_height": null,
            "max_width": null,
            "min_height": null,
            "min_width": null,
            "object_fit": null,
            "object_position": null,
            "order": null,
            "overflow": null,
            "overflow_x": null,
            "overflow_y": null,
            "padding": null,
            "right": null,
            "top": null,
            "visibility": null,
            "width": null
          }
        },
        "0444f03d57b341aebcc26188493b87b4": {
          "model_module": "@jupyter-widgets/controls",
          "model_name": "ProgressStyleModel",
          "model_module_version": "1.5.0",
          "state": {
            "_model_module": "@jupyter-widgets/controls",
            "_model_module_version": "1.5.0",
            "_model_name": "ProgressStyleModel",
            "_view_count": null,
            "_view_module": "@jupyter-widgets/base",
            "_view_module_version": "1.2.0",
            "_view_name": "StyleView",
            "bar_color": null,
            "description_width": ""
          }
        }
      }
    }
  },
  "nbformat": 4,
  "nbformat_minor": 0
}