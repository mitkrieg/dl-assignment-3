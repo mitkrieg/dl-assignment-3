{
  "nbformat": 4,
  "nbformat_minor": 0,
  "metadata": {
    "colab": {
      "provenance": [],
      "toc_visible": true,
      "gpuType": "T4",
      "mount_file_id": "1ATpKuMTrgCKESqej1Iw1duUK5v676XNb",
      "authorship_tag": "ABX9TyNv/3KItTZRfHv//OXYD0qW",
      "include_colab_link": true
    },
    "kernelspec": {
      "name": "python3",
      "display_name": "Python 3"
    },
    "language_info": {
      "name": "python"
    },
    "accelerator": "GPU"
  },
  "cells": [
    {
      "cell_type": "markdown",
      "metadata": {
        "id": "view-in-github",
        "colab_type": "text"
      },
      "source": [
        "<a href=\"https://colab.research.google.com/github/mitkrieg/dl-assignment-3/blob/main/vae_svm.ipynb\" target=\"_parent\"><img src=\"https://colab.research.google.com/assets/colab-badge.svg\" alt=\"Open In Colab\"/></a>"
      ]
    },
    {
      "cell_type": "markdown",
      "source": [
        "# Assignment 3, Problem 4: VAE with SVM Head"
      ],
      "metadata": {
        "id": "Uix0N_sOAsrN"
      }
    },
    {
      "cell_type": "markdown",
      "source": [
        "## Download Data"
      ],
      "metadata": {
        "id": "X4KEWDTIA0gY"
      }
    },
    {
      "cell_type": "code",
      "execution_count": 5,
      "metadata": {
        "colab": {
          "base_uri": "https://localhost:8080/"
        },
        "id": "ZqGnFQR7APYv",
        "outputId": "f07b3838-ae4b-4f04-d858-3be21c769b2c"
      },
      "outputs": [
        {
          "output_type": "stream",
          "name": "stdout",
          "text": [
            "--2024-10-18 11:39:25--  http://fashion-mnist.s3-website.eu-central-1.amazonaws.com/train-images-idx3-ubyte.gz\n",
            "Resolving fashion-mnist.s3-website.eu-central-1.amazonaws.com (fashion-mnist.s3-website.eu-central-1.amazonaws.com)... 3.5.134.246, 3.5.134.168, 52.219.168.50, ...\n",
            "Connecting to fashion-mnist.s3-website.eu-central-1.amazonaws.com (fashion-mnist.s3-website.eu-central-1.amazonaws.com)|3.5.134.246|:80... connected.\n",
            "HTTP request sent, awaiting response... 200 OK\n",
            "Length: 26421880 (25M) [binary/octet-stream]\n",
            "Saving to: ‘/content/train-images-idx3-ubyte.gz’\n",
            "\n",
            "/content/train-imag 100%[===================>]  25.20M  4.16MB/s    in 7.2s    \n",
            "\n",
            "2024-10-18 11:39:33 (3.50 MB/s) - ‘/content/train-images-idx3-ubyte.gz’ saved [26421880/26421880]\n",
            "\n",
            "--2024-10-18 11:39:33--  http://fashion-mnist.s3-website.eu-central-1.amazonaws.com/train-labels-idx1-ubyte.gz\n",
            "Resolving fashion-mnist.s3-website.eu-central-1.amazonaws.com (fashion-mnist.s3-website.eu-central-1.amazonaws.com)... 52.219.171.204, 52.219.75.126, 3.5.135.71, ...\n",
            "Connecting to fashion-mnist.s3-website.eu-central-1.amazonaws.com (fashion-mnist.s3-website.eu-central-1.amazonaws.com)|52.219.171.204|:80... connected.\n",
            "HTTP request sent, awaiting response... 200 OK\n",
            "Length: 29515 (29K) [binary/octet-stream]\n",
            "Saving to: ‘/content/train-labels-idx1-ubyte.gz’\n",
            "\n",
            "/content/train-labe 100%[===================>]  28.82K  --.-KB/s    in 0.1s    \n",
            "\n",
            "2024-10-18 11:39:34 (205 KB/s) - ‘/content/train-labels-idx1-ubyte.gz’ saved [29515/29515]\n",
            "\n",
            "--2024-10-18 11:39:34--  http://fashion-mnist.s3-website.eu-central-1.amazonaws.com/t10k-images-idx3-ubyte.gz\n",
            "Resolving fashion-mnist.s3-website.eu-central-1.amazonaws.com (fashion-mnist.s3-website.eu-central-1.amazonaws.com)... 52.219.171.204, 52.219.75.126, 3.5.135.71, ...\n",
            "Connecting to fashion-mnist.s3-website.eu-central-1.amazonaws.com (fashion-mnist.s3-website.eu-central-1.amazonaws.com)|52.219.171.204|:80... connected.\n",
            "HTTP request sent, awaiting response... 200 OK\n",
            "Length: 4422102 (4.2M) [binary/octet-stream]\n",
            "Saving to: ‘/content/test-images-idx3-ubyte.gz’\n",
            "\n",
            "/content/test-image 100%[===================>]   4.22M  3.73MB/s    in 1.1s    \n",
            "\n",
            "2024-10-18 11:39:35 (3.73 MB/s) - ‘/content/test-images-idx3-ubyte.gz’ saved [4422102/4422102]\n",
            "\n",
            "--2024-10-18 11:39:35--  http://fashion-mnist.s3-website.eu-central-1.amazonaws.com/t10k-labels-idx1-ubyte.gz\n",
            "Resolving fashion-mnist.s3-website.eu-central-1.amazonaws.com (fashion-mnist.s3-website.eu-central-1.amazonaws.com)... 52.219.171.204, 52.219.75.126, 3.5.135.71, ...\n",
            "Connecting to fashion-mnist.s3-website.eu-central-1.amazonaws.com (fashion-mnist.s3-website.eu-central-1.amazonaws.com)|52.219.171.204|:80... connected.\n",
            "HTTP request sent, awaiting response... 200 OK\n",
            "Length: 5148 (5.0K) [binary/octet-stream]\n",
            "Saving to: ‘/content/test-labels-idx1-ubyte.gz’\n",
            "\n",
            "/content/test-label 100%[===================>]   5.03K  --.-KB/s    in 0s      \n",
            "\n",
            "2024-10-18 11:39:35 (845 MB/s) - ‘/content/test-labels-idx1-ubyte.gz’ saved [5148/5148]\n",
            "\n"
          ]
        }
      ],
      "source": [
        "!wget http://fashion-mnist.s3-website.eu-central-1.amazonaws.com/train-images-idx3-ubyte.gz -O /content/train-images-idx3-ubyte.gz\n",
        "!wget http://fashion-mnist.s3-website.eu-central-1.amazonaws.com/train-labels-idx1-ubyte.gz -O /content/train-labels-idx1-ubyte.gz\n",
        "!wget http://fashion-mnist.s3-website.eu-central-1.amazonaws.com/t10k-images-idx3-ubyte.gz -O /content/test-images-idx3-ubyte.gz\n",
        "!wget http://fashion-mnist.s3-website.eu-central-1.amazonaws.com/t10k-labels-idx1-ubyte.gz -O /content/test-labels-idx1-ubyte.gz"
      ]
    },
    {
      "cell_type": "markdown",
      "source": [
        "## Library Imports"
      ],
      "metadata": {
        "id": "Saf2Tt9FA4uT"
      }
    },
    {
      "cell_type": "code",
      "source": [
        "import torch\n",
        "from torch import nn\n",
        "import torch.nn.functional as F\n",
        "import torch.optim as optim\n",
        "from torch.utils.data import Dataset, DataLoader\n",
        "import numpy as np\n",
        "import matplotlib.pyplot as plt\n",
        "import itertools\n",
        "from time import time\n",
        "import gzip\n",
        "import typing as T\n",
        "from sklearn.svm import SVC\n",
        "from sklearn.metrics import accuracy_score, precision_score, recall_score, f1_score, roc_auc_score\n",
        "# import wandb\n",
        "\n",
        "torch.manual_seed(123)\n",
        "np.random.seed(123)\n",
        "\n",
        "# wandb.login()"
      ],
      "metadata": {
        "id": "y6fSxAqWActs"
      },
      "execution_count": 1,
      "outputs": []
    },
    {
      "cell_type": "markdown",
      "source": [
        "## Check for GPU Access"
      ],
      "metadata": {
        "id": "w4FhTYuIBvIQ"
      }
    },
    {
      "cell_type": "code",
      "source": [
        "print(\"------ ACCELERATION INFO -----\")\n",
        "print('CUDA GPU Available:',torch.cuda.is_available())\n",
        "print('MPS GPU Available:', torch.backends.mps.is_available())\n",
        "if torch.cuda.is_available():\n",
        "  device = torch.device('cuda:0')\n",
        "  print('GPU Name:',torch.cuda.get_device_name(0))\n",
        "  print('GPU Count:',torch.cuda.device_count())\n",
        "  print('GPU Memory Allocated:',torch.cuda.memory_allocated(0))\n",
        "  print('GPU Memory Cached:',torch.cuda.memory_reserved(0))\n",
        "# elif torch.backends.mps.is_available() and torch.backends.mps.is_built():\n",
        "#   device = torch.device('mps')\n",
        "#   print('Pytorch GPU Build:',torch.backends.mps.is_built())\n",
        "else:\n",
        "  device = torch.device('cpu')\n",
        "  print('Using CPU')"
      ],
      "metadata": {
        "colab": {
          "base_uri": "https://localhost:8080/"
        },
        "id": "F6aBKEl3B0HA",
        "outputId": "f1783bf0-0452-4838-8c95-5125e3fd868c"
      },
      "execution_count": 2,
      "outputs": [
        {
          "output_type": "stream",
          "name": "stdout",
          "text": [
            "------ ACCELERATION INFO -----\n",
            "CUDA GPU Available: True\n",
            "MPS GPU Available: False\n",
            "GPU Name: Tesla T4\n",
            "GPU Count: 1\n",
            "GPU Memory Allocated: 0\n",
            "GPU Memory Cached: 0\n"
          ]
        }
      ]
    },
    {
      "cell_type": "markdown",
      "source": [
        "## Load Data"
      ],
      "metadata": {
        "id": "_oNdaekABxbq"
      }
    },
    {
      "cell_type": "markdown",
      "source": [
        "### Define FashionMNIST"
      ],
      "metadata": {
        "id": "s3MPK68ZB6Ue"
      }
    },
    {
      "cell_type": "code",
      "source": [
        "class FasionMNISTDataset(Dataset):\n",
        "    def __init__(self, path: str, kind: str, device=torch.device('cpu')) -> None:\n",
        "        super().__init__()\n",
        "        self.device = device\n",
        "        self.labels, self.images = self._load_data(path, kind)\n",
        "\n",
        "    def _load_data(self, path: str, kind: str) -> T.Tuple[np.ndarray, np.ndarray]:\n",
        "        with gzip.open(path + f'/{kind}-labels-idx1-ubyte.gz', 'rb') as lable_file:\n",
        "            lbls = np.frombuffer(lable_file.read(), dtype=np.int8, offset=8)\n",
        "            lbls = np.copy(lbls)\n",
        "        with gzip.open(path + f'/{kind}-images-idx3-ubyte.gz', 'rb') as lable_file:\n",
        "            imgs = np.frombuffer(lable_file.read(), dtype=np.uint8, offset=16).reshape(len(lbls), 1, 28, 28)\n",
        "            imgs = (np.copy(imgs) / 255).astype(np.float32)\n",
        "        return lbls, imgs\n",
        "\n",
        "    def __len__(self) -> int:\n",
        "        return self.labels.size\n",
        "\n",
        "    def __getitem__(self, index: int) -> T.Tuple[torch.tensor, torch.tensor]:\n",
        "        img = torch.tensor(self.images[index])\n",
        "        img = img.to(self.device)\n",
        "        if self.labels is not None:\n",
        "            label = torch.tensor(self.labels[index], dtype=torch.long)\n",
        "            label = label.to(self.device)\n",
        "            return img, label\n",
        "        else:\n",
        "            return img\n",
        "\n",
        "    def stratified_indices(self, num_labels, removed_indicies=[]):\n",
        "        \"\"\"\n",
        "        Create a stratified subset of the dataset using num_labels data points\n",
        "        \"\"\"\n",
        "        # Get remaining indices after removing removed_indicies\n",
        "        remaining_indices = np.setdiff1d(np.arange(len(self)), removed_indicies)\n",
        "\n",
        "        indices = []\n",
        "        for cls in range(10):\n",
        "            cls_indices = remaining_indices[self.labels[remaining_indices] == cls]\n",
        "            num_to_select = min(len(cls_indices), num_labels // 10)\n",
        "            selected_indices = np.random.choice(cls_indices, num_to_select, replace=False)\n",
        "            indices.extend(selected_indices.tolist())\n",
        "        return indices\n",
        "\n",
        "    def create_subsets(self, num_labels):\n",
        "        \"\"\"Create labeled and unlabeled subsets with no overlapping indices.\"\"\"\n",
        "        assert num_labels <= len(self), \"Number of labels must be less than or equal to the dataset size\"\n",
        "\n",
        "        labeled_indices = self.stratified_indices(num_labels)\n",
        "\n",
        "        all_indices = set(range(len(self)))\n",
        "        remaining_indices = list(all_indices - set(labeled_indices))\n",
        "\n",
        "        remaining_dataset = self.labels[remaining_indices]\n",
        "        unlabeled_indices = self.stratified_indices(num_labels, labeled_indices)\n",
        "\n",
        "        labeled_subset = torch.utils.data.Subset(self, labeled_indices)\n",
        "        unlabeled_subset = torch.utils.data.Subset(self, unlabeled_indices)\n",
        "\n",
        "        return labeled_subset, unlabeled_subset\n",
        "\n",
        "def show_img(dataset: Dataset, index: int) -> None:\n",
        "    img, label = dataset[index]\n",
        "    labels_map = {\n",
        "            0: \"T-Shirt\",\n",
        "            1: \"Trouser\",\n",
        "            2: \"Pullover\",\n",
        "            3: \"Dress\",\n",
        "            4: \"Coat\",\n",
        "            5: \"Sandal\",\n",
        "            6: \"Shirt\",\n",
        "            7: \"Sneaker\",\n",
        "            8: \"Bag\",\n",
        "            9: \"Ankle Boot\",\n",
        "        }\n",
        "    plt.imshow(img.cpu().reshape(28,28), cmap='gray')\n",
        "    plt.title(labels_map[label.cpu().item()])\n",
        "    plt.show()"
      ],
      "metadata": {
        "id": "h8MMQxLUAfvf"
      },
      "execution_count": 6,
      "outputs": []
    },
    {
      "cell_type": "markdown",
      "source": [
        "### Unlabeled/Labeled Split & Data Loaders"
      ],
      "metadata": {
        "id": "77ESnSRFCFUx"
      }
    },
    {
      "cell_type": "code",
      "source": [
        "gen = torch.Generator().manual_seed(123)\n",
        "\n",
        "def create_datasets(num_labels, batch_size, device):\n",
        "    PATH = '/content'\n",
        "\n",
        "    train = FasionMNISTDataset(PATH, 'train', device=device)\n",
        "    labeled, unlabeld = train.create_subsets(num_labels)\n",
        "    test = FasionMNISTDataset(PATH, 'test', device=device)\n",
        "\n",
        "    batch = batch_size\n",
        "    labeledloader = DataLoader(labeled, batch, shuffle=True, generator=gen)\n",
        "    unlabeledloader = DataLoader(unlabeld, batch, shuffle=True, generator=gen)\n",
        "    testloader = DataLoader(test, batch, shuffle=True, generator=gen)\n",
        "\n",
        "    data = {\n",
        "        'labeled': labeled,\n",
        "        'unlabeled': unlabeld,\n",
        "        'test': test\n",
        "    }\n",
        "\n",
        "    dataloaders = {\n",
        "        'labeled': labeledloader,\n",
        "        'unlabeled': unlabeledloader,\n",
        "        'test': testloader\n",
        "    }\n",
        "    return data, dataloaders\n",
        "\n",
        "data, dataloaders = create_datasets(100, 8, device)\n",
        ""
      ],
      "metadata": {
        "id": "-o7vrsa5Bj99"
      },
      "execution_count": 7,
      "outputs": []
    },
    {
      "cell_type": "code",
      "source": [
        "show_img(data['labeled'], 0)\n",
        "show_img(data['labeled'],50)"
      ],
      "metadata": {
        "colab": {
          "base_uri": "https://localhost:8080/",
          "height": 887
        },
        "id": "P9Q2xz46Bmyr",
        "outputId": "2ce7e85b-94b1-4b86-abc9-18afbb21fd06"
      },
      "execution_count": 8,
      "outputs": [
        {
          "output_type": "display_data",
          "data": {
            "text/plain": [
              "<Figure size 640x480 with 1 Axes>"
            ],
            "image/png": "[encoded data removed]"
          },
          "metadata": {}
        },
        {
          "output_type": "display_data",
          "data": {
            "text/plain": [
              "<Figure size 640x480 with 1 Axes>"
            ],
            "image/png": "[encoded data removed]"
          },
          "metadata": {}
        }
      ]
    },
    {
      "cell_type": "markdown",
      "source": [
        "## Define Model: Encoder, Decoder, & Gaussian Pytorch Modules"
      ],
      "metadata": {
        "id": "HzY-KdV-pRaD"
      }
    },
    {
      "cell_type": "code",
      "source": [
        "class Gaussian(nn.Module):\n",
        "    def __init__(self, inputs: int, outputs:int):\n",
        "        super().__init__()\n",
        "        self.inputs = inputs\n",
        "        self.outputs = outputs\n",
        "\n",
        "        #create mu & log_var\n",
        "        self.mu = nn.Linear(inputs, outputs)\n",
        "        self.log_var = nn.Linear(inputs, outputs)\n",
        "\n",
        "    def forward(self, x):\n",
        "        mu = self.mu(x)\n",
        "        log_var = self.log_var(x)\n",
        "        log_var = F.softplus(log_var)\n",
        "\n",
        "\n",
        "        return self.trick(mu, log_var), mu, log_var\n",
        "\n",
        "    def trick(self, mu, log_var):\n",
        "        \"\"\"\n",
        "        Return a sample from the gausian returned by mu & log_var\n",
        "        \"\"\"\n",
        "        std_dev = torch.exp(0.5 * log_var)\n",
        "        epsilon = torch.randn_like(std_dev)\n",
        "        return epsilon.mul(std_dev).add_(mu)\n",
        "\n",
        "\n",
        "class Encoder(nn.Module):\n",
        "    def __init__(self, inputs: int, hidden: list[int], latent: int):\n",
        "        super().__init__()\n",
        "        self.inputs = inputs\n",
        "        self.hidden = hidden\n",
        "        self.latent = latent\n",
        "\n",
        "        self.fc0 = nn.Linear(inputs, hidden[0])\n",
        "\n",
        "        for idx in range(1, len(hidden)):\n",
        "            self.__setattr__(f'fc{idx}', nn.Linear(hidden[idx-1], hidden[idx]))\n",
        "        self.gaussian = Gaussian(hidden[-1], latent)\n",
        "\n",
        "        self.softplus = nn.Softplus()\n",
        "\n",
        "    def forward(self, x):\n",
        "        for idx in range(len(self.hidden)):\n",
        "            x = self.softplus(self.__getattr__(f'fc{idx}')(x))\n",
        "        return self.gaussian(x)\n",
        "\n",
        "class Decoder(nn.Module):\n",
        "    def __init__(self, latent: int, hidden: list[int], outputs: int):\n",
        "        super().__init__()\n",
        "        self.latent = latent\n",
        "        self.hidden = hidden\n",
        "        self.outputs = outputs\n",
        "\n",
        "        self.fc0 = nn.Linear(latent, hidden[0])\n",
        "\n",
        "        for idx in range(1, len(hidden)):\n",
        "            self.__setattr__(f'fc{idx}', nn.Linear(hidden[idx-1], hidden[idx]))\n",
        "\n",
        "        self.fc_out = nn.Linear(hidden[-1], outputs)\n",
        "\n",
        "        self.softplus = nn.Softplus()\n",
        "        self.sigmoid = nn.Sigmoid()\n",
        "\n",
        "    def forward(self, x):\n",
        "        for idx in range(len(self.hidden)):\n",
        "            x = self.softplus(self.__getattr__(f'fc{idx}')(x))\n",
        "        return self.sigmoid(self.fc_out(x))\n",
        "\n",
        "class VAE(nn.Module):\n",
        "    def __init__(self, inputs: int, hidden: list[int], latent: int):\n",
        "        super().__init__()\n",
        "\n",
        "        self.inputs = inputs\n",
        "        self.hidden = hidden\n",
        "        self.latent = latent\n",
        "\n",
        "        self.encoder = Encoder(inputs, hidden, latent)\n",
        "        self.decoder = Decoder(latent, hidden[::-1], inputs)\n",
        "\n",
        "    def forward(self, x):\n",
        "        z, mu, log_var = self.encoder(x)\n",
        "        return self.decoder(z), z, mu, log_var\n",
        ""
      ],
      "metadata": {
        "id": "J_i_NnBgg7am"
      },
      "execution_count": 9,
      "outputs": []
    },
    {
      "cell_type": "markdown",
      "source": [
        "## Training"
      ],
      "metadata": {
        "id": "GLDbIRTFpgJb"
      }
    },
    {
      "cell_type": "code",
      "source": [
        "def vae_loss(x_hat, x, z, mu, log_var):\n",
        "    reconstruction_loss = F.binary_cross_entropy(x_hat, x, reduction='sum')\n",
        "    kl_divergence = -0.5 * torch.sum(1 + log_var - mu.pow(2) - log_var.exp())\n",
        "    return reconstruction_loss + kl_divergence\n",
        "\n",
        "def get_tensor_info(tensor):\n",
        "    print(f\"Shape: {tensor.shape}\")\n",
        "    print(f\"Data Type: {tensor.dtype}\")\n",
        "    print(f\"Device: {tensor.device}\")\n",
        "    print(f\"Min: {tensor.min()}\")\n",
        "    print(f\"Max: {tensor.max()}\")\n",
        "    print(f\"Mean: {tensor.mean()}\")\n",
        "    print(f\"Standard Deviation: {tensor.std()}\")\n",
        "\n",
        "def train_one_epoch(model, dataloaders, loss_fn, optimizer, epoch, device, verbosity):\n",
        "    model.train()\n",
        "    running_loss = 0.0\n",
        "\n",
        "    for i, ((x_labeled, y_labeled), (x_unlabeled, _)) in enumerate(zip(dataloaders['labeled'], dataloaders['unlabeled'])):\n",
        "\n",
        "\n",
        "        optimizer.zero_grad()\n",
        "\n",
        "        x_hat_lbl, z_lbl, mu_lbl, log_var_lbl = model(x_labeled.view(-1, 28 * 28))\n",
        "        x_hat_unlbl, z_unlbl, mu_unlbl, log_var_unlbl = model(x_unlabeled.view(-1, 28 * 28))\n",
        "\n",
        "        loss = loss_fn(x_hat_lbl, x_labeled.view(-1, 28 * 28), z_lbl, mu_lbl, log_var_lbl)\n",
        "        loss += loss_fn(x_hat_unlbl, x_unlabeled.view(-1, 28 * 28), z_unlbl, mu_unlbl, log_var_unlbl)\n",
        "\n",
        "        loss.backward()\n",
        "\n",
        "        optimizer.step()\n",
        "\n",
        "        running_loss += loss.item()\n",
        "\n",
        "        if verbosity > 0:\n",
        "            if (i + 1) % verbosity == 0:\n",
        "                print(f'Batch #{i + 1} Loss: {running_loss / verbosity}')\n",
        "                running_loss = 0.0\n",
        "\n",
        "\n",
        "def get_latent(model, device, data):\n",
        "    model.eval()\n",
        "\n",
        "    latent = []\n",
        "    labels = []\n",
        "\n",
        "    with torch.no_grad():\n",
        "        for x, y in data:\n",
        "            x, y = x.to(device), y.to(device)\n",
        "\n",
        "            z, _, _ = model.encoder(x.view(-1, 28 * 28))\n",
        "            latent.append(z)\n",
        "            labels.append(y)\n",
        "\n",
        "    return torch.cat(latent).cpu().numpy(), torch.cat(labels).cpu().numpy()\n",
        "\n",
        "def train_vae(model, dataloaders, loss_fn, optimizer, device, epochs: int, verbosity: int):\n",
        "    \"\"\"Train network for given number of epochs using optimizer and loss_fn\"\"\"\n",
        "\n",
        "    print('----------- VAE Train Start! ------------')\n",
        "    for epoch in range(epochs):\n",
        "        if verbosity > 0:\n",
        "            print(f'----------- Epoch #{epoch + 1} ------------')\n",
        "\n",
        "        train_one_epoch(model, dataloaders, loss_fn, optimizer, device, epoch, verbosity)\n",
        "\n",
        "        if verbosity > 0:\n",
        "            print('------------------------------------\\n')\n",
        "    print('----------- VAE Train Complete! ------------')\n",
        "\n",
        "    return get_latent(model, device, dataloaders['labeled'])\n",
        "\n",
        "\n",
        "def train_svm_head(latent, labels, kernel, C=1):\n",
        "    svm = SVC(kernel=kernel, random_state=123, C=C)\n",
        "    svm.fit(latent, labels)\n",
        "    return svm\n",
        "\n",
        "def eval_metrics(model, train_labels, train_preds, test_labels, test_preds):\n",
        "    print(f\"------ Classification Metrics ------\")\n",
        "    print('Metric\\t\\tTrain\\t\\tTest')\n",
        "    print('Accuracy:\\t',round(accuracy_score(train_labels,train_preds),5),'\\t',round(accuracy_score(test_labels, test_preds),5))\n",
        "    print('Recall:\\t\\t',round(recall_score(train_labels,train_preds, average='macro'),5),'\\t',round(recall_score(test_labels, test_preds, average='macro'),5))\n",
        "    print('Precision:\\t',round(precision_score(train_labels,train_preds, average='macro'),5),'\\t',round(precision_score(test_labels, test_preds, average='macro'),5))\n",
        "    print('F1 Score:\\t',round(f1_score(train_labels,train_preds, average='macro'),5),'\\t',round(f1_score(test_labels, test_preds, average='macro'),5))\n",
        "    print('------------------------------------\\n')\n",
        "\n",
        "    return accuracy_score(test_labels, test_preds)"
      ],
      "metadata": {
        "id": "YL5AqtVlvI6j"
      },
      "execution_count": 24,
      "outputs": []
    },
    {
      "cell_type": "code",
      "source": [
        "input = 28 * 28\n",
        "hidden = [630, 630]\n",
        "latent = 10\n",
        "num_labels = [100, 600, 1000, 3000]\n",
        "epochs = 500\n",
        "verbosity = 10\n",
        "batch = 64"
      ],
      "metadata": {
        "id": "uuBTQSSGwjlv"
      },
      "execution_count": 25,
      "outputs": []
    },
    {
      "cell_type": "code",
      "source": [
        "import pickle\n",
        "torch.cuda.empty_cache()\n",
        "\n",
        "def run_training(vae_model, num_samples, optim, epochs, verbosity, device):\n",
        "    data, dataloaders = create_datasets(num_samples, batch, device)\n",
        "    train_latent_vectors, train_labels = train_vae(vae_model, dataloaders, vae_loss, optim, device, epochs, verbosity)\n",
        "\n",
        "    print('Training SVM Head (C=1)...')\n",
        "    svm1 = train_svm_head(train_latent_vectors, train_labels,'rbf')\n",
        "    train_preds = svm1.predict(train_latent_vectors)\n",
        "    test_latent_vectors, test_labels = get_latent(vae, device, dataloaders['test'])\n",
        "    test_preds = svm1.predict(test_latent_vectors)\n",
        "    acc1 = eval_metrics(svm1, train_labels, train_preds, test_labels, test_preds)\n",
        "\n",
        "    print('Training SVM Head (C=0.5)...')\n",
        "    svm2 = train_svm_head(train_latent_vectors, train_labels,'rbf',C=0.5)\n",
        "    train_preds = svm2.predict(train_latent_vectors)\n",
        "    test_latent_vectors, test_labels = get_latent(vae, device, dataloaders['test'])\n",
        "    test_preds = svm2.predict(test_latent_vectors)\n",
        "    acc2 = eval_metrics(svm2, train_labels, train_preds, test_labels, test_preds)\n",
        "\n",
        "    return svm1 if acc1 > acc2 else svm2\n",
        "\n",
        "svms = []\n",
        "for i in num_labels:\n",
        "    print(f\"Training with {i} labeled samples\")\n",
        "    vae = VAE(input, hidden, latent)\n",
        "    adam = optim.Adam(vae.parameters(), lr=1e-3, weight_decay=.01)\n",
        "    vae = vae.to(device)\n",
        "    svm = run_training(vae, i, adam, epochs, 0, device)\n",
        "    svms.append(svm)\n",
        "\n",
        "    torch.save(vae.state_dict(), f'/content/drive/MyDrive/DL3/vae_{i}.pth')\n",
        "    with open(f'/content/drive/MyDrive/DL3/svm_{i}.pkl', 'wb') as f:\n",
        "        pickle.dump(svm, f)"
      ],
      "metadata": {
        "colab": {
          "base_uri": "https://localhost:8080/"
        },
        "id": "wxMHw17a7HVt",
        "outputId": "52b6488b-b6b2-4ca7-bd34-e90d1f8a8475"
      },
      "execution_count": 26,
      "outputs": [
        {
          "output_type": "stream",
          "name": "stdout",
          "text": [
            "Training with 100 labeled samples\n",
            "----------- VAE Train Start! ------------\n",
            "----------- VAE Train Complete! ------------\n",
            "Training SVM Head (C=1)...\n",
            "------ Classification Metrics ------\n",
            "Metric\t\tTrain\t\tTest\n",
            "Accuracy:\t 0.91 \t 0.5957\n",
            "Recall:\t\t 0.91 \t 0.5957\n",
            "Precision:\t 0.92056 \t 0.59621\n",
            "F1 Score:\t 0.90762 \t 0.58582\n",
            "------------------------------------\n",
            "\n",
            "Training SVM Head (C=0.5)...\n",
            "------ Classification Metrics ------\n",
            "Metric\t\tTrain\t\tTest\n",
            "Accuracy:\t 0.85 \t 0.5924\n",
            "Recall:\t\t 0.85 \t 0.5924\n",
            "Precision:\t 0.87106 \t 0.58798\n",
            "F1 Score:\t 0.83632 \t 0.57807\n",
            "------------------------------------\n",
            "\n",
            "Training with 600 labeled samples\n",
            "----------- VAE Train Start! ------------\n",
            "----------- VAE Train Complete! ------------\n",
            "Training SVM Head (C=1)...\n",
            "------ Classification Metrics ------\n",
            "Metric\t\tTrain\t\tTest\n",
            "Accuracy:\t 0.83667 \t 0.6972\n",
            "Recall:\t\t 0.83667 \t 0.6972\n",
            "Precision:\t 0.83424 \t 0.69709\n",
            "F1 Score:\t 0.83355 \t 0.69524\n",
            "------------------------------------\n",
            "\n",
            "Training SVM Head (C=0.5)...\n",
            "------ Classification Metrics ------\n",
            "Metric\t\tTrain\t\tTest\n",
            "Accuracy:\t 0.80167 \t 0.7015\n",
            "Recall:\t\t 0.80167 \t 0.7015\n",
            "Precision:\t 0.79527 \t 0.70029\n",
            "F1 Score:\t 0.7949 \t 0.69795\n",
            "------------------------------------\n",
            "\n",
            "Training with 1000 labeled samples\n",
            "----------- VAE Train Start! ------------\n",
            "----------- VAE Train Complete! ------------\n",
            "Training SVM Head (C=1)...\n",
            "------ Classification Metrics ------\n",
            "Metric\t\tTrain\t\tTest\n",
            "Accuracy:\t 0.814 \t 0.7145\n",
            "Recall:\t\t 0.814 \t 0.7145\n",
            "Precision:\t 0.8134 \t 0.70933\n",
            "F1 Score:\t 0.81079 \t 0.70945\n",
            "------------------------------------\n",
            "\n",
            "Training SVM Head (C=0.5)...\n",
            "------ Classification Metrics ------\n",
            "Metric\t\tTrain\t\tTest\n",
            "Accuracy:\t 0.793 \t 0.7099\n",
            "Recall:\t\t 0.793 \t 0.7099\n",
            "Precision:\t 0.79107 \t 0.70658\n",
            "F1 Score:\t 0.78905 \t 0.70607\n",
            "------------------------------------\n",
            "\n",
            "Training with 3000 labeled samples\n",
            "----------- VAE Train Start! ------------\n",
            "----------- VAE Train Complete! ------------\n",
            "Training SVM Head (C=1)...\n",
            "------ Classification Metrics ------\n",
            "Metric\t\tTrain\t\tTest\n",
            "Accuracy:\t 0.81267 \t 0.7291\n",
            "Recall:\t\t 0.81267 \t 0.7291\n",
            "Precision:\t 0.81076 \t 0.72786\n",
            "F1 Score:\t 0.80979 \t 0.72745\n",
            "------------------------------------\n",
            "\n",
            "Training SVM Head (C=0.5)...\n",
            "------ Classification Metrics ------\n",
            "Metric\t\tTrain\t\tTest\n",
            "Accuracy:\t 0.79267 \t 0.7248\n",
            "Recall:\t\t 0.79267 \t 0.7248\n",
            "Precision:\t 0.79061 \t 0.72341\n",
            "F1 Score:\t 0.78996 \t 0.72319\n",
            "------------------------------------\n",
            "\n"
          ]
        }
      ]
    },
    {
      "cell_type": "code",
      "source": [
        "import matplotlib.pyplot as plt\n",
        "\n",
        "def generate_images(model, head, num_images, latent_dim, device):\n",
        "    # Set the model to evaluation mode\n",
        "    model.eval()\n",
        "\n",
        "    # Sample from a standard normal distribution in the latent space\n",
        "    with torch.no_grad():\n",
        "        z = torch.randn(num_images, latent_dim).to(device)  # latent_dim is the size of the latent vector\n",
        "        generated_images = model.decoder(z)  # Pass through decoder to get reconstructed images\n",
        "        generated_images = generated_images.view(num_images, 28, 28).cpu()  # Reshape and move to CPU\n",
        "\n",
        "    preds = head.predict(z.cpu())\n",
        "\n",
        "    labels_map = {\n",
        "            0: \"T-Shirt\",\n",
        "            1: \"Trouser\",\n",
        "            2: \"Pullover\",\n",
        "            3: \"Dress\",\n",
        "            4: \"Coat\",\n",
        "            5: \"Sandal\",\n",
        "            6: \"Shirt\",\n",
        "            7: \"Sneaker\",\n",
        "            8: \"Bag\",\n",
        "            9: \"Ankle Boot\",\n",
        "        }\n",
        "\n",
        "    # Plot the generated images\n",
        "    fig, axes = plt.subplots(1, num_images, figsize=(num_images, 1))\n",
        "    for i in range(num_images):\n",
        "        axes[i].imshow(generated_images[i], cmap='gray')\n",
        "        axes[i].set_title(labels_map[preds[i]])\n",
        "        axes[i].axis('off')\n",
        "    plt.show()\n",
        "\n",
        "# Example usage:\n",
        "num_images = 10  # Specify how many images you want to generate\n",
        "latent_dim = 10  # Latent dimension used during training\n",
        "generate_images(vae, svms[-1], num_images, latent_dim, device)"
      ],
      "metadata": {
        "colab": {
          "base_uri": "https://localhost:8080/",
          "height": 143
        },
        "id": "av3xV86qGOn0",
        "outputId": "6ff45303-12d7-48e5-aca6-90f0eb8b8a5b"
      },
      "execution_count": 40,
      "outputs": [
        {
          "output_type": "stream",
          "name": "stdout",
          "text": [
            "[7 3 9 6 4 6 7 9 7 4]\n"
          ]
        },
        {
          "output_type": "display_data",
          "data": {
            "text/plain": [
              "<Figure size 1000x100 with 10 Axes>"
            ],
            "image/png": "[encoded data removed]"
          },
          "metadata": {}
        }
      ]
    },
    {
      "cell_type": "markdown",
      "source": [
        "## Load Saved Models & Testing"
      ],
      "metadata": {
        "id": "xdwu2QX3qkSK"
      }
    },
    {
      "cell_type": "code",
      "source": [
        "tmp = VAE(input, hidden, latent).to(device)\n",
        "tmp.load_state_dict(torch.load('/content/drive/MyDrive/DL3/vae_1000.pth'))\n",
        "\n",
        "with open('/content/drive/MyDrive/DL3/svm_1000.pkl', 'rb') as f:\n",
        "    head = pickle.load(f)\n",
        "generate_images(tmp, head, 10, latent, device)"
      ],
      "metadata": {
        "colab": {
          "base_uri": "https://localhost:8080/",
          "height": 199
        },
        "id": "aNAdRRc4pKVc",
        "outputId": "7b44f342-daf2-4088-e149-6996119f50ab"
      },
      "execution_count": 42,
      "outputs": [
        {
          "output_type": "stream",
          "name": "stderr",
          "text": [
            "<ipython-input-42-b6123e73778b>:2: FutureWarning: You are using `torch.load` with `weights_only=False` (the current default value), which uses the default pickle module implicitly. It is possible to construct malicious pickle data which will execute arbitrary code during unpickling (See https://github.com/pytorch/pytorch/blob/main/SECURITY.md#untrusted-models for more details). In a future release, the default value for `weights_only` will be flipped to `True`. This limits the functions that could be executed during unpickling. Arbitrary objects will no longer be allowed to be loaded via this mode unless they are explicitly allowlisted by the user via `torch.serialization.add_safe_globals`. We recommend you start setting `weights_only=True` for any use case where you don't have full control of the loaded file. Please open an issue on GitHub for any issues related to this experimental feature.\n",
            "  tmp.load_state_dict(torch.load('/content/drive/MyDrive/DL3/vae_1000.pth'))\n"
          ]
        },
        {
          "output_type": "stream",
          "name": "stdout",
          "text": [
            "[7 3 4 5 2 7 6 0 4 1]\n"
          ]
        },
        {
          "output_type": "display_data",
          "data": {
            "text/plain": [
              "<Figure size 1000x100 with 10 Axes>"
            ],
            "image/png": "[encoded data removed]"
          },
          "metadata": {}
        }
      ]
    },
    {
      "cell_type": "code",
      "source": [],
      "metadata": {
        "id": "9p21egBwqaBs"
      },
      "execution_count": null,
      "outputs": []
    }
  ]
}